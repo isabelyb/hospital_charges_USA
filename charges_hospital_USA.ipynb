{
 "cells": [
  {
   "cell_type": "code",
   "execution_count": 85,
   "metadata": {},
   "outputs": [],
   "source": [
    "import pandas as pd\n",
    "import bokeh\n",
    "import pandas_bokeh\n"
   ]
  },
  {
   "cell_type": "code",
   "execution_count": 86,
   "metadata": {},
   "outputs": [
    {
     "data": {
      "text/html": [
       "\n",
       "    <div class=\"bk-root\">\n",
       "        <a href=\"https://bokeh.org\" target=\"_blank\" class=\"bk-logo bk-logo-small bk-logo-notebook\"></a>\n",
       "        <span id=\"2020\">Loading BokehJS ...</span>\n",
       "    </div>"
      ]
     },
     "metadata": {},
     "output_type": "display_data"
    },
    {
     "data": {
      "application/javascript": "\n(function(root) {\n  function now() {\n    return new Date();\n  }\n\n  const force = true;\n\n  if (typeof root._bokeh_onload_callbacks === \"undefined\" || force === true) {\n    root._bokeh_onload_callbacks = [];\n    root._bokeh_is_loading = undefined;\n  }\n\n  const JS_MIME_TYPE = 'application/javascript';\n  const HTML_MIME_TYPE = 'text/html';\n  const EXEC_MIME_TYPE = 'application/vnd.bokehjs_exec.v0+json';\n  const CLASS_NAME = 'output_bokeh rendered_html';\n\n  /**\n   * Render data to the DOM node\n   */\n  function render(props, node) {\n    const script = document.createElement(\"script\");\n    node.appendChild(script);\n  }\n\n  /**\n   * Handle when an output is cleared or removed\n   */\n  function handleClearOutput(event, handle) {\n    const cell = handle.cell;\n\n    const id = cell.output_area._bokeh_element_id;\n    const server_id = cell.output_area._bokeh_server_id;\n    // Clean up Bokeh references\n    if (id != null && id in Bokeh.index) {\n      Bokeh.index[id].model.document.clear();\n      delete Bokeh.index[id];\n    }\n\n    if (server_id !== undefined) {\n      // Clean up Bokeh references\n      const cmd_clean = \"from bokeh.io.state import curstate; print(curstate().uuid_to_server['\" + server_id + \"'].get_sessions()[0].document.roots[0]._id)\";\n      cell.notebook.kernel.execute(cmd_clean, {\n        iopub: {\n          output: function(msg) {\n            const id = msg.content.text.trim();\n            if (id in Bokeh.index) {\n              Bokeh.index[id].model.document.clear();\n              delete Bokeh.index[id];\n            }\n          }\n        }\n      });\n      // Destroy server and session\n      const cmd_destroy = \"import bokeh.io.notebook as ion; ion.destroy_server('\" + server_id + \"')\";\n      cell.notebook.kernel.execute(cmd_destroy);\n    }\n  }\n\n  /**\n   * Handle when a new output is added\n   */\n  function handleAddOutput(event, handle) {\n    const output_area = handle.output_area;\n    const output = handle.output;\n\n    // limit handleAddOutput to display_data with EXEC_MIME_TYPE content only\n    if ((output.output_type != \"display_data\") || (!Object.prototype.hasOwnProperty.call(output.data, EXEC_MIME_TYPE))) {\n      return\n    }\n\n    const toinsert = output_area.element.find(\".\" + CLASS_NAME.split(' ')[0]);\n\n    if (output.metadata[EXEC_MIME_TYPE][\"id\"] !== undefined) {\n      toinsert[toinsert.length - 1].firstChild.textContent = output.data[JS_MIME_TYPE];\n      // store reference to embed id on output_area\n      output_area._bokeh_element_id = output.metadata[EXEC_MIME_TYPE][\"id\"];\n    }\n    if (output.metadata[EXEC_MIME_TYPE][\"server_id\"] !== undefined) {\n      const bk_div = document.createElement(\"div\");\n      bk_div.innerHTML = output.data[HTML_MIME_TYPE];\n      const script_attrs = bk_div.children[0].attributes;\n      for (let i = 0; i < script_attrs.length; i++) {\n        toinsert[toinsert.length - 1].firstChild.setAttribute(script_attrs[i].name, script_attrs[i].value);\n        toinsert[toinsert.length - 1].firstChild.textContent = bk_div.children[0].textContent\n      }\n      // store reference to server id on output_area\n      output_area._bokeh_server_id = output.metadata[EXEC_MIME_TYPE][\"server_id\"];\n    }\n  }\n\n  function register_renderer(events, OutputArea) {\n\n    function append_mime(data, metadata, element) {\n      // create a DOM node to render to\n      const toinsert = this.create_output_subarea(\n        metadata,\n        CLASS_NAME,\n        EXEC_MIME_TYPE\n      );\n      this.keyboard_manager.register_events(toinsert);\n      // Render to node\n      const props = {data: data, metadata: metadata[EXEC_MIME_TYPE]};\n      render(props, toinsert[toinsert.length - 1]);\n      element.append(toinsert);\n      return toinsert\n    }\n\n    /* Handle when an output is cleared or removed */\n    events.on('clear_output.CodeCell', handleClearOutput);\n    events.on('delete.Cell', handleClearOutput);\n\n    /* Handle when a new output is added */\n    events.on('output_added.OutputArea', handleAddOutput);\n\n    /**\n     * Register the mime type and append_mime function with output_area\n     */\n    OutputArea.prototype.register_mime_type(EXEC_MIME_TYPE, append_mime, {\n      /* Is output safe? */\n      safe: true,\n      /* Index of renderer in `output_area.display_order` */\n      index: 0\n    });\n  }\n\n  // register the mime type if in Jupyter Notebook environment and previously unregistered\n  if (root.Jupyter !== undefined) {\n    const events = require('base/js/events');\n    const OutputArea = require('notebook/js/outputarea').OutputArea;\n\n    if (OutputArea.prototype.mime_types().indexOf(EXEC_MIME_TYPE) == -1) {\n      register_renderer(events, OutputArea);\n    }\n  }\n\n  \n  if (typeof (root._bokeh_timeout) === \"undefined\" || force === true) {\n    root._bokeh_timeout = Date.now() + 5000;\n    root._bokeh_failed_load = false;\n  }\n\n  const NB_LOAD_WARNING = {'data': {'text/html':\n     \"<div style='background-color: #fdd'>\\n\"+\n     \"<p>\\n\"+\n     \"BokehJS does not appear to have successfully loaded. If loading BokehJS from CDN, this \\n\"+\n     \"may be due to a slow or bad network connection. Possible fixes:\\n\"+\n     \"</p>\\n\"+\n     \"<ul>\\n\"+\n     \"<li>re-rerun `output_notebook()` to attempt to load from CDN again, or</li>\\n\"+\n     \"<li>use INLINE resources instead, as so:</li>\\n\"+\n     \"</ul>\\n\"+\n     \"<code>\\n\"+\n     \"from bokeh.resources import INLINE\\n\"+\n     \"output_notebook(resources=INLINE)\\n\"+\n     \"</code>\\n\"+\n     \"</div>\"}};\n\n  function display_loaded() {\n    const el = document.getElementById(\"2020\");\n    if (el != null) {\n      el.textContent = \"BokehJS is loading...\";\n    }\n    if (root.Bokeh !== undefined) {\n      if (el != null) {\n        el.textContent = \"BokehJS \" + root.Bokeh.version + \" successfully loaded.\";\n      }\n    } else if (Date.now() < root._bokeh_timeout) {\n      setTimeout(display_loaded, 100)\n    }\n  }\n\n\n  function run_callbacks() {\n    try {\n      root._bokeh_onload_callbacks.forEach(function(callback) {\n        if (callback != null)\n          callback();\n      });\n    } finally {\n      delete root._bokeh_onload_callbacks\n    }\n    console.debug(\"Bokeh: all callbacks have finished\");\n  }\n\n  function load_libs(css_urls, js_urls, callback) {\n    if (css_urls == null) css_urls = [];\n    if (js_urls == null) js_urls = [];\n\n    root._bokeh_onload_callbacks.push(callback);\n    if (root._bokeh_is_loading > 0) {\n      console.debug(\"Bokeh: BokehJS is being loaded, scheduling callback at\", now());\n      return null;\n    }\n    if (js_urls == null || js_urls.length === 0) {\n      run_callbacks();\n      return null;\n    }\n    console.debug(\"Bokeh: BokehJS not loaded, scheduling load and callback at\", now());\n    root._bokeh_is_loading = css_urls.length + js_urls.length;\n\n    function on_load() {\n      root._bokeh_is_loading--;\n      if (root._bokeh_is_loading === 0) {\n        console.debug(\"Bokeh: all BokehJS libraries/stylesheets loaded\");\n        run_callbacks()\n      }\n    }\n\n    function on_error(url) {\n      console.error(\"failed to load \" + url);\n    }\n\n    for (let i = 0; i < css_urls.length; i++) {\n      const url = css_urls[i];\n      const element = document.createElement(\"link\");\n      element.onload = on_load;\n      element.onerror = on_error.bind(null, url);\n      element.rel = \"stylesheet\";\n      element.type = \"text/css\";\n      element.href = url;\n      console.debug(\"Bokeh: injecting link tag for BokehJS stylesheet: \", url);\n      document.body.appendChild(element);\n    }\n\n    for (let i = 0; i < js_urls.length; i++) {\n      const url = js_urls[i];\n      const element = document.createElement('script');\n      element.onload = on_load;\n      element.onerror = on_error.bind(null, url);\n      element.async = false;\n      element.src = url;\n      console.debug(\"Bokeh: injecting script tag for BokehJS library: \", url);\n      document.head.appendChild(element);\n    }\n  };\n\n  function inject_raw_css(css) {\n    const element = document.createElement(\"style\");\n    element.appendChild(document.createTextNode(css));\n    document.body.appendChild(element);\n  }\n\n  \n  const js_urls = [\"https://cdn.bokeh.org/bokeh/release/bokeh-2.4.1.min.js\", \"https://cdn.bokeh.org/bokeh/release/bokeh-gl-2.4.1.min.js\", \"https://cdn.bokeh.org/bokeh/release/bokeh-widgets-2.4.1.min.js\", \"https://cdn.bokeh.org/bokeh/release/bokeh-tables-2.4.1.min.js\", \"https://cdn.bokeh.org/bokeh/release/bokeh-mathjax-2.4.1.min.js\"];\n  const css_urls = [];\n  \n\n  const inline_js = [\n    function(Bokeh) {\n      Bokeh.set_log_level(\"info\");\n    },\n    function(Bokeh) {\n    \n    \n    }\n  ];\n\n  function run_inline_js() {\n    \n    if (root.Bokeh !== undefined || force === true) {\n      \n    for (let i = 0; i < inline_js.length; i++) {\n      inline_js[i].call(root, root.Bokeh);\n    }\n    if (force === true) {\n        display_loaded();\n      }} else if (Date.now() < root._bokeh_timeout) {\n      setTimeout(run_inline_js, 100);\n    } else if (!root._bokeh_failed_load) {\n      console.log(\"Bokeh: BokehJS failed to load within specified timeout.\");\n      root._bokeh_failed_load = true;\n    } else if (force !== true) {\n      const cell = $(document.getElementById(\"2020\")).parents('.cell').data().cell;\n      cell.output_area.append_execute_result(NB_LOAD_WARNING)\n    }\n\n  }\n\n  if (root._bokeh_is_loading === 0) {\n    console.debug(\"Bokeh: BokehJS loaded, going straight to plotting\");\n    run_inline_js();\n  } else {\n    load_libs(css_urls, js_urls, function() {\n      console.debug(\"Bokeh: BokehJS plotting callback run at\", now());\n      run_inline_js();\n    });\n  }\n}(window));",
      "application/vnd.bokehjs_load.v0+json": ""
     },
     "metadata": {},
     "output_type": "display_data"
    }
   ],
   "source": [
    "# Embedding plots in Jupyter Notebook\n",
    "pandas_bokeh.output_notebook()"
   ]
  },
  {
   "cell_type": "markdown",
   "metadata": {},
   "source": [
    "# Data overview"
   ]
  },
  {
   "cell_type": "code",
   "execution_count": 87,
   "metadata": {},
   "outputs": [
    {
     "data": {
      "text/html": [
       "<div>\n",
       "<style scoped>\n",
       "    .dataframe tbody tr th:only-of-type {\n",
       "        vertical-align: middle;\n",
       "    }\n",
       "\n",
       "    .dataframe tbody tr th {\n",
       "        vertical-align: top;\n",
       "    }\n",
       "\n",
       "    .dataframe thead th {\n",
       "        text-align: right;\n",
       "    }\n",
       "</style>\n",
       "<table border=\"1\" class=\"dataframe\">\n",
       "  <thead>\n",
       "    <tr style=\"text-align: right;\">\n",
       "      <th></th>\n",
       "      <th>DRG Definition</th>\n",
       "      <th>Provider Id</th>\n",
       "      <th>Provider Name</th>\n",
       "      <th>Provider Street Address</th>\n",
       "      <th>Provider City</th>\n",
       "      <th>Provider State</th>\n",
       "      <th>Provider Zip Code</th>\n",
       "      <th>Hospital Referral Region Description</th>\n",
       "      <th>Total Discharges</th>\n",
       "      <th>Average Covered Charges</th>\n",
       "      <th>Average Total Payments</th>\n",
       "      <th>Average Medicare Payments</th>\n",
       "    </tr>\n",
       "  </thead>\n",
       "  <tbody>\n",
       "    <tr>\n",
       "      <th>0</th>\n",
       "      <td>039 - EXTRACRANIAL PROCEDURES W/O CC/MCC</td>\n",
       "      <td>10001</td>\n",
       "      <td>SOUTHEAST ALABAMA MEDICAL CENTER</td>\n",
       "      <td>1108 ROSS CLARK CIRCLE</td>\n",
       "      <td>DOTHAN</td>\n",
       "      <td>AL</td>\n",
       "      <td>36301</td>\n",
       "      <td>AL - Dothan</td>\n",
       "      <td>91</td>\n",
       "      <td>$32963.07</td>\n",
       "      <td>$5777.24</td>\n",
       "      <td>$4763.73</td>\n",
       "    </tr>\n",
       "    <tr>\n",
       "      <th>1</th>\n",
       "      <td>039 - EXTRACRANIAL PROCEDURES W/O CC/MCC</td>\n",
       "      <td>10005</td>\n",
       "      <td>MARSHALL MEDICAL CENTER SOUTH</td>\n",
       "      <td>2505 U S HIGHWAY 431 NORTH</td>\n",
       "      <td>BOAZ</td>\n",
       "      <td>AL</td>\n",
       "      <td>35957</td>\n",
       "      <td>AL - Birmingham</td>\n",
       "      <td>14</td>\n",
       "      <td>$15131.85</td>\n",
       "      <td>$5787.57</td>\n",
       "      <td>$4976.71</td>\n",
       "    </tr>\n",
       "    <tr>\n",
       "      <th>2</th>\n",
       "      <td>039 - EXTRACRANIAL PROCEDURES W/O CC/MCC</td>\n",
       "      <td>10006</td>\n",
       "      <td>ELIZA COFFEE MEMORIAL HOSPITAL</td>\n",
       "      <td>205 MARENGO STREET</td>\n",
       "      <td>FLORENCE</td>\n",
       "      <td>AL</td>\n",
       "      <td>35631</td>\n",
       "      <td>AL - Birmingham</td>\n",
       "      <td>24</td>\n",
       "      <td>$37560.37</td>\n",
       "      <td>$5434.95</td>\n",
       "      <td>$4453.79</td>\n",
       "    </tr>\n",
       "  </tbody>\n",
       "</table>\n",
       "</div>"
      ],
      "text/plain": [
       "                             DRG Definition  Provider Id  \\\n",
       "0  039 - EXTRACRANIAL PROCEDURES W/O CC/MCC        10001   \n",
       "1  039 - EXTRACRANIAL PROCEDURES W/O CC/MCC        10005   \n",
       "2  039 - EXTRACRANIAL PROCEDURES W/O CC/MCC        10006   \n",
       "\n",
       "                      Provider Name     Provider Street Address Provider City  \\\n",
       "0  SOUTHEAST ALABAMA MEDICAL CENTER      1108 ROSS CLARK CIRCLE        DOTHAN   \n",
       "1     MARSHALL MEDICAL CENTER SOUTH  2505 U S HIGHWAY 431 NORTH          BOAZ   \n",
       "2    ELIZA COFFEE MEMORIAL HOSPITAL          205 MARENGO STREET      FLORENCE   \n",
       "\n",
       "  Provider State  Provider Zip Code Hospital Referral Region Description  \\\n",
       "0             AL              36301                          AL - Dothan   \n",
       "1             AL              35957                      AL - Birmingham   \n",
       "2             AL              35631                      AL - Birmingham   \n",
       "\n",
       "    Total Discharges   Average Covered Charges   Average Total Payments   \\\n",
       "0                  91                 $32963.07                 $5777.24   \n",
       "1                  14                 $15131.85                 $5787.57   \n",
       "2                  24                 $37560.37                 $5434.95   \n",
       "\n",
       "  Average Medicare Payments  \n",
       "0                  $4763.73  \n",
       "1                  $4976.71  \n",
       "2                  $4453.79  "
      ]
     },
     "execution_count": 87,
     "metadata": {},
     "output_type": "execute_result"
    }
   ],
   "source": [
    "df = pd.read_csv('hospital-charges.csv')\n",
    "df.head(3)"
   ]
  },
  {
   "cell_type": "code",
   "execution_count": 88,
   "metadata": {},
   "outputs": [
    {
     "name": "stdout",
     "output_type": "stream",
     "text": [
      "<class 'pandas.core.frame.DataFrame'>\n",
      "RangeIndex: 163065 entries, 0 to 163064\n",
      "Data columns (total 12 columns):\n",
      " #   Column                                Non-Null Count   Dtype \n",
      "---  ------                                --------------   ----- \n",
      " 0   DRG Definition                        163065 non-null  object\n",
      " 1   Provider Id                           163065 non-null  int64 \n",
      " 2   Provider Name                         163065 non-null  object\n",
      " 3   Provider Street Address               163065 non-null  object\n",
      " 4   Provider City                         163065 non-null  object\n",
      " 5   Provider State                        163065 non-null  object\n",
      " 6   Provider Zip Code                     163065 non-null  int64 \n",
      " 7   Hospital Referral Region Description  163065 non-null  object\n",
      " 8    Total Discharges                     163065 non-null  int64 \n",
      " 9    Average Covered Charges              163065 non-null  object\n",
      " 10   Average Total Payments               163065 non-null  object\n",
      " 11  Average Medicare Payments             163065 non-null  object\n",
      "dtypes: int64(3), object(9)\n",
      "memory usage: 14.9+ MB\n"
     ]
    }
   ],
   "source": [
    "df.info()"
   ]
  },
  {
   "cell_type": "markdown",
   "metadata": {},
   "source": [
    "# Format names and data"
   ]
  },
  {
   "cell_type": "code",
   "execution_count": 89,
   "metadata": {},
   "outputs": [
    {
     "data": {
      "text/html": [
       "<div>\n",
       "<style scoped>\n",
       "    .dataframe tbody tr th:only-of-type {\n",
       "        vertical-align: middle;\n",
       "    }\n",
       "\n",
       "    .dataframe tbody tr th {\n",
       "        vertical-align: top;\n",
       "    }\n",
       "\n",
       "    .dataframe thead th {\n",
       "        text-align: right;\n",
       "    }\n",
       "</style>\n",
       "<table border=\"1\" class=\"dataframe\">\n",
       "  <thead>\n",
       "    <tr style=\"text-align: right;\">\n",
       "      <th></th>\n",
       "      <th>DRG Definition</th>\n",
       "      <th>Provider Id</th>\n",
       "      <th>Provider Name</th>\n",
       "      <th>Provider Street Address</th>\n",
       "      <th>Provider City</th>\n",
       "      <th>Provider State</th>\n",
       "      <th>Provider Zip Code</th>\n",
       "      <th>Hospital Referral Region Description</th>\n",
       "      <th>Total Discharges</th>\n",
       "      <th>Avg Covered Charges [$]</th>\n",
       "      <th>Avg Total Payments [$]</th>\n",
       "      <th>Avg Medicare Payments [$]</th>\n",
       "    </tr>\n",
       "  </thead>\n",
       "  <tbody>\n",
       "    <tr>\n",
       "      <th>0</th>\n",
       "      <td>039 - EXTRACRANIAL PROCEDURES W/O CC/MCC</td>\n",
       "      <td>10001</td>\n",
       "      <td>SOUTHEAST ALABAMA MEDICAL CENTER</td>\n",
       "      <td>1108 ROSS CLARK CIRCLE</td>\n",
       "      <td>DOTHAN</td>\n",
       "      <td>AL</td>\n",
       "      <td>36301</td>\n",
       "      <td>AL - Dothan</td>\n",
       "      <td>91</td>\n",
       "      <td>$32963.07</td>\n",
       "      <td>$5777.24</td>\n",
       "      <td>$4763.73</td>\n",
       "    </tr>\n",
       "    <tr>\n",
       "      <th>1</th>\n",
       "      <td>039 - EXTRACRANIAL PROCEDURES W/O CC/MCC</td>\n",
       "      <td>10005</td>\n",
       "      <td>MARSHALL MEDICAL CENTER SOUTH</td>\n",
       "      <td>2505 U S HIGHWAY 431 NORTH</td>\n",
       "      <td>BOAZ</td>\n",
       "      <td>AL</td>\n",
       "      <td>35957</td>\n",
       "      <td>AL - Birmingham</td>\n",
       "      <td>14</td>\n",
       "      <td>$15131.85</td>\n",
       "      <td>$5787.57</td>\n",
       "      <td>$4976.71</td>\n",
       "    </tr>\n",
       "    <tr>\n",
       "      <th>2</th>\n",
       "      <td>039 - EXTRACRANIAL PROCEDURES W/O CC/MCC</td>\n",
       "      <td>10006</td>\n",
       "      <td>ELIZA COFFEE MEMORIAL HOSPITAL</td>\n",
       "      <td>205 MARENGO STREET</td>\n",
       "      <td>FLORENCE</td>\n",
       "      <td>AL</td>\n",
       "      <td>35631</td>\n",
       "      <td>AL - Birmingham</td>\n",
       "      <td>24</td>\n",
       "      <td>$37560.37</td>\n",
       "      <td>$5434.95</td>\n",
       "      <td>$4453.79</td>\n",
       "    </tr>\n",
       "  </tbody>\n",
       "</table>\n",
       "</div>"
      ],
      "text/plain": [
       "                             DRG Definition  Provider Id  \\\n",
       "0  039 - EXTRACRANIAL PROCEDURES W/O CC/MCC        10001   \n",
       "1  039 - EXTRACRANIAL PROCEDURES W/O CC/MCC        10005   \n",
       "2  039 - EXTRACRANIAL PROCEDURES W/O CC/MCC        10006   \n",
       "\n",
       "                      Provider Name     Provider Street Address Provider City  \\\n",
       "0  SOUTHEAST ALABAMA MEDICAL CENTER      1108 ROSS CLARK CIRCLE        DOTHAN   \n",
       "1     MARSHALL MEDICAL CENTER SOUTH  2505 U S HIGHWAY 431 NORTH          BOAZ   \n",
       "2    ELIZA COFFEE MEMORIAL HOSPITAL          205 MARENGO STREET      FLORENCE   \n",
       "\n",
       "  Provider State  Provider Zip Code Hospital Referral Region Description  \\\n",
       "0             AL              36301                          AL - Dothan   \n",
       "1             AL              35957                      AL - Birmingham   \n",
       "2             AL              35631                      AL - Birmingham   \n",
       "\n",
       "   Total Discharges Avg Covered Charges [$] Avg Total Payments [$]  \\\n",
       "0                91               $32963.07               $5777.24   \n",
       "1                14               $15131.85               $5787.57   \n",
       "2                24               $37560.37               $5434.95   \n",
       "\n",
       "  Avg Medicare Payments [$]  \n",
       "0                  $4763.73  \n",
       "1                  $4976.71  \n",
       "2                  $4453.79  "
      ]
     },
     "execution_count": 89,
     "metadata": {},
     "output_type": "execute_result"
    }
   ],
   "source": [
    "# To remove spaces\n",
    "df.columns = df.columns.str.strip()\n",
    "df.rename(columns={'Average Covered Charges': 'Avg Covered Charges [$]','Average Total Payments' : 'Avg Total Payments [$]', 'Average Medicare Payments': 'Avg Medicare Payments [$]'}, inplace=True)\n",
    "df.head(3)"
   ]
  },
  {
   "cell_type": "code",
   "execution_count": 90,
   "metadata": {},
   "outputs": [],
   "source": [
    "\n",
    "# To remove $  symbol and convert into float\n",
    "df[['Avg Covered Charges [$]', 'Avg Total Payments [$]', 'Avg Medicare Payments [$]']] =  df[['Avg Covered Charges [$]', 'Avg Total Payments [$]', 'Avg Medicare Payments [$]']].replace('\\$','',regex=True).astype(float)\n",
    "df['Avg. Cost/attended patient [$]'] = df['Avg Total Payments [$]']/df['Total Discharges']"
   ]
  },
  {
   "cell_type": "code",
   "execution_count": 91,
   "metadata": {},
   "outputs": [
    {
     "data": {
      "text/html": [
       "<div>\n",
       "<style scoped>\n",
       "    .dataframe tbody tr th:only-of-type {\n",
       "        vertical-align: middle;\n",
       "    }\n",
       "\n",
       "    .dataframe tbody tr th {\n",
       "        vertical-align: top;\n",
       "    }\n",
       "\n",
       "    .dataframe thead th {\n",
       "        text-align: right;\n",
       "    }\n",
       "</style>\n",
       "<table border=\"1\" class=\"dataframe\">\n",
       "  <thead>\n",
       "    <tr style=\"text-align: right;\">\n",
       "      <th></th>\n",
       "      <th>DRG Definition</th>\n",
       "      <th>Provider Id</th>\n",
       "      <th>Provider Name</th>\n",
       "      <th>Provider Street Address</th>\n",
       "      <th>Provider City</th>\n",
       "      <th>Provider State</th>\n",
       "      <th>Provider Zip Code</th>\n",
       "      <th>Hospital Referral Region Description</th>\n",
       "      <th>Total Discharges</th>\n",
       "      <th>Avg Covered Charges [$]</th>\n",
       "      <th>Avg Total Payments [$]</th>\n",
       "      <th>Avg Medicare Payments [$]</th>\n",
       "      <th>Avg. Cost/attended patient [$]</th>\n",
       "    </tr>\n",
       "  </thead>\n",
       "  <tbody>\n",
       "    <tr>\n",
       "      <th>0</th>\n",
       "      <td>039 - EXTRACRANIAL PROCEDURES W/O CC/MCC</td>\n",
       "      <td>10001</td>\n",
       "      <td>SOUTHEAST ALABAMA MEDICAL CENTER</td>\n",
       "      <td>1108 ROSS CLARK CIRCLE</td>\n",
       "      <td>DOTHAN</td>\n",
       "      <td>AL</td>\n",
       "      <td>36301</td>\n",
       "      <td>AL - Dothan</td>\n",
       "      <td>91</td>\n",
       "      <td>32963.07</td>\n",
       "      <td>5777.24</td>\n",
       "      <td>4763.73</td>\n",
       "      <td>63.486154</td>\n",
       "    </tr>\n",
       "    <tr>\n",
       "      <th>1</th>\n",
       "      <td>039 - EXTRACRANIAL PROCEDURES W/O CC/MCC</td>\n",
       "      <td>10005</td>\n",
       "      <td>MARSHALL MEDICAL CENTER SOUTH</td>\n",
       "      <td>2505 U S HIGHWAY 431 NORTH</td>\n",
       "      <td>BOAZ</td>\n",
       "      <td>AL</td>\n",
       "      <td>35957</td>\n",
       "      <td>AL - Birmingham</td>\n",
       "      <td>14</td>\n",
       "      <td>15131.85</td>\n",
       "      <td>5787.57</td>\n",
       "      <td>4976.71</td>\n",
       "      <td>413.397857</td>\n",
       "    </tr>\n",
       "  </tbody>\n",
       "</table>\n",
       "</div>"
      ],
      "text/plain": [
       "                             DRG Definition  Provider Id  \\\n",
       "0  039 - EXTRACRANIAL PROCEDURES W/O CC/MCC        10001   \n",
       "1  039 - EXTRACRANIAL PROCEDURES W/O CC/MCC        10005   \n",
       "\n",
       "                      Provider Name     Provider Street Address Provider City  \\\n",
       "0  SOUTHEAST ALABAMA MEDICAL CENTER      1108 ROSS CLARK CIRCLE        DOTHAN   \n",
       "1     MARSHALL MEDICAL CENTER SOUTH  2505 U S HIGHWAY 431 NORTH          BOAZ   \n",
       "\n",
       "  Provider State  Provider Zip Code Hospital Referral Region Description  \\\n",
       "0             AL              36301                          AL - Dothan   \n",
       "1             AL              35957                      AL - Birmingham   \n",
       "\n",
       "   Total Discharges  Avg Covered Charges [$]  Avg Total Payments [$]  \\\n",
       "0                91                 32963.07                 5777.24   \n",
       "1                14                 15131.85                 5787.57   \n",
       "\n",
       "   Avg Medicare Payments [$]  Avg. Cost/attended patient [$]  \n",
       "0                    4763.73                       63.486154  \n",
       "1                    4976.71                      413.397857  "
      ]
     },
     "execution_count": 91,
     "metadata": {},
     "output_type": "execute_result"
    }
   ],
   "source": [
    "df.head(2)"
   ]
  },
  {
   "cell_type": "markdown",
   "metadata": {},
   "source": [
    "# Answer questions"
   ]
  },
  {
   "cell_type": "markdown",
   "metadata": {},
   "source": [
    "### 1. Which are the most expensive states and the cheapest ones?\n",
    "The best variable to compare is **Average Total Payments** instead of **Average Covered Charges** because the last one is only the ticket price, not the real amount paid.\n",
    "\n",
    "But..."
   ]
  },
  {
   "cell_type": "code",
   "execution_count": 92,
   "metadata": {},
   "outputs": [
    {
     "data": {
      "text/html": [
       "<div>\n",
       "<style scoped>\n",
       "    .dataframe tbody tr th:only-of-type {\n",
       "        vertical-align: middle;\n",
       "    }\n",
       "\n",
       "    .dataframe tbody tr th {\n",
       "        vertical-align: top;\n",
       "    }\n",
       "\n",
       "    .dataframe thead th {\n",
       "        text-align: right;\n",
       "    }\n",
       "</style>\n",
       "<table border=\"1\" class=\"dataframe\">\n",
       "  <thead>\n",
       "    <tr style=\"text-align: right;\">\n",
       "      <th></th>\n",
       "      <th>Avg Total Payments [$]</th>\n",
       "      <th>Avg Medicare Payments [$]</th>\n",
       "      <th>Avg. Cost/attended patient [$]</th>\n",
       "    </tr>\n",
       "    <tr>\n",
       "      <th>Provider State</th>\n",
       "      <th></th>\n",
       "      <th></th>\n",
       "      <th></th>\n",
       "    </tr>\n",
       "  </thead>\n",
       "  <tbody>\n",
       "    <tr>\n",
       "      <th>AK</th>\n",
       "      <td>11190.08</td>\n",
       "      <td>9594.930</td>\n",
       "      <td>550.763226</td>\n",
       "    </tr>\n",
       "    <tr>\n",
       "      <th>AL</th>\n",
       "      <td>5876.37</td>\n",
       "      <td>4811.250</td>\n",
       "      <td>235.660588</td>\n",
       "    </tr>\n",
       "    <tr>\n",
       "      <th>AR</th>\n",
       "      <td>6151.68</td>\n",
       "      <td>5165.300</td>\n",
       "      <td>231.121667</td>\n",
       "    </tr>\n",
       "    <tr>\n",
       "      <th>AZ</th>\n",
       "      <td>7671.36</td>\n",
       "      <td>6471.110</td>\n",
       "      <td>316.492500</td>\n",
       "    </tr>\n",
       "    <tr>\n",
       "      <th>CA</th>\n",
       "      <td>9378.01</td>\n",
       "      <td>8380.895</td>\n",
       "      <td>393.354306</td>\n",
       "    </tr>\n",
       "  </tbody>\n",
       "</table>\n",
       "</div>"
      ],
      "text/plain": [
       "                Avg Total Payments [$]  Avg Medicare Payments [$]  \\\n",
       "Provider State                                                      \n",
       "AK                            11190.08                   9594.930   \n",
       "AL                             5876.37                   4811.250   \n",
       "AR                             6151.68                   5165.300   \n",
       "AZ                             7671.36                   6471.110   \n",
       "CA                             9378.01                   8380.895   \n",
       "\n",
       "                Avg. Cost/attended patient [$]  \n",
       "Provider State                                  \n",
       "AK                                  550.763226  \n",
       "AL                                  235.660588  \n",
       "AR                                  231.121667  \n",
       "AZ                                  316.492500  \n",
       "CA                                  393.354306  "
      ]
     },
     "execution_count": 92,
     "metadata": {},
     "output_type": "execute_result"
    }
   ],
   "source": [
    "df1 = df.groupby(df['Provider State']).median()\n",
    "df1.drop(df[['Provider Id',\t'Provider Zip Code', 'Total Discharges', 'Avg Covered Charges [$]']], axis=1, inplace=True)\n",
    "df1.head()"
   ]
  },
  {
   "cell_type": "code",
   "execution_count": 93,
   "metadata": {},
   "outputs": [],
   "source": [
    "df1 = df1.astype(int)"
   ]
  },
  {
   "cell_type": "code",
   "execution_count": 94,
   "metadata": {},
   "outputs": [],
   "source": [
    "sorted_df1 = df1.sort_values(by=['Avg Total Payments [$]'])"
   ]
  },
  {
   "cell_type": "code",
   "execution_count": 95,
   "metadata": {},
   "outputs": [
    {
     "data": {
      "text/html": [
       "\n",
       "\n",
       "\n",
       "\n",
       "\n",
       "\n",
       "  <div class=\"bk-root\" id=\"68ff299b-8f91-4f29-8018-6ec9fa3d5c8d\" data-root-id=\"2057\"></div>\n"
      ]
     },
     "metadata": {},
     "output_type": "display_data"
    },
    {
     "data": {
      "application/javascript": "(function(root) {\n  function embed_document(root) {\n    \n  const docs_json = {\"9cfe0a0a-6e31-426b-bd67-b8efd1b9f4e0\":{\"defs\":[],\"roots\":{\"references\":[{\"attributes\":{\"below\":[{\"id\":\"2068\"}],\"center\":[{\"id\":\"2071\"},{\"id\":\"2075\"},{\"id\":\"2108\"}],\"height\":400,\"left\":[{\"id\":\"2072\"}],\"output_backend\":\"webgl\",\"renderers\":[{\"id\":\"2097\"},{\"id\":\"2117\"},{\"id\":\"2136\"}],\"sizing_mode\":\"fixed\",\"title\":{\"id\":\"2058\"},\"toolbar\":{\"id\":\"2083\"},\"width\":1200,\"x_range\":{\"id\":\"2060\"},\"x_scale\":{\"id\":\"2064\"},\"y_range\":{\"id\":\"2062\"},\"y_scale\":{\"id\":\"2066\"}},\"id\":\"2057\",\"subtype\":\"Figure\",\"type\":\"Plot\"},{\"attributes\":{\"active_scroll\":{\"id\":\"2077\"},\"tools\":[{\"id\":\"2076\"},{\"id\":\"2077\"},{\"id\":\"2078\"},{\"id\":\"2079\"},{\"id\":\"2080\"},{\"id\":\"2081\"},{\"id\":\"2110\"},{\"id\":\"2129\"},{\"id\":\"2148\"}]},\"id\":\"2083\",\"type\":\"Toolbar\"},{\"attributes\":{\"fill_color\":{\"value\":\"#ff7f0e\"},\"hatch_color\":{\"value\":\"#ff7f0e\"},\"line_color\":{\"value\":\"#ff7f0e\"},\"line_width\":{\"value\":2},\"top\":{\"field\":\"Avg Medicare Payments [$]\"},\"width\":{\"value\":0.2},\"x\":{\"field\":\"__x__values\",\"transform\":{\"id\":\"2112\"}}},\"id\":\"2114\",\"type\":\"VBar\"},{\"attributes\":{\"callback\":null,\"mode\":\"vline\",\"renderers\":[{\"id\":\"2097\"}],\"tooltips\":[[\"Provider State\",\"@__x__values_original\"],[\"Avg Total Payments [$]\",\"@{Avg Total Payments [$]}\"]]},\"id\":\"2110\",\"type\":\"HoverTool\"},{\"attributes\":{},\"id\":\"2077\",\"type\":\"WheelZoomTool\"},{\"attributes\":{},\"id\":\"2064\",\"type\":\"LinearScale\"},{\"attributes\":{\"fill_alpha\":{\"value\":0.2},\"fill_color\":{\"value\":\"#ff7f0e\"},\"hatch_alpha\":{\"value\":0.2},\"hatch_color\":{\"value\":\"#ff7f0e\"},\"line_alpha\":{\"value\":0.2},\"line_color\":{\"value\":\"#ff7f0e\"},\"line_width\":{\"value\":2},\"top\":{\"field\":\"Avg Medicare Payments [$]\"},\"width\":{\"value\":0.2},\"x\":{\"field\":\"__x__values\",\"transform\":{\"id\":\"2112\"}}},\"id\":\"2116\",\"type\":\"VBar\"},{\"attributes\":{\"overlay\":{\"id\":\"2082\"}},\"id\":\"2078\",\"type\":\"BoxZoomTool\"},{\"attributes\":{\"range\":{\"id\":\"2060\"}},\"id\":\"2112\",\"type\":\"Dodge\"},{\"attributes\":{\"fill_alpha\":{\"value\":0.1},\"fill_color\":{\"value\":\"#ff7f0e\"},\"hatch_alpha\":{\"value\":0.1},\"hatch_color\":{\"value\":\"#ff7f0e\"},\"line_alpha\":{\"value\":0.1},\"line_color\":{\"value\":\"#ff7f0e\"},\"line_width\":{\"value\":2},\"top\":{\"field\":\"Avg Medicare Payments [$]\"},\"width\":{\"value\":0.2},\"x\":{\"field\":\"__x__values\",\"transform\":{\"id\":\"2112\"}}},\"id\":\"2115\",\"type\":\"VBar\"},{\"attributes\":{},\"id\":\"2073\",\"type\":\"BasicTicker\"},{\"attributes\":{\"label\":{\"value\":\" Avg Medicare Payments [$]\"},\"renderers\":[{\"id\":\"2117\"}]},\"id\":\"2128\",\"type\":\"LegendItem\"},{\"attributes\":{\"fill_alpha\":{\"value\":0.2},\"fill_color\":{\"value\":\"#2ca02c\"},\"hatch_alpha\":{\"value\":0.2},\"hatch_color\":{\"value\":\"#2ca02c\"},\"line_alpha\":{\"value\":0.2},\"line_color\":{\"value\":\"#2ca02c\"},\"line_width\":{\"value\":2},\"top\":{\"field\":\"Avg. Cost/attended patient [$]\"},\"width\":{\"value\":0.2},\"x\":{\"field\":\"__x__values\",\"transform\":{\"id\":\"2131\"}}},\"id\":\"2135\",\"type\":\"VBar\"},{\"attributes\":{\"coordinates\":null,\"data_source\":{\"id\":\"2056\"},\"glyph\":{\"id\":\"2114\"},\"group\":null,\"hover_glyph\":null,\"muted_glyph\":{\"id\":\"2116\"},\"nonselection_glyph\":{\"id\":\"2115\"},\"view\":{\"id\":\"2118\"}},\"id\":\"2117\",\"type\":\"GlyphRenderer\"},{\"attributes\":{},\"id\":\"2081\",\"type\":\"HelpTool\"},{\"attributes\":{},\"id\":\"2079\",\"type\":\"SaveTool\"},{\"attributes\":{\"callback\":null,\"mode\":\"vline\",\"renderers\":[{\"id\":\"2136\"}],\"tooltips\":[[\"Provider State\",\"@__x__values_original\"],[\"Avg. Cost/attended patient [$]\",\"@{Avg. Cost/attended patient [$]}\"]]},\"id\":\"2148\",\"type\":\"HoverTool\"},{\"attributes\":{\"range\":{\"id\":\"2060\"},\"value\":0.25},\"id\":\"2131\",\"type\":\"Dodge\"},{\"attributes\":{\"callback\":null,\"mode\":\"vline\",\"renderers\":[{\"id\":\"2117\"}],\"tooltips\":[[\"Provider State\",\"@__x__values_original\"],[\"Avg Medicare Payments [$]\",\"@{Avg Medicare Payments [$]}\"]]},\"id\":\"2129\",\"type\":\"HoverTool\"},{\"attributes\":{\"fill_alpha\":{\"value\":0.1},\"fill_color\":{\"value\":\"#2ca02c\"},\"hatch_alpha\":{\"value\":0.1},\"hatch_color\":{\"value\":\"#2ca02c\"},\"line_alpha\":{\"value\":0.1},\"line_color\":{\"value\":\"#2ca02c\"},\"line_width\":{\"value\":2},\"top\":{\"field\":\"Avg. Cost/attended patient [$]\"},\"width\":{\"value\":0.2},\"x\":{\"field\":\"__x__values\",\"transform\":{\"id\":\"2131\"}}},\"id\":\"2134\",\"type\":\"VBar\"},{\"attributes\":{},\"id\":\"2062\",\"type\":\"DataRange1d\"},{\"attributes\":{\"source\":{\"id\":\"2056\"}},\"id\":\"2118\",\"type\":\"CDSView\"},{\"attributes\":{\"fill_color\":{\"value\":\"#2ca02c\"},\"hatch_color\":{\"value\":\"#2ca02c\"},\"line_color\":{\"value\":\"#2ca02c\"},\"line_width\":{\"value\":2},\"top\":{\"field\":\"Avg. Cost/attended patient [$]\"},\"width\":{\"value\":0.2},\"x\":{\"field\":\"__x__values\",\"transform\":{\"id\":\"2131\"}}},\"id\":\"2133\",\"type\":\"VBar\"},{\"attributes\":{},\"id\":\"2080\",\"type\":\"ResetTool\"},{\"attributes\":{\"label\":{\"value\":\" Avg. Cost/attended patient [$]\"},\"renderers\":[{\"id\":\"2136\"}]},\"id\":\"2147\",\"type\":\"LegendItem\"},{\"attributes\":{\"axis\":{\"id\":\"2072\"},\"coordinates\":null,\"dimension\":1,\"group\":null,\"ticker\":null},\"id\":\"2075\",\"type\":\"Grid\"},{\"attributes\":{\"coordinates\":null,\"data_source\":{\"id\":\"2056\"},\"glyph\":{\"id\":\"2133\"},\"group\":null,\"hover_glyph\":null,\"muted_glyph\":{\"id\":\"2135\"},\"nonselection_glyph\":{\"id\":\"2134\"},\"view\":{\"id\":\"2137\"}},\"id\":\"2136\",\"type\":\"GlyphRenderer\"},{\"attributes\":{\"range\":{\"id\":\"2060\"},\"value\":-0.25},\"id\":\"2092\",\"type\":\"Dodge\"},{\"attributes\":{\"fill_color\":{\"value\":\"#1f77b4\"},\"hatch_color\":{\"value\":\"#1f77b4\"},\"line_color\":{\"value\":\"#1f77b4\"},\"line_width\":{\"value\":2},\"top\":{\"field\":\"Avg Total Payments [$]\"},\"width\":{\"value\":0.2},\"x\":{\"field\":\"__x__values\",\"transform\":{\"id\":\"2092\"}}},\"id\":\"2094\",\"type\":\"VBar\"},{\"attributes\":{},\"id\":\"2076\",\"type\":\"PanTool\"},{\"attributes\":{\"axis\":{\"id\":\"2068\"},\"coordinates\":null,\"group\":null,\"ticker\":null},\"id\":\"2071\",\"type\":\"Grid\"},{\"attributes\":{\"axis_label\":\"Provider State\",\"coordinates\":null,\"formatter\":{\"id\":\"2090\"},\"group\":null,\"major_label_policy\":{\"id\":\"2104\"},\"ticker\":{\"id\":\"2150\"}},\"id\":\"2068\",\"type\":\"LinearAxis\"},{\"attributes\":{\"source\":{\"id\":\"2056\"}},\"id\":\"2137\",\"type\":\"CDSView\"},{\"attributes\":{\"ticks\":[0,1,2,3,4,5,6,7,8,9,10,11,12,13,14,15,16,17,18,19,20,21,22,23,24,25,26,27,28,29,30,31,32,33,34,35,36,37,38,39,40,41,42,43,44,45,46,47,48,49,50]},\"id\":\"2150\",\"type\":\"FixedTicker\"},{\"attributes\":{},\"id\":\"2060\",\"type\":\"DataRange1d\"},{\"attributes\":{\"fill_alpha\":{\"value\":0.1},\"fill_color\":{\"value\":\"#1f77b4\"},\"hatch_alpha\":{\"value\":0.1},\"hatch_color\":{\"value\":\"#1f77b4\"},\"line_alpha\":{\"value\":0.1},\"line_color\":{\"value\":\"#1f77b4\"},\"line_width\":{\"value\":2},\"top\":{\"field\":\"Avg Total Payments [$]\"},\"width\":{\"value\":0.2},\"x\":{\"field\":\"__x__values\",\"transform\":{\"id\":\"2092\"}}},\"id\":\"2095\",\"type\":\"VBar\"},{\"attributes\":{},\"id\":\"2104\",\"type\":\"AllLabels\"},{\"attributes\":{\"fill_alpha\":{\"value\":0.2},\"fill_color\":{\"value\":\"#1f77b4\"},\"hatch_alpha\":{\"value\":0.2},\"hatch_color\":{\"value\":\"#1f77b4\"},\"line_alpha\":{\"value\":0.2},\"line_color\":{\"value\":\"#1f77b4\"},\"line_width\":{\"value\":2},\"top\":{\"field\":\"Avg Total Payments [$]\"},\"width\":{\"value\":0.2},\"x\":{\"field\":\"__x__values\",\"transform\":{\"id\":\"2092\"}}},\"id\":\"2096\",\"type\":\"VBar\"},{\"attributes\":{\"bottom_units\":\"screen\",\"coordinates\":null,\"fill_alpha\":0.5,\"fill_color\":\"lightgrey\",\"group\":null,\"left_units\":\"screen\",\"level\":\"overlay\",\"line_alpha\":1.0,\"line_color\":\"black\",\"line_dash\":[4,4],\"line_width\":2,\"right_units\":\"screen\",\"syncable\":false,\"top_units\":\"screen\"},\"id\":\"2082\",\"type\":\"BoxAnnotation\"},{\"attributes\":{\"coordinates\":null,\"data_source\":{\"id\":\"2056\"},\"glyph\":{\"id\":\"2094\"},\"group\":null,\"hover_glyph\":null,\"muted_glyph\":{\"id\":\"2096\"},\"nonselection_glyph\":{\"id\":\"2095\"},\"view\":{\"id\":\"2098\"}},\"id\":\"2097\",\"type\":\"GlyphRenderer\"},{\"attributes\":{\"coordinates\":null,\"formatter\":{\"id\":\"2101\"},\"group\":null,\"major_label_policy\":{\"id\":\"2102\"},\"ticker\":{\"id\":\"2073\"}},\"id\":\"2072\",\"type\":\"LinearAxis\"},{\"attributes\":{},\"id\":\"2105\",\"type\":\"UnionRenderers\"},{\"attributes\":{\"data\":{\"Avg Medicare Payments [$]\":[4811,5198,5165,5161,5258,5309,5339,5358,5373,5452,5529,5606,5447,5491,5578,5647,5685,5750,5846,5823,5963,5916,5956,5879,5937,6086,6185,6080,6215,6205,6349,5764,6206,6426,6209,6725,6471,6591,6864,6622,7003,6690,7406,7381,7781,8016,8229,8380,8599,8571,9594],\"Avg Total Payments [$]\":[5876,6102,6151,6184,6187,6295,6352,6384,6404,6515,6555,6578,6579,6595,6596,6699,6773,6802,6851,6927,6955,6970,6994,7002,7075,7228,7231,7262,7280,7313,7337,7357,7363,7441,7471,7648,7671,7790,7795,7856,7950,7984,8486,8614,8770,9038,9124,9378,9674,10148,11190],\"Avg. Cost/attended patient [$]\":[235,235,231,227,249,262,226,251,275,261,227,247,235,247,243,273,253,272,264,273,228,307,288,304,323,333,289,258,341,349,230,355,290,297,308,249,316,215,302,307,247,364,285,446,293,368,285,393,347,503,550],\"__x__values\":[0,1,2,3,4,5,6,7,8,9,10,11,12,13,14,15,16,17,18,19,20,21,22,23,24,25,26,27,28,29,30,31,32,33,34,35,36,37,38,39,40,41,42,43,44,45,46,47,48,49,50],\"__x__values_original\":[\"AL\",\"WV\",\"AR\",\"TN\",\"MS\",\"OK\",\"KY\",\"IA\",\"KS\",\"LA\",\"FL\",\"OH\",\"VA\",\"IN\",\"MO\",\"GA\",\"SC\",\"ME\",\"PA\",\"TX\",\"NC\",\"WI\",\"NE\",\"NH\",\"CO\",\"MT\",\"SD\",\"IL\",\"ID\",\"NM\",\"MI\",\"UT\",\"MN\",\"ND\",\"NV\",\"MA\",\"AZ\",\"DE\",\"RI\",\"WA\",\"NJ\",\"OR\",\"CT\",\"WY\",\"NY\",\"VT\",\"MD\",\"CA\",\"DC\",\"HI\",\"AK\"]},\"selected\":{\"id\":\"2106\"},\"selection_policy\":{\"id\":\"2105\"}},\"id\":\"2056\",\"type\":\"ColumnDataSource\"},{\"attributes\":{\"coordinates\":null,\"group\":null,\"text\":\"Hospital Charges in America by States\"},\"id\":\"2058\",\"type\":\"Title\"},{\"attributes\":{},\"id\":\"2066\",\"type\":\"LinearScale\"},{\"attributes\":{\"code\":\"\\n                                    var labels = {0: 'AL', 1: 'WV', 2: 'AR', 3: 'TN', 4: 'MS', 5: 'OK', 6: 'KY', 7: 'IA', 8: 'KS', 9: 'LA', 10: 'FL', 11: 'OH', 12: 'VA', 13: 'IN', 14: 'MO', 15: 'GA', 16: 'SC', 17: 'ME', 18: 'PA', 19: 'TX', 20: 'NC', 21: 'WI', 22: 'NE', 23: 'NH', 24: 'CO', 25: 'MT', 26: 'SD', 27: 'IL', 28: 'ID', 29: 'NM', 30: 'MI', 31: 'UT', 32: 'MN', 33: 'ND', 34: 'NV', 35: 'MA', 36: 'AZ', 37: 'DE', 38: 'RI', 39: 'WA', 40: 'NJ', 41: 'OR', 42: 'CT', 43: 'WY', 44: 'NY', 45: 'VT', 46: 'MD', 47: 'CA', 48: 'DC', 49: 'HI', 50: 'AK'};\\n                                    return labels[tick];\\n                                    \"},\"id\":\"2090\",\"type\":\"FuncTickFormatter\"},{\"attributes\":{\"label\":{\"value\":\" Avg Total Payments [$]\"},\"renderers\":[{\"id\":\"2097\"}]},\"id\":\"2109\",\"type\":\"LegendItem\"},{\"attributes\":{\"click_policy\":\"hide\",\"coordinates\":null,\"group\":null,\"items\":[{\"id\":\"2109\"},{\"id\":\"2128\"},{\"id\":\"2147\"}],\"location\":\"top_left\"},\"id\":\"2108\",\"type\":\"Legend\"},{\"attributes\":{},\"id\":\"2102\",\"type\":\"AllLabels\"},{\"attributes\":{},\"id\":\"2106\",\"type\":\"Selection\"},{\"attributes\":{\"source\":{\"id\":\"2056\"}},\"id\":\"2098\",\"type\":\"CDSView\"},{\"attributes\":{},\"id\":\"2101\",\"type\":\"BasicTickFormatter\"}],\"root_ids\":[\"2057\"]},\"title\":\"Bokeh Application\",\"version\":\"2.4.1\"}};\n  const render_items = [{\"docid\":\"9cfe0a0a-6e31-426b-bd67-b8efd1b9f4e0\",\"root_ids\":[\"2057\"],\"roots\":{\"2057\":\"68ff299b-8f91-4f29-8018-6ec9fa3d5c8d\"}}];\n  root.Bokeh.embed.embed_items_notebook(docs_json, render_items);\n\n  }\n  if (root.Bokeh !== undefined) {\n    embed_document(root);\n  } else {\n    let attempts = 0;\n    const timer = setInterval(function(root) {\n      if (root.Bokeh !== undefined) {\n        clearInterval(timer);\n        embed_document(root);\n      } else {\n        attempts++;\n        if (attempts > 100) {\n          clearInterval(timer);\n          console.log(\"Bokeh: ERROR: Unable to run BokehJS code because BokehJS library is missing\");\n        }\n      }\n    }, 10, root)\n  }\n})(window);",
      "application/vnd.bokehjs_exec.v0+json": ""
     },
     "metadata": {
      "application/vnd.bokehjs_exec.v0+json": {
       "id": "2057"
      }
     },
     "output_type": "display_data"
    }
   ],
   "source": [
    "by_states = sorted_df1.plot_bokeh.bar(figsize=(1200,400), title='Hospital Charges in America by States', show_figure=True, legend = 'top_left')"
   ]
  },
  {
   "cell_type": "code",
   "execution_count": 96,
   "metadata": {},
   "outputs": [
    {
     "data": {
      "text/html": [
       "\n",
       "\n",
       "\n",
       "\n",
       "\n",
       "\n",
       "  <div class=\"bk-root\" id=\"7e2edda4-0a92-44ea-bfaf-06a5e5305f1a\" data-root-id=\"2236\"></div>\n"
      ]
     },
     "metadata": {},
     "output_type": "display_data"
    },
    {
     "data": {
      "application/javascript": "(function(root) {\n  function embed_document(root) {\n    \n  const docs_json = {\"12ea0433-c123-4480-9a6a-51f1eb0c651e\":{\"defs\":[],\"roots\":{\"references\":[{\"attributes\":{\"below\":[{\"id\":\"2247\"}],\"center\":[{\"id\":\"2250\"},{\"id\":\"2254\"},{\"id\":\"2287\"}],\"height\":400,\"left\":[{\"id\":\"2251\"}],\"output_backend\":\"webgl\",\"renderers\":[{\"id\":\"2276\"}],\"sizing_mode\":\"fixed\",\"title\":{\"id\":\"2237\"},\"toolbar\":{\"id\":\"2262\"},\"width\":1200,\"x_range\":{\"id\":\"2239\"},\"x_scale\":{\"id\":\"2243\"},\"y_range\":{\"id\":\"2241\"},\"y_scale\":{\"id\":\"2245\"}},\"id\":\"2236\",\"subtype\":\"Figure\",\"type\":\"Plot\"},{\"attributes\":{\"click_policy\":\"hide\",\"coordinates\":null,\"group\":null,\"items\":[{\"id\":\"2288\"}],\"location\":\"top_left\"},\"id\":\"2287\",\"type\":\"Legend\"},{\"attributes\":{\"data\":{\"Avg. Cost/attended patient [$]\":[215,226,227,227,228,230,231,235,235,235,243,247,247,247,249,249,251,253,258,261,262,264,272,273,273,275,285,285,288,289,290,293,297,302,304,307,307,308,316,323,333,341,347,349,355,364,368,393,446,503,550],\"__x__values\":[0,1,2,3,4,5,6,7,8,9,10,11,12,13,14,15,16,17,18,19,20,21,22,23,24,25,26,27,28,29,30,31,32,33,34,35,36,37,38,39,40,41,42,43,44,45,46,47,48,49,50],\"__x__values_original\":[\"DE\",\"KY\",\"TN\",\"FL\",\"NC\",\"MI\",\"AR\",\"VA\",\"WV\",\"AL\",\"MO\",\"OH\",\"NJ\",\"IN\",\"MA\",\"MS\",\"IA\",\"SC\",\"IL\",\"LA\",\"OK\",\"PA\",\"ME\",\"GA\",\"TX\",\"KS\",\"MD\",\"CT\",\"NE\",\"SD\",\"MN\",\"NY\",\"ND\",\"RI\",\"NH\",\"WI\",\"WA\",\"NV\",\"AZ\",\"CO\",\"MT\",\"ID\",\"DC\",\"NM\",\"UT\",\"OR\",\"VT\",\"CA\",\"WY\",\"HI\",\"AK\"]},\"selected\":{\"id\":\"2285\"},\"selection_policy\":{\"id\":\"2284\"}},\"id\":\"2235\",\"type\":\"ColumnDataSource\"},{\"attributes\":{\"fill_alpha\":{\"value\":0.2},\"fill_color\":{\"value\":\"#1f77b4\"},\"hatch_alpha\":{\"value\":0.2},\"hatch_color\":{\"value\":\"#1f77b4\"},\"line_alpha\":{\"value\":0.2},\"line_color\":{\"value\":\"#1f77b4\"},\"line_width\":{\"value\":2},\"top\":{\"field\":\"Avg. Cost/attended patient [$]\"},\"width\":{\"value\":0.7},\"x\":{\"field\":\"__x__values\",\"transform\":{\"id\":\"2271\"}}},\"id\":\"2275\",\"type\":\"VBar\"},{\"attributes\":{\"coordinates\":null,\"data_source\":{\"id\":\"2235\"},\"glyph\":{\"id\":\"2273\"},\"group\":null,\"hover_glyph\":null,\"muted_glyph\":{\"id\":\"2275\"},\"nonselection_glyph\":{\"id\":\"2274\"},\"view\":{\"id\":\"2277\"}},\"id\":\"2276\",\"type\":\"GlyphRenderer\"},{\"attributes\":{\"source\":{\"id\":\"2235\"}},\"id\":\"2277\",\"type\":\"CDSView\"},{\"attributes\":{},\"id\":\"2243\",\"type\":\"LinearScale\"},{\"attributes\":{},\"id\":\"2241\",\"type\":\"DataRange1d\"},{\"attributes\":{},\"id\":\"2239\",\"type\":\"DataRange1d\"},{\"attributes\":{\"range\":{\"id\":\"2239\"}},\"id\":\"2271\",\"type\":\"Dodge\"},{\"attributes\":{\"coordinates\":null,\"group\":null,\"text\":\"Hospital Charges in America by Attended Patient\"},\"id\":\"2237\",\"type\":\"Title\"},{\"attributes\":{},\"id\":\"2281\",\"type\":\"AllLabels\"},{\"attributes\":{},\"id\":\"2256\",\"type\":\"WheelZoomTool\"},{\"attributes\":{\"axis_label\":\"Provider State\",\"coordinates\":null,\"formatter\":{\"id\":\"2269\"},\"group\":null,\"major_label_policy\":{\"id\":\"2283\"},\"ticker\":{\"id\":\"2291\"}},\"id\":\"2247\",\"type\":\"LinearAxis\"},{\"attributes\":{},\"id\":\"2245\",\"type\":\"LinearScale\"},{\"attributes\":{\"axis\":{\"id\":\"2247\"},\"coordinates\":null,\"group\":null,\"ticker\":null},\"id\":\"2250\",\"type\":\"Grid\"},{\"attributes\":{\"axis_label\":\"Avg. Cost/attended patient [$]\",\"coordinates\":null,\"formatter\":{\"id\":\"2280\"},\"group\":null,\"major_label_policy\":{\"id\":\"2281\"},\"ticker\":{\"id\":\"2252\"}},\"id\":\"2251\",\"type\":\"LinearAxis\"},{\"attributes\":{\"label\":{\"value\":\" Avg. Cost/attended patient [$]\"},\"renderers\":[{\"id\":\"2276\"}]},\"id\":\"2288\",\"type\":\"LegendItem\"},{\"attributes\":{\"fill_color\":{\"value\":\"#1f77b4\"},\"hatch_color\":{\"value\":\"#1f77b4\"},\"line_color\":{\"value\":\"#1f77b4\"},\"line_width\":{\"value\":2},\"top\":{\"field\":\"Avg. Cost/attended patient [$]\"},\"width\":{\"value\":0.7},\"x\":{\"field\":\"__x__values\",\"transform\":{\"id\":\"2271\"}}},\"id\":\"2273\",\"type\":\"VBar\"},{\"attributes\":{\"axis\":{\"id\":\"2251\"},\"coordinates\":null,\"dimension\":1,\"group\":null,\"ticker\":null},\"id\":\"2254\",\"type\":\"Grid\"},{\"attributes\":{},\"id\":\"2252\",\"type\":\"BasicTicker\"},{\"attributes\":{\"ticks\":[0,1,2,3,4,5,6,7,8,9,10,11,12,13,14,15,16,17,18,19,20,21,22,23,24,25,26,27,28,29,30,31,32,33,34,35,36,37,38,39,40,41,42,43,44,45,46,47,48,49,50]},\"id\":\"2291\",\"type\":\"FixedTicker\"},{\"attributes\":{\"active_scroll\":{\"id\":\"2256\"},\"tools\":[{\"id\":\"2255\"},{\"id\":\"2256\"},{\"id\":\"2257\"},{\"id\":\"2258\"},{\"id\":\"2259\"},{\"id\":\"2260\"},{\"id\":\"2289\"}]},\"id\":\"2262\",\"type\":\"Toolbar\"},{\"attributes\":{},\"id\":\"2284\",\"type\":\"UnionRenderers\"},{\"attributes\":{\"code\":\"\\n                                    var labels = {0: 'DE', 1: 'KY', 2: 'TN', 3: 'FL', 4: 'NC', 5: 'MI', 6: 'AR', 7: 'VA', 8: 'WV', 9: 'AL', 10: 'MO', 11: 'OH', 12: 'NJ', 13: 'IN', 14: 'MA', 15: 'MS', 16: 'IA', 17: 'SC', 18: 'IL', 19: 'LA', 20: 'OK', 21: 'PA', 22: 'ME', 23: 'GA', 24: 'TX', 25: 'KS', 26: 'MD', 27: 'CT', 28: 'NE', 29: 'SD', 30: 'MN', 31: 'NY', 32: 'ND', 33: 'RI', 34: 'NH', 35: 'WI', 36: 'WA', 37: 'NV', 38: 'AZ', 39: 'CO', 40: 'MT', 41: 'ID', 42: 'DC', 43: 'NM', 44: 'UT', 45: 'OR', 46: 'VT', 47: 'CA', 48: 'WY', 49: 'HI', 50: 'AK'};\\n                                    return labels[tick];\\n                                    \"},\"id\":\"2269\",\"type\":\"FuncTickFormatter\"},{\"attributes\":{},\"id\":\"2260\",\"type\":\"HelpTool\"},{\"attributes\":{\"fill_alpha\":{\"value\":0.1},\"fill_color\":{\"value\":\"#1f77b4\"},\"hatch_alpha\":{\"value\":0.1},\"hatch_color\":{\"value\":\"#1f77b4\"},\"line_alpha\":{\"value\":0.1},\"line_color\":{\"value\":\"#1f77b4\"},\"line_width\":{\"value\":2},\"top\":{\"field\":\"Avg. Cost/attended patient [$]\"},\"width\":{\"value\":0.7},\"x\":{\"field\":\"__x__values\",\"transform\":{\"id\":\"2271\"}}},\"id\":\"2274\",\"type\":\"VBar\"},{\"attributes\":{},\"id\":\"2255\",\"type\":\"PanTool\"},{\"attributes\":{\"overlay\":{\"id\":\"2261\"}},\"id\":\"2257\",\"type\":\"BoxZoomTool\"},{\"attributes\":{},\"id\":\"2283\",\"type\":\"AllLabels\"},{\"attributes\":{},\"id\":\"2280\",\"type\":\"BasicTickFormatter\"},{\"attributes\":{},\"id\":\"2285\",\"type\":\"Selection\"},{\"attributes\":{},\"id\":\"2258\",\"type\":\"SaveTool\"},{\"attributes\":{\"bottom_units\":\"screen\",\"coordinates\":null,\"fill_alpha\":0.5,\"fill_color\":\"lightgrey\",\"group\":null,\"left_units\":\"screen\",\"level\":\"overlay\",\"line_alpha\":1.0,\"line_color\":\"black\",\"line_dash\":[4,4],\"line_width\":2,\"right_units\":\"screen\",\"syncable\":false,\"top_units\":\"screen\"},\"id\":\"2261\",\"type\":\"BoxAnnotation\"},{\"attributes\":{},\"id\":\"2259\",\"type\":\"ResetTool\"},{\"attributes\":{\"callback\":null,\"mode\":\"vline\",\"renderers\":[{\"id\":\"2276\"}],\"tooltips\":[[\"Provider State\",\"@__x__values_original\"],[\"Avg. Cost/attended patient [$]\",\"@{Avg. Cost/attended patient [$]}\"]]},\"id\":\"2289\",\"type\":\"HoverTool\"}],\"root_ids\":[\"2236\"]},\"title\":\"Bokeh Application\",\"version\":\"2.4.1\"}};\n  const render_items = [{\"docid\":\"12ea0433-c123-4480-9a6a-51f1eb0c651e\",\"root_ids\":[\"2236\"],\"roots\":{\"2236\":\"7e2edda4-0a92-44ea-bfaf-06a5e5305f1a\"}}];\n  root.Bokeh.embed.embed_items_notebook(docs_json, render_items);\n\n  }\n  if (root.Bokeh !== undefined) {\n    embed_document(root);\n  } else {\n    let attempts = 0;\n    const timer = setInterval(function(root) {\n      if (root.Bokeh !== undefined) {\n        clearInterval(timer);\n        embed_document(root);\n      } else {\n        attempts++;\n        if (attempts > 100) {\n          clearInterval(timer);\n          console.log(\"Bokeh: ERROR: Unable to run BokehJS code because BokehJS library is missing\");\n        }\n      }\n    }, 10, root)\n  }\n})(window);",
      "application/vnd.bokehjs_exec.v0+json": ""
     },
     "metadata": {
      "application/vnd.bokehjs_exec.v0+json": {
       "id": "2236"
      }
     },
     "output_type": "display_data"
    }
   ],
   "source": [
    "sort_by_patients = df1.sort_values(by=['Avg. Cost/attended patient [$]'])\n",
    "by_patient = sort_by_patients.plot_bokeh.bar(figsize=(1200,400), y='Avg. Cost/attended patient [$]',title='Hospital Charges in America by Attended Patient', show_figure=True, legend = 'top_left')"
   ]
  },
  {
   "cell_type": "code",
   "execution_count": 97,
   "metadata": {},
   "outputs": [],
   "source": [
    "df_drg = df.drop(df[['Provider Id',\t'Provider Zip Code', 'Total Discharges', 'Avg Covered Charges [$]', 'Avg Medicare Payments [$]', 'Avg Total Payments [$]']], axis=1)"
   ]
  },
  {
   "cell_type": "code",
   "execution_count": 107,
   "metadata": {},
   "outputs": [],
   "source": [
    "df_drg_max = df_drg.groupby(['DRG Definition', 'Provider State']).median()\n",
    "sorted_df_drg_max = df_drg_max.sort_values(['DRG Definition','Avg. Cost/attended patient [$]'], ascending=[1,0])\n",
    "sorti = sorted_df_drg_max.groupby(level=0).head(1)"
   ]
  },
  {
   "cell_type": "code",
   "execution_count": 109,
   "metadata": {},
   "outputs": [
    {
     "data": {
      "text/plain": [
       "Index(['DC', 'AK', 'HI', 'UT', 'WY', 'CA', 'OR', 'VT', 'NM', 'RI', 'NV', 'CT',\n",
       "       'SD'],\n",
       "      dtype='object', name='Provider State')"
      ]
     },
     "execution_count": 109,
     "metadata": {},
     "output_type": "execute_result"
    }
   ],
   "source": [
    "sorti.index.unique(level=1)"
   ]
  },
  {
   "cell_type": "code",
   "execution_count": 111,
   "metadata": {},
   "outputs": [],
   "source": [
    "listi= sorti.index.get_level_values('Provider State')"
   ]
  },
  {
   "cell_type": "code",
   "execution_count": 128,
   "metadata": {},
   "outputs": [
    {
     "data": {
      "text/plain": [
       "Counter({'DC': 8,\n",
       "         'AK': 42,\n",
       "         'HI': 21,\n",
       "         'UT': 2,\n",
       "         'WY': 13,\n",
       "         'CA': 1,\n",
       "         'OR': 1,\n",
       "         'VT': 7,\n",
       "         'NM': 1,\n",
       "         'RI': 1,\n",
       "         'NV': 1,\n",
       "         'CT': 1,\n",
       "         'SD': 1})"
      ]
     },
     "execution_count": 128,
     "metadata": {},
     "output_type": "execute_result"
    }
   ],
   "source": [
    "from collections import Counter\n",
    "a = Counter(listi)\n",
    "a"
   ]
  },
  {
   "cell_type": "code",
   "execution_count": 153,
   "metadata": {},
   "outputs": [
    {
     "data": {
      "text/html": [
       "<div>\n",
       "<style scoped>\n",
       "    .dataframe tbody tr th:only-of-type {\n",
       "        vertical-align: middle;\n",
       "    }\n",
       "\n",
       "    .dataframe tbody tr th {\n",
       "        vertical-align: top;\n",
       "    }\n",
       "\n",
       "    .dataframe thead th {\n",
       "        text-align: right;\n",
       "    }\n",
       "</style>\n",
       "<table border=\"1\" class=\"dataframe\">\n",
       "  <thead>\n",
       "    <tr style=\"text-align: right;\">\n",
       "      <th></th>\n",
       "      <th>DRG_qty</th>\n",
       "    </tr>\n",
       "    <tr>\n",
       "      <th>Provider State</th>\n",
       "      <th></th>\n",
       "    </tr>\n",
       "  </thead>\n",
       "  <tbody>\n",
       "    <tr>\n",
       "      <th>DC</th>\n",
       "      <td>8</td>\n",
       "    </tr>\n",
       "    <tr>\n",
       "      <th>AK</th>\n",
       "      <td>42</td>\n",
       "    </tr>\n",
       "    <tr>\n",
       "      <th>HI</th>\n",
       "      <td>21</td>\n",
       "    </tr>\n",
       "    <tr>\n",
       "      <th>UT</th>\n",
       "      <td>2</td>\n",
       "    </tr>\n",
       "    <tr>\n",
       "      <th>WY</th>\n",
       "      <td>13</td>\n",
       "    </tr>\n",
       "    <tr>\n",
       "      <th>CA</th>\n",
       "      <td>1</td>\n",
       "    </tr>\n",
       "    <tr>\n",
       "      <th>OR</th>\n",
       "      <td>1</td>\n",
       "    </tr>\n",
       "    <tr>\n",
       "      <th>VT</th>\n",
       "      <td>7</td>\n",
       "    </tr>\n",
       "    <tr>\n",
       "      <th>NM</th>\n",
       "      <td>1</td>\n",
       "    </tr>\n",
       "    <tr>\n",
       "      <th>RI</th>\n",
       "      <td>1</td>\n",
       "    </tr>\n",
       "    <tr>\n",
       "      <th>NV</th>\n",
       "      <td>1</td>\n",
       "    </tr>\n",
       "    <tr>\n",
       "      <th>CT</th>\n",
       "      <td>1</td>\n",
       "    </tr>\n",
       "    <tr>\n",
       "      <th>SD</th>\n",
       "      <td>1</td>\n",
       "    </tr>\n",
       "  </tbody>\n",
       "</table>\n",
       "</div>"
      ],
      "text/plain": [
       "                DRG_qty\n",
       "Provider State         \n",
       "DC                    8\n",
       "AK                   42\n",
       "HI                   21\n",
       "UT                    2\n",
       "WY                   13\n",
       "CA                    1\n",
       "OR                    1\n",
       "VT                    7\n",
       "NM                    1\n",
       "RI                    1\n",
       "NV                    1\n",
       "CT                    1\n",
       "SD                    1"
      ]
     },
     "execution_count": 153,
     "metadata": {},
     "output_type": "execute_result"
    }
   ],
   "source": [
    "from collections import Counter\n",
    "a = Counter(listi)\n",
    "b = dict(a)\n",
    "c = pd.DataFrame(b.items())\n",
    "c.rename(columns={0: 'Provider State',1:'DRG_qty'}, inplace=True)\n",
    "d = c.set_index('Provider State')\n",
    "d\n",
    "# d.rename(columns={0: 'Provider State',1:'DRG_qty'}, inplace=True)\n",
    "# d\n",
    "\n"
   ]
  },
  {
   "cell_type": "code",
   "execution_count": 155,
   "metadata": {},
   "outputs": [
    {
     "data": {
      "text/html": [
       "\n",
       "\n",
       "\n",
       "\n",
       "\n",
       "\n",
       "  <div class=\"bk-root\" id=\"ea835c4f-004f-4773-98de-04426caa42c3\" data-root-id=\"3673\"></div>\n"
      ]
     },
     "metadata": {},
     "output_type": "display_data"
    },
    {
     "data": {
      "application/javascript": "(function(root) {\n  function embed_document(root) {\n    \n  const docs_json = {\"f1d48b88-3130-4494-b04b-56e729dc1bf0\":{\"defs\":[],\"roots\":{\"references\":[{\"attributes\":{\"below\":[{\"id\":\"3684\"}],\"center\":[{\"id\":\"3687\"},{\"id\":\"3691\"},{\"id\":\"3724\"}],\"height\":400,\"left\":[{\"id\":\"3688\"}],\"output_backend\":\"webgl\",\"renderers\":[{\"id\":\"3713\"}],\"sizing_mode\":\"fixed\",\"title\":{\"id\":\"3674\"},\"toolbar\":{\"id\":\"3699\"},\"x_range\":{\"id\":\"3676\"},\"x_scale\":{\"id\":\"3680\"},\"y_range\":{\"id\":\"3678\"},\"y_scale\":{\"id\":\"3682\"}},\"id\":\"3673\",\"subtype\":\"Figure\",\"type\":\"Plot\"},{\"attributes\":{},\"id\":\"3682\",\"type\":\"LinearScale\"},{\"attributes\":{},\"id\":\"3693\",\"type\":\"WheelZoomTool\"},{\"attributes\":{\"fill_color\":{\"value\":\"#1f77b4\"},\"hatch_color\":{\"value\":\"#1f77b4\"},\"line_color\":{\"value\":\"#1f77b4\"},\"line_width\":{\"value\":2},\"top\":{\"field\":\"DRG_qty\"},\"width\":{\"value\":0.7},\"x\":{\"field\":\"__x__values\",\"transform\":{\"id\":\"3708\"}}},\"id\":\"3710\",\"type\":\"VBar\"},{\"attributes\":{\"axis_label\":\"DRG_qty\",\"coordinates\":null,\"formatter\":{\"id\":\"3717\"},\"group\":null,\"major_label_policy\":{\"id\":\"3718\"},\"ticker\":{\"id\":\"3689\"}},\"id\":\"3688\",\"type\":\"LinearAxis\"},{\"attributes\":{\"active_scroll\":{\"id\":\"3693\"},\"tools\":[{\"id\":\"3692\"},{\"id\":\"3693\"},{\"id\":\"3694\"},{\"id\":\"3695\"},{\"id\":\"3696\"},{\"id\":\"3697\"},{\"id\":\"3726\"}]},\"id\":\"3699\",\"type\":\"Toolbar\"},{\"attributes\":{\"fill_alpha\":{\"value\":0.2},\"fill_color\":{\"value\":\"#1f77b4\"},\"hatch_alpha\":{\"value\":0.2},\"hatch_color\":{\"value\":\"#1f77b4\"},\"line_alpha\":{\"value\":0.2},\"line_color\":{\"value\":\"#1f77b4\"},\"line_width\":{\"value\":2},\"top\":{\"field\":\"DRG_qty\"},\"width\":{\"value\":0.7},\"x\":{\"field\":\"__x__values\",\"transform\":{\"id\":\"3708\"}}},\"id\":\"3712\",\"type\":\"VBar\"},{\"attributes\":{\"axis\":{\"id\":\"3688\"},\"coordinates\":null,\"dimension\":1,\"group\":null,\"ticker\":null},\"id\":\"3691\",\"type\":\"Grid\"},{\"attributes\":{\"data\":{\"DRG_qty\":[1,1,1,1,1,1,1,2,7,8,13,21,42],\"__x__values\":[0,1,2,3,4,5,6,7,8,9,10,11,12],\"__x__values_original\":[\"CA\",\"OR\",\"NM\",\"RI\",\"NV\",\"CT\",\"SD\",\"UT\",\"VT\",\"DC\",\"WY\",\"HI\",\"AK\"]},\"selected\":{\"id\":\"3722\"},\"selection_policy\":{\"id\":\"3721\"}},\"id\":\"3672\",\"type\":\"ColumnDataSource\"},{\"attributes\":{},\"id\":\"3689\",\"type\":\"BasicTicker\"},{\"attributes\":{\"ticks\":[0,1,2,3,4,5,6,7,8,9,10,11,12]},\"id\":\"3728\",\"type\":\"FixedTicker\"},{\"attributes\":{\"code\":\"\\n                                    var labels = {0: 'CA', 1: 'OR', 2: 'NM', 3: 'RI', 4: 'NV', 5: 'CT', 6: 'SD', 7: 'UT', 8: 'VT', 9: 'DC', 10: 'WY', 11: 'HI', 12: 'AK'};\\n                                    return labels[tick];\\n                                    \"},\"id\":\"3706\",\"type\":\"FuncTickFormatter\"},{\"attributes\":{\"fill_alpha\":{\"value\":0.1},\"fill_color\":{\"value\":\"#1f77b4\"},\"hatch_alpha\":{\"value\":0.1},\"hatch_color\":{\"value\":\"#1f77b4\"},\"line_alpha\":{\"value\":0.1},\"line_color\":{\"value\":\"#1f77b4\"},\"line_width\":{\"value\":2},\"top\":{\"field\":\"DRG_qty\"},\"width\":{\"value\":0.7},\"x\":{\"field\":\"__x__values\",\"transform\":{\"id\":\"3708\"}}},\"id\":\"3711\",\"type\":\"VBar\"},{\"attributes\":{},\"id\":\"3697\",\"type\":\"HelpTool\"},{\"attributes\":{},\"id\":\"3692\",\"type\":\"PanTool\"},{\"attributes\":{\"overlay\":{\"id\":\"3698\"}},\"id\":\"3694\",\"type\":\"BoxZoomTool\"},{\"attributes\":{},\"id\":\"3695\",\"type\":\"SaveTool\"},{\"attributes\":{},\"id\":\"3696\",\"type\":\"ResetTool\"},{\"attributes\":{},\"id\":\"3722\",\"type\":\"Selection\"},{\"attributes\":{\"bottom_units\":\"screen\",\"coordinates\":null,\"fill_alpha\":0.5,\"fill_color\":\"lightgrey\",\"group\":null,\"left_units\":\"screen\",\"level\":\"overlay\",\"line_alpha\":1.0,\"line_color\":\"black\",\"line_dash\":[4,4],\"line_width\":2,\"right_units\":\"screen\",\"syncable\":false,\"top_units\":\"screen\"},\"id\":\"3698\",\"type\":\"BoxAnnotation\"},{\"attributes\":{\"callback\":null,\"mode\":\"vline\",\"renderers\":[{\"id\":\"3713\"}],\"tooltips\":[[\"Provider State\",\"@__x__values_original\"],[\"DRG_qty\",\"@{DRG_qty}\"]]},\"id\":\"3726\",\"type\":\"HoverTool\"},{\"attributes\":{\"click_policy\":\"hide\",\"coordinates\":null,\"group\":null,\"items\":[{\"id\":\"3725\"}],\"location\":\"top_left\"},\"id\":\"3724\",\"type\":\"Legend\"},{\"attributes\":{},\"id\":\"3717\",\"type\":\"BasicTickFormatter\"},{\"attributes\":{},\"id\":\"3721\",\"type\":\"UnionRenderers\"},{\"attributes\":{\"source\":{\"id\":\"3672\"}},\"id\":\"3714\",\"type\":\"CDSView\"},{\"attributes\":{\"label\":{\"value\":\" DRG_qty\"},\"renderers\":[{\"id\":\"3713\"}]},\"id\":\"3725\",\"type\":\"LegendItem\"},{\"attributes\":{\"coordinates\":null,\"data_source\":{\"id\":\"3672\"},\"glyph\":{\"id\":\"3710\"},\"group\":null,\"hover_glyph\":null,\"muted_glyph\":{\"id\":\"3712\"},\"nonselection_glyph\":{\"id\":\"3711\"},\"view\":{\"id\":\"3714\"}},\"id\":\"3713\",\"type\":\"GlyphRenderer\"},{\"attributes\":{},\"id\":\"3720\",\"type\":\"AllLabels\"},{\"attributes\":{},\"id\":\"3680\",\"type\":\"LinearScale\"},{\"attributes\":{\"axis\":{\"id\":\"3684\"},\"coordinates\":null,\"group\":null,\"ticker\":null},\"id\":\"3687\",\"type\":\"Grid\"},{\"attributes\":{},\"id\":\"3718\",\"type\":\"AllLabels\"},{\"attributes\":{},\"id\":\"3678\",\"type\":\"DataRange1d\"},{\"attributes\":{},\"id\":\"3676\",\"type\":\"DataRange1d\"},{\"attributes\":{\"range\":{\"id\":\"3676\"}},\"id\":\"3708\",\"type\":\"Dodge\"},{\"attributes\":{\"coordinates\":null,\"group\":null},\"id\":\"3674\",\"type\":\"Title\"},{\"attributes\":{\"axis_label\":\"Provider State\",\"coordinates\":null,\"formatter\":{\"id\":\"3706\"},\"group\":null,\"major_label_policy\":{\"id\":\"3720\"},\"ticker\":{\"id\":\"3728\"}},\"id\":\"3684\",\"type\":\"LinearAxis\"}],\"root_ids\":[\"3673\"]},\"title\":\"Bokeh Application\",\"version\":\"2.4.1\"}};\n  const render_items = [{\"docid\":\"f1d48b88-3130-4494-b04b-56e729dc1bf0\",\"root_ids\":[\"3673\"],\"roots\":{\"3673\":\"ea835c4f-004f-4773-98de-04426caa42c3\"}}];\n  root.Bokeh.embed.embed_items_notebook(docs_json, render_items);\n\n  }\n  if (root.Bokeh !== undefined) {\n    embed_document(root);\n  } else {\n    let attempts = 0;\n    const timer = setInterval(function(root) {\n      if (root.Bokeh !== undefined) {\n        clearInterval(timer);\n        embed_document(root);\n      } else {\n        attempts++;\n        if (attempts > 100) {\n          clearInterval(timer);\n          console.log(\"Bokeh: ERROR: Unable to run BokehJS code because BokehJS library is missing\");\n        }\n      }\n    }, 10, root)\n  }\n})(window);",
      "application/vnd.bokehjs_exec.v0+json": ""
     },
     "metadata": {
      "application/vnd.bokehjs_exec.v0+json": {
       "id": "3673"
      }
     },
     "output_type": "display_data"
    },
    {
     "data": {
      "text/html": [
       "<div style=\"display: table;\"><div style=\"display: table-row;\"><div style=\"display: table-cell;\"><b title=\"bokeh.plotting.figure.Figure\">Figure</b>(</div><div style=\"display: table-cell;\">id&nbsp;=&nbsp;'3673', <span id=\"3851\" style=\"cursor: pointer;\">&hellip;)</span></div></div><div class=\"3850\" style=\"display: none;\"><div style=\"display: table-cell;\"></div><div style=\"display: table-cell;\">above&nbsp;=&nbsp;[],</div></div><div class=\"3850\" style=\"display: none;\"><div style=\"display: table-cell;\"></div><div style=\"display: table-cell;\">align&nbsp;=&nbsp;'start',</div></div><div class=\"3850\" style=\"display: none;\"><div style=\"display: table-cell;\"></div><div style=\"display: table-cell;\">aspect_ratio&nbsp;=&nbsp;None,</div></div><div class=\"3850\" style=\"display: none;\"><div style=\"display: table-cell;\"></div><div style=\"display: table-cell;\">aspect_scale&nbsp;=&nbsp;1,</div></div><div class=\"3850\" style=\"display: none;\"><div style=\"display: table-cell;\"></div><div style=\"display: table-cell;\">background&nbsp;=&nbsp;None,</div></div><div class=\"3850\" style=\"display: none;\"><div style=\"display: table-cell;\"></div><div style=\"display: table-cell;\">background_fill_alpha&nbsp;=&nbsp;1.0,</div></div><div class=\"3850\" style=\"display: none;\"><div style=\"display: table-cell;\"></div><div style=\"display: table-cell;\">background_fill_color&nbsp;=&nbsp;'#ffffff',</div></div><div class=\"3850\" style=\"display: none;\"><div style=\"display: table-cell;\"></div><div style=\"display: table-cell;\">below&nbsp;=&nbsp;[LinearAxis(id='3684', ...)],</div></div><div class=\"3850\" style=\"display: none;\"><div style=\"display: table-cell;\"></div><div style=\"display: table-cell;\">border_fill_alpha&nbsp;=&nbsp;1.0,</div></div><div class=\"3850\" style=\"display: none;\"><div style=\"display: table-cell;\"></div><div style=\"display: table-cell;\">border_fill_color&nbsp;=&nbsp;'#ffffff',</div></div><div class=\"3850\" style=\"display: none;\"><div style=\"display: table-cell;\"></div><div style=\"display: table-cell;\">center&nbsp;=&nbsp;[Grid(id='3687', ...), Grid(id='3691', ...), Legend(id='3724', ...)],</div></div><div class=\"3850\" style=\"display: none;\"><div style=\"display: table-cell;\"></div><div style=\"display: table-cell;\">css_classes&nbsp;=&nbsp;[],</div></div><div class=\"3850\" style=\"display: none;\"><div style=\"display: table-cell;\"></div><div style=\"display: table-cell;\">disabled&nbsp;=&nbsp;False,</div></div><div class=\"3850\" style=\"display: none;\"><div style=\"display: table-cell;\"></div><div style=\"display: table-cell;\">extra_x_ranges&nbsp;=&nbsp;{},</div></div><div class=\"3850\" style=\"display: none;\"><div style=\"display: table-cell;\"></div><div style=\"display: table-cell;\">extra_x_scales&nbsp;=&nbsp;{},</div></div><div class=\"3850\" style=\"display: none;\"><div style=\"display: table-cell;\"></div><div style=\"display: table-cell;\">extra_y_ranges&nbsp;=&nbsp;{},</div></div><div class=\"3850\" style=\"display: none;\"><div style=\"display: table-cell;\"></div><div style=\"display: table-cell;\">extra_y_scales&nbsp;=&nbsp;{},</div></div><div class=\"3850\" style=\"display: none;\"><div style=\"display: table-cell;\"></div><div style=\"display: table-cell;\">frame_height&nbsp;=&nbsp;None,</div></div><div class=\"3850\" style=\"display: none;\"><div style=\"display: table-cell;\"></div><div style=\"display: table-cell;\">frame_width&nbsp;=&nbsp;None,</div></div><div class=\"3850\" style=\"display: none;\"><div style=\"display: table-cell;\"></div><div style=\"display: table-cell;\">height&nbsp;=&nbsp;400,</div></div><div class=\"3850\" style=\"display: none;\"><div style=\"display: table-cell;\"></div><div style=\"display: table-cell;\">height_policy&nbsp;=&nbsp;'auto',</div></div><div class=\"3850\" style=\"display: none;\"><div style=\"display: table-cell;\"></div><div style=\"display: table-cell;\">hidpi&nbsp;=&nbsp;True,</div></div><div class=\"3850\" style=\"display: none;\"><div style=\"display: table-cell;\"></div><div style=\"display: table-cell;\">inner_height&nbsp;=&nbsp;0,</div></div><div class=\"3850\" style=\"display: none;\"><div style=\"display: table-cell;\"></div><div style=\"display: table-cell;\">inner_width&nbsp;=&nbsp;0,</div></div><div class=\"3850\" style=\"display: none;\"><div style=\"display: table-cell;\"></div><div style=\"display: table-cell;\">js_event_callbacks&nbsp;=&nbsp;{},</div></div><div class=\"3850\" style=\"display: none;\"><div style=\"display: table-cell;\"></div><div style=\"display: table-cell;\">js_property_callbacks&nbsp;=&nbsp;{},</div></div><div class=\"3850\" style=\"display: none;\"><div style=\"display: table-cell;\"></div><div style=\"display: table-cell;\">left&nbsp;=&nbsp;[LinearAxis(id='3688', ...)],</div></div><div class=\"3850\" style=\"display: none;\"><div style=\"display: table-cell;\"></div><div style=\"display: table-cell;\">lod_factor&nbsp;=&nbsp;10,</div></div><div class=\"3850\" style=\"display: none;\"><div style=\"display: table-cell;\"></div><div style=\"display: table-cell;\">lod_interval&nbsp;=&nbsp;300,</div></div><div class=\"3850\" style=\"display: none;\"><div style=\"display: table-cell;\"></div><div style=\"display: table-cell;\">lod_threshold&nbsp;=&nbsp;2000,</div></div><div class=\"3850\" style=\"display: none;\"><div style=\"display: table-cell;\"></div><div style=\"display: table-cell;\">lod_timeout&nbsp;=&nbsp;500,</div></div><div class=\"3850\" style=\"display: none;\"><div style=\"display: table-cell;\"></div><div style=\"display: table-cell;\">margin&nbsp;=&nbsp;(0, 0, 0, 0),</div></div><div class=\"3850\" style=\"display: none;\"><div style=\"display: table-cell;\"></div><div style=\"display: table-cell;\">match_aspect&nbsp;=&nbsp;False,</div></div><div class=\"3850\" style=\"display: none;\"><div style=\"display: table-cell;\"></div><div style=\"display: table-cell;\">max_height&nbsp;=&nbsp;None,</div></div><div class=\"3850\" style=\"display: none;\"><div style=\"display: table-cell;\"></div><div style=\"display: table-cell;\">max_width&nbsp;=&nbsp;None,</div></div><div class=\"3850\" style=\"display: none;\"><div style=\"display: table-cell;\"></div><div style=\"display: table-cell;\">min_border&nbsp;=&nbsp;5,</div></div><div class=\"3850\" style=\"display: none;\"><div style=\"display: table-cell;\"></div><div style=\"display: table-cell;\">min_border_bottom&nbsp;=&nbsp;None,</div></div><div class=\"3850\" style=\"display: none;\"><div style=\"display: table-cell;\"></div><div style=\"display: table-cell;\">min_border_left&nbsp;=&nbsp;None,</div></div><div class=\"3850\" style=\"display: none;\"><div style=\"display: table-cell;\"></div><div style=\"display: table-cell;\">min_border_right&nbsp;=&nbsp;None,</div></div><div class=\"3850\" style=\"display: none;\"><div style=\"display: table-cell;\"></div><div style=\"display: table-cell;\">min_border_top&nbsp;=&nbsp;None,</div></div><div class=\"3850\" style=\"display: none;\"><div style=\"display: table-cell;\"></div><div style=\"display: table-cell;\">min_height&nbsp;=&nbsp;None,</div></div><div class=\"3850\" style=\"display: none;\"><div style=\"display: table-cell;\"></div><div style=\"display: table-cell;\">min_width&nbsp;=&nbsp;None,</div></div><div class=\"3850\" style=\"display: none;\"><div style=\"display: table-cell;\"></div><div style=\"display: table-cell;\">name&nbsp;=&nbsp;None,</div></div><div class=\"3850\" style=\"display: none;\"><div style=\"display: table-cell;\"></div><div style=\"display: table-cell;\">outer_height&nbsp;=&nbsp;0,</div></div><div class=\"3850\" style=\"display: none;\"><div style=\"display: table-cell;\"></div><div style=\"display: table-cell;\">outer_width&nbsp;=&nbsp;0,</div></div><div class=\"3850\" style=\"display: none;\"><div style=\"display: table-cell;\"></div><div style=\"display: table-cell;\">outline_line_alpha&nbsp;=&nbsp;1.0,</div></div><div class=\"3850\" style=\"display: none;\"><div style=\"display: table-cell;\"></div><div style=\"display: table-cell;\">outline_line_cap&nbsp;=&nbsp;'butt',</div></div><div class=\"3850\" style=\"display: none;\"><div style=\"display: table-cell;\"></div><div style=\"display: table-cell;\">outline_line_color&nbsp;=&nbsp;'#e5e5e5',</div></div><div class=\"3850\" style=\"display: none;\"><div style=\"display: table-cell;\"></div><div style=\"display: table-cell;\">outline_line_dash&nbsp;=&nbsp;[],</div></div><div class=\"3850\" style=\"display: none;\"><div style=\"display: table-cell;\"></div><div style=\"display: table-cell;\">outline_line_dash_offset&nbsp;=&nbsp;0,</div></div><div class=\"3850\" style=\"display: none;\"><div style=\"display: table-cell;\"></div><div style=\"display: table-cell;\">outline_line_join&nbsp;=&nbsp;'bevel',</div></div><div class=\"3850\" style=\"display: none;\"><div style=\"display: table-cell;\"></div><div style=\"display: table-cell;\">outline_line_width&nbsp;=&nbsp;1,</div></div><div class=\"3850\" style=\"display: none;\"><div style=\"display: table-cell;\"></div><div style=\"display: table-cell;\">output_backend&nbsp;=&nbsp;'webgl',</div></div><div class=\"3850\" style=\"display: none;\"><div style=\"display: table-cell;\"></div><div style=\"display: table-cell;\">renderers&nbsp;=&nbsp;[GlyphRenderer(id='3713', ...)],</div></div><div class=\"3850\" style=\"display: none;\"><div style=\"display: table-cell;\"></div><div style=\"display: table-cell;\">reset_policy&nbsp;=&nbsp;'standard',</div></div><div class=\"3850\" style=\"display: none;\"><div style=\"display: table-cell;\"></div><div style=\"display: table-cell;\">right&nbsp;=&nbsp;[],</div></div><div class=\"3850\" style=\"display: none;\"><div style=\"display: table-cell;\"></div><div style=\"display: table-cell;\">sizing_mode&nbsp;=&nbsp;'fixed',</div></div><div class=\"3850\" style=\"display: none;\"><div style=\"display: table-cell;\"></div><div style=\"display: table-cell;\">subscribed_events&nbsp;=&nbsp;[],</div></div><div class=\"3850\" style=\"display: none;\"><div style=\"display: table-cell;\"></div><div style=\"display: table-cell;\">syncable&nbsp;=&nbsp;True,</div></div><div class=\"3850\" style=\"display: none;\"><div style=\"display: table-cell;\"></div><div style=\"display: table-cell;\">tags&nbsp;=&nbsp;[],</div></div><div class=\"3850\" style=\"display: none;\"><div style=\"display: table-cell;\"></div><div style=\"display: table-cell;\">title&nbsp;=&nbsp;Title(id='3674', ...),</div></div><div class=\"3850\" style=\"display: none;\"><div style=\"display: table-cell;\"></div><div style=\"display: table-cell;\">title_location&nbsp;=&nbsp;'above',</div></div><div class=\"3850\" style=\"display: none;\"><div style=\"display: table-cell;\"></div><div style=\"display: table-cell;\">toolbar&nbsp;=&nbsp;Toolbar(id='3699', ...),</div></div><div class=\"3850\" style=\"display: none;\"><div style=\"display: table-cell;\"></div><div style=\"display: table-cell;\">toolbar_location&nbsp;=&nbsp;'right',</div></div><div class=\"3850\" style=\"display: none;\"><div style=\"display: table-cell;\"></div><div style=\"display: table-cell;\">toolbar_sticky&nbsp;=&nbsp;True,</div></div><div class=\"3850\" style=\"display: none;\"><div style=\"display: table-cell;\"></div><div style=\"display: table-cell;\">visible&nbsp;=&nbsp;True,</div></div><div class=\"3850\" style=\"display: none;\"><div style=\"display: table-cell;\"></div><div style=\"display: table-cell;\">width&nbsp;=&nbsp;600,</div></div><div class=\"3850\" style=\"display: none;\"><div style=\"display: table-cell;\"></div><div style=\"display: table-cell;\">width_policy&nbsp;=&nbsp;'auto',</div></div><div class=\"3850\" style=\"display: none;\"><div style=\"display: table-cell;\"></div><div style=\"display: table-cell;\">x_range&nbsp;=&nbsp;DataRange1d(id='3676', ...),</div></div><div class=\"3850\" style=\"display: none;\"><div style=\"display: table-cell;\"></div><div style=\"display: table-cell;\">x_scale&nbsp;=&nbsp;LinearScale(id='3680', ...),</div></div><div class=\"3850\" style=\"display: none;\"><div style=\"display: table-cell;\"></div><div style=\"display: table-cell;\">y_range&nbsp;=&nbsp;DataRange1d(id='3678', ...),</div></div><div class=\"3850\" style=\"display: none;\"><div style=\"display: table-cell;\"></div><div style=\"display: table-cell;\">y_scale&nbsp;=&nbsp;LinearScale(id='3682', ...))</div></div></div>\n",
       "<script>\n",
       "(function() {\n",
       "  let expanded = false;\n",
       "  const ellipsis = document.getElementById(\"3851\");\n",
       "  ellipsis.addEventListener(\"click\", function() {\n",
       "    const rows = document.getElementsByClassName(\"3850\");\n",
       "    for (let i = 0; i < rows.length; i++) {\n",
       "      const el = rows[i];\n",
       "      el.style.display = expanded ? \"none\" : \"table-row\";\n",
       "    }\n",
       "    ellipsis.innerHTML = expanded ? \"&hellip;)\" : \"&lsaquo;&lsaquo;&lsaquo;\";\n",
       "    expanded = !expanded;\n",
       "  });\n",
       "})();\n",
       "</script>\n"
      ],
      "text/plain": [
       "Figure(id='3673', ...)"
      ]
     },
     "execution_count": 155,
     "metadata": {},
     "output_type": "execute_result"
    }
   ],
   "source": [
    "sorted_d = d.sort_values(by='DRG_qty')\n",
    "sorted_d.plot_bokeh.bar(show_figure=True, legend = 'top_left')"
   ]
  },
  {
   "cell_type": "markdown",
   "metadata": {},
   "source": [
    "To answer that question is necesary to clarify:\n",
    "\n",
    "1.1. By **Avg Total Payments [$]**\n",
    "\n",
    "💰 The three most expensive states✳️ are:\n",
    "1. **Alaska** with $11190.\n",
    "2. **Hawaii** with $10148.\n",
    "3. **California** with $9378.  \n",
    "\n",
    "✳️ **Washington, D.C.** is not an state, however is cosidered an special distric because is the capital city of the United States.\n",
    "\n",
    "💰 The three most cheapest states are:\n",
    "1. **Alabama** with $5876.\n",
    "2. **West Virginia** with $6102.\n",
    "3. **Arkansas** with $6151.  \n",
    "\n",
    "1.2. By **Discharges** (attended patient)\n",
    "\n",
    "🤕 The three most expensive states are:\n",
    "1. **Alaska** with $550.\n",
    "2. **Hawaii** with $503.\n",
    "3. **Wyoming** with $443.  \n",
    "\n",
    "\n",
    "🤕 The three most cheapest states are:\n",
    "1. **Delaware** with $215.\n",
    "2. **Kentucky** with $226.\n",
    "3. **Tennessee** with $227. \n",
    "\n",
    "\n",
    "2.3. By  **DRG** \n",
    "\n",
    "💉 The most expensive states by DRG are:\n",
    "* **Alaska**: 42 DRG\n",
    "* **Hawaii**: 21 DRG\n",
    "* **Utah**: 13 DRG\n",
    "* **Wyoming**: 8 DRG\n",
    "* **California**: 7 DRG\n",
    "\n",
    "💉 The most cheapest states by DRG are:\n",
    "\n"
   ]
  },
  {
   "cell_type": "code",
   "execution_count": null,
   "metadata": {},
   "outputs": [],
   "source": []
  },
  {
   "cell_type": "markdown",
   "metadata": {},
   "source": [
    "### 2. Cheapest Hospitals are in the same state?\n",
    "\n",
    " "
   ]
  },
  {
   "cell_type": "code",
   "execution_count": null,
   "metadata": {},
   "outputs": [],
   "source": []
  },
  {
   "cell_type": "code",
   "execution_count": 102,
   "metadata": {},
   "outputs": [
    {
     "data": {
      "text/html": [
       "<div>\n",
       "<style scoped>\n",
       "    .dataframe tbody tr th:only-of-type {\n",
       "        vertical-align: middle;\n",
       "    }\n",
       "\n",
       "    .dataframe tbody tr th {\n",
       "        vertical-align: top;\n",
       "    }\n",
       "\n",
       "    .dataframe thead th {\n",
       "        text-align: right;\n",
       "    }\n",
       "</style>\n",
       "<table border=\"1\" class=\"dataframe\">\n",
       "  <thead>\n",
       "    <tr style=\"text-align: right;\">\n",
       "      <th></th>\n",
       "      <th></th>\n",
       "      <th>Provider Id</th>\n",
       "      <th>Total Discharges</th>\n",
       "      <th>Avg Covered Charges [$]</th>\n",
       "      <th>Avg Total Payments [$]</th>\n",
       "      <th>Avg Medicare Payments [$]</th>\n",
       "      <th>Avg. Cost/attended patient [$]</th>\n",
       "    </tr>\n",
       "    <tr>\n",
       "      <th>Provider State</th>\n",
       "      <th>Provider Zip Code</th>\n",
       "      <th></th>\n",
       "      <th></th>\n",
       "      <th></th>\n",
       "      <th></th>\n",
       "      <th></th>\n",
       "      <th></th>\n",
       "    </tr>\n",
       "  </thead>\n",
       "  <tbody>\n",
       "    <tr>\n",
       "      <th rowspan=\"5\" valign=\"top\">AK</th>\n",
       "      <th>99508</th>\n",
       "      <td>1181300</td>\n",
       "      <td>1403</td>\n",
       "      <td>2285991.93</td>\n",
       "      <td>889383.89</td>\n",
       "      <td>767378.66</td>\n",
       "      <td>47241.020366</td>\n",
       "    </tr>\n",
       "    <tr>\n",
       "      <th>99519</th>\n",
       "      <td>1520076</td>\n",
       "      <td>2613</td>\n",
       "      <td>4031236.53</td>\n",
       "      <td>1132781.72</td>\n",
       "      <td>1015596.76</td>\n",
       "      <td>52750.061937</td>\n",
       "    </tr>\n",
       "    <tr>\n",
       "      <th>99559</th>\n",
       "      <td>120108</td>\n",
       "      <td>137</td>\n",
       "      <td>45876.14</td>\n",
       "      <td>59637.32</td>\n",
       "      <td>54540.84</td>\n",
       "      <td>3029.116208</td>\n",
       "    </tr>\n",
       "    <tr>\n",
       "      <th>99645</th>\n",
       "      <td>640192</td>\n",
       "      <td>793</td>\n",
       "      <td>1226802.20</td>\n",
       "      <td>371122.45</td>\n",
       "      <td>322782.67</td>\n",
       "      <td>18702.211819</td>\n",
       "    </tr>\n",
       "    <tr>\n",
       "      <th>99669</th>\n",
       "      <td>360432</td>\n",
       "      <td>344</td>\n",
       "      <td>482658.18</td>\n",
       "      <td>207639.95</td>\n",
       "      <td>182150.37</td>\n",
       "      <td>12073.501473</td>\n",
       "    </tr>\n",
       "    <tr>\n",
       "      <th>...</th>\n",
       "      <th>...</th>\n",
       "      <td>...</td>\n",
       "      <td>...</td>\n",
       "      <td>...</td>\n",
       "      <td>...</td>\n",
       "      <td>...</td>\n",
       "      <td>...</td>\n",
       "    </tr>\n",
       "    <tr>\n",
       "      <th rowspan=\"5\" valign=\"top\">WY</th>\n",
       "      <th>82716</th>\n",
       "      <td>8480032</td>\n",
       "      <td>311</td>\n",
       "      <td>291255.24</td>\n",
       "      <td>162774.63</td>\n",
       "      <td>147219.99</td>\n",
       "      <td>9433.991693</td>\n",
       "    </tr>\n",
       "    <tr>\n",
       "      <th>82801</th>\n",
       "      <td>7950090</td>\n",
       "      <td>375</td>\n",
       "      <td>283548.15</td>\n",
       "      <td>137845.21</td>\n",
       "      <td>124673.64</td>\n",
       "      <td>6692.835522</td>\n",
       "    </tr>\n",
       "    <tr>\n",
       "      <th>82901</th>\n",
       "      <td>4240088</td>\n",
       "      <td>127</td>\n",
       "      <td>142791.27</td>\n",
       "      <td>80474.15</td>\n",
       "      <td>71877.93</td>\n",
       "      <td>5799.567604</td>\n",
       "    </tr>\n",
       "    <tr>\n",
       "      <th>82930</th>\n",
       "      <td>2120128</td>\n",
       "      <td>69</td>\n",
       "      <td>95796.40</td>\n",
       "      <td>34527.16</td>\n",
       "      <td>29749.98</td>\n",
       "      <td>2008.243758</td>\n",
       "    </tr>\n",
       "    <tr>\n",
       "      <th>83001</th>\n",
       "      <td>1590045</td>\n",
       "      <td>72</td>\n",
       "      <td>125862.42</td>\n",
       "      <td>75987.43</td>\n",
       "      <td>73051.46</td>\n",
       "      <td>4919.342083</td>\n",
       "    </tr>\n",
       "  </tbody>\n",
       "</table>\n",
       "<p>3053 rows × 6 columns</p>\n",
       "</div>"
      ],
      "text/plain": [
       "                                  Provider Id  Total Discharges  \\\n",
       "Provider State Provider Zip Code                                  \n",
       "AK             99508                  1181300              1403   \n",
       "               99519                  1520076              2613   \n",
       "               99559                   120108               137   \n",
       "               99645                   640192               793   \n",
       "               99669                   360432               344   \n",
       "...                                       ...               ...   \n",
       "WY             82716                  8480032               311   \n",
       "               82801                  7950090               375   \n",
       "               82901                  4240088               127   \n",
       "               82930                  2120128                69   \n",
       "               83001                  1590045                72   \n",
       "\n",
       "                                  Avg Covered Charges [$]  \\\n",
       "Provider State Provider Zip Code                            \n",
       "AK             99508                           2285991.93   \n",
       "               99519                           4031236.53   \n",
       "               99559                             45876.14   \n",
       "               99645                           1226802.20   \n",
       "               99669                            482658.18   \n",
       "...                                                   ...   \n",
       "WY             82716                            291255.24   \n",
       "               82801                            283548.15   \n",
       "               82901                            142791.27   \n",
       "               82930                             95796.40   \n",
       "               83001                            125862.42   \n",
       "\n",
       "                                  Avg Total Payments [$]  \\\n",
       "Provider State Provider Zip Code                           \n",
       "AK             99508                           889383.89   \n",
       "               99519                          1132781.72   \n",
       "               99559                            59637.32   \n",
       "               99645                           371122.45   \n",
       "               99669                           207639.95   \n",
       "...                                                  ...   \n",
       "WY             82716                           162774.63   \n",
       "               82801                           137845.21   \n",
       "               82901                            80474.15   \n",
       "               82930                            34527.16   \n",
       "               83001                            75987.43   \n",
       "\n",
       "                                  Avg Medicare Payments [$]  \\\n",
       "Provider State Provider Zip Code                              \n",
       "AK             99508                              767378.66   \n",
       "               99519                             1015596.76   \n",
       "               99559                               54540.84   \n",
       "               99645                              322782.67   \n",
       "               99669                              182150.37   \n",
       "...                                                     ...   \n",
       "WY             82716                              147219.99   \n",
       "               82801                              124673.64   \n",
       "               82901                               71877.93   \n",
       "               82930                               29749.98   \n",
       "               83001                               73051.46   \n",
       "\n",
       "                                  Avg. Cost/attended patient [$]  \n",
       "Provider State Provider Zip Code                                  \n",
       "AK             99508                                47241.020366  \n",
       "               99519                                52750.061937  \n",
       "               99559                                 3029.116208  \n",
       "               99645                                18702.211819  \n",
       "               99669                                12073.501473  \n",
       "...                                                          ...  \n",
       "WY             82716                                 9433.991693  \n",
       "               82801                                 6692.835522  \n",
       "               82901                                 5799.567604  \n",
       "               82930                                 2008.243758  \n",
       "               83001                                 4919.342083  \n",
       "\n",
       "[3053 rows x 6 columns]"
      ]
     },
     "execution_count": 102,
     "metadata": {},
     "output_type": "execute_result"
    }
   ],
   "source": [
    "df2 = df.groupby(['Provider State', 'Provider Zip Code']).sum()\n",
    "df2"
   ]
  },
  {
   "cell_type": "code",
   "execution_count": 103,
   "metadata": {},
   "outputs": [
    {
     "data": {
      "text/html": [
       "<div>\n",
       "<style scoped>\n",
       "    .dataframe tbody tr th:only-of-type {\n",
       "        vertical-align: middle;\n",
       "    }\n",
       "\n",
       "    .dataframe tbody tr th {\n",
       "        vertical-align: top;\n",
       "    }\n",
       "\n",
       "    .dataframe thead th {\n",
       "        text-align: right;\n",
       "    }\n",
       "</style>\n",
       "<table border=\"1\" class=\"dataframe\">\n",
       "  <thead>\n",
       "    <tr style=\"text-align: right;\">\n",
       "      <th></th>\n",
       "      <th>Avg Covered Charges [$]</th>\n",
       "      <th>Avg Total Payments [$]</th>\n",
       "      <th>Avg Medicare Payments [$]</th>\n",
       "    </tr>\n",
       "  </thead>\n",
       "  <tbody>\n",
       "    <tr>\n",
       "      <th>Avg Covered Charges [$]</th>\n",
       "      <td>1.000000</td>\n",
       "      <td>0.774112</td>\n",
       "      <td>0.768927</td>\n",
       "    </tr>\n",
       "    <tr>\n",
       "      <th>Avg Total Payments [$]</th>\n",
       "      <td>0.774112</td>\n",
       "      <td>1.000000</td>\n",
       "      <td>0.989362</td>\n",
       "    </tr>\n",
       "    <tr>\n",
       "      <th>Avg Medicare Payments [$]</th>\n",
       "      <td>0.768927</td>\n",
       "      <td>0.989362</td>\n",
       "      <td>1.000000</td>\n",
       "    </tr>\n",
       "  </tbody>\n",
       "</table>\n",
       "</div>"
      ],
      "text/plain": [
       "                           Avg Covered Charges [$]  Avg Total Payments [$]  \\\n",
       "Avg Covered Charges [$]                   1.000000                0.774112   \n",
       "Avg Total Payments [$]                    0.774112                1.000000   \n",
       "Avg Medicare Payments [$]                 0.768927                0.989362   \n",
       "\n",
       "                           Avg Medicare Payments [$]  \n",
       "Avg Covered Charges [$]                     0.768927  \n",
       "Avg Total Payments [$]                      0.989362  \n",
       "Avg Medicare Payments [$]                   1.000000  "
      ]
     },
     "execution_count": 103,
     "metadata": {},
     "output_type": "execute_result"
    }
   ],
   "source": [
    "# To answer if exist some correlation between Average Covered Charges, Average Total Payments and Average Medicare Payments\n",
    "df[['Avg Covered Charges [$]', 'Avg Total Payments [$]', 'Avg Medicare Payments [$]']].corr(method ='pearson')"
   ]
  }
 ],
 "metadata": {
  "interpreter": {
   "hash": "916dbcbb3f70747c44a77c7bcd40155683ae19c65e1c03b4aa3499c5328201f1"
  },
  "kernelspec": {
   "display_name": "Python 3.8.10 64-bit",
   "language": "python",
   "name": "python3"
  },
  "language_info": {
   "codemirror_mode": {
    "name": "ipython",
    "version": 3
   },
   "file_extension": ".py",
   "mimetype": "text/x-python",
   "name": "python",
   "nbconvert_exporter": "python",
   "pygments_lexer": "ipython3",
   "version": "3.8.10"
  },
  "orig_nbformat": 4
 },
 "nbformat": 4,
 "nbformat_minor": 2
}
