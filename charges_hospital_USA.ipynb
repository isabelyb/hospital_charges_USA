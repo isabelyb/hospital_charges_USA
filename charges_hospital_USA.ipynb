{
 "cells": [
  {
   "cell_type": "code",
   "execution_count": 1,
   "metadata": {},
   "outputs": [],
   "source": [
    "import pandas as pd\n",
    "import pandas_bokeh\n",
    "import bokeh"
   ]
  },
  {
   "cell_type": "code",
   "execution_count": 2,
   "metadata": {},
   "outputs": [
    {
     "data": {
      "text/html": [
       "\n",
       "    <div class=\"bk-root\">\n",
       "        <a href=\"https://bokeh.org\" target=\"_blank\" class=\"bk-logo bk-logo-small bk-logo-notebook\"></a>\n",
       "        <span id=\"1002\">Loading BokehJS ...</span>\n",
       "    </div>"
      ]
     },
     "metadata": {},
     "output_type": "display_data"
    },
    {
     "data": {
      "application/javascript": "\n(function(root) {\n  function now() {\n    return new Date();\n  }\n\n  const force = true;\n\n  if (typeof root._bokeh_onload_callbacks === \"undefined\" || force === true) {\n    root._bokeh_onload_callbacks = [];\n    root._bokeh_is_loading = undefined;\n  }\n\n  const JS_MIME_TYPE = 'application/javascript';\n  const HTML_MIME_TYPE = 'text/html';\n  const EXEC_MIME_TYPE = 'application/vnd.bokehjs_exec.v0+json';\n  const CLASS_NAME = 'output_bokeh rendered_html';\n\n  /**\n   * Render data to the DOM node\n   */\n  function render(props, node) {\n    const script = document.createElement(\"script\");\n    node.appendChild(script);\n  }\n\n  /**\n   * Handle when an output is cleared or removed\n   */\n  function handleClearOutput(event, handle) {\n    const cell = handle.cell;\n\n    const id = cell.output_area._bokeh_element_id;\n    const server_id = cell.output_area._bokeh_server_id;\n    // Clean up Bokeh references\n    if (id != null && id in Bokeh.index) {\n      Bokeh.index[id].model.document.clear();\n      delete Bokeh.index[id];\n    }\n\n    if (server_id !== undefined) {\n      // Clean up Bokeh references\n      const cmd_clean = \"from bokeh.io.state import curstate; print(curstate().uuid_to_server['\" + server_id + \"'].get_sessions()[0].document.roots[0]._id)\";\n      cell.notebook.kernel.execute(cmd_clean, {\n        iopub: {\n          output: function(msg) {\n            const id = msg.content.text.trim();\n            if (id in Bokeh.index) {\n              Bokeh.index[id].model.document.clear();\n              delete Bokeh.index[id];\n            }\n          }\n        }\n      });\n      // Destroy server and session\n      const cmd_destroy = \"import bokeh.io.notebook as ion; ion.destroy_server('\" + server_id + \"')\";\n      cell.notebook.kernel.execute(cmd_destroy);\n    }\n  }\n\n  /**\n   * Handle when a new output is added\n   */\n  function handleAddOutput(event, handle) {\n    const output_area = handle.output_area;\n    const output = handle.output;\n\n    // limit handleAddOutput to display_data with EXEC_MIME_TYPE content only\n    if ((output.output_type != \"display_data\") || (!Object.prototype.hasOwnProperty.call(output.data, EXEC_MIME_TYPE))) {\n      return\n    }\n\n    const toinsert = output_area.element.find(\".\" + CLASS_NAME.split(' ')[0]);\n\n    if (output.metadata[EXEC_MIME_TYPE][\"id\"] !== undefined) {\n      toinsert[toinsert.length - 1].firstChild.textContent = output.data[JS_MIME_TYPE];\n      // store reference to embed id on output_area\n      output_area._bokeh_element_id = output.metadata[EXEC_MIME_TYPE][\"id\"];\n    }\n    if (output.metadata[EXEC_MIME_TYPE][\"server_id\"] !== undefined) {\n      const bk_div = document.createElement(\"div\");\n      bk_div.innerHTML = output.data[HTML_MIME_TYPE];\n      const script_attrs = bk_div.children[0].attributes;\n      for (let i = 0; i < script_attrs.length; i++) {\n        toinsert[toinsert.length - 1].firstChild.setAttribute(script_attrs[i].name, script_attrs[i].value);\n        toinsert[toinsert.length - 1].firstChild.textContent = bk_div.children[0].textContent\n      }\n      // store reference to server id on output_area\n      output_area._bokeh_server_id = output.metadata[EXEC_MIME_TYPE][\"server_id\"];\n    }\n  }\n\n  function register_renderer(events, OutputArea) {\n\n    function append_mime(data, metadata, element) {\n      // create a DOM node to render to\n      const toinsert = this.create_output_subarea(\n        metadata,\n        CLASS_NAME,\n        EXEC_MIME_TYPE\n      );\n      this.keyboard_manager.register_events(toinsert);\n      // Render to node\n      const props = {data: data, metadata: metadata[EXEC_MIME_TYPE]};\n      render(props, toinsert[toinsert.length - 1]);\n      element.append(toinsert);\n      return toinsert\n    }\n\n    /* Handle when an output is cleared or removed */\n    events.on('clear_output.CodeCell', handleClearOutput);\n    events.on('delete.Cell', handleClearOutput);\n\n    /* Handle when a new output is added */\n    events.on('output_added.OutputArea', handleAddOutput);\n\n    /**\n     * Register the mime type and append_mime function with output_area\n     */\n    OutputArea.prototype.register_mime_type(EXEC_MIME_TYPE, append_mime, {\n      /* Is output safe? */\n      safe: true,\n      /* Index of renderer in `output_area.display_order` */\n      index: 0\n    });\n  }\n\n  // register the mime type if in Jupyter Notebook environment and previously unregistered\n  if (root.Jupyter !== undefined) {\n    const events = require('base/js/events');\n    const OutputArea = require('notebook/js/outputarea').OutputArea;\n\n    if (OutputArea.prototype.mime_types().indexOf(EXEC_MIME_TYPE) == -1) {\n      register_renderer(events, OutputArea);\n    }\n  }\n\n  \n  if (typeof (root._bokeh_timeout) === \"undefined\" || force === true) {\n    root._bokeh_timeout = Date.now() + 5000;\n    root._bokeh_failed_load = false;\n  }\n\n  const NB_LOAD_WARNING = {'data': {'text/html':\n     \"<div style='background-color: #fdd'>\\n\"+\n     \"<p>\\n\"+\n     \"BokehJS does not appear to have successfully loaded. If loading BokehJS from CDN, this \\n\"+\n     \"may be due to a slow or bad network connection. Possible fixes:\\n\"+\n     \"</p>\\n\"+\n     \"<ul>\\n\"+\n     \"<li>re-rerun `output_notebook()` to attempt to load from CDN again, or</li>\\n\"+\n     \"<li>use INLINE resources instead, as so:</li>\\n\"+\n     \"</ul>\\n\"+\n     \"<code>\\n\"+\n     \"from bokeh.resources import INLINE\\n\"+\n     \"output_notebook(resources=INLINE)\\n\"+\n     \"</code>\\n\"+\n     \"</div>\"}};\n\n  function display_loaded() {\n    const el = document.getElementById(\"1002\");\n    if (el != null) {\n      el.textContent = \"BokehJS is loading...\";\n    }\n    if (root.Bokeh !== undefined) {\n      if (el != null) {\n        el.textContent = \"BokehJS \" + root.Bokeh.version + \" successfully loaded.\";\n      }\n    } else if (Date.now() < root._bokeh_timeout) {\n      setTimeout(display_loaded, 100)\n    }\n  }\n\n\n  function run_callbacks() {\n    try {\n      root._bokeh_onload_callbacks.forEach(function(callback) {\n        if (callback != null)\n          callback();\n      });\n    } finally {\n      delete root._bokeh_onload_callbacks\n    }\n    console.debug(\"Bokeh: all callbacks have finished\");\n  }\n\n  function load_libs(css_urls, js_urls, callback) {\n    if (css_urls == null) css_urls = [];\n    if (js_urls == null) js_urls = [];\n\n    root._bokeh_onload_callbacks.push(callback);\n    if (root._bokeh_is_loading > 0) {\n      console.debug(\"Bokeh: BokehJS is being loaded, scheduling callback at\", now());\n      return null;\n    }\n    if (js_urls == null || js_urls.length === 0) {\n      run_callbacks();\n      return null;\n    }\n    console.debug(\"Bokeh: BokehJS not loaded, scheduling load and callback at\", now());\n    root._bokeh_is_loading = css_urls.length + js_urls.length;\n\n    function on_load() {\n      root._bokeh_is_loading--;\n      if (root._bokeh_is_loading === 0) {\n        console.debug(\"Bokeh: all BokehJS libraries/stylesheets loaded\");\n        run_callbacks()\n      }\n    }\n\n    function on_error(url) {\n      console.error(\"failed to load \" + url);\n    }\n\n    for (let i = 0; i < css_urls.length; i++) {\n      const url = css_urls[i];\n      const element = document.createElement(\"link\");\n      element.onload = on_load;\n      element.onerror = on_error.bind(null, url);\n      element.rel = \"stylesheet\";\n      element.type = \"text/css\";\n      element.href = url;\n      console.debug(\"Bokeh: injecting link tag for BokehJS stylesheet: \", url);\n      document.body.appendChild(element);\n    }\n\n    for (let i = 0; i < js_urls.length; i++) {\n      const url = js_urls[i];\n      const element = document.createElement('script');\n      element.onload = on_load;\n      element.onerror = on_error.bind(null, url);\n      element.async = false;\n      element.src = url;\n      console.debug(\"Bokeh: injecting script tag for BokehJS library: \", url);\n      document.head.appendChild(element);\n    }\n  };\n\n  function inject_raw_css(css) {\n    const element = document.createElement(\"style\");\n    element.appendChild(document.createTextNode(css));\n    document.body.appendChild(element);\n  }\n\n  \n  const js_urls = [\"https://cdn.bokeh.org/bokeh/release/bokeh-2.4.1.min.js\", \"https://cdn.bokeh.org/bokeh/release/bokeh-gl-2.4.1.min.js\", \"https://cdn.bokeh.org/bokeh/release/bokeh-widgets-2.4.1.min.js\", \"https://cdn.bokeh.org/bokeh/release/bokeh-tables-2.4.1.min.js\", \"https://cdn.bokeh.org/bokeh/release/bokeh-mathjax-2.4.1.min.js\"];\n  const css_urls = [];\n  \n\n  const inline_js = [\n    function(Bokeh) {\n      Bokeh.set_log_level(\"info\");\n    },\n    function(Bokeh) {\n    \n    \n    }\n  ];\n\n  function run_inline_js() {\n    \n    if (root.Bokeh !== undefined || force === true) {\n      \n    for (let i = 0; i < inline_js.length; i++) {\n      inline_js[i].call(root, root.Bokeh);\n    }\n    if (force === true) {\n        display_loaded();\n      }} else if (Date.now() < root._bokeh_timeout) {\n      setTimeout(run_inline_js, 100);\n    } else if (!root._bokeh_failed_load) {\n      console.log(\"Bokeh: BokehJS failed to load within specified timeout.\");\n      root._bokeh_failed_load = true;\n    } else if (force !== true) {\n      const cell = $(document.getElementById(\"1002\")).parents('.cell').data().cell;\n      cell.output_area.append_execute_result(NB_LOAD_WARNING)\n    }\n\n  }\n\n  if (root._bokeh_is_loading === 0) {\n    console.debug(\"Bokeh: BokehJS loaded, going straight to plotting\");\n    run_inline_js();\n  } else {\n    load_libs(css_urls, js_urls, function() {\n      console.debug(\"Bokeh: BokehJS plotting callback run at\", now());\n      run_inline_js();\n    });\n  }\n}(window));",
      "application/vnd.bokehjs_load.v0+json": ""
     },
     "metadata": {},
     "output_type": "display_data"
    }
   ],
   "source": [
    "# Embedding plots in Jupyter Notebook\n",
    "pandas_bokeh.output_notebook()"
   ]
  },
  {
   "cell_type": "markdown",
   "metadata": {},
   "source": [
    "# Data overview"
   ]
  },
  {
   "cell_type": "code",
   "execution_count": 3,
   "metadata": {},
   "outputs": [
    {
     "data": {
      "text/html": [
       "<div>\n",
       "<style scoped>\n",
       "    .dataframe tbody tr th:only-of-type {\n",
       "        vertical-align: middle;\n",
       "    }\n",
       "\n",
       "    .dataframe tbody tr th {\n",
       "        vertical-align: top;\n",
       "    }\n",
       "\n",
       "    .dataframe thead th {\n",
       "        text-align: right;\n",
       "    }\n",
       "</style>\n",
       "<table border=\"1\" class=\"dataframe\">\n",
       "  <thead>\n",
       "    <tr style=\"text-align: right;\">\n",
       "      <th></th>\n",
       "      <th>DRG Definition</th>\n",
       "      <th>Provider Id</th>\n",
       "      <th>Provider Name</th>\n",
       "      <th>Provider Street Address</th>\n",
       "      <th>Provider City</th>\n",
       "      <th>Provider State</th>\n",
       "      <th>Provider Zip Code</th>\n",
       "      <th>Hospital Referral Region Description</th>\n",
       "      <th>Total Discharges</th>\n",
       "      <th>Average Covered Charges</th>\n",
       "      <th>Average Total Payments</th>\n",
       "      <th>Average Medicare Payments</th>\n",
       "    </tr>\n",
       "  </thead>\n",
       "  <tbody>\n",
       "    <tr>\n",
       "      <th>0</th>\n",
       "      <td>039 - EXTRACRANIAL PROCEDURES W/O CC/MCC</td>\n",
       "      <td>10001</td>\n",
       "      <td>SOUTHEAST ALABAMA MEDICAL CENTER</td>\n",
       "      <td>1108 ROSS CLARK CIRCLE</td>\n",
       "      <td>DOTHAN</td>\n",
       "      <td>AL</td>\n",
       "      <td>36301</td>\n",
       "      <td>AL - Dothan</td>\n",
       "      <td>91</td>\n",
       "      <td>$32963.07</td>\n",
       "      <td>$5777.24</td>\n",
       "      <td>$4763.73</td>\n",
       "    </tr>\n",
       "    <tr>\n",
       "      <th>1</th>\n",
       "      <td>039 - EXTRACRANIAL PROCEDURES W/O CC/MCC</td>\n",
       "      <td>10005</td>\n",
       "      <td>MARSHALL MEDICAL CENTER SOUTH</td>\n",
       "      <td>2505 U S HIGHWAY 431 NORTH</td>\n",
       "      <td>BOAZ</td>\n",
       "      <td>AL</td>\n",
       "      <td>35957</td>\n",
       "      <td>AL - Birmingham</td>\n",
       "      <td>14</td>\n",
       "      <td>$15131.85</td>\n",
       "      <td>$5787.57</td>\n",
       "      <td>$4976.71</td>\n",
       "    </tr>\n",
       "    <tr>\n",
       "      <th>2</th>\n",
       "      <td>039 - EXTRACRANIAL PROCEDURES W/O CC/MCC</td>\n",
       "      <td>10006</td>\n",
       "      <td>ELIZA COFFEE MEMORIAL HOSPITAL</td>\n",
       "      <td>205 MARENGO STREET</td>\n",
       "      <td>FLORENCE</td>\n",
       "      <td>AL</td>\n",
       "      <td>35631</td>\n",
       "      <td>AL - Birmingham</td>\n",
       "      <td>24</td>\n",
       "      <td>$37560.37</td>\n",
       "      <td>$5434.95</td>\n",
       "      <td>$4453.79</td>\n",
       "    </tr>\n",
       "    <tr>\n",
       "      <th>3</th>\n",
       "      <td>039 - EXTRACRANIAL PROCEDURES W/O CC/MCC</td>\n",
       "      <td>10011</td>\n",
       "      <td>ST VINCENT'S EAST</td>\n",
       "      <td>50 MEDICAL PARK EAST DRIVE</td>\n",
       "      <td>BIRMINGHAM</td>\n",
       "      <td>AL</td>\n",
       "      <td>35235</td>\n",
       "      <td>AL - Birmingham</td>\n",
       "      <td>25</td>\n",
       "      <td>$13998.28</td>\n",
       "      <td>$5417.56</td>\n",
       "      <td>$4129.16</td>\n",
       "    </tr>\n",
       "    <tr>\n",
       "      <th>4</th>\n",
       "      <td>039 - EXTRACRANIAL PROCEDURES W/O CC/MCC</td>\n",
       "      <td>10016</td>\n",
       "      <td>SHELBY BAPTIST MEDICAL CENTER</td>\n",
       "      <td>1000 FIRST STREET NORTH</td>\n",
       "      <td>ALABASTER</td>\n",
       "      <td>AL</td>\n",
       "      <td>35007</td>\n",
       "      <td>AL - Birmingham</td>\n",
       "      <td>18</td>\n",
       "      <td>$31633.27</td>\n",
       "      <td>$5658.33</td>\n",
       "      <td>$4851.44</td>\n",
       "    </tr>\n",
       "  </tbody>\n",
       "</table>\n",
       "</div>"
      ],
      "text/plain": [
       "                             DRG Definition  Provider Id  \\\n",
       "0  039 - EXTRACRANIAL PROCEDURES W/O CC/MCC        10001   \n",
       "1  039 - EXTRACRANIAL PROCEDURES W/O CC/MCC        10005   \n",
       "2  039 - EXTRACRANIAL PROCEDURES W/O CC/MCC        10006   \n",
       "3  039 - EXTRACRANIAL PROCEDURES W/O CC/MCC        10011   \n",
       "4  039 - EXTRACRANIAL PROCEDURES W/O CC/MCC        10016   \n",
       "\n",
       "                      Provider Name     Provider Street Address Provider City  \\\n",
       "0  SOUTHEAST ALABAMA MEDICAL CENTER      1108 ROSS CLARK CIRCLE        DOTHAN   \n",
       "1     MARSHALL MEDICAL CENTER SOUTH  2505 U S HIGHWAY 431 NORTH          BOAZ   \n",
       "2    ELIZA COFFEE MEMORIAL HOSPITAL          205 MARENGO STREET      FLORENCE   \n",
       "3                 ST VINCENT'S EAST  50 MEDICAL PARK EAST DRIVE    BIRMINGHAM   \n",
       "4     SHELBY BAPTIST MEDICAL CENTER     1000 FIRST STREET NORTH     ALABASTER   \n",
       "\n",
       "  Provider State  Provider Zip Code Hospital Referral Region Description  \\\n",
       "0             AL              36301                          AL - Dothan   \n",
       "1             AL              35957                      AL - Birmingham   \n",
       "2             AL              35631                      AL - Birmingham   \n",
       "3             AL              35235                      AL - Birmingham   \n",
       "4             AL              35007                      AL - Birmingham   \n",
       "\n",
       "    Total Discharges   Average Covered Charges   Average Total Payments   \\\n",
       "0                  91                 $32963.07                 $5777.24   \n",
       "1                  14                 $15131.85                 $5787.57   \n",
       "2                  24                 $37560.37                 $5434.95   \n",
       "3                  25                 $13998.28                 $5417.56   \n",
       "4                  18                 $31633.27                 $5658.33   \n",
       "\n",
       "  Average Medicare Payments  \n",
       "0                  $4763.73  \n",
       "1                  $4976.71  \n",
       "2                  $4453.79  \n",
       "3                  $4129.16  \n",
       "4                  $4851.44  "
      ]
     },
     "execution_count": 3,
     "metadata": {},
     "output_type": "execute_result"
    }
   ],
   "source": [
    "df = pd.read_csv('hospital-charges.csv')\n",
    "df.head()"
   ]
  },
  {
   "cell_type": "code",
   "execution_count": 4,
   "metadata": {},
   "outputs": [
    {
     "name": "stdout",
     "output_type": "stream",
     "text": [
      "<class 'pandas.core.frame.DataFrame'>\n",
      "RangeIndex: 163065 entries, 0 to 163064\n",
      "Data columns (total 12 columns):\n",
      " #   Column                                Non-Null Count   Dtype \n",
      "---  ------                                --------------   ----- \n",
      " 0   DRG Definition                        163065 non-null  object\n",
      " 1   Provider Id                           163065 non-null  int64 \n",
      " 2   Provider Name                         163065 non-null  object\n",
      " 3   Provider Street Address               163065 non-null  object\n",
      " 4   Provider City                         163065 non-null  object\n",
      " 5   Provider State                        163065 non-null  object\n",
      " 6   Provider Zip Code                     163065 non-null  int64 \n",
      " 7   Hospital Referral Region Description  163065 non-null  object\n",
      " 8    Total Discharges                     163065 non-null  int64 \n",
      " 9    Average Covered Charges              163065 non-null  object\n",
      " 10   Average Total Payments               163065 non-null  object\n",
      " 11  Average Medicare Payments             163065 non-null  object\n",
      "dtypes: int64(3), object(9)\n",
      "memory usage: 14.9+ MB\n"
     ]
    }
   ],
   "source": [
    "df.info()"
   ]
  },
  {
   "cell_type": "markdown",
   "metadata": {},
   "source": [
    "# Format names and data"
   ]
  },
  {
   "cell_type": "code",
   "execution_count": 5,
   "metadata": {},
   "outputs": [],
   "source": [
    "# To remove spaces and rename columns\n",
    "df.columns = df.columns.str.strip()\n",
    "df.rename(columns={'Average Covered Charges': 'Avg Covered Charges [$]',\n",
    "                    'Average Total Payments' : 'Avg Total Payments [$]', \n",
    "                    'Average Medicare Payments': 'Avg Medicare Payments [$]'\n",
    "                    }, inplace=True)"
   ]
  },
  {
   "cell_type": "code",
   "execution_count": 6,
   "metadata": {},
   "outputs": [],
   "source": [
    "# To remove $  symbol and convert into float\n",
    "df[['Avg Covered Charges [$]', 'Avg Total Payments [$]', 'Avg Medicare Payments [$]']] =  df[['Avg Covered Charges [$]', \n",
    "                'Avg Total Payments [$]', 'Avg Medicare Payments [$]']].replace('\\$','',regex=True).astype(float)"
   ]
  },
  {
   "cell_type": "code",
   "execution_count": 7,
   "metadata": {},
   "outputs": [],
   "source": [
    "# To add 'Avg. Cost/attended patient [$]'\n",
    "df['Avg. Cost/attended patient [$]'] = df['Avg Total Payments [$]']/df['Total Discharges']"
   ]
  },
  {
   "cell_type": "code",
   "execution_count": 8,
   "metadata": {},
   "outputs": [
    {
     "data": {
      "text/html": [
       "<div>\n",
       "<style scoped>\n",
       "    .dataframe tbody tr th:only-of-type {\n",
       "        vertical-align: middle;\n",
       "    }\n",
       "\n",
       "    .dataframe tbody tr th {\n",
       "        vertical-align: top;\n",
       "    }\n",
       "\n",
       "    .dataframe thead th {\n",
       "        text-align: right;\n",
       "    }\n",
       "</style>\n",
       "<table border=\"1\" class=\"dataframe\">\n",
       "  <thead>\n",
       "    <tr style=\"text-align: right;\">\n",
       "      <th></th>\n",
       "      <th>DRG Definition</th>\n",
       "      <th>Provider Id</th>\n",
       "      <th>Provider Name</th>\n",
       "      <th>Provider Street Address</th>\n",
       "      <th>Provider City</th>\n",
       "      <th>Provider State</th>\n",
       "      <th>Provider Zip Code</th>\n",
       "      <th>Hospital Referral Region Description</th>\n",
       "      <th>Total Discharges</th>\n",
       "      <th>Avg Covered Charges [$]</th>\n",
       "      <th>Avg Total Payments [$]</th>\n",
       "      <th>Avg Medicare Payments [$]</th>\n",
       "      <th>Avg. Cost/attended patient [$]</th>\n",
       "    </tr>\n",
       "  </thead>\n",
       "  <tbody>\n",
       "    <tr>\n",
       "      <th>99781</th>\n",
       "      <td>390 - G.I. OBSTRUCTION W/O CC/MCC</td>\n",
       "      <td>370008</td>\n",
       "      <td>NORMAN REGIONAL HEALTH SYSTEM</td>\n",
       "      <td>901 NORTH PORTER</td>\n",
       "      <td>NORMAN</td>\n",
       "      <td>OK</td>\n",
       "      <td>73070</td>\n",
       "      <td>OK - Oklahoma City</td>\n",
       "      <td>42</td>\n",
       "      <td>18280.64</td>\n",
       "      <td>3550.47</td>\n",
       "      <td>2794.59</td>\n",
       "      <td>84.535000</td>\n",
       "    </tr>\n",
       "    <tr>\n",
       "      <th>36039</th>\n",
       "      <td>195 - SIMPLE PNEUMONIA &amp; PLEURISY W/O CC/MCC</td>\n",
       "      <td>310108</td>\n",
       "      <td>JFK MEDICAL CTR - ANTHONY M. YELENCSICS COMMUNITY</td>\n",
       "      <td>65 JAMES STREET</td>\n",
       "      <td>EDISON</td>\n",
       "      <td>NJ</td>\n",
       "      <td>8818</td>\n",
       "      <td>NJ - New Brunswick</td>\n",
       "      <td>76</td>\n",
       "      <td>37380.61</td>\n",
       "      <td>5235.57</td>\n",
       "      <td>4311.89</td>\n",
       "      <td>68.889079</td>\n",
       "    </tr>\n",
       "  </tbody>\n",
       "</table>\n",
       "</div>"
      ],
      "text/plain": [
       "                                     DRG Definition  Provider Id  \\\n",
       "99781             390 - G.I. OBSTRUCTION W/O CC/MCC       370008   \n",
       "36039  195 - SIMPLE PNEUMONIA & PLEURISY W/O CC/MCC       310108   \n",
       "\n",
       "                                           Provider Name  \\\n",
       "99781                      NORMAN REGIONAL HEALTH SYSTEM   \n",
       "36039  JFK MEDICAL CTR - ANTHONY M. YELENCSICS COMMUNITY   \n",
       "\n",
       "      Provider Street Address Provider City Provider State  Provider Zip Code  \\\n",
       "99781        901 NORTH PORTER        NORMAN             OK              73070   \n",
       "36039         65 JAMES STREET        EDISON             NJ               8818   \n",
       "\n",
       "      Hospital Referral Region Description  Total Discharges  \\\n",
       "99781                   OK - Oklahoma City                42   \n",
       "36039                   NJ - New Brunswick                76   \n",
       "\n",
       "       Avg Covered Charges [$]  Avg Total Payments [$]  \\\n",
       "99781                 18280.64                 3550.47   \n",
       "36039                 37380.61                 5235.57   \n",
       "\n",
       "       Avg Medicare Payments [$]  Avg. Cost/attended patient [$]  \n",
       "99781                    2794.59                       84.535000  \n",
       "36039                    4311.89                       68.889079  "
      ]
     },
     "execution_count": 8,
     "metadata": {},
     "output_type": "execute_result"
    }
   ],
   "source": [
    "df.sample(2)"
   ]
  },
  {
   "cell_type": "markdown",
   "metadata": {},
   "source": [
    "# Answer questions"
   ]
  },
  {
   "cell_type": "markdown",
   "metadata": {},
   "source": [
    "### 1. Which are the most expensive states and the cheapest ones?\n",
    "The best variable to compare is **Average Total Payments** instead of **Average Covered Charges** because the last one is only the ticket price, not the real amount paid.\n",
    "\n",
    "But..."
   ]
  },
  {
   "cell_type": "code",
   "execution_count": 9,
   "metadata": {},
   "outputs": [],
   "source": [
    "df.drop(df[['Provider Id', 'Provider Zip Code', 'Avg Covered Charges [$]']], axis=1, inplace=True)"
   ]
  },
  {
   "cell_type": "code",
   "execution_count": 10,
   "metadata": {},
   "outputs": [
    {
     "data": {
      "text/html": [
       "\n",
       "\n",
       "\n",
       "\n",
       "\n",
       "\n",
       "  <div class=\"bk-root\" id=\"5c489a73-a0db-42b3-a4f5-a69f1e331922\" data-root-id=\"1003\"></div>\n"
      ]
     },
     "metadata": {},
     "output_type": "display_data"
    },
    {
     "data": {
      "application/javascript": "(function(root) {\n  function embed_document(root) {\n    \n  const docs_json = {\"6881f80c-03ff-465b-83a8-c7681240ceda\":{\"defs\":[],\"roots\":{\"references\":[{\"attributes\":{\"below\":[{\"id\":\"1014\"}],\"center\":[{\"id\":\"1017\"},{\"id\":\"1021\"},{\"id\":\"1053\"}],\"height\":400,\"left\":[{\"id\":\"1018\"}],\"output_backend\":\"webgl\",\"renderers\":[{\"id\":\"1041\"},{\"id\":\"1062\"},{\"id\":\"1084\"},{\"id\":\"1108\"}],\"sizing_mode\":\"fixed\",\"title\":{\"id\":\"1004\"},\"toolbar\":{\"id\":\"1029\"},\"x_range\":{\"id\":\"1006\"},\"x_scale\":{\"id\":\"1010\"},\"y_range\":{\"id\":\"1008\"},\"y_scale\":{\"id\":\"1012\"}},\"id\":\"1003\",\"subtype\":\"Figure\",\"type\":\"Plot\"},{\"attributes\":{\"bottom\":{\"field\":\"bottom\"},\"fill_alpha\":{\"value\":0.1},\"fill_color\":{\"value\":\"#1f77b4\"},\"hatch_alpha\":{\"value\":0.1},\"hatch_color\":{\"value\":\"#1f77b4\"},\"left\":{\"field\":\"left\"},\"line_alpha\":{\"value\":0.1},\"line_color\":{\"value\":null},\"line_width\":{\"value\":2},\"right\":{\"field\":\"right\"},\"top\":{\"field\":\"top\"}},\"id\":\"1039\",\"type\":\"Quad\"},{\"attributes\":{\"label\":{\"value\":\"Avg. Cost/attended patient [$]\"},\"renderers\":[{\"id\":\"1108\"}]},\"id\":\"1126\",\"type\":\"LegendItem\"},{\"attributes\":{},\"id\":\"1045\",\"type\":\"BasicTickFormatter\"},{\"attributes\":{},\"id\":\"1046\",\"type\":\"AllLabels\"},{\"attributes\":{},\"id\":\"1124\",\"type\":\"Selection\"},{\"attributes\":{\"callback\":null,\"mode\":\"vline\",\"renderers\":[{\"id\":\"1041\"}],\"tooltips\":\"<h3> Total Discharges: </h3> <h4>bin=@bins</h4> <h4>value=@top </h4>\"},\"id\":\"1055\",\"type\":\"HoverTool\"},{\"attributes\":{},\"id\":\"1123\",\"type\":\"UnionRenderers\"},{\"attributes\":{},\"id\":\"1048\",\"type\":\"BasicTickFormatter\"},{\"attributes\":{},\"id\":\"1027\",\"type\":\"HelpTool\"},{\"attributes\":{\"bottom\":{\"field\":\"bottom\"},\"fill_alpha\":{\"value\":0.5},\"fill_color\":{\"value\":\"#ff7f0e\"},\"hatch_alpha\":{\"value\":0.5},\"hatch_color\":{\"value\":\"#ff7f0e\"},\"left\":{\"field\":\"left\"},\"line_alpha\":{\"value\":0.5},\"line_color\":{\"value\":null},\"line_width\":{\"value\":2},\"right\":{\"field\":\"right\"},\"top\":{\"field\":\"top\"}},\"id\":\"1059\",\"type\":\"Quad\"},{\"attributes\":{\"bottom\":{\"field\":\"bottom\"},\"fill_alpha\":{\"value\":0.1},\"fill_color\":{\"value\":\"#ff7f0e\"},\"hatch_alpha\":{\"value\":0.1},\"hatch_color\":{\"value\":\"#ff7f0e\"},\"left\":{\"field\":\"left\"},\"line_alpha\":{\"value\":0.1},\"line_color\":{\"value\":null},\"line_width\":{\"value\":2},\"right\":{\"field\":\"right\"},\"top\":{\"field\":\"top\"}},\"id\":\"1060\",\"type\":\"Quad\"},{\"attributes\":{\"coordinates\":null,\"data_source\":{\"id\":\"1036\"},\"glyph\":{\"id\":\"1038\"},\"group\":null,\"hover_glyph\":null,\"muted_glyph\":{\"id\":\"1040\"},\"nonselection_glyph\":{\"id\":\"1039\"},\"view\":{\"id\":\"1042\"}},\"id\":\"1041\",\"type\":\"GlyphRenderer\"},{\"attributes\":{\"data\":{\"bins\":[\"3.162036919159771\\uff0d15618.663833227245\",\"15618.663833227245\\uff0d31234.165629535328\",\"31234.165629535328\\uff0d46849.667425843414\",\"46849.667425843414\\uff0d62465.1692221515\",\"62465.1692221515\\uff0d78080.67101845959\",\"78080.67101845959\\uff0d93696.17281476768\",\"93696.17281476768\\uff0d109311.67461107575\",\"109311.67461107575\\uff0d124927.17640738384\",\"124927.17640738384\\uff0d140542.6782036919\",\"140542.6782036919\\uff0d156158.18\"],\"bottom\":[0,0,0,0,0,0,0,0,0,0],\"left\":{\"__ndarray__\":\"WEkkA9pLCUCCuHz4VIHOQF+frJmKgN5AP3GNWzXg5kDOkkRqJYDuQC/afbwKEPNA92rZwwLg9kC++zTL+q/6QIaMkNLyf/5Apg72bPUnAUE=\",\"dtype\":\"float64\",\"order\":\"little\",\"shape\":[10]},\"right\":{\"__ndarray__\":\"grh8+FSBzkBfn6yZioDeQD9xjVs14OZAzpJEaiWA7kAv2n28ChDzQPdq2cMC4PZAvvs0y/qv+kCGjJDS8n/+QKYO9mz1JwFBCtejcPEPA0E=\",\"dtype\":\"float64\",\"order\":\"little\",\"shape\":[10]},\"top\":[163065,0,0,0,0,0,0,0,0,0]},\"selected\":{\"id\":\"1051\"},\"selection_policy\":{\"id\":\"1050\"}},\"id\":\"1036\",\"type\":\"ColumnDataSource\"},{\"attributes\":{},\"id\":\"1049\",\"type\":\"AllLabels\"},{\"attributes\":{\"data\":{\"bins\":[\"3.162036919159771\\uff0d15618.663833227245\",\"15618.663833227245\\uff0d31234.165629535328\",\"31234.165629535328\\uff0d46849.667425843414\",\"46849.667425843414\\uff0d62465.1692221515\",\"62465.1692221515\\uff0d78080.67101845959\",\"78080.67101845959\\uff0d93696.17281476768\",\"93696.17281476768\\uff0d109311.67461107575\",\"109311.67461107575\\uff0d124927.17640738384\",\"124927.17640738384\\uff0d140542.6782036919\",\"140542.6782036919\\uff0d156158.18\"],\"bottom\":[0,0,0,0,0,0,0,0,0,0],\"left\":{\"__ndarray__\":\"WEkkA9pLCUCCuHz4VIHOQF+frJmKgN5AP3GNWzXg5kDOkkRqJYDuQC/afbwKEPNA92rZwwLg9kC++zTL+q/6QIaMkNLyf/5Apg72bPUnAUE=\",\"dtype\":\"float64\",\"order\":\"little\",\"shape\":[10]},\"right\":{\"__ndarray__\":\"grh8+FSBzkBfn6yZioDeQD9xjVs14OZAzpJEaiWA7kAv2n28ChDzQPdq2cMC4PZAvvs0y/qv+kCGjJDS8n/+QKYO9mz1JwFBCtejcPEPA0E=\",\"dtype\":\"float64\",\"order\":\"little\",\"shape\":[10]},\"top\":[142828,15511,3691,786,195,37,11,3,2,1]},\"selected\":{\"id\":\"1074\"},\"selection_policy\":{\"id\":\"1073\"}},\"id\":\"1057\",\"type\":\"ColumnDataSource\"},{\"attributes\":{\"ticks\":[3.162036919159771,15618.663833227245,31234.165629535328,46849.667425843414,62465.1692221515,78080.67101845959,93696.17281476768,109311.67461107575,124927.17640738384,140542.6782036919,156158.18]},\"id\":\"1129\",\"type\":\"FixedTicker\"},{\"attributes\":{\"source\":{\"id\":\"1057\"}},\"id\":\"1063\",\"type\":\"CDSView\"},{\"attributes\":{\"bottom\":{\"field\":\"bottom\"},\"fill_alpha\":{\"value\":0.5},\"fill_color\":{\"value\":\"#2ca02c\"},\"hatch_alpha\":{\"value\":0.5},\"hatch_color\":{\"value\":\"#2ca02c\"},\"left\":{\"field\":\"left\"},\"line_alpha\":{\"value\":0.5},\"line_color\":{\"value\":null},\"line_width\":{\"value\":2},\"right\":{\"field\":\"right\"},\"top\":{\"field\":\"top\"}},\"id\":\"1081\",\"type\":\"Quad\"},{\"attributes\":{\"bottom\":{\"field\":\"bottom\"},\"fill_alpha\":{\"value\":0.5},\"fill_color\":{\"value\":\"#1f77b4\"},\"hatch_alpha\":{\"value\":0.5},\"hatch_color\":{\"value\":\"#1f77b4\"},\"left\":{\"field\":\"left\"},\"line_alpha\":{\"value\":0.5},\"line_color\":{\"value\":null},\"line_width\":{\"value\":2},\"right\":{\"field\":\"right\"},\"top\":{\"field\":\"top\"}},\"id\":\"1038\",\"type\":\"Quad\"},{\"attributes\":{\"coordinates\":null,\"data_source\":{\"id\":\"1057\"},\"glyph\":{\"id\":\"1059\"},\"group\":null,\"hover_glyph\":null,\"muted_glyph\":{\"id\":\"1061\"},\"nonselection_glyph\":{\"id\":\"1060\"},\"view\":{\"id\":\"1063\"}},\"id\":\"1062\",\"type\":\"GlyphRenderer\"},{\"attributes\":{\"bottom\":{\"field\":\"bottom\"},\"fill_alpha\":{\"value\":0.2},\"fill_color\":{\"value\":\"#ff7f0e\"},\"hatch_alpha\":{\"value\":0.2},\"hatch_color\":{\"value\":\"#ff7f0e\"},\"left\":{\"field\":\"left\"},\"line_alpha\":{\"value\":0.2},\"line_color\":{\"value\":null},\"line_width\":{\"value\":2},\"right\":{\"field\":\"right\"},\"top\":{\"field\":\"top\"}},\"id\":\"1061\",\"type\":\"Quad\"},{\"attributes\":{\"overlay\":{\"id\":\"1028\"}},\"id\":\"1024\",\"type\":\"BoxZoomTool\"},{\"attributes\":{\"label\":{\"value\":\"Avg Total Payments [$]\"},\"renderers\":[{\"id\":\"1062\"}]},\"id\":\"1076\",\"type\":\"LegendItem\"},{\"attributes\":{\"source\":{\"id\":\"1036\"}},\"id\":\"1042\",\"type\":\"CDSView\"},{\"attributes\":{\"callback\":null,\"mode\":\"vline\",\"renderers\":[{\"id\":\"1062\"}],\"tooltips\":\"<h3> Avg Total Payments [$]: </h3> <h4>bin=@bins</h4> <h4>value=@top </h4>\"},\"id\":\"1077\",\"type\":\"HoverTool\"},{\"attributes\":{},\"id\":\"1006\",\"type\":\"DataRange1d\"},{\"attributes\":{\"active_scroll\":{\"id\":\"1023\"},\"tools\":[{\"id\":\"1022\"},{\"id\":\"1023\"},{\"id\":\"1024\"},{\"id\":\"1025\"},{\"id\":\"1026\"},{\"id\":\"1027\"},{\"id\":\"1055\"},{\"id\":\"1077\"},{\"id\":\"1101\"},{\"id\":\"1127\"}]},\"id\":\"1029\",\"type\":\"Toolbar\"},{\"attributes\":{\"click_policy\":\"hide\",\"coordinates\":null,\"group\":null,\"items\":[{\"id\":\"1054\"},{\"id\":\"1076\"},{\"id\":\"1100\"},{\"id\":\"1126\"}]},\"id\":\"1053\",\"type\":\"Legend\"},{\"attributes\":{},\"id\":\"1050\",\"type\":\"UnionRenderers\"},{\"attributes\":{\"bottom\":{\"field\":\"bottom\"},\"fill_alpha\":{\"value\":0.1},\"fill_color\":{\"value\":\"#2ca02c\"},\"hatch_alpha\":{\"value\":0.1},\"hatch_color\":{\"value\":\"#2ca02c\"},\"left\":{\"field\":\"left\"},\"line_alpha\":{\"value\":0.1},\"line_color\":{\"value\":null},\"line_width\":{\"value\":2},\"right\":{\"field\":\"right\"},\"top\":{\"field\":\"top\"}},\"id\":\"1082\",\"type\":\"Quad\"},{\"attributes\":{},\"id\":\"1074\",\"type\":\"Selection\"},{\"attributes\":{},\"id\":\"1051\",\"type\":\"Selection\"},{\"attributes\":{\"bottom\":{\"field\":\"bottom\"},\"fill_alpha\":{\"value\":0.2},\"fill_color\":{\"value\":\"#1f77b4\"},\"hatch_alpha\":{\"value\":0.2},\"hatch_color\":{\"value\":\"#1f77b4\"},\"left\":{\"field\":\"left\"},\"line_alpha\":{\"value\":0.2},\"line_color\":{\"value\":null},\"line_width\":{\"value\":2},\"right\":{\"field\":\"right\"},\"top\":{\"field\":\"top\"}},\"id\":\"1040\",\"type\":\"Quad\"},{\"attributes\":{\"data\":{\"bins\":[\"3.162036919159771\\uff0d15618.663833227245\",\"15618.663833227245\\uff0d31234.165629535328\",\"31234.165629535328\\uff0d46849.667425843414\",\"46849.667425843414\\uff0d62465.1692221515\",\"62465.1692221515\\uff0d78080.67101845959\",\"78080.67101845959\\uff0d93696.17281476768\",\"93696.17281476768\\uff0d109311.67461107575\",\"109311.67461107575\\uff0d124927.17640738384\",\"124927.17640738384\\uff0d140542.6782036919\",\"140542.6782036919\\uff0d156158.18\"],\"bottom\":[0,0,0,0,0,0,0,0,0,0],\"left\":{\"__ndarray__\":\"WEkkA9pLCUCCuHz4VIHOQF+frJmKgN5AP3GNWzXg5kDOkkRqJYDuQC/afbwKEPNA92rZwwLg9kC++zTL+q/6QIaMkNLyf/5Apg72bPUnAUE=\",\"dtype\":\"float64\",\"order\":\"little\",\"shape\":[10]},\"right\":{\"__ndarray__\":\"grh8+FSBzkBfn6yZioDeQD9xjVs14OZAzpJEaiWA7kAv2n28ChDzQPdq2cMC4PZAvvs0y/qv+kCGjJDS8n/+QKYO9mz1JwFBCtejcPEPA0E=\",\"dtype\":\"float64\",\"order\":\"little\",\"shape\":[10]},\"top\":[146570,12670,3040,605,143,23,10,1,2,1]},\"selected\":{\"id\":\"1098\"},\"selection_policy\":{\"id\":\"1097\"}},\"id\":\"1079\",\"type\":\"ColumnDataSource\"},{\"attributes\":{},\"id\":\"1073\",\"type\":\"UnionRenderers\"},{\"attributes\":{\"coordinates\":null,\"group\":null},\"id\":\"1004\",\"type\":\"Title\"},{\"attributes\":{\"label\":{\"value\":\"Total Discharges\"},\"renderers\":[{\"id\":\"1041\"}]},\"id\":\"1054\",\"type\":\"LegendItem\"},{\"attributes\":{},\"id\":\"1022\",\"type\":\"PanTool\"},{\"attributes\":{},\"id\":\"1019\",\"type\":\"BasicTicker\"},{\"attributes\":{\"bottom\":{\"field\":\"bottom\"},\"fill_alpha\":{\"value\":0.5},\"fill_color\":{\"value\":\"#d62728\"},\"hatch_alpha\":{\"value\":0.5},\"hatch_color\":{\"value\":\"#d62728\"},\"left\":{\"field\":\"left\"},\"line_alpha\":{\"value\":0.5},\"line_color\":{\"value\":null},\"line_width\":{\"value\":2},\"right\":{\"field\":\"right\"},\"top\":{\"field\":\"top\"}},\"id\":\"1105\",\"type\":\"Quad\"},{\"attributes\":{},\"id\":\"1012\",\"type\":\"LinearScale\"},{\"attributes\":{\"coordinates\":null,\"formatter\":{\"id\":\"1048\"},\"group\":null,\"major_label_policy\":{\"id\":\"1049\"},\"ticker\":{\"id\":\"1129\"}},\"id\":\"1014\",\"type\":\"LinearAxis\"},{\"attributes\":{\"axis\":{\"id\":\"1014\"},\"coordinates\":null,\"group\":null,\"ticker\":null},\"id\":\"1017\",\"type\":\"Grid\"},{\"attributes\":{\"source\":{\"id\":\"1079\"}},\"id\":\"1085\",\"type\":\"CDSView\"},{\"attributes\":{\"callback\":null,\"mode\":\"vline\",\"renderers\":[{\"id\":\"1084\"}],\"tooltips\":\"<h3> Avg Medicare Payments [$]: </h3> <h4>bin=@bins</h4> <h4>value=@top </h4>\"},\"id\":\"1101\",\"type\":\"HoverTool\"},{\"attributes\":{\"coordinates\":null,\"data_source\":{\"id\":\"1079\"},\"glyph\":{\"id\":\"1081\"},\"group\":null,\"hover_glyph\":null,\"muted_glyph\":{\"id\":\"1083\"},\"nonselection_glyph\":{\"id\":\"1082\"},\"view\":{\"id\":\"1085\"}},\"id\":\"1084\",\"type\":\"GlyphRenderer\"},{\"attributes\":{\"bottom_units\":\"screen\",\"coordinates\":null,\"fill_alpha\":0.5,\"fill_color\":\"lightgrey\",\"group\":null,\"left_units\":\"screen\",\"level\":\"overlay\",\"line_alpha\":1.0,\"line_color\":\"black\",\"line_dash\":[4,4],\"line_width\":2,\"right_units\":\"screen\",\"syncable\":false,\"top_units\":\"screen\"},\"id\":\"1028\",\"type\":\"BoxAnnotation\"},{\"attributes\":{\"bottom\":{\"field\":\"bottom\"},\"fill_alpha\":{\"value\":0.2},\"fill_color\":{\"value\":\"#2ca02c\"},\"hatch_alpha\":{\"value\":0.2},\"hatch_color\":{\"value\":\"#2ca02c\"},\"left\":{\"field\":\"left\"},\"line_alpha\":{\"value\":0.2},\"line_color\":{\"value\":null},\"line_width\":{\"value\":2},\"right\":{\"field\":\"right\"},\"top\":{\"field\":\"top\"}},\"id\":\"1083\",\"type\":\"Quad\"},{\"attributes\":{},\"id\":\"1026\",\"type\":\"ResetTool\"},{\"attributes\":{},\"id\":\"1010\",\"type\":\"LinearScale\"},{\"attributes\":{\"label\":{\"value\":\"Avg Medicare Payments [$]\"},\"renderers\":[{\"id\":\"1084\"}]},\"id\":\"1100\",\"type\":\"LegendItem\"},{\"attributes\":{\"axis\":{\"id\":\"1018\"},\"coordinates\":null,\"dimension\":1,\"group\":null,\"ticker\":null},\"id\":\"1021\",\"type\":\"Grid\"},{\"attributes\":{\"callback\":null,\"mode\":\"vline\",\"renderers\":[{\"id\":\"1108\"}],\"tooltips\":\"<h3> Avg. Cost/attended patient [$]: </h3> <h4>bin=@bins</h4> <h4>value=@top </h4>\"},\"id\":\"1127\",\"type\":\"HoverTool\"},{\"attributes\":{\"bottom\":{\"field\":\"bottom\"},\"fill_alpha\":{\"value\":0.1},\"fill_color\":{\"value\":\"#d62728\"},\"hatch_alpha\":{\"value\":0.1},\"hatch_color\":{\"value\":\"#d62728\"},\"left\":{\"field\":\"left\"},\"line_alpha\":{\"value\":0.1},\"line_color\":{\"value\":null},\"line_width\":{\"value\":2},\"right\":{\"field\":\"right\"},\"top\":{\"field\":\"top\"}},\"id\":\"1106\",\"type\":\"Quad\"},{\"attributes\":{},\"id\":\"1023\",\"type\":\"WheelZoomTool\"},{\"attributes\":{},\"id\":\"1098\",\"type\":\"Selection\"},{\"attributes\":{\"data\":{\"bins\":[\"3.162036919159771\\uff0d15618.663833227245\",\"15618.663833227245\\uff0d31234.165629535328\",\"31234.165629535328\\uff0d46849.667425843414\",\"46849.667425843414\\uff0d62465.1692221515\",\"62465.1692221515\\uff0d78080.67101845959\",\"78080.67101845959\\uff0d93696.17281476768\",\"93696.17281476768\\uff0d109311.67461107575\",\"109311.67461107575\\uff0d124927.17640738384\",\"124927.17640738384\\uff0d140542.6782036919\",\"140542.6782036919\\uff0d156158.18\"],\"bottom\":[0,0,0,0,0,0,0,0,0,0],\"left\":{\"__ndarray__\":\"WEkkA9pLCUCCuHz4VIHOQF+frJmKgN5AP3GNWzXg5kDOkkRqJYDuQC/afbwKEPNA92rZwwLg9kC++zTL+q/6QIaMkNLyf/5Apg72bPUnAUE=\",\"dtype\":\"float64\",\"order\":\"little\",\"shape\":[10]},\"right\":{\"__ndarray__\":\"grh8+FSBzkBfn6yZioDeQD9xjVs14OZAzpJEaiWA7kAv2n28ChDzQPdq2cMC4PZAvvs0y/qv+kCGjJDS8n/+QKYO9mz1JwFBCtejcPEPA0E=\",\"dtype\":\"float64\",\"order\":\"little\",\"shape\":[10]},\"top\":[163065,0,0,0,0,0,0,0,0,0]},\"selected\":{\"id\":\"1124\"},\"selection_policy\":{\"id\":\"1123\"}},\"id\":\"1103\",\"type\":\"ColumnDataSource\"},{\"attributes\":{},\"id\":\"1097\",\"type\":\"UnionRenderers\"},{\"attributes\":{},\"id\":\"1008\",\"type\":\"DataRange1d\"},{\"attributes\":{\"source\":{\"id\":\"1103\"}},\"id\":\"1109\",\"type\":\"CDSView\"},{\"attributes\":{},\"id\":\"1025\",\"type\":\"SaveTool\"},{\"attributes\":{\"coordinates\":null,\"formatter\":{\"id\":\"1045\"},\"group\":null,\"major_label_policy\":{\"id\":\"1046\"},\"ticker\":{\"id\":\"1019\"}},\"id\":\"1018\",\"type\":\"LinearAxis\"},{\"attributes\":{\"coordinates\":null,\"data_source\":{\"id\":\"1103\"},\"glyph\":{\"id\":\"1105\"},\"group\":null,\"hover_glyph\":null,\"muted_glyph\":{\"id\":\"1107\"},\"nonselection_glyph\":{\"id\":\"1106\"},\"view\":{\"id\":\"1109\"}},\"id\":\"1108\",\"type\":\"GlyphRenderer\"},{\"attributes\":{\"bottom\":{\"field\":\"bottom\"},\"fill_alpha\":{\"value\":0.2},\"fill_color\":{\"value\":\"#d62728\"},\"hatch_alpha\":{\"value\":0.2},\"hatch_color\":{\"value\":\"#d62728\"},\"left\":{\"field\":\"left\"},\"line_alpha\":{\"value\":0.2},\"line_color\":{\"value\":null},\"line_width\":{\"value\":2},\"right\":{\"field\":\"right\"},\"top\":{\"field\":\"top\"}},\"id\":\"1107\",\"type\":\"Quad\"}],\"root_ids\":[\"1003\"]},\"title\":\"Bokeh Application\",\"version\":\"2.4.1\"}};\n  const render_items = [{\"docid\":\"6881f80c-03ff-465b-83a8-c7681240ceda\",\"root_ids\":[\"1003\"],\"roots\":{\"1003\":\"5c489a73-a0db-42b3-a4f5-a69f1e331922\"}}];\n  root.Bokeh.embed.embed_items_notebook(docs_json, render_items);\n\n  }\n  if (root.Bokeh !== undefined) {\n    embed_document(root);\n  } else {\n    let attempts = 0;\n    const timer = setInterval(function(root) {\n      if (root.Bokeh !== undefined) {\n        clearInterval(timer);\n        embed_document(root);\n      } else {\n        attempts++;\n        if (attempts > 100) {\n          clearInterval(timer);\n          console.log(\"Bokeh: ERROR: Unable to run BokehJS code because BokehJS library is missing\");\n        }\n      }\n    }, 10, root)\n  }\n})(window);",
      "application/vnd.bokehjs_exec.v0+json": ""
     },
     "metadata": {
      "application/vnd.bokehjs_exec.v0+json": {
       "id": "1003"
      }
     },
     "output_type": "display_data"
    },
    {
     "data": {
      "text/html": [
       "<div style=\"display: table;\"><div style=\"display: table-row;\"><div style=\"display: table-cell;\"><b title=\"bokeh.plotting.figure.Figure\">Figure</b>(</div><div style=\"display: table-cell;\">id&nbsp;=&nbsp;'1003', <span id=\"1222\" style=\"cursor: pointer;\">&hellip;)</span></div></div><div class=\"1221\" style=\"display: none;\"><div style=\"display: table-cell;\"></div><div style=\"display: table-cell;\">above&nbsp;=&nbsp;[],</div></div><div class=\"1221\" style=\"display: none;\"><div style=\"display: table-cell;\"></div><div style=\"display: table-cell;\">align&nbsp;=&nbsp;'start',</div></div><div class=\"1221\" style=\"display: none;\"><div style=\"display: table-cell;\"></div><div style=\"display: table-cell;\">aspect_ratio&nbsp;=&nbsp;None,</div></div><div class=\"1221\" style=\"display: none;\"><div style=\"display: table-cell;\"></div><div style=\"display: table-cell;\">aspect_scale&nbsp;=&nbsp;1,</div></div><div class=\"1221\" style=\"display: none;\"><div style=\"display: table-cell;\"></div><div style=\"display: table-cell;\">background&nbsp;=&nbsp;None,</div></div><div class=\"1221\" style=\"display: none;\"><div style=\"display: table-cell;\"></div><div style=\"display: table-cell;\">background_fill_alpha&nbsp;=&nbsp;1.0,</div></div><div class=\"1221\" style=\"display: none;\"><div style=\"display: table-cell;\"></div><div style=\"display: table-cell;\">background_fill_color&nbsp;=&nbsp;'#ffffff',</div></div><div class=\"1221\" style=\"display: none;\"><div style=\"display: table-cell;\"></div><div style=\"display: table-cell;\">below&nbsp;=&nbsp;[LinearAxis(id='1014', ...)],</div></div><div class=\"1221\" style=\"display: none;\"><div style=\"display: table-cell;\"></div><div style=\"display: table-cell;\">border_fill_alpha&nbsp;=&nbsp;1.0,</div></div><div class=\"1221\" style=\"display: none;\"><div style=\"display: table-cell;\"></div><div style=\"display: table-cell;\">border_fill_color&nbsp;=&nbsp;'#ffffff',</div></div><div class=\"1221\" style=\"display: none;\"><div style=\"display: table-cell;\"></div><div style=\"display: table-cell;\">center&nbsp;=&nbsp;[Grid(id='1017', ...), Grid(id='1021', ...), Legend(id='1053', ...)],</div></div><div class=\"1221\" style=\"display: none;\"><div style=\"display: table-cell;\"></div><div style=\"display: table-cell;\">css_classes&nbsp;=&nbsp;[],</div></div><div class=\"1221\" style=\"display: none;\"><div style=\"display: table-cell;\"></div><div style=\"display: table-cell;\">disabled&nbsp;=&nbsp;False,</div></div><div class=\"1221\" style=\"display: none;\"><div style=\"display: table-cell;\"></div><div style=\"display: table-cell;\">extra_x_ranges&nbsp;=&nbsp;{},</div></div><div class=\"1221\" style=\"display: none;\"><div style=\"display: table-cell;\"></div><div style=\"display: table-cell;\">extra_x_scales&nbsp;=&nbsp;{},</div></div><div class=\"1221\" style=\"display: none;\"><div style=\"display: table-cell;\"></div><div style=\"display: table-cell;\">extra_y_ranges&nbsp;=&nbsp;{},</div></div><div class=\"1221\" style=\"display: none;\"><div style=\"display: table-cell;\"></div><div style=\"display: table-cell;\">extra_y_scales&nbsp;=&nbsp;{},</div></div><div class=\"1221\" style=\"display: none;\"><div style=\"display: table-cell;\"></div><div style=\"display: table-cell;\">frame_height&nbsp;=&nbsp;None,</div></div><div class=\"1221\" style=\"display: none;\"><div style=\"display: table-cell;\"></div><div style=\"display: table-cell;\">frame_width&nbsp;=&nbsp;None,</div></div><div class=\"1221\" style=\"display: none;\"><div style=\"display: table-cell;\"></div><div style=\"display: table-cell;\">height&nbsp;=&nbsp;400,</div></div><div class=\"1221\" style=\"display: none;\"><div style=\"display: table-cell;\"></div><div style=\"display: table-cell;\">height_policy&nbsp;=&nbsp;'auto',</div></div><div class=\"1221\" style=\"display: none;\"><div style=\"display: table-cell;\"></div><div style=\"display: table-cell;\">hidpi&nbsp;=&nbsp;True,</div></div><div class=\"1221\" style=\"display: none;\"><div style=\"display: table-cell;\"></div><div style=\"display: table-cell;\">inner_height&nbsp;=&nbsp;0,</div></div><div class=\"1221\" style=\"display: none;\"><div style=\"display: table-cell;\"></div><div style=\"display: table-cell;\">inner_width&nbsp;=&nbsp;0,</div></div><div class=\"1221\" style=\"display: none;\"><div style=\"display: table-cell;\"></div><div style=\"display: table-cell;\">js_event_callbacks&nbsp;=&nbsp;{},</div></div><div class=\"1221\" style=\"display: none;\"><div style=\"display: table-cell;\"></div><div style=\"display: table-cell;\">js_property_callbacks&nbsp;=&nbsp;{},</div></div><div class=\"1221\" style=\"display: none;\"><div style=\"display: table-cell;\"></div><div style=\"display: table-cell;\">left&nbsp;=&nbsp;[LinearAxis(id='1018', ...)],</div></div><div class=\"1221\" style=\"display: none;\"><div style=\"display: table-cell;\"></div><div style=\"display: table-cell;\">lod_factor&nbsp;=&nbsp;10,</div></div><div class=\"1221\" style=\"display: none;\"><div style=\"display: table-cell;\"></div><div style=\"display: table-cell;\">lod_interval&nbsp;=&nbsp;300,</div></div><div class=\"1221\" style=\"display: none;\"><div style=\"display: table-cell;\"></div><div style=\"display: table-cell;\">lod_threshold&nbsp;=&nbsp;2000,</div></div><div class=\"1221\" style=\"display: none;\"><div style=\"display: table-cell;\"></div><div style=\"display: table-cell;\">lod_timeout&nbsp;=&nbsp;500,</div></div><div class=\"1221\" style=\"display: none;\"><div style=\"display: table-cell;\"></div><div style=\"display: table-cell;\">margin&nbsp;=&nbsp;(0, 0, 0, 0),</div></div><div class=\"1221\" style=\"display: none;\"><div style=\"display: table-cell;\"></div><div style=\"display: table-cell;\">match_aspect&nbsp;=&nbsp;False,</div></div><div class=\"1221\" style=\"display: none;\"><div style=\"display: table-cell;\"></div><div style=\"display: table-cell;\">max_height&nbsp;=&nbsp;None,</div></div><div class=\"1221\" style=\"display: none;\"><div style=\"display: table-cell;\"></div><div style=\"display: table-cell;\">max_width&nbsp;=&nbsp;None,</div></div><div class=\"1221\" style=\"display: none;\"><div style=\"display: table-cell;\"></div><div style=\"display: table-cell;\">min_border&nbsp;=&nbsp;5,</div></div><div class=\"1221\" style=\"display: none;\"><div style=\"display: table-cell;\"></div><div style=\"display: table-cell;\">min_border_bottom&nbsp;=&nbsp;None,</div></div><div class=\"1221\" style=\"display: none;\"><div style=\"display: table-cell;\"></div><div style=\"display: table-cell;\">min_border_left&nbsp;=&nbsp;None,</div></div><div class=\"1221\" style=\"display: none;\"><div style=\"display: table-cell;\"></div><div style=\"display: table-cell;\">min_border_right&nbsp;=&nbsp;None,</div></div><div class=\"1221\" style=\"display: none;\"><div style=\"display: table-cell;\"></div><div style=\"display: table-cell;\">min_border_top&nbsp;=&nbsp;None,</div></div><div class=\"1221\" style=\"display: none;\"><div style=\"display: table-cell;\"></div><div style=\"display: table-cell;\">min_height&nbsp;=&nbsp;None,</div></div><div class=\"1221\" style=\"display: none;\"><div style=\"display: table-cell;\"></div><div style=\"display: table-cell;\">min_width&nbsp;=&nbsp;None,</div></div><div class=\"1221\" style=\"display: none;\"><div style=\"display: table-cell;\"></div><div style=\"display: table-cell;\">name&nbsp;=&nbsp;None,</div></div><div class=\"1221\" style=\"display: none;\"><div style=\"display: table-cell;\"></div><div style=\"display: table-cell;\">outer_height&nbsp;=&nbsp;0,</div></div><div class=\"1221\" style=\"display: none;\"><div style=\"display: table-cell;\"></div><div style=\"display: table-cell;\">outer_width&nbsp;=&nbsp;0,</div></div><div class=\"1221\" style=\"display: none;\"><div style=\"display: table-cell;\"></div><div style=\"display: table-cell;\">outline_line_alpha&nbsp;=&nbsp;1.0,</div></div><div class=\"1221\" style=\"display: none;\"><div style=\"display: table-cell;\"></div><div style=\"display: table-cell;\">outline_line_cap&nbsp;=&nbsp;'butt',</div></div><div class=\"1221\" style=\"display: none;\"><div style=\"display: table-cell;\"></div><div style=\"display: table-cell;\">outline_line_color&nbsp;=&nbsp;'#e5e5e5',</div></div><div class=\"1221\" style=\"display: none;\"><div style=\"display: table-cell;\"></div><div style=\"display: table-cell;\">outline_line_dash&nbsp;=&nbsp;[],</div></div><div class=\"1221\" style=\"display: none;\"><div style=\"display: table-cell;\"></div><div style=\"display: table-cell;\">outline_line_dash_offset&nbsp;=&nbsp;0,</div></div><div class=\"1221\" style=\"display: none;\"><div style=\"display: table-cell;\"></div><div style=\"display: table-cell;\">outline_line_join&nbsp;=&nbsp;'bevel',</div></div><div class=\"1221\" style=\"display: none;\"><div style=\"display: table-cell;\"></div><div style=\"display: table-cell;\">outline_line_width&nbsp;=&nbsp;1,</div></div><div class=\"1221\" style=\"display: none;\"><div style=\"display: table-cell;\"></div><div style=\"display: table-cell;\">output_backend&nbsp;=&nbsp;'webgl',</div></div><div class=\"1221\" style=\"display: none;\"><div style=\"display: table-cell;\"></div><div style=\"display: table-cell;\">renderers&nbsp;=&nbsp;[GlyphRenderer(id='1041', ...), GlyphRenderer(id='1062', ...), GlyphRenderer(id='1084', ...), GlyphRenderer(id='1108', ...)],</div></div><div class=\"1221\" style=\"display: none;\"><div style=\"display: table-cell;\"></div><div style=\"display: table-cell;\">reset_policy&nbsp;=&nbsp;'standard',</div></div><div class=\"1221\" style=\"display: none;\"><div style=\"display: table-cell;\"></div><div style=\"display: table-cell;\">right&nbsp;=&nbsp;[],</div></div><div class=\"1221\" style=\"display: none;\"><div style=\"display: table-cell;\"></div><div style=\"display: table-cell;\">sizing_mode&nbsp;=&nbsp;'fixed',</div></div><div class=\"1221\" style=\"display: none;\"><div style=\"display: table-cell;\"></div><div style=\"display: table-cell;\">subscribed_events&nbsp;=&nbsp;[],</div></div><div class=\"1221\" style=\"display: none;\"><div style=\"display: table-cell;\"></div><div style=\"display: table-cell;\">syncable&nbsp;=&nbsp;True,</div></div><div class=\"1221\" style=\"display: none;\"><div style=\"display: table-cell;\"></div><div style=\"display: table-cell;\">tags&nbsp;=&nbsp;[],</div></div><div class=\"1221\" style=\"display: none;\"><div style=\"display: table-cell;\"></div><div style=\"display: table-cell;\">title&nbsp;=&nbsp;Title(id='1004', ...),</div></div><div class=\"1221\" style=\"display: none;\"><div style=\"display: table-cell;\"></div><div style=\"display: table-cell;\">title_location&nbsp;=&nbsp;'above',</div></div><div class=\"1221\" style=\"display: none;\"><div style=\"display: table-cell;\"></div><div style=\"display: table-cell;\">toolbar&nbsp;=&nbsp;Toolbar(id='1029', ...),</div></div><div class=\"1221\" style=\"display: none;\"><div style=\"display: table-cell;\"></div><div style=\"display: table-cell;\">toolbar_location&nbsp;=&nbsp;'right',</div></div><div class=\"1221\" style=\"display: none;\"><div style=\"display: table-cell;\"></div><div style=\"display: table-cell;\">toolbar_sticky&nbsp;=&nbsp;True,</div></div><div class=\"1221\" style=\"display: none;\"><div style=\"display: table-cell;\"></div><div style=\"display: table-cell;\">visible&nbsp;=&nbsp;True,</div></div><div class=\"1221\" style=\"display: none;\"><div style=\"display: table-cell;\"></div><div style=\"display: table-cell;\">width&nbsp;=&nbsp;600,</div></div><div class=\"1221\" style=\"display: none;\"><div style=\"display: table-cell;\"></div><div style=\"display: table-cell;\">width_policy&nbsp;=&nbsp;'auto',</div></div><div class=\"1221\" style=\"display: none;\"><div style=\"display: table-cell;\"></div><div style=\"display: table-cell;\">x_range&nbsp;=&nbsp;DataRange1d(id='1006', ...),</div></div><div class=\"1221\" style=\"display: none;\"><div style=\"display: table-cell;\"></div><div style=\"display: table-cell;\">x_scale&nbsp;=&nbsp;LinearScale(id='1010', ...),</div></div><div class=\"1221\" style=\"display: none;\"><div style=\"display: table-cell;\"></div><div style=\"display: table-cell;\">y_range&nbsp;=&nbsp;DataRange1d(id='1008', ...),</div></div><div class=\"1221\" style=\"display: none;\"><div style=\"display: table-cell;\"></div><div style=\"display: table-cell;\">y_scale&nbsp;=&nbsp;LinearScale(id='1012', ...))</div></div></div>\n",
       "<script>\n",
       "(function() {\n",
       "  let expanded = false;\n",
       "  const ellipsis = document.getElementById(\"1222\");\n",
       "  ellipsis.addEventListener(\"click\", function() {\n",
       "    const rows = document.getElementsByClassName(\"1221\");\n",
       "    for (let i = 0; i < rows.length; i++) {\n",
       "      const el = rows[i];\n",
       "      el.style.display = expanded ? \"none\" : \"table-row\";\n",
       "    }\n",
       "    ellipsis.innerHTML = expanded ? \"&hellip;)\" : \"&lsaquo;&lsaquo;&lsaquo;\";\n",
       "    expanded = !expanded;\n",
       "  });\n",
       "})();\n",
       "</script>\n"
      ],
      "text/plain": [
       "Figure(id='1003', ...)"
      ]
     },
     "execution_count": 10,
     "metadata": {},
     "output_type": "execute_result"
    }
   ],
   "source": [
    "df.plot_bokeh.hist()"
   ]
  },
  {
   "cell_type": "code",
   "execution_count": 11,
   "metadata": {},
   "outputs": [],
   "source": [
    "df_by_state = df.groupby(df['Provider State']).sum()\n",
    "df_by_state.drop(df[['Total Discharges']], axis=1, inplace=True)"
   ]
  },
  {
   "cell_type": "code",
   "execution_count": 12,
   "metadata": {},
   "outputs": [
    {
     "data": {
      "text/html": [
       "<div>\n",
       "<style scoped>\n",
       "    .dataframe tbody tr th:only-of-type {\n",
       "        vertical-align: middle;\n",
       "    }\n",
       "\n",
       "    .dataframe tbody tr th {\n",
       "        vertical-align: top;\n",
       "    }\n",
       "\n",
       "    .dataframe thead th {\n",
       "        text-align: right;\n",
       "    }\n",
       "</style>\n",
       "<table border=\"1\" class=\"dataframe\">\n",
       "  <thead>\n",
       "    <tr style=\"text-align: right;\">\n",
       "      <th></th>\n",
       "      <th>Avg Total Payments [$]</th>\n",
       "      <th>Avg Medicare Payments [$]</th>\n",
       "      <th>Avg. Cost/attended patient [$]</th>\n",
       "    </tr>\n",
       "    <tr>\n",
       "      <th>Provider State</th>\n",
       "      <th></th>\n",
       "      <th></th>\n",
       "      <th></th>\n",
       "    </tr>\n",
       "  </thead>\n",
       "  <tbody>\n",
       "    <tr>\n",
       "      <th>AK</th>\n",
       "      <td>3366222</td>\n",
       "      <td>2993521</td>\n",
       "      <td>176355</td>\n",
       "    </tr>\n",
       "    <tr>\n",
       "      <th>AL</th>\n",
       "      <td>27510523</td>\n",
       "      <td>23329455</td>\n",
       "      <td>1194685</td>\n",
       "    </tr>\n",
       "    <tr>\n",
       "      <th>AR</th>\n",
       "      <td>16575787</td>\n",
       "      <td>14303062</td>\n",
       "      <td>695235</td>\n",
       "    </tr>\n",
       "    <tr>\n",
       "      <th>AZ</th>\n",
       "      <td>28950559</td>\n",
       "      <td>25162119</td>\n",
       "      <td>1332213</td>\n",
       "    </tr>\n",
       "  </tbody>\n",
       "</table>\n",
       "</div>"
      ],
      "text/plain": [
       "                Avg Total Payments [$]  Avg Medicare Payments [$]  \\\n",
       "Provider State                                                      \n",
       "AK                             3366222                    2993521   \n",
       "AL                            27510523                   23329455   \n",
       "AR                            16575787                   14303062   \n",
       "AZ                            28950559                   25162119   \n",
       "\n",
       "                Avg. Cost/attended patient [$]  \n",
       "Provider State                                  \n",
       "AK                                      176355  \n",
       "AL                                     1194685  \n",
       "AR                                      695235  \n",
       "AZ                                     1332213  "
      ]
     },
     "execution_count": 12,
     "metadata": {},
     "output_type": "execute_result"
    }
   ],
   "source": [
    "df_by_state = df_by_state.astype(int)\n",
    "df_by_state.head(4)"
   ]
  },
  {
   "cell_type": "code",
   "execution_count": 13,
   "metadata": {},
   "outputs": [],
   "source": [
    "sorted_df_by_state = df_by_state.sort_values(by=['Avg Total Payments [$]'])"
   ]
  },
  {
   "cell_type": "code",
   "execution_count": 14,
   "metadata": {},
   "outputs": [
    {
     "data": {
      "text/html": [
       "\n",
       "\n",
       "\n",
       "\n",
       "\n",
       "\n",
       "  <div class=\"bk-root\" id=\"069188af-89eb-496a-9aca-582a383b386c\" data-root-id=\"1260\"></div>\n"
      ]
     },
     "metadata": {},
     "output_type": "display_data"
    },
    {
     "data": {
      "application/javascript": "(function(root) {\n  function embed_document(root) {\n    \n  const docs_json = {\"288204d7-cb28-4d06-8232-042eb2617e68\":{\"defs\":[],\"roots\":{\"references\":[{\"attributes\":{\"below\":[{\"id\":\"1271\"}],\"center\":[{\"id\":\"1274\"},{\"id\":\"1278\"},{\"id\":\"1311\"}],\"height\":400,\"left\":[{\"id\":\"1275\"}],\"output_backend\":\"webgl\",\"renderers\":[{\"id\":\"1300\"},{\"id\":\"1320\"},{\"id\":\"1339\"}],\"sizing_mode\":\"fixed\",\"title\":{\"id\":\"1261\"},\"toolbar\":{\"id\":\"1286\"},\"width\":1200,\"x_range\":{\"id\":\"1263\"},\"x_scale\":{\"id\":\"1267\"},\"y_range\":{\"id\":\"1265\"},\"y_scale\":{\"id\":\"1269\"}},\"id\":\"1260\",\"subtype\":\"Figure\",\"type\":\"Plot\"},{\"attributes\":{},\"id\":\"1308\",\"type\":\"UnionRenderers\"},{\"attributes\":{},\"id\":\"1309\",\"type\":\"Selection\"},{\"attributes\":{},\"id\":\"1263\",\"type\":\"DataRange1d\"},{\"attributes\":{},\"id\":\"1282\",\"type\":\"SaveTool\"},{\"attributes\":{\"overlay\":{\"id\":\"1285\"}},\"id\":\"1281\",\"type\":\"BoxZoomTool\"},{\"attributes\":{\"code\":\"\\n                                    var labels = {0: 'WY', 1: 'VT', 2: 'AK', 3: 'DE', 4: 'ND', 5: 'MT', 6: 'SD', 7: 'ID', 8: 'HI', 9: 'DC', 10: 'RI', 11: 'UT', 12: 'NH', 13: 'ME', 14: 'NM', 15: 'NE', 16: 'NV', 17: 'WV', 18: 'OR', 19: 'KS', 20: 'IA', 21: 'AR', 22: 'CO', 23: 'MS', 24: 'OK', 25: 'MN', 26: 'CT', 27: 'SC', 28: 'LA', 29: 'WI', 30: 'KY', 31: 'AL', 32: 'AZ', 33: 'WA', 34: 'TN', 35: 'MO', 36: 'IN', 37: 'VA', 38: 'MA', 39: 'MD', 40: 'GA', 41: 'NC', 42: 'NJ', 43: 'MI', 44: 'OH', 45: 'PA', 46: 'IL', 47: 'FL', 48: 'NY', 49: 'TX', 50: 'CA'};\\n                                    return labels[tick];\\n                                    \"},\"id\":\"1293\",\"type\":\"FuncTickFormatter\"},{\"attributes\":{\"callback\":null,\"mode\":\"vline\",\"renderers\":[{\"id\":\"1339\"}],\"tooltips\":[[\"Provider State\",\"@__x__values_original\"],[\"Avg. Cost/attended patient [$]\",\"@{Avg. Cost/attended patient [$]}\"]]},\"id\":\"1351\",\"type\":\"HoverTool\"},{\"attributes\":{},\"id\":\"1265\",\"type\":\"DataRange1d\"},{\"attributes\":{\"fill_color\":{\"value\":\"#ff7f0e\"},\"hatch_color\":{\"value\":\"#ff7f0e\"},\"line_color\":{\"value\":\"#ff7f0e\"},\"line_width\":{\"value\":2},\"top\":{\"field\":\"Avg Medicare Payments [$]\"},\"width\":{\"value\":0.2},\"x\":{\"field\":\"__x__values\",\"transform\":{\"id\":\"1315\"}}},\"id\":\"1317\",\"type\":\"VBar\"},{\"attributes\":{\"range\":{\"id\":\"1263\"},\"value\":-0.25},\"id\":\"1295\",\"type\":\"Dodge\"},{\"attributes\":{\"callback\":null,\"mode\":\"vline\",\"renderers\":[{\"id\":\"1300\"}],\"tooltips\":[[\"Provider State\",\"@__x__values_original\"],[\"Avg Total Payments [$]\",\"@{Avg Total Payments [$]}\"]]},\"id\":\"1313\",\"type\":\"HoverTool\"},{\"attributes\":{\"fill_alpha\":{\"value\":0.2},\"fill_color\":{\"value\":\"#2ca02c\"},\"hatch_alpha\":{\"value\":0.2},\"hatch_color\":{\"value\":\"#2ca02c\"},\"line_alpha\":{\"value\":0.2},\"line_color\":{\"value\":\"#2ca02c\"},\"line_width\":{\"value\":2},\"top\":{\"field\":\"Avg. Cost/attended patient [$]\"},\"width\":{\"value\":0.2},\"x\":{\"field\":\"__x__values\",\"transform\":{\"id\":\"1334\"}}},\"id\":\"1338\",\"type\":\"VBar\"},{\"attributes\":{\"range\":{\"id\":\"1263\"},\"value\":0.25},\"id\":\"1334\",\"type\":\"Dodge\"},{\"attributes\":{},\"id\":\"1267\",\"type\":\"LinearScale\"},{\"attributes\":{\"range\":{\"id\":\"1263\"}},\"id\":\"1315\",\"type\":\"Dodge\"},{\"attributes\":{\"coordinates\":null,\"group\":null,\"text\":\"Hospital Charges in America by States\"},\"id\":\"1261\",\"type\":\"Title\"},{\"attributes\":{\"fill_alpha\":{\"value\":0.2},\"fill_color\":{\"value\":\"#ff7f0e\"},\"hatch_alpha\":{\"value\":0.2},\"hatch_color\":{\"value\":\"#ff7f0e\"},\"line_alpha\":{\"value\":0.2},\"line_color\":{\"value\":\"#ff7f0e\"},\"line_width\":{\"value\":2},\"top\":{\"field\":\"Avg Medicare Payments [$]\"},\"width\":{\"value\":0.2},\"x\":{\"field\":\"__x__values\",\"transform\":{\"id\":\"1315\"}}},\"id\":\"1319\",\"type\":\"VBar\"},{\"attributes\":{\"fill_color\":{\"value\":\"#1f77b4\"},\"hatch_color\":{\"value\":\"#1f77b4\"},\"line_color\":{\"value\":\"#1f77b4\"},\"line_width\":{\"value\":2},\"top\":{\"field\":\"Avg Total Payments [$]\"},\"width\":{\"value\":0.2},\"x\":{\"field\":\"__x__values\",\"transform\":{\"id\":\"1295\"}}},\"id\":\"1297\",\"type\":\"VBar\"},{\"attributes\":{\"fill_alpha\":{\"value\":0.1},\"fill_color\":{\"value\":\"#2ca02c\"},\"hatch_alpha\":{\"value\":0.1},\"hatch_color\":{\"value\":\"#2ca02c\"},\"line_alpha\":{\"value\":0.1},\"line_color\":{\"value\":\"#2ca02c\"},\"line_width\":{\"value\":2},\"top\":{\"field\":\"Avg. Cost/attended patient [$]\"},\"width\":{\"value\":0.2},\"x\":{\"field\":\"__x__values\",\"transform\":{\"id\":\"1334\"}}},\"id\":\"1337\",\"type\":\"VBar\"},{\"attributes\":{\"use_scientific\":false},\"id\":\"1304\",\"type\":\"BasicTickFormatter\"},{\"attributes\":{\"fill_color\":{\"value\":\"#2ca02c\"},\"hatch_color\":{\"value\":\"#2ca02c\"},\"line_color\":{\"value\":\"#2ca02c\"},\"line_width\":{\"value\":2},\"top\":{\"field\":\"Avg. Cost/attended patient [$]\"},\"width\":{\"value\":0.2},\"x\":{\"field\":\"__x__values\",\"transform\":{\"id\":\"1334\"}}},\"id\":\"1336\",\"type\":\"VBar\"},{\"attributes\":{\"bottom_units\":\"screen\",\"coordinates\":null,\"fill_alpha\":0.5,\"fill_color\":\"lightgrey\",\"group\":null,\"left_units\":\"screen\",\"level\":\"overlay\",\"line_alpha\":1.0,\"line_color\":\"black\",\"line_dash\":[4,4],\"line_width\":2,\"right_units\":\"screen\",\"syncable\":false,\"top_units\":\"screen\"},\"id\":\"1285\",\"type\":\"BoxAnnotation\"},{\"attributes\":{\"fill_alpha\":{\"value\":0.1},\"fill_color\":{\"value\":\"#1f77b4\"},\"hatch_alpha\":{\"value\":0.1},\"hatch_color\":{\"value\":\"#1f77b4\"},\"line_alpha\":{\"value\":0.1},\"line_color\":{\"value\":\"#1f77b4\"},\"line_width\":{\"value\":2},\"top\":{\"field\":\"Avg Total Payments [$]\"},\"width\":{\"value\":0.2},\"x\":{\"field\":\"__x__values\",\"transform\":{\"id\":\"1295\"}}},\"id\":\"1298\",\"type\":\"VBar\"},{\"attributes\":{\"fill_alpha\":{\"value\":0.1},\"fill_color\":{\"value\":\"#ff7f0e\"},\"hatch_alpha\":{\"value\":0.1},\"hatch_color\":{\"value\":\"#ff7f0e\"},\"line_alpha\":{\"value\":0.1},\"line_color\":{\"value\":\"#ff7f0e\"},\"line_width\":{\"value\":2},\"top\":{\"field\":\"Avg Medicare Payments [$]\"},\"width\":{\"value\":0.2},\"x\":{\"field\":\"__x__values\",\"transform\":{\"id\":\"1315\"}}},\"id\":\"1318\",\"type\":\"VBar\"},{\"attributes\":{},\"id\":\"1305\",\"type\":\"AllLabels\"},{\"attributes\":{\"ticks\":[0,1,2,3,4,5,6,7,8,9,10,11,12,13,14,15,16,17,18,19,20,21,22,23,24,25,26,27,28,29,30,31,32,33,34,35,36,37,38,39,40,41,42,43,44,45,46,47,48,49,50]},\"id\":\"1353\",\"type\":\"FixedTicker\"},{\"attributes\":{\"label\":{\"value\":\" Avg Medicare Payments [$]\"},\"renderers\":[{\"id\":\"1320\"}]},\"id\":\"1331\",\"type\":\"LegendItem\"},{\"attributes\":{\"label\":{\"value\":\" Avg. Cost/attended patient [$]\"},\"renderers\":[{\"id\":\"1339\"}]},\"id\":\"1350\",\"type\":\"LegendItem\"},{\"attributes\":{\"coordinates\":null,\"data_source\":{\"id\":\"1259\"},\"glyph\":{\"id\":\"1336\"},\"group\":null,\"hover_glyph\":null,\"muted_glyph\":{\"id\":\"1338\"},\"nonselection_glyph\":{\"id\":\"1337\"},\"view\":{\"id\":\"1340\"}},\"id\":\"1339\",\"type\":\"GlyphRenderer\"},{\"attributes\":{\"axis_label\":\"Provider State\",\"coordinates\":null,\"formatter\":{\"id\":\"1293\"},\"group\":null,\"major_label_policy\":{\"id\":\"1307\"},\"ticker\":{\"id\":\"1353\"}},\"id\":\"1271\",\"type\":\"LinearAxis\"},{\"attributes\":{\"fill_alpha\":{\"value\":0.2},\"fill_color\":{\"value\":\"#1f77b4\"},\"hatch_alpha\":{\"value\":0.2},\"hatch_color\":{\"value\":\"#1f77b4\"},\"line_alpha\":{\"value\":0.2},\"line_color\":{\"value\":\"#1f77b4\"},\"line_width\":{\"value\":2},\"top\":{\"field\":\"Avg Total Payments [$]\"},\"width\":{\"value\":0.2},\"x\":{\"field\":\"__x__values\",\"transform\":{\"id\":\"1295\"}}},\"id\":\"1299\",\"type\":\"VBar\"},{\"attributes\":{},\"id\":\"1283\",\"type\":\"ResetTool\"},{\"attributes\":{},\"id\":\"1269\",\"type\":\"LinearScale\"},{\"attributes\":{\"coordinates\":null,\"data_source\":{\"id\":\"1259\"},\"glyph\":{\"id\":\"1317\"},\"group\":null,\"hover_glyph\":null,\"muted_glyph\":{\"id\":\"1319\"},\"nonselection_glyph\":{\"id\":\"1318\"},\"view\":{\"id\":\"1321\"}},\"id\":\"1320\",\"type\":\"GlyphRenderer\"},{\"attributes\":{},\"id\":\"1284\",\"type\":\"HelpTool\"},{\"attributes\":{\"axis\":{\"id\":\"1271\"},\"coordinates\":null,\"group\":null,\"ticker\":null},\"id\":\"1274\",\"type\":\"Grid\"},{\"attributes\":{},\"id\":\"1307\",\"type\":\"AllLabels\"},{\"attributes\":{\"coordinates\":null,\"formatter\":{\"id\":\"1304\"},\"group\":null,\"major_label_policy\":{\"id\":\"1305\"},\"ticker\":{\"id\":\"1276\"}},\"id\":\"1275\",\"type\":\"LinearAxis\"},{\"attributes\":{\"source\":{\"id\":\"1259\"}},\"id\":\"1340\",\"type\":\"CDSView\"},{\"attributes\":{\"axis\":{\"id\":\"1275\"},\"coordinates\":null,\"dimension\":1,\"group\":null,\"ticker\":null},\"id\":\"1278\",\"type\":\"Grid\"},{\"attributes\":{\"coordinates\":null,\"data_source\":{\"id\":\"1259\"},\"glyph\":{\"id\":\"1297\"},\"group\":null,\"hover_glyph\":null,\"muted_glyph\":{\"id\":\"1299\"},\"nonselection_glyph\":{\"id\":\"1298\"},\"view\":{\"id\":\"1301\"}},\"id\":\"1300\",\"type\":\"GlyphRenderer\"},{\"attributes\":{\"callback\":null,\"mode\":\"vline\",\"renderers\":[{\"id\":\"1320\"}],\"tooltips\":[[\"Provider State\",\"@__x__values_original\"],[\"Avg Medicare Payments [$]\",\"@{Avg Medicare Payments [$]}\"]]},\"id\":\"1332\",\"type\":\"HoverTool\"},{\"attributes\":{},\"id\":\"1276\",\"type\":\"BasicTicker\"},{\"attributes\":{\"click_policy\":\"hide\",\"coordinates\":null,\"group\":null,\"items\":[{\"id\":\"1312\"},{\"id\":\"1331\"},{\"id\":\"1350\"}],\"location\":\"top_left\"},\"id\":\"1311\",\"type\":\"Legend\"},{\"attributes\":{\"source\":{\"id\":\"1259\"}},\"id\":\"1321\",\"type\":\"CDSView\"},{\"attributes\":{\"source\":{\"id\":\"1259\"}},\"id\":\"1301\",\"type\":\"CDSView\"},{\"attributes\":{\"label\":{\"value\":\" Avg Total Payments [$]\"},\"renderers\":[{\"id\":\"1300\"}]},\"id\":\"1312\",\"type\":\"LegendItem\"},{\"attributes\":{\"data\":{\"Avg Medicare Payments [$]\":[2356229,2847681,2993521,3530111,3693364,4038430,4199604,4662549,4847623,5457129,5478948,5731288,6686469,6740364,7611202,8488170,10514618,10965454,11736802,11833965,12394840,14303062,15405260,17169263,18163419,19410472,20320336,22423915,22362581,22679362,23201100,23329455,25162119,25214542,28952967,30804748,31857542,32658285,35506685,38228805,38092545,40321193,46266572,46940232,53719168,61801318,66319200,85530724,97477118,94561190,150162602],\"Avg Total Payments [$]\":[2815426,3176902,3366222,4081868,4147263,4681918,4928860,5414776,5646876,6005089,6179625,7136931,7645391,7707835,8821394,9910246,12370645,12661915,13556614,13850070,14413999,16575787,17960075,19832287,21051175,22403429,22855921,26000001,26149231,26273179,26731563,27510523,28950559,29288875,33985667,35413278,37300911,38501742,39495689,41987795,44343344,45819845,51536799,52859204,61762591,71016737,77434457,98465078,108259026,109670573,164993988],\"Avg. Cost/attended patient [$]\":[143361,137115,176355,139094,176182,230575,198689,266048,299375,257673,281038,338836,352620,335988,434373,438251,554755,549312,659867,629235,615255,695235,867882,862963,918235,916096,905393,1045877,1180748,1223946,1066252,1194685,1332213,1276660,1369268,1426035,1552397,1548574,1524923,1557588,1931535,1678669,1922884,1879821,2559585,3007684,3198079,3903036,4295253,4745490,7560894],\"__x__values\":[0,1,2,3,4,5,6,7,8,9,10,11,12,13,14,15,16,17,18,19,20,21,22,23,24,25,26,27,28,29,30,31,32,33,34,35,36,37,38,39,40,41,42,43,44,45,46,47,48,49,50],\"__x__values_original\":[\"WY\",\"VT\",\"AK\",\"DE\",\"ND\",\"MT\",\"SD\",\"ID\",\"HI\",\"DC\",\"RI\",\"UT\",\"NH\",\"ME\",\"NM\",\"NE\",\"NV\",\"WV\",\"OR\",\"KS\",\"IA\",\"AR\",\"CO\",\"MS\",\"OK\",\"MN\",\"CT\",\"SC\",\"LA\",\"WI\",\"KY\",\"AL\",\"AZ\",\"WA\",\"TN\",\"MO\",\"IN\",\"VA\",\"MA\",\"MD\",\"GA\",\"NC\",\"NJ\",\"MI\",\"OH\",\"PA\",\"IL\",\"FL\",\"NY\",\"TX\",\"CA\"]},\"selected\":{\"id\":\"1309\"},\"selection_policy\":{\"id\":\"1308\"}},\"id\":\"1259\",\"type\":\"ColumnDataSource\"},{\"attributes\":{},\"id\":\"1280\",\"type\":\"WheelZoomTool\"},{\"attributes\":{},\"id\":\"1279\",\"type\":\"PanTool\"},{\"attributes\":{\"active_scroll\":{\"id\":\"1280\"},\"tools\":[{\"id\":\"1279\"},{\"id\":\"1280\"},{\"id\":\"1281\"},{\"id\":\"1282\"},{\"id\":\"1283\"},{\"id\":\"1284\"},{\"id\":\"1313\"},{\"id\":\"1332\"},{\"id\":\"1351\"}]},\"id\":\"1286\",\"type\":\"Toolbar\"}],\"root_ids\":[\"1260\"]},\"title\":\"Bokeh Application\",\"version\":\"2.4.1\"}};\n  const render_items = [{\"docid\":\"288204d7-cb28-4d06-8232-042eb2617e68\",\"root_ids\":[\"1260\"],\"roots\":{\"1260\":\"069188af-89eb-496a-9aca-582a383b386c\"}}];\n  root.Bokeh.embed.embed_items_notebook(docs_json, render_items);\n\n  }\n  if (root.Bokeh !== undefined) {\n    embed_document(root);\n  } else {\n    let attempts = 0;\n    const timer = setInterval(function(root) {\n      if (root.Bokeh !== undefined) {\n        clearInterval(timer);\n        embed_document(root);\n      } else {\n        attempts++;\n        if (attempts > 100) {\n          clearInterval(timer);\n          console.log(\"Bokeh: ERROR: Unable to run BokehJS code because BokehJS library is missing\");\n        }\n      }\n    }, 10, root)\n  }\n})(window);",
      "application/vnd.bokehjs_exec.v0+json": ""
     },
     "metadata": {
      "application/vnd.bokehjs_exec.v0+json": {
       "id": "1260"
      }
     },
     "output_type": "display_data"
    }
   ],
   "source": [
    "by_states = sorted_df_by_state.plot_bokeh.bar(figsize=(1200,400), \n",
    "                                            title='Hospital Charges in America by States', \n",
    "                                            show_figure=True, legend = 'top_left', disable_scientific_axes='y')"
   ]
  },
  {
   "cell_type": "markdown",
   "metadata": {},
   "source": [
    "####  By Pacient by State"
   ]
  },
  {
   "cell_type": "code",
   "execution_count": 25,
   "metadata": {},
   "outputs": [],
   "source": [
    "df_by_patient = df.groupby(df['Provider State']).median()"
   ]
  },
  {
   "cell_type": "code",
   "execution_count": 33,
   "metadata": {},
   "outputs": [],
   "source": [
    "sorted_df_by_patient = df_by_patient.sort_values(by=['Avg. Cost/attended patient [$]'])"
   ]
  },
  {
   "cell_type": "code",
   "execution_count": 31,
   "metadata": {},
   "outputs": [
    {
     "data": {
      "text/html": [
       "\n",
       "\n",
       "\n",
       "\n",
       "\n",
       "\n",
       "  <div class=\"bk-root\" id=\"73ac4792-8bdc-4862-bf06-575330486b54\" data-root-id=\"1791\"></div>\n"
      ]
     },
     "metadata": {},
     "output_type": "display_data"
    },
    {
     "data": {
      "application/javascript": "(function(root) {\n  function embed_document(root) {\n    \n  const docs_json = {\"523a3f7e-9a6b-4f4b-9169-9013ec28c571\":{\"defs\":[],\"roots\":{\"references\":[{\"attributes\":{\"below\":[{\"id\":\"1802\"}],\"center\":[{\"id\":\"1805\"},{\"id\":\"1809\"},{\"id\":\"1842\"}],\"height\":400,\"left\":[{\"id\":\"1806\"}],\"output_backend\":\"webgl\",\"renderers\":[{\"id\":\"1831\"}],\"sizing_mode\":\"fixed\",\"title\":{\"id\":\"1792\"},\"toolbar\":{\"id\":\"1817\"},\"width\":1200,\"x_range\":{\"id\":\"1794\"},\"x_scale\":{\"id\":\"1798\"},\"y_range\":{\"id\":\"1796\"},\"y_scale\":{\"id\":\"1800\"}},\"id\":\"1791\",\"subtype\":\"Figure\",\"type\":\"Plot\"},{\"attributes\":{},\"id\":\"1794\",\"type\":\"DataRange1d\"},{\"attributes\":{},\"id\":\"1800\",\"type\":\"LinearScale\"},{\"attributes\":{\"fill_color\":{\"value\":\"#1f77b4\"},\"hatch_color\":{\"value\":\"#1f77b4\"},\"line_color\":{\"value\":\"#1f77b4\"},\"line_width\":{\"value\":2},\"top\":{\"field\":\"Avg. Cost/attended patient [$]\"},\"width\":{\"value\":0.7},\"x\":{\"field\":\"__x__values\",\"transform\":{\"id\":\"1826\"}}},\"id\":\"1828\",\"type\":\"VBar\"},{\"attributes\":{\"coordinates\":null,\"group\":null,\"text\":\"Hospital Charges in America by Attended Patient\"},\"id\":\"1792\",\"type\":\"Title\"},{\"attributes\":{},\"id\":\"1811\",\"type\":\"WheelZoomTool\"},{\"attributes\":{\"callback\":null,\"mode\":\"vline\",\"renderers\":[{\"id\":\"1831\"}],\"tooltips\":[[\"Provider State\",\"@__x__values_original\"],[\"Avg. Cost/attended patient [$]\",\"@{Avg. Cost/attended patient [$]}\"]]},\"id\":\"1844\",\"type\":\"HoverTool\"},{\"attributes\":{\"axis_label\":\"Provider State\",\"coordinates\":null,\"formatter\":{\"id\":\"1824\"},\"group\":null,\"major_label_policy\":{\"id\":\"1838\"},\"ticker\":{\"id\":\"1846\"}},\"id\":\"1802\",\"type\":\"LinearAxis\"},{\"attributes\":{\"axis\":{\"id\":\"1802\"},\"coordinates\":null,\"group\":null,\"ticker\":null},\"id\":\"1805\",\"type\":\"Grid\"},{\"attributes\":{\"axis_label\":\"Avg. Cost/attended patient [$]\",\"coordinates\":null,\"formatter\":{\"id\":\"1835\"},\"group\":null,\"major_label_policy\":{\"id\":\"1836\"},\"ticker\":{\"id\":\"1807\"}},\"id\":\"1806\",\"type\":\"LinearAxis\"},{\"attributes\":{\"code\":\"\\n                                    var labels = {0: 'DE', 1: 'KY', 2: 'TN', 3: 'FL', 4: 'NC', 5: 'MI', 6: 'AR', 7: 'VA', 8: 'AL', 9: 'WV', 10: 'MO', 11: 'NJ', 12: 'IN', 13: 'OH', 14: 'MA', 15: 'MS', 16: 'IA', 17: 'SC', 18: 'IL', 19: 'LA', 20: 'OK', 21: 'PA', 22: 'ME', 23: 'TX', 24: 'GA', 25: 'KS', 26: 'CT', 27: 'MD', 28: 'NE', 29: 'SD', 30: 'MN', 31: 'NY', 32: 'ND', 33: 'RI', 34: 'NH', 35: 'WA', 36: 'WI', 37: 'NV', 38: 'AZ', 39: 'CO', 40: 'MT', 41: 'ID', 42: 'DC', 43: 'NM', 44: 'UT', 45: 'OR', 46: 'VT', 47: 'CA', 48: 'WY', 49: 'HI', 50: 'AK'};\\n                                    return labels[tick];\\n                                    \"},\"id\":\"1824\",\"type\":\"FuncTickFormatter\"},{\"attributes\":{\"axis\":{\"id\":\"1806\"},\"coordinates\":null,\"dimension\":1,\"group\":null,\"ticker\":null},\"id\":\"1809\",\"type\":\"Grid\"},{\"attributes\":{},\"id\":\"1835\",\"type\":\"BasicTickFormatter\"},{\"attributes\":{},\"id\":\"1807\",\"type\":\"BasicTicker\"},{\"attributes\":{\"active_scroll\":{\"id\":\"1811\"},\"tools\":[{\"id\":\"1810\"},{\"id\":\"1811\"},{\"id\":\"1812\"},{\"id\":\"1813\"},{\"id\":\"1814\"},{\"id\":\"1815\"},{\"id\":\"1844\"}]},\"id\":\"1817\",\"type\":\"Toolbar\"},{\"attributes\":{},\"id\":\"1815\",\"type\":\"HelpTool\"},{\"attributes\":{},\"id\":\"1836\",\"type\":\"AllLabels\"},{\"attributes\":{\"ticks\":[0,1,2,3,4,5,6,7,8,9,10,11,12,13,14,15,16,17,18,19,20,21,22,23,24,25,26,27,28,29,30,31,32,33,34,35,36,37,38,39,40,41,42,43,44,45,46,47,48,49,50]},\"id\":\"1846\",\"type\":\"FixedTicker\"},{\"attributes\":{},\"id\":\"1810\",\"type\":\"PanTool\"},{\"attributes\":{\"overlay\":{\"id\":\"1816\"}},\"id\":\"1812\",\"type\":\"BoxZoomTool\"},{\"attributes\":{\"fill_alpha\":{\"value\":0.2},\"fill_color\":{\"value\":\"#1f77b4\"},\"hatch_alpha\":{\"value\":0.2},\"hatch_color\":{\"value\":\"#1f77b4\"},\"line_alpha\":{\"value\":0.2},\"line_color\":{\"value\":\"#1f77b4\"},\"line_width\":{\"value\":2},\"top\":{\"field\":\"Avg. Cost/attended patient [$]\"},\"width\":{\"value\":0.7},\"x\":{\"field\":\"__x__values\",\"transform\":{\"id\":\"1826\"}}},\"id\":\"1830\",\"type\":\"VBar\"},{\"attributes\":{},\"id\":\"1813\",\"type\":\"SaveTool\"},{\"attributes\":{},\"id\":\"1838\",\"type\":\"AllLabels\"},{\"attributes\":{},\"id\":\"1814\",\"type\":\"ResetTool\"},{\"attributes\":{\"fill_alpha\":{\"value\":0.1},\"fill_color\":{\"value\":\"#1f77b4\"},\"hatch_alpha\":{\"value\":0.1},\"hatch_color\":{\"value\":\"#1f77b4\"},\"line_alpha\":{\"value\":0.1},\"line_color\":{\"value\":\"#1f77b4\"},\"line_width\":{\"value\":2},\"top\":{\"field\":\"Avg. Cost/attended patient [$]\"},\"width\":{\"value\":0.7},\"x\":{\"field\":\"__x__values\",\"transform\":{\"id\":\"1826\"}}},\"id\":\"1829\",\"type\":\"VBar\"},{\"attributes\":{\"bottom_units\":\"screen\",\"coordinates\":null,\"fill_alpha\":0.5,\"fill_color\":\"lightgrey\",\"group\":null,\"left_units\":\"screen\",\"level\":\"overlay\",\"line_alpha\":1.0,\"line_color\":\"black\",\"line_dash\":[4,4],\"line_width\":2,\"right_units\":\"screen\",\"syncable\":false,\"top_units\":\"screen\"},\"id\":\"1816\",\"type\":\"BoxAnnotation\"},{\"attributes\":{\"coordinates\":null,\"data_source\":{\"id\":\"1790\"},\"glyph\":{\"id\":\"1828\"},\"group\":null,\"hover_glyph\":null,\"muted_glyph\":{\"id\":\"1830\"},\"nonselection_glyph\":{\"id\":\"1829\"},\"view\":{\"id\":\"1832\"}},\"id\":\"1831\",\"type\":\"GlyphRenderer\"},{\"attributes\":{\"label\":{\"value\":\" Avg. Cost/attended patient [$]\"},\"renderers\":[{\"id\":\"1831\"}]},\"id\":\"1843\",\"type\":\"LegendItem\"},{\"attributes\":{\"click_policy\":\"hide\",\"coordinates\":null,\"group\":null,\"items\":[{\"id\":\"1843\"}],\"location\":\"top_left\"},\"id\":\"1842\",\"type\":\"Legend\"},{\"attributes\":{\"source\":{\"id\":\"1790\"}},\"id\":\"1832\",\"type\":\"CDSView\"},{\"attributes\":{\"range\":{\"id\":\"1794\"}},\"id\":\"1826\",\"type\":\"Dodge\"},{\"attributes\":{\"data\":{\"Avg. Cost/attended patient [$]\":{\"__ndarray__\":\"MnTmKv76akDD9Shcz11sQOQobbH1eGxAexSuR+F6bEDmjRFM9I9sQPDc+M6N32xAF0t+seTjbEBgRAdGdGltQL1W8IkjdW1A/iBDZYd1bUATEhISEmpuQMVO7MRO4G5Aam6tnaHsbkD+Wc6f5exuQH6tzQOZPW9AHOrDYC4/b0C0C4hNZWxvQIAnq+WNoW9AKI70WsEpcEBfnVQZw1pwQPLpa4uDa3BA+svkFKKEcECmdIauiAdxQNC8FZdHE3FA/kLPnaIecUDL7YswdzhxQMovlvxi1XFAJpAO+bXWcUAr5HWRSgVyQPJ9Rb5KFnJA6lTXUiQmckCGmD++jV9yQCsQRtqxlHJAYl52DdzkckAlSZIkSQpzQDDa2lkbOXNA2H5jgfs9c0AcI5jor0tzQHsUrkfhx3NAVlVVVVU3dEA3wRy+dt10QFyPwvUoXHVAkzkEI+G3dUDJvjqpMtZ1QGhMkwHmMXZAsAgEi0DMdkCUPumTPg53QHBeTTyrlXhA+Yqv+Irhe0B/2tFei3x/QGKxIRYbNoFA\",\"dtype\":\"float64\",\"order\":\"little\",\"shape\":[51]},\"__x__values\":[0,1,2,3,4,5,6,7,8,9,10,11,12,13,14,15,16,17,18,19,20,21,22,23,24,25,26,27,28,29,30,31,32,33,34,35,36,37,38,39,40,41,42,43,44,45,46,47,48,49,50],\"__x__values_original\":[\"DE\",\"KY\",\"TN\",\"FL\",\"NC\",\"MI\",\"AR\",\"VA\",\"AL\",\"WV\",\"MO\",\"NJ\",\"IN\",\"OH\",\"MA\",\"MS\",\"IA\",\"SC\",\"IL\",\"LA\",\"OK\",\"PA\",\"ME\",\"TX\",\"GA\",\"KS\",\"CT\",\"MD\",\"NE\",\"SD\",\"MN\",\"NY\",\"ND\",\"RI\",\"NH\",\"WA\",\"WI\",\"NV\",\"AZ\",\"CO\",\"MT\",\"ID\",\"DC\",\"NM\",\"UT\",\"OR\",\"VT\",\"CA\",\"WY\",\"HI\",\"AK\"]},\"selected\":{\"id\":\"1840\"},\"selection_policy\":{\"id\":\"1839\"}},\"id\":\"1790\",\"type\":\"ColumnDataSource\"},{\"attributes\":{},\"id\":\"1839\",\"type\":\"UnionRenderers\"},{\"attributes\":{},\"id\":\"1798\",\"type\":\"LinearScale\"},{\"attributes\":{},\"id\":\"1840\",\"type\":\"Selection\"},{\"attributes\":{},\"id\":\"1796\",\"type\":\"DataRange1d\"}],\"root_ids\":[\"1791\"]},\"title\":\"Bokeh Application\",\"version\":\"2.4.1\"}};\n  const render_items = [{\"docid\":\"523a3f7e-9a6b-4f4b-9169-9013ec28c571\",\"root_ids\":[\"1791\"],\"roots\":{\"1791\":\"73ac4792-8bdc-4862-bf06-575330486b54\"}}];\n  root.Bokeh.embed.embed_items_notebook(docs_json, render_items);\n\n  }\n  if (root.Bokeh !== undefined) {\n    embed_document(root);\n  } else {\n    let attempts = 0;\n    const timer = setInterval(function(root) {\n      if (root.Bokeh !== undefined) {\n        clearInterval(timer);\n        embed_document(root);\n      } else {\n        attempts++;\n        if (attempts > 100) {\n          clearInterval(timer);\n          console.log(\"Bokeh: ERROR: Unable to run BokehJS code because BokehJS library is missing\");\n        }\n      }\n    }, 10, root)\n  }\n})(window);",
      "application/vnd.bokehjs_exec.v0+json": ""
     },
     "metadata": {
      "application/vnd.bokehjs_exec.v0+json": {
       "id": "1791"
      }
     },
     "output_type": "display_data"
    }
   ],
   "source": [
    "by_patient = sorted_df_by_patient.plot_bokeh.bar(figsize=(1200,400), \n",
    "                                y='Avg. Cost/attended patient [$]',\n",
    "                                title='Hospital Charges in America by Attended Patient', \n",
    "                                show_figure=True, legend = 'top_left')"
   ]
  },
  {
   "cell_type": "code",
   "execution_count": 174,
   "metadata": {},
   "outputs": [
    {
     "ename": "KeyError",
     "evalue": "\"['Provider Id', 'Provider Zip Code', 'Avg Covered Charges [$]'] not in index\"",
     "output_type": "error",
     "traceback": [
      "\u001b[0;31m---------------------------------------------------------------------------\u001b[0m",
      "\u001b[0;31mKeyError\u001b[0m                                  Traceback (most recent call last)",
      "\u001b[0;32m/tmp/ipykernel_6335/1980385704.py\u001b[0m in \u001b[0;36m<module>\u001b[0;34m\u001b[0m\n\u001b[0;32m----> 1\u001b[0;31m \u001b[0mdf_drg\u001b[0m \u001b[0;34m=\u001b[0m \u001b[0mdf\u001b[0m\u001b[0;34m.\u001b[0m\u001b[0mdrop\u001b[0m\u001b[0;34m(\u001b[0m\u001b[0mdf\u001b[0m\u001b[0;34m[\u001b[0m\u001b[0;34m[\u001b[0m\u001b[0;34m'Provider Id'\u001b[0m\u001b[0;34m,\u001b[0m     \u001b[0;34m'Provider Zip Code'\u001b[0m\u001b[0;34m,\u001b[0m \u001b[0;34m'Total Discharges'\u001b[0m\u001b[0;34m,\u001b[0m \u001b[0;34m'Avg Covered Charges [$]'\u001b[0m\u001b[0;34m,\u001b[0m \u001b[0;34m'Avg Medicare Payments [$]'\u001b[0m\u001b[0;34m,\u001b[0m \u001b[0;34m'Avg Total Payments [$]'\u001b[0m\u001b[0;34m]\u001b[0m\u001b[0;34m]\u001b[0m\u001b[0;34m,\u001b[0m \u001b[0maxis\u001b[0m\u001b[0;34m=\u001b[0m\u001b[0;36m1\u001b[0m\u001b[0;34m)\u001b[0m\u001b[0;34m\u001b[0m\u001b[0;34m\u001b[0m\u001b[0m\n\u001b[0m",
      "\u001b[0;32m~/.local/lib/python3.8/site-packages/pandas/core/frame.py\u001b[0m in \u001b[0;36m__getitem__\u001b[0;34m(self, key)\u001b[0m\n\u001b[1;32m   3462\u001b[0m             \u001b[0;32mif\u001b[0m \u001b[0mis_iterator\u001b[0m\u001b[0;34m(\u001b[0m\u001b[0mkey\u001b[0m\u001b[0;34m)\u001b[0m\u001b[0;34m:\u001b[0m\u001b[0;34m\u001b[0m\u001b[0;34m\u001b[0m\u001b[0m\n\u001b[1;32m   3463\u001b[0m                 \u001b[0mkey\u001b[0m \u001b[0;34m=\u001b[0m \u001b[0mlist\u001b[0m\u001b[0;34m(\u001b[0m\u001b[0mkey\u001b[0m\u001b[0;34m)\u001b[0m\u001b[0;34m\u001b[0m\u001b[0;34m\u001b[0m\u001b[0m\n\u001b[0;32m-> 3464\u001b[0;31m             \u001b[0mindexer\u001b[0m \u001b[0;34m=\u001b[0m \u001b[0mself\u001b[0m\u001b[0;34m.\u001b[0m\u001b[0mloc\u001b[0m\u001b[0;34m.\u001b[0m\u001b[0m_get_listlike_indexer\u001b[0m\u001b[0;34m(\u001b[0m\u001b[0mkey\u001b[0m\u001b[0;34m,\u001b[0m \u001b[0maxis\u001b[0m\u001b[0;34m=\u001b[0m\u001b[0;36m1\u001b[0m\u001b[0;34m)\u001b[0m\u001b[0;34m[\u001b[0m\u001b[0;36m1\u001b[0m\u001b[0;34m]\u001b[0m\u001b[0;34m\u001b[0m\u001b[0;34m\u001b[0m\u001b[0m\n\u001b[0m\u001b[1;32m   3465\u001b[0m \u001b[0;34m\u001b[0m\u001b[0m\n\u001b[1;32m   3466\u001b[0m         \u001b[0;31m# take() does not accept boolean indexers\u001b[0m\u001b[0;34m\u001b[0m\u001b[0;34m\u001b[0m\u001b[0;34m\u001b[0m\u001b[0m\n",
      "\u001b[0;32m~/.local/lib/python3.8/site-packages/pandas/core/indexing.py\u001b[0m in \u001b[0;36m_get_listlike_indexer\u001b[0;34m(self, key, axis)\u001b[0m\n\u001b[1;32m   1312\u001b[0m             \u001b[0mkeyarr\u001b[0m\u001b[0;34m,\u001b[0m \u001b[0mindexer\u001b[0m\u001b[0;34m,\u001b[0m \u001b[0mnew_indexer\u001b[0m \u001b[0;34m=\u001b[0m \u001b[0max\u001b[0m\u001b[0;34m.\u001b[0m\u001b[0m_reindex_non_unique\u001b[0m\u001b[0;34m(\u001b[0m\u001b[0mkeyarr\u001b[0m\u001b[0;34m)\u001b[0m\u001b[0;34m\u001b[0m\u001b[0;34m\u001b[0m\u001b[0m\n\u001b[1;32m   1313\u001b[0m \u001b[0;34m\u001b[0m\u001b[0m\n\u001b[0;32m-> 1314\u001b[0;31m         \u001b[0mself\u001b[0m\u001b[0;34m.\u001b[0m\u001b[0m_validate_read_indexer\u001b[0m\u001b[0;34m(\u001b[0m\u001b[0mkeyarr\u001b[0m\u001b[0;34m,\u001b[0m \u001b[0mindexer\u001b[0m\u001b[0;34m,\u001b[0m \u001b[0maxis\u001b[0m\u001b[0;34m)\u001b[0m\u001b[0;34m\u001b[0m\u001b[0;34m\u001b[0m\u001b[0m\n\u001b[0m\u001b[1;32m   1315\u001b[0m \u001b[0;34m\u001b[0m\u001b[0m\n\u001b[1;32m   1316\u001b[0m         if needs_i8_conversion(ax.dtype) or isinstance(\n",
      "\u001b[0;32m~/.local/lib/python3.8/site-packages/pandas/core/indexing.py\u001b[0m in \u001b[0;36m_validate_read_indexer\u001b[0;34m(self, key, indexer, axis)\u001b[0m\n\u001b[1;32m   1375\u001b[0m \u001b[0;34m\u001b[0m\u001b[0m\n\u001b[1;32m   1376\u001b[0m             \u001b[0mnot_found\u001b[0m \u001b[0;34m=\u001b[0m \u001b[0mlist\u001b[0m\u001b[0;34m(\u001b[0m\u001b[0mensure_index\u001b[0m\u001b[0;34m(\u001b[0m\u001b[0mkey\u001b[0m\u001b[0;34m)\u001b[0m\u001b[0;34m[\u001b[0m\u001b[0mmissing_mask\u001b[0m\u001b[0;34m.\u001b[0m\u001b[0mnonzero\u001b[0m\u001b[0;34m(\u001b[0m\u001b[0;34m)\u001b[0m\u001b[0;34m[\u001b[0m\u001b[0;36m0\u001b[0m\u001b[0;34m]\u001b[0m\u001b[0;34m]\u001b[0m\u001b[0;34m.\u001b[0m\u001b[0munique\u001b[0m\u001b[0;34m(\u001b[0m\u001b[0;34m)\u001b[0m\u001b[0;34m)\u001b[0m\u001b[0;34m\u001b[0m\u001b[0;34m\u001b[0m\u001b[0m\n\u001b[0;32m-> 1377\u001b[0;31m             \u001b[0;32mraise\u001b[0m \u001b[0mKeyError\u001b[0m\u001b[0;34m(\u001b[0m\u001b[0;34mf\"{not_found} not in index\"\u001b[0m\u001b[0;34m)\u001b[0m\u001b[0;34m\u001b[0m\u001b[0;34m\u001b[0m\u001b[0m\n\u001b[0m\u001b[1;32m   1378\u001b[0m \u001b[0;34m\u001b[0m\u001b[0m\n\u001b[1;32m   1379\u001b[0m \u001b[0;34m\u001b[0m\u001b[0m\n",
      "\u001b[0;31mKeyError\u001b[0m: \"['Provider Id', 'Provider Zip Code', 'Avg Covered Charges [$]'] not in index\""
     ]
    }
   ],
   "source": [
    "df_drg = df.drop(df[['Provider Id',\t'Provider Zip Code', 'Total Discharges', 'Avg Covered Charges [$]', 'Avg Medicare Payments [$]', 'Avg Total Payments [$]']], axis=1)"
   ]
  },
  {
   "cell_type": "markdown",
   "metadata": {},
   "source": [
    "#### More expensive States by DRG"
   ]
  },
  {
   "cell_type": "code",
   "execution_count": null,
   "metadata": {},
   "outputs": [
    {
     "data": {
      "text/html": [
       "<div>\n",
       "<style scoped>\n",
       "    .dataframe tbody tr th:only-of-type {\n",
       "        vertical-align: middle;\n",
       "    }\n",
       "\n",
       "    .dataframe tbody tr th {\n",
       "        vertical-align: top;\n",
       "    }\n",
       "\n",
       "    .dataframe thead th {\n",
       "        text-align: right;\n",
       "    }\n",
       "</style>\n",
       "<table border=\"1\" class=\"dataframe\">\n",
       "  <thead>\n",
       "    <tr style=\"text-align: right;\">\n",
       "      <th></th>\n",
       "      <th></th>\n",
       "      <th>Avg. Cost/attended patient [$]</th>\n",
       "    </tr>\n",
       "    <tr>\n",
       "      <th>DRG Definition</th>\n",
       "      <th>Provider State</th>\n",
       "      <th></th>\n",
       "    </tr>\n",
       "  </thead>\n",
       "  <tbody>\n",
       "    <tr>\n",
       "      <th>039 - EXTRACRANIAL PROCEDURES W/O CC/MCC</th>\n",
       "      <th>DC</th>\n",
       "      <td>677.112143</td>\n",
       "    </tr>\n",
       "    <tr>\n",
       "      <th>057 - DEGENERATIVE NERVOUS SYSTEM DISORDERS W/O MCC</th>\n",
       "      <th>AK</th>\n",
       "      <td>799.909091</td>\n",
       "    </tr>\n",
       "    <tr>\n",
       "      <th>064 - INTRACRANIAL HEMORRHAGE OR CEREBRAL INFARCTION W MCC</th>\n",
       "      <th>AK</th>\n",
       "      <td>1417.867941</td>\n",
       "    </tr>\n",
       "    <tr>\n",
       "      <th>065 - INTRACRANIAL HEMORRHAGE OR CEREBRAL INFARCTION W CC</th>\n",
       "      <th>AK</th>\n",
       "      <td>793.107500</td>\n",
       "    </tr>\n",
       "    <tr>\n",
       "      <th>066 - INTRACRANIAL HEMORRHAGE OR CEREBRAL INFARCTION W/O CC/MCC</th>\n",
       "      <th>HI</th>\n",
       "      <td>518.900302</td>\n",
       "    </tr>\n",
       "    <tr>\n",
       "      <th>...</th>\n",
       "      <th>...</th>\n",
       "      <td>...</td>\n",
       "    </tr>\n",
       "    <tr>\n",
       "      <th>885 - PSYCHOSES</th>\n",
       "      <th>CT</th>\n",
       "      <td>686.596667</td>\n",
       "    </tr>\n",
       "    <tr>\n",
       "      <th>897 - ALCOHOL/DRUG ABUSE OR DEPENDENCE W/O REHABILITATION THERAPY W/O MCC</th>\n",
       "      <th>AK</th>\n",
       "      <td>516.298205</td>\n",
       "    </tr>\n",
       "    <tr>\n",
       "      <th>917 - POISONING &amp; TOXIC EFFECTS OF DRUGS W MCC</th>\n",
       "      <th>SD</th>\n",
       "      <td>1402.751818</td>\n",
       "    </tr>\n",
       "    <tr>\n",
       "      <th>918 - POISONING &amp; TOXIC EFFECTS OF DRUGS W/O MCC</th>\n",
       "      <th>VT</th>\n",
       "      <td>427.085184</td>\n",
       "    </tr>\n",
       "    <tr>\n",
       "      <th>948 - SIGNS &amp; SYMPTOMS W/O MCC</th>\n",
       "      <th>AK</th>\n",
       "      <td>481.927428</td>\n",
       "    </tr>\n",
       "  </tbody>\n",
       "</table>\n",
       "<p>100 rows × 1 columns</p>\n",
       "</div>"
      ],
      "text/plain": [
       "                                                                   Avg. Cost/attended patient [$]\n",
       "DRG Definition                                     Provider State                                \n",
       "039 - EXTRACRANIAL PROCEDURES W/O CC/MCC           DC                                  677.112143\n",
       "057 - DEGENERATIVE NERVOUS SYSTEM DISORDERS W/O... AK                                  799.909091\n",
       "064 - INTRACRANIAL HEMORRHAGE OR CEREBRAL INFAR... AK                                 1417.867941\n",
       "065 - INTRACRANIAL HEMORRHAGE OR CEREBRAL INFAR... AK                                  793.107500\n",
       "066 - INTRACRANIAL HEMORRHAGE OR CEREBRAL INFAR... HI                                  518.900302\n",
       "...                                                                                           ...\n",
       "885 - PSYCHOSES                                    CT                                  686.596667\n",
       "897 - ALCOHOL/DRUG ABUSE OR DEPENDENCE W/O REHA... AK                                  516.298205\n",
       "917 - POISONING & TOXIC EFFECTS OF DRUGS W MCC     SD                                 1402.751818\n",
       "918 - POISONING & TOXIC EFFECTS OF DRUGS W/O MCC   VT                                  427.085184\n",
       "948 - SIGNS & SYMPTOMS W/O MCC                     AK                                  481.927428\n",
       "\n",
       "[100 rows x 1 columns]"
      ]
     },
     "execution_count": 43,
     "metadata": {},
     "output_type": "execute_result"
    }
   ],
   "source": [
    "df_drg_max = df_drg.groupby(['DRG Definition', 'Provider State']).median()\n",
    "sorted_df_drg_max = df_drg_max.sort_values(['DRG Definition','Avg. Cost/attended patient [$]'], ascending=[1,0])\n",
    "sorti = sorted_df_drg_max.groupby(level=0).head(1)\n",
    "sorti"
   ]
  },
  {
   "cell_type": "code",
   "execution_count": null,
   "metadata": {},
   "outputs": [
    {
     "data": {
      "text/plain": [
       "Index(['DC', 'AK', 'HI', 'UT', 'WY', 'CA', 'OR', 'VT', 'NM', 'RI', 'NV', 'CT',\n",
       "       'SD'],\n",
       "      dtype='object', name='Provider State')"
      ]
     },
     "execution_count": 44,
     "metadata": {},
     "output_type": "execute_result"
    }
   ],
   "source": [
    "sorti.index.unique(level=1)"
   ]
  },
  {
   "cell_type": "code",
   "execution_count": null,
   "metadata": {},
   "outputs": [],
   "source": [
    "listi= sorti.index.get_level_values('Provider State')"
   ]
  },
  {
   "cell_type": "code",
   "execution_count": null,
   "metadata": {},
   "outputs": [],
   "source": [
    "from collections import Counter\n",
    "a = Counter(listi)\n",
    "b = dict(a)\n",
    "c = pd.DataFrame(b.items())\n",
    "c.rename(columns={0: 'Provider State',1:'DRG_qty'}, inplace=True)\n",
    "d = c.set_index('Provider State')"
   ]
  },
  {
   "cell_type": "code",
   "execution_count": null,
   "metadata": {},
   "outputs": [
    {
     "data": {
      "text/html": [
       "\n",
       "\n",
       "\n",
       "\n",
       "\n",
       "\n",
       "  <div class=\"bk-root\" id=\"3fd6a520-82ea-46fe-907c-619846c5859b\" data-root-id=\"1858\"></div>\n"
      ]
     },
     "metadata": {},
     "output_type": "display_data"
    },
    {
     "data": {
      "application/javascript": "(function(root) {\n  function embed_document(root) {\n    \n  const docs_json = {\"1eed7237-6b99-4db2-83ff-ca85f4aa5b71\":{\"defs\":[],\"roots\":{\"references\":[{\"attributes\":{\"below\":[{\"id\":\"1869\"}],\"center\":[{\"id\":\"1872\"},{\"id\":\"1876\"},{\"id\":\"1909\"}],\"height\":400,\"left\":[{\"id\":\"1873\"}],\"output_backend\":\"webgl\",\"renderers\":[{\"id\":\"1898\"}],\"sizing_mode\":\"fixed\",\"title\":{\"id\":\"1859\"},\"toolbar\":{\"id\":\"1884\"},\"x_range\":{\"id\":\"1861\"},\"x_scale\":{\"id\":\"1865\"},\"y_range\":{\"id\":\"1863\"},\"y_scale\":{\"id\":\"1867\"}},\"id\":\"1858\",\"subtype\":\"Figure\",\"type\":\"Plot\"},{\"attributes\":{\"axis\":{\"id\":\"1869\"},\"coordinates\":null,\"group\":null,\"ticker\":null},\"id\":\"1872\",\"type\":\"Grid\"},{\"attributes\":{\"data\":{\"DRG_qty\":[1,1,1,1,1,1,1,2,7,8,13,21,42],\"__x__values\":[0,1,2,3,4,5,6,7,8,9,10,11,12],\"__x__values_original\":[\"CA\",\"OR\",\"NM\",\"RI\",\"NV\",\"CT\",\"SD\",\"UT\",\"VT\",\"DC\",\"WY\",\"HI\",\"AK\"]},\"selected\":{\"id\":\"1907\"},\"selection_policy\":{\"id\":\"1906\"}},\"id\":\"1857\",\"type\":\"ColumnDataSource\"},{\"attributes\":{},\"id\":\"1878\",\"type\":\"WheelZoomTool\"},{\"attributes\":{\"active_scroll\":{\"id\":\"1878\"},\"tools\":[{\"id\":\"1877\"},{\"id\":\"1878\"},{\"id\":\"1879\"},{\"id\":\"1880\"},{\"id\":\"1881\"},{\"id\":\"1882\"},{\"id\":\"1911\"}]},\"id\":\"1884\",\"type\":\"Toolbar\"},{\"attributes\":{\"axis_label\":\"DRG_qty\",\"coordinates\":null,\"formatter\":{\"id\":\"1902\"},\"group\":null,\"major_label_policy\":{\"id\":\"1903\"},\"ticker\":{\"id\":\"1874\"}},\"id\":\"1873\",\"type\":\"LinearAxis\"},{\"attributes\":{\"axis\":{\"id\":\"1873\"},\"coordinates\":null,\"dimension\":1,\"group\":null,\"ticker\":null},\"id\":\"1876\",\"type\":\"Grid\"},{\"attributes\":{},\"id\":\"1874\",\"type\":\"BasicTicker\"},{\"attributes\":{},\"id\":\"1902\",\"type\":\"BasicTickFormatter\"},{\"attributes\":{\"fill_alpha\":{\"value\":0.2},\"fill_color\":{\"value\":\"#1f77b4\"},\"hatch_alpha\":{\"value\":0.2},\"hatch_color\":{\"value\":\"#1f77b4\"},\"line_alpha\":{\"value\":0.2},\"line_color\":{\"value\":\"#1f77b4\"},\"line_width\":{\"value\":2},\"top\":{\"field\":\"DRG_qty\"},\"width\":{\"value\":0.7},\"x\":{\"field\":\"__x__values\",\"transform\":{\"id\":\"1893\"}}},\"id\":\"1897\",\"type\":\"VBar\"},{\"attributes\":{},\"id\":\"1882\",\"type\":\"HelpTool\"},{\"attributes\":{},\"id\":\"1877\",\"type\":\"PanTool\"},{\"attributes\":{\"ticks\":[0,1,2,3,4,5,6,7,8,9,10,11,12]},\"id\":\"1913\",\"type\":\"FixedTicker\"},{\"attributes\":{\"overlay\":{\"id\":\"1883\"}},\"id\":\"1879\",\"type\":\"BoxZoomTool\"},{\"attributes\":{},\"id\":\"1903\",\"type\":\"AllLabels\"},{\"attributes\":{},\"id\":\"1880\",\"type\":\"SaveTool\"},{\"attributes\":{},\"id\":\"1861\",\"type\":\"DataRange1d\"},{\"attributes\":{},\"id\":\"1881\",\"type\":\"ResetTool\"},{\"attributes\":{\"fill_alpha\":{\"value\":0.1},\"fill_color\":{\"value\":\"#1f77b4\"},\"hatch_alpha\":{\"value\":0.1},\"hatch_color\":{\"value\":\"#1f77b4\"},\"line_alpha\":{\"value\":0.1},\"line_color\":{\"value\":\"#1f77b4\"},\"line_width\":{\"value\":2},\"top\":{\"field\":\"DRG_qty\"},\"width\":{\"value\":0.7},\"x\":{\"field\":\"__x__values\",\"transform\":{\"id\":\"1893\"}}},\"id\":\"1896\",\"type\":\"VBar\"},{\"attributes\":{},\"id\":\"1905\",\"type\":\"AllLabels\"},{\"attributes\":{\"coordinates\":null,\"group\":null,\"text\":\"States with more expensive DRG\"},\"id\":\"1859\",\"type\":\"Title\"},{\"attributes\":{\"bottom_units\":\"screen\",\"coordinates\":null,\"fill_alpha\":0.5,\"fill_color\":\"lightgrey\",\"group\":null,\"left_units\":\"screen\",\"level\":\"overlay\",\"line_alpha\":1.0,\"line_color\":\"black\",\"line_dash\":[4,4],\"line_width\":2,\"right_units\":\"screen\",\"syncable\":false,\"top_units\":\"screen\"},\"id\":\"1883\",\"type\":\"BoxAnnotation\"},{\"attributes\":{\"coordinates\":null,\"data_source\":{\"id\":\"1857\"},\"glyph\":{\"id\":\"1895\"},\"group\":null,\"hover_glyph\":null,\"muted_glyph\":{\"id\":\"1897\"},\"nonselection_glyph\":{\"id\":\"1896\"},\"view\":{\"id\":\"1899\"}},\"id\":\"1898\",\"type\":\"GlyphRenderer\"},{\"attributes\":{\"click_policy\":\"hide\",\"coordinates\":null,\"group\":null,\"items\":[{\"id\":\"1910\"}],\"location\":\"top_left\"},\"id\":\"1909\",\"type\":\"Legend\"},{\"attributes\":{},\"id\":\"1865\",\"type\":\"LinearScale\"},{\"attributes\":{\"range\":{\"id\":\"1861\"}},\"id\":\"1893\",\"type\":\"Dodge\"},{\"attributes\":{\"label\":{\"value\":\" DRG_qty\"},\"renderers\":[{\"id\":\"1898\"}]},\"id\":\"1910\",\"type\":\"LegendItem\"},{\"attributes\":{\"source\":{\"id\":\"1857\"}},\"id\":\"1899\",\"type\":\"CDSView\"},{\"attributes\":{\"axis_label\":\"Provider State\",\"coordinates\":null,\"formatter\":{\"id\":\"1891\"},\"group\":null,\"major_label_policy\":{\"id\":\"1905\"},\"ticker\":{\"id\":\"1913\"}},\"id\":\"1869\",\"type\":\"LinearAxis\"},{\"attributes\":{},\"id\":\"1906\",\"type\":\"UnionRenderers\"},{\"attributes\":{},\"id\":\"1867\",\"type\":\"LinearScale\"},{\"attributes\":{},\"id\":\"1907\",\"type\":\"Selection\"},{\"attributes\":{\"code\":\"\\n                                    var labels = {0: 'CA', 1: 'OR', 2: 'NM', 3: 'RI', 4: 'NV', 5: 'CT', 6: 'SD', 7: 'UT', 8: 'VT', 9: 'DC', 10: 'WY', 11: 'HI', 12: 'AK'};\\n                                    return labels[tick];\\n                                    \"},\"id\":\"1891\",\"type\":\"FuncTickFormatter\"},{\"attributes\":{\"callback\":null,\"mode\":\"vline\",\"renderers\":[{\"id\":\"1898\"}],\"tooltips\":[[\"Provider State\",\"@__x__values_original\"],[\"DRG_qty\",\"@{DRG_qty}\"]]},\"id\":\"1911\",\"type\":\"HoverTool\"},{\"attributes\":{},\"id\":\"1863\",\"type\":\"DataRange1d\"},{\"attributes\":{\"fill_color\":{\"value\":\"#1f77b4\"},\"hatch_color\":{\"value\":\"#1f77b4\"},\"line_color\":{\"value\":\"#1f77b4\"},\"line_width\":{\"value\":2},\"top\":{\"field\":\"DRG_qty\"},\"width\":{\"value\":0.7},\"x\":{\"field\":\"__x__values\",\"transform\":{\"id\":\"1893\"}}},\"id\":\"1895\",\"type\":\"VBar\"}],\"root_ids\":[\"1858\"]},\"title\":\"Bokeh Application\",\"version\":\"2.4.1\"}};\n  const render_items = [{\"docid\":\"1eed7237-6b99-4db2-83ff-ca85f4aa5b71\",\"root_ids\":[\"1858\"],\"roots\":{\"1858\":\"3fd6a520-82ea-46fe-907c-619846c5859b\"}}];\n  root.Bokeh.embed.embed_items_notebook(docs_json, render_items);\n\n  }\n  if (root.Bokeh !== undefined) {\n    embed_document(root);\n  } else {\n    let attempts = 0;\n    const timer = setInterval(function(root) {\n      if (root.Bokeh !== undefined) {\n        clearInterval(timer);\n        embed_document(root);\n      } else {\n        attempts++;\n        if (attempts > 100) {\n          clearInterval(timer);\n          console.log(\"Bokeh: ERROR: Unable to run BokehJS code because BokehJS library is missing\");\n        }\n      }\n    }, 10, root)\n  }\n})(window);",
      "application/vnd.bokehjs_exec.v0+json": ""
     },
     "metadata": {
      "application/vnd.bokehjs_exec.v0+json": {
       "id": "1858"
      }
     },
     "output_type": "display_data"
    },
    {
     "data": {
      "text/html": [
       "<div style=\"display: table;\"><div style=\"display: table-row;\"><div style=\"display: table-cell;\"><b title=\"bokeh.plotting.figure.Figure\">Figure</b>(</div><div style=\"display: table-cell;\">id&nbsp;=&nbsp;'1858', <span id=\"1980\" style=\"cursor: pointer;\">&hellip;)</span></div></div><div class=\"1979\" style=\"display: none;\"><div style=\"display: table-cell;\"></div><div style=\"display: table-cell;\">above&nbsp;=&nbsp;[],</div></div><div class=\"1979\" style=\"display: none;\"><div style=\"display: table-cell;\"></div><div style=\"display: table-cell;\">align&nbsp;=&nbsp;'start',</div></div><div class=\"1979\" style=\"display: none;\"><div style=\"display: table-cell;\"></div><div style=\"display: table-cell;\">aspect_ratio&nbsp;=&nbsp;None,</div></div><div class=\"1979\" style=\"display: none;\"><div style=\"display: table-cell;\"></div><div style=\"display: table-cell;\">aspect_scale&nbsp;=&nbsp;1,</div></div><div class=\"1979\" style=\"display: none;\"><div style=\"display: table-cell;\"></div><div style=\"display: table-cell;\">background&nbsp;=&nbsp;None,</div></div><div class=\"1979\" style=\"display: none;\"><div style=\"display: table-cell;\"></div><div style=\"display: table-cell;\">background_fill_alpha&nbsp;=&nbsp;1.0,</div></div><div class=\"1979\" style=\"display: none;\"><div style=\"display: table-cell;\"></div><div style=\"display: table-cell;\">background_fill_color&nbsp;=&nbsp;'#ffffff',</div></div><div class=\"1979\" style=\"display: none;\"><div style=\"display: table-cell;\"></div><div style=\"display: table-cell;\">below&nbsp;=&nbsp;[LinearAxis(id='1869', ...)],</div></div><div class=\"1979\" style=\"display: none;\"><div style=\"display: table-cell;\"></div><div style=\"display: table-cell;\">border_fill_alpha&nbsp;=&nbsp;1.0,</div></div><div class=\"1979\" style=\"display: none;\"><div style=\"display: table-cell;\"></div><div style=\"display: table-cell;\">border_fill_color&nbsp;=&nbsp;'#ffffff',</div></div><div class=\"1979\" style=\"display: none;\"><div style=\"display: table-cell;\"></div><div style=\"display: table-cell;\">center&nbsp;=&nbsp;[Grid(id='1872', ...), Grid(id='1876', ...), Legend(id='1909', ...)],</div></div><div class=\"1979\" style=\"display: none;\"><div style=\"display: table-cell;\"></div><div style=\"display: table-cell;\">css_classes&nbsp;=&nbsp;[],</div></div><div class=\"1979\" style=\"display: none;\"><div style=\"display: table-cell;\"></div><div style=\"display: table-cell;\">disabled&nbsp;=&nbsp;False,</div></div><div class=\"1979\" style=\"display: none;\"><div style=\"display: table-cell;\"></div><div style=\"display: table-cell;\">extra_x_ranges&nbsp;=&nbsp;{},</div></div><div class=\"1979\" style=\"display: none;\"><div style=\"display: table-cell;\"></div><div style=\"display: table-cell;\">extra_x_scales&nbsp;=&nbsp;{},</div></div><div class=\"1979\" style=\"display: none;\"><div style=\"display: table-cell;\"></div><div style=\"display: table-cell;\">extra_y_ranges&nbsp;=&nbsp;{},</div></div><div class=\"1979\" style=\"display: none;\"><div style=\"display: table-cell;\"></div><div style=\"display: table-cell;\">extra_y_scales&nbsp;=&nbsp;{},</div></div><div class=\"1979\" style=\"display: none;\"><div style=\"display: table-cell;\"></div><div style=\"display: table-cell;\">frame_height&nbsp;=&nbsp;None,</div></div><div class=\"1979\" style=\"display: none;\"><div style=\"display: table-cell;\"></div><div style=\"display: table-cell;\">frame_width&nbsp;=&nbsp;None,</div></div><div class=\"1979\" style=\"display: none;\"><div style=\"display: table-cell;\"></div><div style=\"display: table-cell;\">height&nbsp;=&nbsp;400,</div></div><div class=\"1979\" style=\"display: none;\"><div style=\"display: table-cell;\"></div><div style=\"display: table-cell;\">height_policy&nbsp;=&nbsp;'auto',</div></div><div class=\"1979\" style=\"display: none;\"><div style=\"display: table-cell;\"></div><div style=\"display: table-cell;\">hidpi&nbsp;=&nbsp;True,</div></div><div class=\"1979\" style=\"display: none;\"><div style=\"display: table-cell;\"></div><div style=\"display: table-cell;\">inner_height&nbsp;=&nbsp;0,</div></div><div class=\"1979\" style=\"display: none;\"><div style=\"display: table-cell;\"></div><div style=\"display: table-cell;\">inner_width&nbsp;=&nbsp;0,</div></div><div class=\"1979\" style=\"display: none;\"><div style=\"display: table-cell;\"></div><div style=\"display: table-cell;\">js_event_callbacks&nbsp;=&nbsp;{},</div></div><div class=\"1979\" style=\"display: none;\"><div style=\"display: table-cell;\"></div><div style=\"display: table-cell;\">js_property_callbacks&nbsp;=&nbsp;{},</div></div><div class=\"1979\" style=\"display: none;\"><div style=\"display: table-cell;\"></div><div style=\"display: table-cell;\">left&nbsp;=&nbsp;[LinearAxis(id='1873', ...)],</div></div><div class=\"1979\" style=\"display: none;\"><div style=\"display: table-cell;\"></div><div style=\"display: table-cell;\">lod_factor&nbsp;=&nbsp;10,</div></div><div class=\"1979\" style=\"display: none;\"><div style=\"display: table-cell;\"></div><div style=\"display: table-cell;\">lod_interval&nbsp;=&nbsp;300,</div></div><div class=\"1979\" style=\"display: none;\"><div style=\"display: table-cell;\"></div><div style=\"display: table-cell;\">lod_threshold&nbsp;=&nbsp;2000,</div></div><div class=\"1979\" style=\"display: none;\"><div style=\"display: table-cell;\"></div><div style=\"display: table-cell;\">lod_timeout&nbsp;=&nbsp;500,</div></div><div class=\"1979\" style=\"display: none;\"><div style=\"display: table-cell;\"></div><div style=\"display: table-cell;\">margin&nbsp;=&nbsp;(0, 0, 0, 0),</div></div><div class=\"1979\" style=\"display: none;\"><div style=\"display: table-cell;\"></div><div style=\"display: table-cell;\">match_aspect&nbsp;=&nbsp;False,</div></div><div class=\"1979\" style=\"display: none;\"><div style=\"display: table-cell;\"></div><div style=\"display: table-cell;\">max_height&nbsp;=&nbsp;None,</div></div><div class=\"1979\" style=\"display: none;\"><div style=\"display: table-cell;\"></div><div style=\"display: table-cell;\">max_width&nbsp;=&nbsp;None,</div></div><div class=\"1979\" style=\"display: none;\"><div style=\"display: table-cell;\"></div><div style=\"display: table-cell;\">min_border&nbsp;=&nbsp;5,</div></div><div class=\"1979\" style=\"display: none;\"><div style=\"display: table-cell;\"></div><div style=\"display: table-cell;\">min_border_bottom&nbsp;=&nbsp;None,</div></div><div class=\"1979\" style=\"display: none;\"><div style=\"display: table-cell;\"></div><div style=\"display: table-cell;\">min_border_left&nbsp;=&nbsp;None,</div></div><div class=\"1979\" style=\"display: none;\"><div style=\"display: table-cell;\"></div><div style=\"display: table-cell;\">min_border_right&nbsp;=&nbsp;None,</div></div><div class=\"1979\" style=\"display: none;\"><div style=\"display: table-cell;\"></div><div style=\"display: table-cell;\">min_border_top&nbsp;=&nbsp;None,</div></div><div class=\"1979\" style=\"display: none;\"><div style=\"display: table-cell;\"></div><div style=\"display: table-cell;\">min_height&nbsp;=&nbsp;None,</div></div><div class=\"1979\" style=\"display: none;\"><div style=\"display: table-cell;\"></div><div style=\"display: table-cell;\">min_width&nbsp;=&nbsp;None,</div></div><div class=\"1979\" style=\"display: none;\"><div style=\"display: table-cell;\"></div><div style=\"display: table-cell;\">name&nbsp;=&nbsp;None,</div></div><div class=\"1979\" style=\"display: none;\"><div style=\"display: table-cell;\"></div><div style=\"display: table-cell;\">outer_height&nbsp;=&nbsp;0,</div></div><div class=\"1979\" style=\"display: none;\"><div style=\"display: table-cell;\"></div><div style=\"display: table-cell;\">outer_width&nbsp;=&nbsp;0,</div></div><div class=\"1979\" style=\"display: none;\"><div style=\"display: table-cell;\"></div><div style=\"display: table-cell;\">outline_line_alpha&nbsp;=&nbsp;1.0,</div></div><div class=\"1979\" style=\"display: none;\"><div style=\"display: table-cell;\"></div><div style=\"display: table-cell;\">outline_line_cap&nbsp;=&nbsp;'butt',</div></div><div class=\"1979\" style=\"display: none;\"><div style=\"display: table-cell;\"></div><div style=\"display: table-cell;\">outline_line_color&nbsp;=&nbsp;'#e5e5e5',</div></div><div class=\"1979\" style=\"display: none;\"><div style=\"display: table-cell;\"></div><div style=\"display: table-cell;\">outline_line_dash&nbsp;=&nbsp;[],</div></div><div class=\"1979\" style=\"display: none;\"><div style=\"display: table-cell;\"></div><div style=\"display: table-cell;\">outline_line_dash_offset&nbsp;=&nbsp;0,</div></div><div class=\"1979\" style=\"display: none;\"><div style=\"display: table-cell;\"></div><div style=\"display: table-cell;\">outline_line_join&nbsp;=&nbsp;'bevel',</div></div><div class=\"1979\" style=\"display: none;\"><div style=\"display: table-cell;\"></div><div style=\"display: table-cell;\">outline_line_width&nbsp;=&nbsp;1,</div></div><div class=\"1979\" style=\"display: none;\"><div style=\"display: table-cell;\"></div><div style=\"display: table-cell;\">output_backend&nbsp;=&nbsp;'webgl',</div></div><div class=\"1979\" style=\"display: none;\"><div style=\"display: table-cell;\"></div><div style=\"display: table-cell;\">renderers&nbsp;=&nbsp;[GlyphRenderer(id='1898', ...)],</div></div><div class=\"1979\" style=\"display: none;\"><div style=\"display: table-cell;\"></div><div style=\"display: table-cell;\">reset_policy&nbsp;=&nbsp;'standard',</div></div><div class=\"1979\" style=\"display: none;\"><div style=\"display: table-cell;\"></div><div style=\"display: table-cell;\">right&nbsp;=&nbsp;[],</div></div><div class=\"1979\" style=\"display: none;\"><div style=\"display: table-cell;\"></div><div style=\"display: table-cell;\">sizing_mode&nbsp;=&nbsp;'fixed',</div></div><div class=\"1979\" style=\"display: none;\"><div style=\"display: table-cell;\"></div><div style=\"display: table-cell;\">subscribed_events&nbsp;=&nbsp;[],</div></div><div class=\"1979\" style=\"display: none;\"><div style=\"display: table-cell;\"></div><div style=\"display: table-cell;\">syncable&nbsp;=&nbsp;True,</div></div><div class=\"1979\" style=\"display: none;\"><div style=\"display: table-cell;\"></div><div style=\"display: table-cell;\">tags&nbsp;=&nbsp;[],</div></div><div class=\"1979\" style=\"display: none;\"><div style=\"display: table-cell;\"></div><div style=\"display: table-cell;\">title&nbsp;=&nbsp;Title(id='1859', ...),</div></div><div class=\"1979\" style=\"display: none;\"><div style=\"display: table-cell;\"></div><div style=\"display: table-cell;\">title_location&nbsp;=&nbsp;'above',</div></div><div class=\"1979\" style=\"display: none;\"><div style=\"display: table-cell;\"></div><div style=\"display: table-cell;\">toolbar&nbsp;=&nbsp;Toolbar(id='1884', ...),</div></div><div class=\"1979\" style=\"display: none;\"><div style=\"display: table-cell;\"></div><div style=\"display: table-cell;\">toolbar_location&nbsp;=&nbsp;'right',</div></div><div class=\"1979\" style=\"display: none;\"><div style=\"display: table-cell;\"></div><div style=\"display: table-cell;\">toolbar_sticky&nbsp;=&nbsp;True,</div></div><div class=\"1979\" style=\"display: none;\"><div style=\"display: table-cell;\"></div><div style=\"display: table-cell;\">visible&nbsp;=&nbsp;True,</div></div><div class=\"1979\" style=\"display: none;\"><div style=\"display: table-cell;\"></div><div style=\"display: table-cell;\">width&nbsp;=&nbsp;600,</div></div><div class=\"1979\" style=\"display: none;\"><div style=\"display: table-cell;\"></div><div style=\"display: table-cell;\">width_policy&nbsp;=&nbsp;'auto',</div></div><div class=\"1979\" style=\"display: none;\"><div style=\"display: table-cell;\"></div><div style=\"display: table-cell;\">x_range&nbsp;=&nbsp;DataRange1d(id='1861', ...),</div></div><div class=\"1979\" style=\"display: none;\"><div style=\"display: table-cell;\"></div><div style=\"display: table-cell;\">x_scale&nbsp;=&nbsp;LinearScale(id='1865', ...),</div></div><div class=\"1979\" style=\"display: none;\"><div style=\"display: table-cell;\"></div><div style=\"display: table-cell;\">y_range&nbsp;=&nbsp;DataRange1d(id='1863', ...),</div></div><div class=\"1979\" style=\"display: none;\"><div style=\"display: table-cell;\"></div><div style=\"display: table-cell;\">y_scale&nbsp;=&nbsp;LinearScale(id='1867', ...))</div></div></div>\n",
       "<script>\n",
       "(function() {\n",
       "  let expanded = false;\n",
       "  const ellipsis = document.getElementById(\"1980\");\n",
       "  ellipsis.addEventListener(\"click\", function() {\n",
       "    const rows = document.getElementsByClassName(\"1979\");\n",
       "    for (let i = 0; i < rows.length; i++) {\n",
       "      const el = rows[i];\n",
       "      el.style.display = expanded ? \"none\" : \"table-row\";\n",
       "    }\n",
       "    ellipsis.innerHTML = expanded ? \"&hellip;)\" : \"&lsaquo;&lsaquo;&lsaquo;\";\n",
       "    expanded = !expanded;\n",
       "  });\n",
       "})();\n",
       "</script>\n"
      ],
      "text/plain": [
       "Figure(id='1858', ...)"
      ]
     },
     "execution_count": 47,
     "metadata": {},
     "output_type": "execute_result"
    }
   ],
   "source": [
    "sorted_d = d.sort_values(by='DRG_qty')\n",
    "sorted_d.plot_bokeh.bar(show_figure=True, legend = 'top_left', title='States with more expensive DRG')"
   ]
  },
  {
   "cell_type": "markdown",
   "metadata": {},
   "source": [
    "#### More sheapest States by DRG"
   ]
  },
  {
   "cell_type": "code",
   "execution_count": null,
   "metadata": {},
   "outputs": [],
   "source": [
    "sorted_df_drg_min = df_drg_max.sort_values(['DRG Definition','Avg. Cost/attended patient [$]'], ascending=[1,1])\n",
    "drg_min = sorted_df_drg_min.groupby(level=0).head(1)\n"
   ]
  },
  {
   "cell_type": "code",
   "execution_count": null,
   "metadata": {},
   "outputs": [],
   "source": [
    "drg_min_states = drg_min.index.get_level_values('Provider State')\n"
   ]
  },
  {
   "cell_type": "code",
   "execution_count": null,
   "metadata": {},
   "outputs": [],
   "source": [
    "drg_min_states_counter = Counter(drg_min_states)\n",
    "drg_min_states_dict = dict(drg_min_states_counter)\n",
    "drg_min_states_df = pd.DataFrame(drg_min_states_dict.items())\n",
    "drg_min_states_df.rename(columns={0: 'Provider State',1:'DRG_qty'}, inplace=True)\n",
    "drg_min_states_df = drg_min_states_df.set_index('Provider State')"
   ]
  },
  {
   "cell_type": "code",
   "execution_count": null,
   "metadata": {},
   "outputs": [
    {
     "data": {
      "text/html": [
       "\n",
       "\n",
       "\n",
       "\n",
       "\n",
       "\n",
       "  <div class=\"bk-root\" id=\"94fa6874-02fd-4d17-8ab0-5090b7b616d2\" data-root-id=\"2018\"></div>\n"
      ]
     },
     "metadata": {},
     "output_type": "display_data"
    },
    {
     "data": {
      "application/javascript": "(function(root) {\n  function embed_document(root) {\n    \n  const docs_json = {\"3e7c162b-2f0c-4b30-8c30-f6ad1cc85716\":{\"defs\":[],\"roots\":{\"references\":[{\"attributes\":{\"below\":[{\"id\":\"2029\"}],\"center\":[{\"id\":\"2032\"},{\"id\":\"2036\"},{\"id\":\"2069\"}],\"height\":400,\"left\":[{\"id\":\"2033\"}],\"output_backend\":\"webgl\",\"renderers\":[{\"id\":\"2058\"}],\"sizing_mode\":\"fixed\",\"title\":{\"id\":\"2019\"},\"toolbar\":{\"id\":\"2044\"},\"x_range\":{\"id\":\"2021\"},\"x_scale\":{\"id\":\"2025\"},\"y_range\":{\"id\":\"2023\"},\"y_scale\":{\"id\":\"2027\"}},\"id\":\"2018\",\"subtype\":\"Figure\",\"type\":\"Plot\"},{\"attributes\":{\"bottom_units\":\"screen\",\"coordinates\":null,\"fill_alpha\":0.5,\"fill_color\":\"lightgrey\",\"group\":null,\"left_units\":\"screen\",\"level\":\"overlay\",\"line_alpha\":1.0,\"line_color\":\"black\",\"line_dash\":[4,4],\"line_width\":2,\"right_units\":\"screen\",\"syncable\":false,\"top_units\":\"screen\"},\"id\":\"2043\",\"type\":\"BoxAnnotation\"},{\"attributes\":{\"callback\":null,\"mode\":\"vline\",\"renderers\":[{\"id\":\"2058\"}],\"tooltips\":[[\"Provider State\",\"@__x__values_original\"],[\"DRG_qty\",\"@{DRG_qty}\"]]},\"id\":\"2071\",\"type\":\"HoverTool\"},{\"attributes\":{\"source\":{\"id\":\"2017\"}},\"id\":\"2059\",\"type\":\"CDSView\"},{\"attributes\":{\"active_scroll\":{\"id\":\"2038\"},\"tools\":[{\"id\":\"2037\"},{\"id\":\"2038\"},{\"id\":\"2039\"},{\"id\":\"2040\"},{\"id\":\"2041\"},{\"id\":\"2042\"},{\"id\":\"2071\"}]},\"id\":\"2044\",\"type\":\"Toolbar\"},{\"attributes\":{},\"id\":\"2040\",\"type\":\"SaveTool\"},{\"attributes\":{},\"id\":\"2062\",\"type\":\"BasicTickFormatter\"},{\"attributes\":{},\"id\":\"2025\",\"type\":\"LinearScale\"},{\"attributes\":{\"fill_alpha\":{\"value\":0.2},\"fill_color\":{\"value\":\"#1f77b4\"},\"hatch_alpha\":{\"value\":0.2},\"hatch_color\":{\"value\":\"#1f77b4\"},\"line_alpha\":{\"value\":0.2},\"line_color\":{\"value\":\"#1f77b4\"},\"line_width\":{\"value\":2},\"top\":{\"field\":\"DRG_qty\"},\"width\":{\"value\":0.7},\"x\":{\"field\":\"__x__values\",\"transform\":{\"id\":\"2053\"}}},\"id\":\"2057\",\"type\":\"VBar\"},{\"attributes\":{\"axis_label\":\"DRG_qty\",\"coordinates\":null,\"formatter\":{\"id\":\"2062\"},\"group\":null,\"major_label_policy\":{\"id\":\"2063\"},\"ticker\":{\"id\":\"2034\"}},\"id\":\"2033\",\"type\":\"LinearAxis\"},{\"attributes\":{\"fill_alpha\":{\"value\":0.1},\"fill_color\":{\"value\":\"#1f77b4\"},\"hatch_alpha\":{\"value\":0.1},\"hatch_color\":{\"value\":\"#1f77b4\"},\"line_alpha\":{\"value\":0.1},\"line_color\":{\"value\":\"#1f77b4\"},\"line_width\":{\"value\":2},\"top\":{\"field\":\"DRG_qty\"},\"width\":{\"value\":0.7},\"x\":{\"field\":\"__x__values\",\"transform\":{\"id\":\"2053\"}}},\"id\":\"2056\",\"type\":\"VBar\"},{\"attributes\":{},\"id\":\"2023\",\"type\":\"DataRange1d\"},{\"attributes\":{},\"id\":\"2065\",\"type\":\"AllLabels\"},{\"attributes\":{\"range\":{\"id\":\"2021\"}},\"id\":\"2053\",\"type\":\"Dodge\"},{\"attributes\":{},\"id\":\"2063\",\"type\":\"AllLabels\"},{\"attributes\":{\"click_policy\":\"hide\",\"coordinates\":null,\"group\":null,\"items\":[{\"id\":\"2070\"}],\"location\":\"top_left\"},\"id\":\"2069\",\"type\":\"Legend\"},{\"attributes\":{},\"id\":\"2041\",\"type\":\"ResetTool\"},{\"attributes\":{\"axis\":{\"id\":\"2029\"},\"coordinates\":null,\"group\":null,\"ticker\":null},\"id\":\"2032\",\"type\":\"Grid\"},{\"attributes\":{},\"id\":\"2021\",\"type\":\"DataRange1d\"},{\"attributes\":{\"axis_label\":\"Provider State\",\"coordinates\":null,\"formatter\":{\"id\":\"2051\"},\"group\":null,\"major_label_policy\":{\"id\":\"2065\"},\"ticker\":{\"id\":\"2073\"}},\"id\":\"2029\",\"type\":\"LinearAxis\"},{\"attributes\":{},\"id\":\"2067\",\"type\":\"Selection\"},{\"attributes\":{\"coordinates\":null,\"group\":null,\"text\":\"States with cheapest DRG\"},\"id\":\"2019\",\"type\":\"Title\"},{\"attributes\":{},\"id\":\"2038\",\"type\":\"WheelZoomTool\"},{\"attributes\":{\"label\":{\"value\":\" DRG_qty\"},\"renderers\":[{\"id\":\"2058\"}]},\"id\":\"2070\",\"type\":\"LegendItem\"},{\"attributes\":{},\"id\":\"2066\",\"type\":\"UnionRenderers\"},{\"attributes\":{\"coordinates\":null,\"data_source\":{\"id\":\"2017\"},\"glyph\":{\"id\":\"2055\"},\"group\":null,\"hover_glyph\":null,\"muted_glyph\":{\"id\":\"2057\"},\"nonselection_glyph\":{\"id\":\"2056\"},\"view\":{\"id\":\"2059\"}},\"id\":\"2058\",\"type\":\"GlyphRenderer\"},{\"attributes\":{},\"id\":\"2027\",\"type\":\"LinearScale\"},{\"attributes\":{\"data\":{\"DRG_qty\":[1,1,1,1,1,1,1,1,1,1,2,2,2,2,2,2,3,3,3,3,6,6,8,12,14,20],\"__x__values\":[0,1,2,3,4,5,6,7,8,9,10,11,12,13,14,15,16,17,18,19,20,21,22,23,24,25],\"__x__values_original\":[\"UT\",\"SC\",\"TN\",\"ID\",\"NC\",\"CO\",\"MN\",\"VT\",\"MD\",\"KS\",\"NM\",\"MS\",\"RI\",\"DC\",\"KY\",\"AL\",\"MO\",\"AR\",\"FL\",\"ND\",\"SD\",\"WV\",\"ME\",\"NJ\",\"MI\",\"DE\"]},\"selected\":{\"id\":\"2067\"},\"selection_policy\":{\"id\":\"2066\"}},\"id\":\"2017\",\"type\":\"ColumnDataSource\"},{\"attributes\":{\"axis\":{\"id\":\"2033\"},\"coordinates\":null,\"dimension\":1,\"group\":null,\"ticker\":null},\"id\":\"2036\",\"type\":\"Grid\"},{\"attributes\":{},\"id\":\"2034\",\"type\":\"BasicTicker\"},{\"attributes\":{\"ticks\":[0,1,2,3,4,5,6,7,8,9,10,11,12,13,14,15,16,17,18,19,20,21,22,23,24,25]},\"id\":\"2073\",\"type\":\"FixedTicker\"},{\"attributes\":{},\"id\":\"2042\",\"type\":\"HelpTool\"},{\"attributes\":{},\"id\":\"2037\",\"type\":\"PanTool\"},{\"attributes\":{\"overlay\":{\"id\":\"2043\"}},\"id\":\"2039\",\"type\":\"BoxZoomTool\"},{\"attributes\":{\"fill_color\":{\"value\":\"#1f77b4\"},\"hatch_color\":{\"value\":\"#1f77b4\"},\"line_color\":{\"value\":\"#1f77b4\"},\"line_width\":{\"value\":2},\"top\":{\"field\":\"DRG_qty\"},\"width\":{\"value\":0.7},\"x\":{\"field\":\"__x__values\",\"transform\":{\"id\":\"2053\"}}},\"id\":\"2055\",\"type\":\"VBar\"},{\"attributes\":{\"code\":\"\\n                                    var labels = {0: 'UT', 1: 'SC', 2: 'TN', 3: 'ID', 4: 'NC', 5: 'CO', 6: 'MN', 7: 'VT', 8: 'MD', 9: 'KS', 10: 'NM', 11: 'MS', 12: 'RI', 13: 'DC', 14: 'KY', 15: 'AL', 16: 'MO', 17: 'AR', 18: 'FL', 19: 'ND', 20: 'SD', 21: 'WV', 22: 'ME', 23: 'NJ', 24: 'MI', 25: 'DE'};\\n                                    return labels[tick];\\n                                    \"},\"id\":\"2051\",\"type\":\"FuncTickFormatter\"}],\"root_ids\":[\"2018\"]},\"title\":\"Bokeh Application\",\"version\":\"2.4.1\"}};\n  const render_items = [{\"docid\":\"3e7c162b-2f0c-4b30-8c30-f6ad1cc85716\",\"root_ids\":[\"2018\"],\"roots\":{\"2018\":\"94fa6874-02fd-4d17-8ab0-5090b7b616d2\"}}];\n  root.Bokeh.embed.embed_items_notebook(docs_json, render_items);\n\n  }\n  if (root.Bokeh !== undefined) {\n    embed_document(root);\n  } else {\n    let attempts = 0;\n    const timer = setInterval(function(root) {\n      if (root.Bokeh !== undefined) {\n        clearInterval(timer);\n        embed_document(root);\n      } else {\n        attempts++;\n        if (attempts > 100) {\n          clearInterval(timer);\n          console.log(\"Bokeh: ERROR: Unable to run BokehJS code because BokehJS library is missing\");\n        }\n      }\n    }, 10, root)\n  }\n})(window);",
      "application/vnd.bokehjs_exec.v0+json": ""
     },
     "metadata": {
      "application/vnd.bokehjs_exec.v0+json": {
       "id": "2018"
      }
     },
     "output_type": "display_data"
    },
    {
     "data": {
      "text/html": [
       "<div style=\"display: table;\"><div style=\"display: table-row;\"><div style=\"display: table-cell;\"><b title=\"bokeh.plotting.figure.Figure\">Figure</b>(</div><div style=\"display: table-cell;\">id&nbsp;=&nbsp;'2018', <span id=\"2148\" style=\"cursor: pointer;\">&hellip;)</span></div></div><div class=\"2147\" style=\"display: none;\"><div style=\"display: table-cell;\"></div><div style=\"display: table-cell;\">above&nbsp;=&nbsp;[],</div></div><div class=\"2147\" style=\"display: none;\"><div style=\"display: table-cell;\"></div><div style=\"display: table-cell;\">align&nbsp;=&nbsp;'start',</div></div><div class=\"2147\" style=\"display: none;\"><div style=\"display: table-cell;\"></div><div style=\"display: table-cell;\">aspect_ratio&nbsp;=&nbsp;None,</div></div><div class=\"2147\" style=\"display: none;\"><div style=\"display: table-cell;\"></div><div style=\"display: table-cell;\">aspect_scale&nbsp;=&nbsp;1,</div></div><div class=\"2147\" style=\"display: none;\"><div style=\"display: table-cell;\"></div><div style=\"display: table-cell;\">background&nbsp;=&nbsp;None,</div></div><div class=\"2147\" style=\"display: none;\"><div style=\"display: table-cell;\"></div><div style=\"display: table-cell;\">background_fill_alpha&nbsp;=&nbsp;1.0,</div></div><div class=\"2147\" style=\"display: none;\"><div style=\"display: table-cell;\"></div><div style=\"display: table-cell;\">background_fill_color&nbsp;=&nbsp;'#ffffff',</div></div><div class=\"2147\" style=\"display: none;\"><div style=\"display: table-cell;\"></div><div style=\"display: table-cell;\">below&nbsp;=&nbsp;[LinearAxis(id='2029', ...)],</div></div><div class=\"2147\" style=\"display: none;\"><div style=\"display: table-cell;\"></div><div style=\"display: table-cell;\">border_fill_alpha&nbsp;=&nbsp;1.0,</div></div><div class=\"2147\" style=\"display: none;\"><div style=\"display: table-cell;\"></div><div style=\"display: table-cell;\">border_fill_color&nbsp;=&nbsp;'#ffffff',</div></div><div class=\"2147\" style=\"display: none;\"><div style=\"display: table-cell;\"></div><div style=\"display: table-cell;\">center&nbsp;=&nbsp;[Grid(id='2032', ...), Grid(id='2036', ...), Legend(id='2069', ...)],</div></div><div class=\"2147\" style=\"display: none;\"><div style=\"display: table-cell;\"></div><div style=\"display: table-cell;\">css_classes&nbsp;=&nbsp;[],</div></div><div class=\"2147\" style=\"display: none;\"><div style=\"display: table-cell;\"></div><div style=\"display: table-cell;\">disabled&nbsp;=&nbsp;False,</div></div><div class=\"2147\" style=\"display: none;\"><div style=\"display: table-cell;\"></div><div style=\"display: table-cell;\">extra_x_ranges&nbsp;=&nbsp;{},</div></div><div class=\"2147\" style=\"display: none;\"><div style=\"display: table-cell;\"></div><div style=\"display: table-cell;\">extra_x_scales&nbsp;=&nbsp;{},</div></div><div class=\"2147\" style=\"display: none;\"><div style=\"display: table-cell;\"></div><div style=\"display: table-cell;\">extra_y_ranges&nbsp;=&nbsp;{},</div></div><div class=\"2147\" style=\"display: none;\"><div style=\"display: table-cell;\"></div><div style=\"display: table-cell;\">extra_y_scales&nbsp;=&nbsp;{},</div></div><div class=\"2147\" style=\"display: none;\"><div style=\"display: table-cell;\"></div><div style=\"display: table-cell;\">frame_height&nbsp;=&nbsp;None,</div></div><div class=\"2147\" style=\"display: none;\"><div style=\"display: table-cell;\"></div><div style=\"display: table-cell;\">frame_width&nbsp;=&nbsp;None,</div></div><div class=\"2147\" style=\"display: none;\"><div style=\"display: table-cell;\"></div><div style=\"display: table-cell;\">height&nbsp;=&nbsp;400,</div></div><div class=\"2147\" style=\"display: none;\"><div style=\"display: table-cell;\"></div><div style=\"display: table-cell;\">height_policy&nbsp;=&nbsp;'auto',</div></div><div class=\"2147\" style=\"display: none;\"><div style=\"display: table-cell;\"></div><div style=\"display: table-cell;\">hidpi&nbsp;=&nbsp;True,</div></div><div class=\"2147\" style=\"display: none;\"><div style=\"display: table-cell;\"></div><div style=\"display: table-cell;\">inner_height&nbsp;=&nbsp;0,</div></div><div class=\"2147\" style=\"display: none;\"><div style=\"display: table-cell;\"></div><div style=\"display: table-cell;\">inner_width&nbsp;=&nbsp;0,</div></div><div class=\"2147\" style=\"display: none;\"><div style=\"display: table-cell;\"></div><div style=\"display: table-cell;\">js_event_callbacks&nbsp;=&nbsp;{},</div></div><div class=\"2147\" style=\"display: none;\"><div style=\"display: table-cell;\"></div><div style=\"display: table-cell;\">js_property_callbacks&nbsp;=&nbsp;{},</div></div><div class=\"2147\" style=\"display: none;\"><div style=\"display: table-cell;\"></div><div style=\"display: table-cell;\">left&nbsp;=&nbsp;[LinearAxis(id='2033', ...)],</div></div><div class=\"2147\" style=\"display: none;\"><div style=\"display: table-cell;\"></div><div style=\"display: table-cell;\">lod_factor&nbsp;=&nbsp;10,</div></div><div class=\"2147\" style=\"display: none;\"><div style=\"display: table-cell;\"></div><div style=\"display: table-cell;\">lod_interval&nbsp;=&nbsp;300,</div></div><div class=\"2147\" style=\"display: none;\"><div style=\"display: table-cell;\"></div><div style=\"display: table-cell;\">lod_threshold&nbsp;=&nbsp;2000,</div></div><div class=\"2147\" style=\"display: none;\"><div style=\"display: table-cell;\"></div><div style=\"display: table-cell;\">lod_timeout&nbsp;=&nbsp;500,</div></div><div class=\"2147\" style=\"display: none;\"><div style=\"display: table-cell;\"></div><div style=\"display: table-cell;\">margin&nbsp;=&nbsp;(0, 0, 0, 0),</div></div><div class=\"2147\" style=\"display: none;\"><div style=\"display: table-cell;\"></div><div style=\"display: table-cell;\">match_aspect&nbsp;=&nbsp;False,</div></div><div class=\"2147\" style=\"display: none;\"><div style=\"display: table-cell;\"></div><div style=\"display: table-cell;\">max_height&nbsp;=&nbsp;None,</div></div><div class=\"2147\" style=\"display: none;\"><div style=\"display: table-cell;\"></div><div style=\"display: table-cell;\">max_width&nbsp;=&nbsp;None,</div></div><div class=\"2147\" style=\"display: none;\"><div style=\"display: table-cell;\"></div><div style=\"display: table-cell;\">min_border&nbsp;=&nbsp;5,</div></div><div class=\"2147\" style=\"display: none;\"><div style=\"display: table-cell;\"></div><div style=\"display: table-cell;\">min_border_bottom&nbsp;=&nbsp;None,</div></div><div class=\"2147\" style=\"display: none;\"><div style=\"display: table-cell;\"></div><div style=\"display: table-cell;\">min_border_left&nbsp;=&nbsp;None,</div></div><div class=\"2147\" style=\"display: none;\"><div style=\"display: table-cell;\"></div><div style=\"display: table-cell;\">min_border_right&nbsp;=&nbsp;None,</div></div><div class=\"2147\" style=\"display: none;\"><div style=\"display: table-cell;\"></div><div style=\"display: table-cell;\">min_border_top&nbsp;=&nbsp;None,</div></div><div class=\"2147\" style=\"display: none;\"><div style=\"display: table-cell;\"></div><div style=\"display: table-cell;\">min_height&nbsp;=&nbsp;None,</div></div><div class=\"2147\" style=\"display: none;\"><div style=\"display: table-cell;\"></div><div style=\"display: table-cell;\">min_width&nbsp;=&nbsp;None,</div></div><div class=\"2147\" style=\"display: none;\"><div style=\"display: table-cell;\"></div><div style=\"display: table-cell;\">name&nbsp;=&nbsp;None,</div></div><div class=\"2147\" style=\"display: none;\"><div style=\"display: table-cell;\"></div><div style=\"display: table-cell;\">outer_height&nbsp;=&nbsp;0,</div></div><div class=\"2147\" style=\"display: none;\"><div style=\"display: table-cell;\"></div><div style=\"display: table-cell;\">outer_width&nbsp;=&nbsp;0,</div></div><div class=\"2147\" style=\"display: none;\"><div style=\"display: table-cell;\"></div><div style=\"display: table-cell;\">outline_line_alpha&nbsp;=&nbsp;1.0,</div></div><div class=\"2147\" style=\"display: none;\"><div style=\"display: table-cell;\"></div><div style=\"display: table-cell;\">outline_line_cap&nbsp;=&nbsp;'butt',</div></div><div class=\"2147\" style=\"display: none;\"><div style=\"display: table-cell;\"></div><div style=\"display: table-cell;\">outline_line_color&nbsp;=&nbsp;'#e5e5e5',</div></div><div class=\"2147\" style=\"display: none;\"><div style=\"display: table-cell;\"></div><div style=\"display: table-cell;\">outline_line_dash&nbsp;=&nbsp;[],</div></div><div class=\"2147\" style=\"display: none;\"><div style=\"display: table-cell;\"></div><div style=\"display: table-cell;\">outline_line_dash_offset&nbsp;=&nbsp;0,</div></div><div class=\"2147\" style=\"display: none;\"><div style=\"display: table-cell;\"></div><div style=\"display: table-cell;\">outline_line_join&nbsp;=&nbsp;'bevel',</div></div><div class=\"2147\" style=\"display: none;\"><div style=\"display: table-cell;\"></div><div style=\"display: table-cell;\">outline_line_width&nbsp;=&nbsp;1,</div></div><div class=\"2147\" style=\"display: none;\"><div style=\"display: table-cell;\"></div><div style=\"display: table-cell;\">output_backend&nbsp;=&nbsp;'webgl',</div></div><div class=\"2147\" style=\"display: none;\"><div style=\"display: table-cell;\"></div><div style=\"display: table-cell;\">renderers&nbsp;=&nbsp;[GlyphRenderer(id='2058', ...)],</div></div><div class=\"2147\" style=\"display: none;\"><div style=\"display: table-cell;\"></div><div style=\"display: table-cell;\">reset_policy&nbsp;=&nbsp;'standard',</div></div><div class=\"2147\" style=\"display: none;\"><div style=\"display: table-cell;\"></div><div style=\"display: table-cell;\">right&nbsp;=&nbsp;[],</div></div><div class=\"2147\" style=\"display: none;\"><div style=\"display: table-cell;\"></div><div style=\"display: table-cell;\">sizing_mode&nbsp;=&nbsp;'fixed',</div></div><div class=\"2147\" style=\"display: none;\"><div style=\"display: table-cell;\"></div><div style=\"display: table-cell;\">subscribed_events&nbsp;=&nbsp;[],</div></div><div class=\"2147\" style=\"display: none;\"><div style=\"display: table-cell;\"></div><div style=\"display: table-cell;\">syncable&nbsp;=&nbsp;True,</div></div><div class=\"2147\" style=\"display: none;\"><div style=\"display: table-cell;\"></div><div style=\"display: table-cell;\">tags&nbsp;=&nbsp;[],</div></div><div class=\"2147\" style=\"display: none;\"><div style=\"display: table-cell;\"></div><div style=\"display: table-cell;\">title&nbsp;=&nbsp;Title(id='2019', ...),</div></div><div class=\"2147\" style=\"display: none;\"><div style=\"display: table-cell;\"></div><div style=\"display: table-cell;\">title_location&nbsp;=&nbsp;'above',</div></div><div class=\"2147\" style=\"display: none;\"><div style=\"display: table-cell;\"></div><div style=\"display: table-cell;\">toolbar&nbsp;=&nbsp;Toolbar(id='2044', ...),</div></div><div class=\"2147\" style=\"display: none;\"><div style=\"display: table-cell;\"></div><div style=\"display: table-cell;\">toolbar_location&nbsp;=&nbsp;'right',</div></div><div class=\"2147\" style=\"display: none;\"><div style=\"display: table-cell;\"></div><div style=\"display: table-cell;\">toolbar_sticky&nbsp;=&nbsp;True,</div></div><div class=\"2147\" style=\"display: none;\"><div style=\"display: table-cell;\"></div><div style=\"display: table-cell;\">visible&nbsp;=&nbsp;True,</div></div><div class=\"2147\" style=\"display: none;\"><div style=\"display: table-cell;\"></div><div style=\"display: table-cell;\">width&nbsp;=&nbsp;600,</div></div><div class=\"2147\" style=\"display: none;\"><div style=\"display: table-cell;\"></div><div style=\"display: table-cell;\">width_policy&nbsp;=&nbsp;'auto',</div></div><div class=\"2147\" style=\"display: none;\"><div style=\"display: table-cell;\"></div><div style=\"display: table-cell;\">x_range&nbsp;=&nbsp;DataRange1d(id='2021', ...),</div></div><div class=\"2147\" style=\"display: none;\"><div style=\"display: table-cell;\"></div><div style=\"display: table-cell;\">x_scale&nbsp;=&nbsp;LinearScale(id='2025', ...),</div></div><div class=\"2147\" style=\"display: none;\"><div style=\"display: table-cell;\"></div><div style=\"display: table-cell;\">y_range&nbsp;=&nbsp;DataRange1d(id='2023', ...),</div></div><div class=\"2147\" style=\"display: none;\"><div style=\"display: table-cell;\"></div><div style=\"display: table-cell;\">y_scale&nbsp;=&nbsp;LinearScale(id='2027', ...))</div></div></div>\n",
       "<script>\n",
       "(function() {\n",
       "  let expanded = false;\n",
       "  const ellipsis = document.getElementById(\"2148\");\n",
       "  ellipsis.addEventListener(\"click\", function() {\n",
       "    const rows = document.getElementsByClassName(\"2147\");\n",
       "    for (let i = 0; i < rows.length; i++) {\n",
       "      const el = rows[i];\n",
       "      el.style.display = expanded ? \"none\" : \"table-row\";\n",
       "    }\n",
       "    ellipsis.innerHTML = expanded ? \"&hellip;)\" : \"&lsaquo;&lsaquo;&lsaquo;\";\n",
       "    expanded = !expanded;\n",
       "  });\n",
       "})();\n",
       "</script>\n"
      ],
      "text/plain": [
       "Figure(id='2018', ...)"
      ]
     },
     "execution_count": 51,
     "metadata": {},
     "output_type": "execute_result"
    }
   ],
   "source": [
    "sorted_drg_min_states_df = drg_min_states_df.sort_values(by='DRG_qty')\n",
    "sorted_drg_min_states_df.plot_bokeh.bar(show_figure=True, legend = 'top_left', title='States with cheapest DRG')"
   ]
  },
  {
   "cell_type": "markdown",
   "metadata": {},
   "source": [
    "To answer that question is necesary to clarify:\n",
    "\n",
    "1.1. By **Avg Total Payments [$]**\n",
    "\n",
    "💰 According to **Average Total Payments**  the three most expensive states✳️ are:\n",
    "\n",
    "1. **California** with $164993988.  \n",
    "2. **Texas** with $10967057.\n",
    "3. **New York** with $108259026.\n",
    "\n",
    "💰 According to **Average Total Payments**  the three most cheapest states are:\n",
    "\n",
    "1. **West Virginia** with $2815426.\n",
    "2. **Vermont** with $3176902.\n",
    "3. **Arkansas** with $3366222.  \n",
    "  \n",
    "\n",
    "1.2. By **Discharges** (attended patient)\n",
    "\n",
    "🤕 The three most expensive states are:\n",
    "1. **Alaska** with $550.\n",
    "2. **Hawaii** with $503.\n",
    "3. **Wyoming** with $443.  \n",
    "\n",
    "\n",
    "🤕 The three most cheapest states are:\n",
    "1. **Delaware** with $215.\n",
    "2. **Kentucky** with $226.\n",
    "3. **Tennessee** with $227. \n",
    "\n",
    "\n",
    "2.3. By  **DRG** \n",
    "\n",
    "💉 The most expensive states by DRG are:\n",
    "* **Alaska**: 42 DRG\n",
    "* **Hawaii**: 21 DRG\n",
    "* **Utah**: 13 DRG\n",
    "* **Wyoming**: 8 DRG\n",
    "* **West Virginia**: 7 DRG\n",
    "\n",
    "💉 The most cheapest states by DRG are:\n",
    "* **Delaware**: 20 DRG\n",
    "* **Michigan**: 14 DRG\n",
    "* **New Jersey**: 12 DRG\n",
    "* **Maine**: 8 DRG\n",
    "* **California**: 6 DRG\n"
   ]
  },
  {
   "cell_type": "markdown",
   "metadata": {},
   "source": [
    "### 2. Cheapest Hospitals are in the same state?\n",
    "\n",
    " "
   ]
  },
  {
   "cell_type": "code",
   "execution_count": null,
   "metadata": {},
   "outputs": [],
   "source": []
  },
  {
   "cell_type": "code",
   "execution_count": null,
   "metadata": {},
   "outputs": [
    {
     "data": {
      "text/html": [
       "<div>\n",
       "<style scoped>\n",
       "    .dataframe tbody tr th:only-of-type {\n",
       "        vertical-align: middle;\n",
       "    }\n",
       "\n",
       "    .dataframe tbody tr th {\n",
       "        vertical-align: top;\n",
       "    }\n",
       "\n",
       "    .dataframe thead th {\n",
       "        text-align: right;\n",
       "    }\n",
       "</style>\n",
       "<table border=\"1\" class=\"dataframe\">\n",
       "  <thead>\n",
       "    <tr style=\"text-align: right;\">\n",
       "      <th></th>\n",
       "      <th></th>\n",
       "      <th>Provider Id</th>\n",
       "      <th>Total Discharges</th>\n",
       "      <th>Avg Covered Charges [$]</th>\n",
       "      <th>Avg Total Payments [$]</th>\n",
       "      <th>Avg Medicare Payments [$]</th>\n",
       "      <th>Avg. Cost/attended patient [$]</th>\n",
       "    </tr>\n",
       "    <tr>\n",
       "      <th>Provider State</th>\n",
       "      <th>Provider Zip Code</th>\n",
       "      <th></th>\n",
       "      <th></th>\n",
       "      <th></th>\n",
       "      <th></th>\n",
       "      <th></th>\n",
       "      <th></th>\n",
       "    </tr>\n",
       "  </thead>\n",
       "  <tbody>\n",
       "    <tr>\n",
       "      <th rowspan=\"5\" valign=\"top\">AK</th>\n",
       "      <th>99508</th>\n",
       "      <td>1181300</td>\n",
       "      <td>1403</td>\n",
       "      <td>2285991.93</td>\n",
       "      <td>889383.89</td>\n",
       "      <td>767378.66</td>\n",
       "      <td>47241.020366</td>\n",
       "    </tr>\n",
       "    <tr>\n",
       "      <th>99519</th>\n",
       "      <td>1520076</td>\n",
       "      <td>2613</td>\n",
       "      <td>4031236.53</td>\n",
       "      <td>1132781.72</td>\n",
       "      <td>1015596.76</td>\n",
       "      <td>52750.061937</td>\n",
       "    </tr>\n",
       "    <tr>\n",
       "      <th>99559</th>\n",
       "      <td>120108</td>\n",
       "      <td>137</td>\n",
       "      <td>45876.14</td>\n",
       "      <td>59637.32</td>\n",
       "      <td>54540.84</td>\n",
       "      <td>3029.116208</td>\n",
       "    </tr>\n",
       "    <tr>\n",
       "      <th>99645</th>\n",
       "      <td>640192</td>\n",
       "      <td>793</td>\n",
       "      <td>1226802.20</td>\n",
       "      <td>371122.45</td>\n",
       "      <td>322782.67</td>\n",
       "      <td>18702.211819</td>\n",
       "    </tr>\n",
       "    <tr>\n",
       "      <th>99669</th>\n",
       "      <td>360432</td>\n",
       "      <td>344</td>\n",
       "      <td>482658.18</td>\n",
       "      <td>207639.95</td>\n",
       "      <td>182150.37</td>\n",
       "      <td>12073.501473</td>\n",
       "    </tr>\n",
       "    <tr>\n",
       "      <th>...</th>\n",
       "      <th>...</th>\n",
       "      <td>...</td>\n",
       "      <td>...</td>\n",
       "      <td>...</td>\n",
       "      <td>...</td>\n",
       "      <td>...</td>\n",
       "      <td>...</td>\n",
       "    </tr>\n",
       "    <tr>\n",
       "      <th rowspan=\"5\" valign=\"top\">WY</th>\n",
       "      <th>82716</th>\n",
       "      <td>8480032</td>\n",
       "      <td>311</td>\n",
       "      <td>291255.24</td>\n",
       "      <td>162774.63</td>\n",
       "      <td>147219.99</td>\n",
       "      <td>9433.991693</td>\n",
       "    </tr>\n",
       "    <tr>\n",
       "      <th>82801</th>\n",
       "      <td>7950090</td>\n",
       "      <td>375</td>\n",
       "      <td>283548.15</td>\n",
       "      <td>137845.21</td>\n",
       "      <td>124673.64</td>\n",
       "      <td>6692.835522</td>\n",
       "    </tr>\n",
       "    <tr>\n",
       "      <th>82901</th>\n",
       "      <td>4240088</td>\n",
       "      <td>127</td>\n",
       "      <td>142791.27</td>\n",
       "      <td>80474.15</td>\n",
       "      <td>71877.93</td>\n",
       "      <td>5799.567604</td>\n",
       "    </tr>\n",
       "    <tr>\n",
       "      <th>82930</th>\n",
       "      <td>2120128</td>\n",
       "      <td>69</td>\n",
       "      <td>95796.40</td>\n",
       "      <td>34527.16</td>\n",
       "      <td>29749.98</td>\n",
       "      <td>2008.243758</td>\n",
       "    </tr>\n",
       "    <tr>\n",
       "      <th>83001</th>\n",
       "      <td>1590045</td>\n",
       "      <td>72</td>\n",
       "      <td>125862.42</td>\n",
       "      <td>75987.43</td>\n",
       "      <td>73051.46</td>\n",
       "      <td>4919.342083</td>\n",
       "    </tr>\n",
       "  </tbody>\n",
       "</table>\n",
       "<p>3053 rows × 6 columns</p>\n",
       "</div>"
      ],
      "text/plain": [
       "                                  Provider Id  Total Discharges  \\\n",
       "Provider State Provider Zip Code                                  \n",
       "AK             99508                  1181300              1403   \n",
       "               99519                  1520076              2613   \n",
       "               99559                   120108               137   \n",
       "               99645                   640192               793   \n",
       "               99669                   360432               344   \n",
       "...                                       ...               ...   \n",
       "WY             82716                  8480032               311   \n",
       "               82801                  7950090               375   \n",
       "               82901                  4240088               127   \n",
       "               82930                  2120128                69   \n",
       "               83001                  1590045                72   \n",
       "\n",
       "                                  Avg Covered Charges [$]  \\\n",
       "Provider State Provider Zip Code                            \n",
       "AK             99508                           2285991.93   \n",
       "               99519                           4031236.53   \n",
       "               99559                             45876.14   \n",
       "               99645                           1226802.20   \n",
       "               99669                            482658.18   \n",
       "...                                                   ...   \n",
       "WY             82716                            291255.24   \n",
       "               82801                            283548.15   \n",
       "               82901                            142791.27   \n",
       "               82930                             95796.40   \n",
       "               83001                            125862.42   \n",
       "\n",
       "                                  Avg Total Payments [$]  \\\n",
       "Provider State Provider Zip Code                           \n",
       "AK             99508                           889383.89   \n",
       "               99519                          1132781.72   \n",
       "               99559                            59637.32   \n",
       "               99645                           371122.45   \n",
       "               99669                           207639.95   \n",
       "...                                                  ...   \n",
       "WY             82716                           162774.63   \n",
       "               82801                           137845.21   \n",
       "               82901                            80474.15   \n",
       "               82930                            34527.16   \n",
       "               83001                            75987.43   \n",
       "\n",
       "                                  Avg Medicare Payments [$]  \\\n",
       "Provider State Provider Zip Code                              \n",
       "AK             99508                              767378.66   \n",
       "               99519                             1015596.76   \n",
       "               99559                               54540.84   \n",
       "               99645                              322782.67   \n",
       "               99669                              182150.37   \n",
       "...                                                     ...   \n",
       "WY             82716                              147219.99   \n",
       "               82801                              124673.64   \n",
       "               82901                               71877.93   \n",
       "               82930                               29749.98   \n",
       "               83001                               73051.46   \n",
       "\n",
       "                                  Avg. Cost/attended patient [$]  \n",
       "Provider State Provider Zip Code                                  \n",
       "AK             99508                                47241.020366  \n",
       "               99519                                52750.061937  \n",
       "               99559                                 3029.116208  \n",
       "               99645                                18702.211819  \n",
       "               99669                                12073.501473  \n",
       "...                                                          ...  \n",
       "WY             82716                                 9433.991693  \n",
       "               82801                                 6692.835522  \n",
       "               82901                                 5799.567604  \n",
       "               82930                                 2008.243758  \n",
       "               83001                                 4919.342083  \n",
       "\n",
       "[3053 rows x 6 columns]"
      ]
     },
     "execution_count": 52,
     "metadata": {},
     "output_type": "execute_result"
    }
   ],
   "source": [
    "df2 = df.groupby(['Provider State', 'Provider Zip Code']).sum()\n",
    "df2"
   ]
  },
  {
   "cell_type": "code",
   "execution_count": null,
   "metadata": {},
   "outputs": [
    {
     "data": {
      "text/html": [
       "<div>\n",
       "<style scoped>\n",
       "    .dataframe tbody tr th:only-of-type {\n",
       "        vertical-align: middle;\n",
       "    }\n",
       "\n",
       "    .dataframe tbody tr th {\n",
       "        vertical-align: top;\n",
       "    }\n",
       "\n",
       "    .dataframe thead th {\n",
       "        text-align: right;\n",
       "    }\n",
       "</style>\n",
       "<table border=\"1\" class=\"dataframe\">\n",
       "  <thead>\n",
       "    <tr style=\"text-align: right;\">\n",
       "      <th></th>\n",
       "      <th>Avg Covered Charges [$]</th>\n",
       "      <th>Avg Total Payments [$]</th>\n",
       "      <th>Avg Medicare Payments [$]</th>\n",
       "    </tr>\n",
       "  </thead>\n",
       "  <tbody>\n",
       "    <tr>\n",
       "      <th>Avg Covered Charges [$]</th>\n",
       "      <td>1.000000</td>\n",
       "      <td>0.774112</td>\n",
       "      <td>0.768927</td>\n",
       "    </tr>\n",
       "    <tr>\n",
       "      <th>Avg Total Payments [$]</th>\n",
       "      <td>0.774112</td>\n",
       "      <td>1.000000</td>\n",
       "      <td>0.989362</td>\n",
       "    </tr>\n",
       "    <tr>\n",
       "      <th>Avg Medicare Payments [$]</th>\n",
       "      <td>0.768927</td>\n",
       "      <td>0.989362</td>\n",
       "      <td>1.000000</td>\n",
       "    </tr>\n",
       "  </tbody>\n",
       "</table>\n",
       "</div>"
      ],
      "text/plain": [
       "                           Avg Covered Charges [$]  Avg Total Payments [$]  \\\n",
       "Avg Covered Charges [$]                   1.000000                0.774112   \n",
       "Avg Total Payments [$]                    0.774112                1.000000   \n",
       "Avg Medicare Payments [$]                 0.768927                0.989362   \n",
       "\n",
       "                           Avg Medicare Payments [$]  \n",
       "Avg Covered Charges [$]                     0.768927  \n",
       "Avg Total Payments [$]                      0.989362  \n",
       "Avg Medicare Payments [$]                   1.000000  "
      ]
     },
     "execution_count": 53,
     "metadata": {},
     "output_type": "execute_result"
    }
   ],
   "source": [
    "# To answer if exist some correlation between Average Covered Charges, Average Total Payments and Average Medicare Payments\n",
    "df[['Avg Covered Charges [$]', 'Avg Total Payments [$]', 'Avg Medicare Payments [$]']].corr(method ='pearson')"
   ]
  }
 ],
 "metadata": {
  "interpreter": {
   "hash": "916dbcbb3f70747c44a77c7bcd40155683ae19c65e1c03b4aa3499c5328201f1"
  },
  "kernelspec": {
   "display_name": "Python 3.8.10 64-bit",
   "language": "python",
   "name": "python3"
  },
  "language_info": {
   "codemirror_mode": {
    "name": "ipython",
    "version": 3
   },
   "file_extension": ".py",
   "mimetype": "text/x-python",
   "name": "python",
   "nbconvert_exporter": "python",
   "pygments_lexer": "ipython3",
   "version": "3.8.10"
  },
  "orig_nbformat": 4
 },
 "nbformat": 4,
 "nbformat_minor": 2
}
