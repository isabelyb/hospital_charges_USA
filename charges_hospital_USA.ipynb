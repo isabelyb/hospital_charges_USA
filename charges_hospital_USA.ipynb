{
 "cells": [
  {
   "cell_type": "code",
   "execution_count": 130,
   "metadata": {},
   "outputs": [
    {
     "name": "stdout",
     "output_type": "stream",
     "text": [
      "Requirement already satisfied: pandas in /home/isa/.local/lib/python3.8/site-packages (1.3.4)\n",
      "Requirement already satisfied: numpy>=1.17.3; platform_machine != \"aarch64\" and platform_machine != \"arm64\" and python_version < \"3.10\" in /usr/lib/python3/dist-packages (from pandas) (1.17.4)\n",
      "Requirement already satisfied: pytz>=2017.3 in /home/isa/.local/lib/python3.8/site-packages (from pandas) (2021.3)\n",
      "Requirement already satisfied: python-dateutil>=2.7.3 in /home/isa/.local/lib/python3.8/site-packages (from pandas) (2.8.2)\n",
      "Requirement already satisfied: six>=1.5 in /usr/lib/python3/dist-packages (from python-dateutil>=2.7.3->pandas) (1.14.0)\n",
      "Requirement already satisfied: bokeh in /home/isa/.local/lib/python3.8/site-packages (2.4.1)\n",
      "Requirement already satisfied: Jinja2>=2.9 in /home/isa/.local/lib/python3.8/site-packages (from bokeh) (3.0.3)\n",
      "Requirement already satisfied: tornado>=5.1 in /home/isa/.local/lib/python3.8/site-packages (from bokeh) (6.1)\n",
      "Requirement already satisfied: numpy>=1.11.3 in /usr/lib/python3/dist-packages (from bokeh) (1.17.4)\n",
      "Requirement already satisfied: typing-extensions>=3.10.0 in /home/isa/.local/lib/python3.8/site-packages (from bokeh) (3.10.0.2)\n",
      "Requirement already satisfied: PyYAML>=3.10 in /usr/lib/python3/dist-packages (from bokeh) (5.3.1)\n",
      "Requirement already satisfied: packaging>=16.8 in /home/isa/.local/lib/python3.8/site-packages (from bokeh) (21.2)\n",
      "Requirement already satisfied: pillow>=7.1.0 in /home/isa/.local/lib/python3.8/site-packages (from bokeh) (8.4.0)\n",
      "Requirement already satisfied: MarkupSafe>=2.0 in /home/isa/.local/lib/python3.8/site-packages (from Jinja2>=2.9->bokeh) (2.0.1)\n",
      "Requirement already satisfied: pyparsing<3,>=2.0.2 in /home/isa/.local/lib/python3.8/site-packages (from packaging>=16.8->bokeh) (2.4.7)\n",
      "Requirement already satisfied: pandas_bokeh in /home/isa/.local/lib/python3.8/site-packages (0.5.5)\n",
      "Requirement already satisfied: pandas>=0.22.0 in /home/isa/.local/lib/python3.8/site-packages (from pandas_bokeh) (1.3.4)\n",
      "Requirement already satisfied: bokeh>=2.0 in /home/isa/.local/lib/python3.8/site-packages (from pandas_bokeh) (2.4.1)\n",
      "Requirement already satisfied: pytz>=2017.3 in /home/isa/.local/lib/python3.8/site-packages (from pandas>=0.22.0->pandas_bokeh) (2021.3)\n",
      "Requirement already satisfied: python-dateutil>=2.7.3 in /home/isa/.local/lib/python3.8/site-packages (from pandas>=0.22.0->pandas_bokeh) (2.8.2)\n",
      "Requirement already satisfied: numpy>=1.17.3; platform_machine != \"aarch64\" and platform_machine != \"arm64\" and python_version < \"3.10\" in /usr/lib/python3/dist-packages (from pandas>=0.22.0->pandas_bokeh) (1.17.4)\n",
      "Requirement already satisfied: packaging>=16.8 in /home/isa/.local/lib/python3.8/site-packages (from bokeh>=2.0->pandas_bokeh) (21.2)\n",
      "Requirement already satisfied: Jinja2>=2.9 in /home/isa/.local/lib/python3.8/site-packages (from bokeh>=2.0->pandas_bokeh) (3.0.3)\n",
      "Requirement already satisfied: PyYAML>=3.10 in /usr/lib/python3/dist-packages (from bokeh>=2.0->pandas_bokeh) (5.3.1)\n",
      "Requirement already satisfied: pillow>=7.1.0 in /home/isa/.local/lib/python3.8/site-packages (from bokeh>=2.0->pandas_bokeh) (8.4.0)\n",
      "Requirement already satisfied: tornado>=5.1 in /home/isa/.local/lib/python3.8/site-packages (from bokeh>=2.0->pandas_bokeh) (6.1)\n",
      "Requirement already satisfied: typing-extensions>=3.10.0 in /home/isa/.local/lib/python3.8/site-packages (from bokeh>=2.0->pandas_bokeh) (3.10.0.2)\n",
      "Requirement already satisfied: six>=1.5 in /usr/lib/python3/dist-packages (from python-dateutil>=2.7.3->pandas>=0.22.0->pandas_bokeh) (1.14.0)\n",
      "Requirement already satisfied: pyparsing<3,>=2.0.2 in /home/isa/.local/lib/python3.8/site-packages (from packaging>=16.8->bokeh>=2.0->pandas_bokeh) (2.4.7)\n",
      "Requirement already satisfied: MarkupSafe>=2.0 in /home/isa/.local/lib/python3.8/site-packages (from Jinja2>=2.9->bokeh>=2.0->pandas_bokeh) (2.0.1)\n"
     ]
    }
   ],
   "source": [
    "!pip install pandas\n",
    "!pip install bokeh\n",
    "!pip install pandas_bokeh"
   ]
  },
  {
   "cell_type": "code",
   "execution_count": 100,
   "metadata": {},
   "outputs": [],
   "source": [
    "import pandas as pd\n",
    "import pandas_bokeh\n",
    "import bokeh"
   ]
  },
  {
   "cell_type": "code",
   "execution_count": 101,
   "metadata": {},
   "outputs": [
    {
     "data": {
      "text/html": [
       "\n",
       "    <div class=\"bk-root\">\n",
       "        <a href=\"https://bokeh.org\" target=\"_blank\" class=\"bk-logo bk-logo-small bk-logo-notebook\"></a>\n",
       "        <span id=\"2534\">Loading BokehJS ...</span>\n",
       "    </div>"
      ]
     },
     "metadata": {},
     "output_type": "display_data"
    },
    {
     "data": {
      "application/javascript": "\n(function(root) {\n  function now() {\n    return new Date();\n  }\n\n  const force = true;\n\n  if (typeof root._bokeh_onload_callbacks === \"undefined\" || force === true) {\n    root._bokeh_onload_callbacks = [];\n    root._bokeh_is_loading = undefined;\n  }\n\n  const JS_MIME_TYPE = 'application/javascript';\n  const HTML_MIME_TYPE = 'text/html';\n  const EXEC_MIME_TYPE = 'application/vnd.bokehjs_exec.v0+json';\n  const CLASS_NAME = 'output_bokeh rendered_html';\n\n  /**\n   * Render data to the DOM node\n   */\n  function render(props, node) {\n    const script = document.createElement(\"script\");\n    node.appendChild(script);\n  }\n\n  /**\n   * Handle when an output is cleared or removed\n   */\n  function handleClearOutput(event, handle) {\n    const cell = handle.cell;\n\n    const id = cell.output_area._bokeh_element_id;\n    const server_id = cell.output_area._bokeh_server_id;\n    // Clean up Bokeh references\n    if (id != null && id in Bokeh.index) {\n      Bokeh.index[id].model.document.clear();\n      delete Bokeh.index[id];\n    }\n\n    if (server_id !== undefined) {\n      // Clean up Bokeh references\n      const cmd_clean = \"from bokeh.io.state import curstate; print(curstate().uuid_to_server['\" + server_id + \"'].get_sessions()[0].document.roots[0]._id)\";\n      cell.notebook.kernel.execute(cmd_clean, {\n        iopub: {\n          output: function(msg) {\n            const id = msg.content.text.trim();\n            if (id in Bokeh.index) {\n              Bokeh.index[id].model.document.clear();\n              delete Bokeh.index[id];\n            }\n          }\n        }\n      });\n      // Destroy server and session\n      const cmd_destroy = \"import bokeh.io.notebook as ion; ion.destroy_server('\" + server_id + \"')\";\n      cell.notebook.kernel.execute(cmd_destroy);\n    }\n  }\n\n  /**\n   * Handle when a new output is added\n   */\n  function handleAddOutput(event, handle) {\n    const output_area = handle.output_area;\n    const output = handle.output;\n\n    // limit handleAddOutput to display_data with EXEC_MIME_TYPE content only\n    if ((output.output_type != \"display_data\") || (!Object.prototype.hasOwnProperty.call(output.data, EXEC_MIME_TYPE))) {\n      return\n    }\n\n    const toinsert = output_area.element.find(\".\" + CLASS_NAME.split(' ')[0]);\n\n    if (output.metadata[EXEC_MIME_TYPE][\"id\"] !== undefined) {\n      toinsert[toinsert.length - 1].firstChild.textContent = output.data[JS_MIME_TYPE];\n      // store reference to embed id on output_area\n      output_area._bokeh_element_id = output.metadata[EXEC_MIME_TYPE][\"id\"];\n    }\n    if (output.metadata[EXEC_MIME_TYPE][\"server_id\"] !== undefined) {\n      const bk_div = document.createElement(\"div\");\n      bk_div.innerHTML = output.data[HTML_MIME_TYPE];\n      const script_attrs = bk_div.children[0].attributes;\n      for (let i = 0; i < script_attrs.length; i++) {\n        toinsert[toinsert.length - 1].firstChild.setAttribute(script_attrs[i].name, script_attrs[i].value);\n        toinsert[toinsert.length - 1].firstChild.textContent = bk_div.children[0].textContent\n      }\n      // store reference to server id on output_area\n      output_area._bokeh_server_id = output.metadata[EXEC_MIME_TYPE][\"server_id\"];\n    }\n  }\n\n  function register_renderer(events, OutputArea) {\n\n    function append_mime(data, metadata, element) {\n      // create a DOM node to render to\n      const toinsert = this.create_output_subarea(\n        metadata,\n        CLASS_NAME,\n        EXEC_MIME_TYPE\n      );\n      this.keyboard_manager.register_events(toinsert);\n      // Render to node\n      const props = {data: data, metadata: metadata[EXEC_MIME_TYPE]};\n      render(props, toinsert[toinsert.length - 1]);\n      element.append(toinsert);\n      return toinsert\n    }\n\n    /* Handle when an output is cleared or removed */\n    events.on('clear_output.CodeCell', handleClearOutput);\n    events.on('delete.Cell', handleClearOutput);\n\n    /* Handle when a new output is added */\n    events.on('output_added.OutputArea', handleAddOutput);\n\n    /**\n     * Register the mime type and append_mime function with output_area\n     */\n    OutputArea.prototype.register_mime_type(EXEC_MIME_TYPE, append_mime, {\n      /* Is output safe? */\n      safe: true,\n      /* Index of renderer in `output_area.display_order` */\n      index: 0\n    });\n  }\n\n  // register the mime type if in Jupyter Notebook environment and previously unregistered\n  if (root.Jupyter !== undefined) {\n    const events = require('base/js/events');\n    const OutputArea = require('notebook/js/outputarea').OutputArea;\n\n    if (OutputArea.prototype.mime_types().indexOf(EXEC_MIME_TYPE) == -1) {\n      register_renderer(events, OutputArea);\n    }\n  }\n\n  \n  if (typeof (root._bokeh_timeout) === \"undefined\" || force === true) {\n    root._bokeh_timeout = Date.now() + 5000;\n    root._bokeh_failed_load = false;\n  }\n\n  const NB_LOAD_WARNING = {'data': {'text/html':\n     \"<div style='background-color: #fdd'>\\n\"+\n     \"<p>\\n\"+\n     \"BokehJS does not appear to have successfully loaded. If loading BokehJS from CDN, this \\n\"+\n     \"may be due to a slow or bad network connection. Possible fixes:\\n\"+\n     \"</p>\\n\"+\n     \"<ul>\\n\"+\n     \"<li>re-rerun `output_notebook()` to attempt to load from CDN again, or</li>\\n\"+\n     \"<li>use INLINE resources instead, as so:</li>\\n\"+\n     \"</ul>\\n\"+\n     \"<code>\\n\"+\n     \"from bokeh.resources import INLINE\\n\"+\n     \"output_notebook(resources=INLINE)\\n\"+\n     \"</code>\\n\"+\n     \"</div>\"}};\n\n  function display_loaded() {\n    const el = document.getElementById(\"2534\");\n    if (el != null) {\n      el.textContent = \"BokehJS is loading...\";\n    }\n    if (root.Bokeh !== undefined) {\n      if (el != null) {\n        el.textContent = \"BokehJS \" + root.Bokeh.version + \" successfully loaded.\";\n      }\n    } else if (Date.now() < root._bokeh_timeout) {\n      setTimeout(display_loaded, 100)\n    }\n  }\n\n\n  function run_callbacks() {\n    try {\n      root._bokeh_onload_callbacks.forEach(function(callback) {\n        if (callback != null)\n          callback();\n      });\n    } finally {\n      delete root._bokeh_onload_callbacks\n    }\n    console.debug(\"Bokeh: all callbacks have finished\");\n  }\n\n  function load_libs(css_urls, js_urls, callback) {\n    if (css_urls == null) css_urls = [];\n    if (js_urls == null) js_urls = [];\n\n    root._bokeh_onload_callbacks.push(callback);\n    if (root._bokeh_is_loading > 0) {\n      console.debug(\"Bokeh: BokehJS is being loaded, scheduling callback at\", now());\n      return null;\n    }\n    if (js_urls == null || js_urls.length === 0) {\n      run_callbacks();\n      return null;\n    }\n    console.debug(\"Bokeh: BokehJS not loaded, scheduling load and callback at\", now());\n    root._bokeh_is_loading = css_urls.length + js_urls.length;\n\n    function on_load() {\n      root._bokeh_is_loading--;\n      if (root._bokeh_is_loading === 0) {\n        console.debug(\"Bokeh: all BokehJS libraries/stylesheets loaded\");\n        run_callbacks()\n      }\n    }\n\n    function on_error(url) {\n      console.error(\"failed to load \" + url);\n    }\n\n    for (let i = 0; i < css_urls.length; i++) {\n      const url = css_urls[i];\n      const element = document.createElement(\"link\");\n      element.onload = on_load;\n      element.onerror = on_error.bind(null, url);\n      element.rel = \"stylesheet\";\n      element.type = \"text/css\";\n      element.href = url;\n      console.debug(\"Bokeh: injecting link tag for BokehJS stylesheet: \", url);\n      document.body.appendChild(element);\n    }\n\n    for (let i = 0; i < js_urls.length; i++) {\n      const url = js_urls[i];\n      const element = document.createElement('script');\n      element.onload = on_load;\n      element.onerror = on_error.bind(null, url);\n      element.async = false;\n      element.src = url;\n      console.debug(\"Bokeh: injecting script tag for BokehJS library: \", url);\n      document.head.appendChild(element);\n    }\n  };\n\n  function inject_raw_css(css) {\n    const element = document.createElement(\"style\");\n    element.appendChild(document.createTextNode(css));\n    document.body.appendChild(element);\n  }\n\n  \n  const js_urls = [\"https://cdn.bokeh.org/bokeh/release/bokeh-2.4.1.min.js\", \"https://cdn.bokeh.org/bokeh/release/bokeh-gl-2.4.1.min.js\", \"https://cdn.bokeh.org/bokeh/release/bokeh-widgets-2.4.1.min.js\", \"https://cdn.bokeh.org/bokeh/release/bokeh-tables-2.4.1.min.js\", \"https://cdn.bokeh.org/bokeh/release/bokeh-mathjax-2.4.1.min.js\"];\n  const css_urls = [];\n  \n\n  const inline_js = [\n    function(Bokeh) {\n      Bokeh.set_log_level(\"info\");\n    },\n    function(Bokeh) {\n    \n    \n    }\n  ];\n\n  function run_inline_js() {\n    \n    if (root.Bokeh !== undefined || force === true) {\n      \n    for (let i = 0; i < inline_js.length; i++) {\n      inline_js[i].call(root, root.Bokeh);\n    }\n    if (force === true) {\n        display_loaded();\n      }} else if (Date.now() < root._bokeh_timeout) {\n      setTimeout(run_inline_js, 100);\n    } else if (!root._bokeh_failed_load) {\n      console.log(\"Bokeh: BokehJS failed to load within specified timeout.\");\n      root._bokeh_failed_load = true;\n    } else if (force !== true) {\n      const cell = $(document.getElementById(\"2534\")).parents('.cell').data().cell;\n      cell.output_area.append_execute_result(NB_LOAD_WARNING)\n    }\n\n  }\n\n  if (root._bokeh_is_loading === 0) {\n    console.debug(\"Bokeh: BokehJS loaded, going straight to plotting\");\n    run_inline_js();\n  } else {\n    load_libs(css_urls, js_urls, function() {\n      console.debug(\"Bokeh: BokehJS plotting callback run at\", now());\n      run_inline_js();\n    });\n  }\n}(window));",
      "application/vnd.bokehjs_load.v0+json": ""
     },
     "metadata": {},
     "output_type": "display_data"
    }
   ],
   "source": [
    "# Embedding plots in Jupyter Notebook\n",
    "pandas_bokeh.output_notebook()"
   ]
  },
  {
   "cell_type": "markdown",
   "metadata": {},
   "source": [
    "# Data overview"
   ]
  },
  {
   "cell_type": "code",
   "execution_count": 102,
   "metadata": {},
   "outputs": [
    {
     "data": {
      "text/html": [
       "<div>\n",
       "<style scoped>\n",
       "    .dataframe tbody tr th:only-of-type {\n",
       "        vertical-align: middle;\n",
       "    }\n",
       "\n",
       "    .dataframe tbody tr th {\n",
       "        vertical-align: top;\n",
       "    }\n",
       "\n",
       "    .dataframe thead th {\n",
       "        text-align: right;\n",
       "    }\n",
       "</style>\n",
       "<table border=\"1\" class=\"dataframe\">\n",
       "  <thead>\n",
       "    <tr style=\"text-align: right;\">\n",
       "      <th></th>\n",
       "      <th>DRG Definition</th>\n",
       "      <th>Provider Id</th>\n",
       "      <th>Provider Name</th>\n",
       "      <th>Provider Street Address</th>\n",
       "      <th>Provider City</th>\n",
       "      <th>Provider State</th>\n",
       "      <th>Provider Zip Code</th>\n",
       "      <th>Hospital Referral Region Description</th>\n",
       "      <th>Total Discharges</th>\n",
       "      <th>Average Covered Charges</th>\n",
       "      <th>Average Total Payments</th>\n",
       "      <th>Average Medicare Payments</th>\n",
       "    </tr>\n",
       "  </thead>\n",
       "  <tbody>\n",
       "    <tr>\n",
       "      <th>0</th>\n",
       "      <td>039 - EXTRACRANIAL PROCEDURES W/O CC/MCC</td>\n",
       "      <td>10001</td>\n",
       "      <td>SOUTHEAST ALABAMA MEDICAL CENTER</td>\n",
       "      <td>1108 ROSS CLARK CIRCLE</td>\n",
       "      <td>DOTHAN</td>\n",
       "      <td>AL</td>\n",
       "      <td>36301</td>\n",
       "      <td>AL - Dothan</td>\n",
       "      <td>91</td>\n",
       "      <td>$32963.07</td>\n",
       "      <td>$5777.24</td>\n",
       "      <td>$4763.73</td>\n",
       "    </tr>\n",
       "    <tr>\n",
       "      <th>1</th>\n",
       "      <td>039 - EXTRACRANIAL PROCEDURES W/O CC/MCC</td>\n",
       "      <td>10005</td>\n",
       "      <td>MARSHALL MEDICAL CENTER SOUTH</td>\n",
       "      <td>2505 U S HIGHWAY 431 NORTH</td>\n",
       "      <td>BOAZ</td>\n",
       "      <td>AL</td>\n",
       "      <td>35957</td>\n",
       "      <td>AL - Birmingham</td>\n",
       "      <td>14</td>\n",
       "      <td>$15131.85</td>\n",
       "      <td>$5787.57</td>\n",
       "      <td>$4976.71</td>\n",
       "    </tr>\n",
       "    <tr>\n",
       "      <th>2</th>\n",
       "      <td>039 - EXTRACRANIAL PROCEDURES W/O CC/MCC</td>\n",
       "      <td>10006</td>\n",
       "      <td>ELIZA COFFEE MEMORIAL HOSPITAL</td>\n",
       "      <td>205 MARENGO STREET</td>\n",
       "      <td>FLORENCE</td>\n",
       "      <td>AL</td>\n",
       "      <td>35631</td>\n",
       "      <td>AL - Birmingham</td>\n",
       "      <td>24</td>\n",
       "      <td>$37560.37</td>\n",
       "      <td>$5434.95</td>\n",
       "      <td>$4453.79</td>\n",
       "    </tr>\n",
       "    <tr>\n",
       "      <th>3</th>\n",
       "      <td>039 - EXTRACRANIAL PROCEDURES W/O CC/MCC</td>\n",
       "      <td>10011</td>\n",
       "      <td>ST VINCENT'S EAST</td>\n",
       "      <td>50 MEDICAL PARK EAST DRIVE</td>\n",
       "      <td>BIRMINGHAM</td>\n",
       "      <td>AL</td>\n",
       "      <td>35235</td>\n",
       "      <td>AL - Birmingham</td>\n",
       "      <td>25</td>\n",
       "      <td>$13998.28</td>\n",
       "      <td>$5417.56</td>\n",
       "      <td>$4129.16</td>\n",
       "    </tr>\n",
       "    <tr>\n",
       "      <th>4</th>\n",
       "      <td>039 - EXTRACRANIAL PROCEDURES W/O CC/MCC</td>\n",
       "      <td>10016</td>\n",
       "      <td>SHELBY BAPTIST MEDICAL CENTER</td>\n",
       "      <td>1000 FIRST STREET NORTH</td>\n",
       "      <td>ALABASTER</td>\n",
       "      <td>AL</td>\n",
       "      <td>35007</td>\n",
       "      <td>AL - Birmingham</td>\n",
       "      <td>18</td>\n",
       "      <td>$31633.27</td>\n",
       "      <td>$5658.33</td>\n",
       "      <td>$4851.44</td>\n",
       "    </tr>\n",
       "  </tbody>\n",
       "</table>\n",
       "</div>"
      ],
      "text/plain": [
       "                             DRG Definition  Provider Id  \\\n",
       "0  039 - EXTRACRANIAL PROCEDURES W/O CC/MCC        10001   \n",
       "1  039 - EXTRACRANIAL PROCEDURES W/O CC/MCC        10005   \n",
       "2  039 - EXTRACRANIAL PROCEDURES W/O CC/MCC        10006   \n",
       "3  039 - EXTRACRANIAL PROCEDURES W/O CC/MCC        10011   \n",
       "4  039 - EXTRACRANIAL PROCEDURES W/O CC/MCC        10016   \n",
       "\n",
       "                      Provider Name     Provider Street Address Provider City  \\\n",
       "0  SOUTHEAST ALABAMA MEDICAL CENTER      1108 ROSS CLARK CIRCLE        DOTHAN   \n",
       "1     MARSHALL MEDICAL CENTER SOUTH  2505 U S HIGHWAY 431 NORTH          BOAZ   \n",
       "2    ELIZA COFFEE MEMORIAL HOSPITAL          205 MARENGO STREET      FLORENCE   \n",
       "3                 ST VINCENT'S EAST  50 MEDICAL PARK EAST DRIVE    BIRMINGHAM   \n",
       "4     SHELBY BAPTIST MEDICAL CENTER     1000 FIRST STREET NORTH     ALABASTER   \n",
       "\n",
       "  Provider State  Provider Zip Code Hospital Referral Region Description  \\\n",
       "0             AL              36301                          AL - Dothan   \n",
       "1             AL              35957                      AL - Birmingham   \n",
       "2             AL              35631                      AL - Birmingham   \n",
       "3             AL              35235                      AL - Birmingham   \n",
       "4             AL              35007                      AL - Birmingham   \n",
       "\n",
       "    Total Discharges   Average Covered Charges   Average Total Payments   \\\n",
       "0                  91                 $32963.07                 $5777.24   \n",
       "1                  14                 $15131.85                 $5787.57   \n",
       "2                  24                 $37560.37                 $5434.95   \n",
       "3                  25                 $13998.28                 $5417.56   \n",
       "4                  18                 $31633.27                 $5658.33   \n",
       "\n",
       "  Average Medicare Payments  \n",
       "0                  $4763.73  \n",
       "1                  $4976.71  \n",
       "2                  $4453.79  \n",
       "3                  $4129.16  \n",
       "4                  $4851.44  "
      ]
     },
     "execution_count": 102,
     "metadata": {},
     "output_type": "execute_result"
    }
   ],
   "source": [
    "df = pd.read_csv('hospital-charges.csv')\n",
    "df.head()"
   ]
  },
  {
   "cell_type": "code",
   "execution_count": 103,
   "metadata": {},
   "outputs": [
    {
     "name": "stdout",
     "output_type": "stream",
     "text": [
      "<class 'pandas.core.frame.DataFrame'>\n",
      "RangeIndex: 163065 entries, 0 to 163064\n",
      "Data columns (total 12 columns):\n",
      " #   Column                                Non-Null Count   Dtype \n",
      "---  ------                                --------------   ----- \n",
      " 0   DRG Definition                        163065 non-null  object\n",
      " 1   Provider Id                           163065 non-null  int64 \n",
      " 2   Provider Name                         163065 non-null  object\n",
      " 3   Provider Street Address               163065 non-null  object\n",
      " 4   Provider City                         163065 non-null  object\n",
      " 5   Provider State                        163065 non-null  object\n",
      " 6   Provider Zip Code                     163065 non-null  int64 \n",
      " 7   Hospital Referral Region Description  163065 non-null  object\n",
      " 8    Total Discharges                     163065 non-null  int64 \n",
      " 9    Average Covered Charges              163065 non-null  object\n",
      " 10   Average Total Payments               163065 non-null  object\n",
      " 11  Average Medicare Payments             163065 non-null  object\n",
      "dtypes: int64(3), object(9)\n",
      "memory usage: 14.9+ MB\n"
     ]
    }
   ],
   "source": [
    "df.info()"
   ]
  },
  {
   "cell_type": "markdown",
   "metadata": {},
   "source": [
    "# Format names and data"
   ]
  },
  {
   "cell_type": "code",
   "execution_count": 104,
   "metadata": {},
   "outputs": [],
   "source": [
    "# To remove spaces and rename columns\n",
    "df.columns = df.columns.str.strip()\n",
    "df.rename(columns={'Average Covered Charges': 'Avg Covered Charges [$]',\n",
    "                    'Average Total Payments' : 'Avg Total Payments [$]', \n",
    "                    'Average Medicare Payments': 'Avg Medicare Payments [$]'\n",
    "                    }, inplace=True)"
   ]
  },
  {
   "cell_type": "code",
   "execution_count": 105,
   "metadata": {},
   "outputs": [],
   "source": [
    "# To remove $  symbol and convert into float\n",
    "df[['Avg Covered Charges [$]', 'Avg Total Payments [$]', 'Avg Medicare Payments [$]']] =  df[['Avg Covered Charges [$]', \n",
    "                'Avg Total Payments [$]', 'Avg Medicare Payments [$]']].replace('\\$','',regex=True).astype(float)"
   ]
  },
  {
   "cell_type": "code",
   "execution_count": 106,
   "metadata": {},
   "outputs": [],
   "source": [
    "# To add 'Avg. Cost/attended patient [$]'\n",
    "df['Avg. Cost/attended patient [$]'] = df['Avg Total Payments [$]']/df['Total Discharges']"
   ]
  },
  {
   "cell_type": "code",
   "execution_count": 107,
   "metadata": {},
   "outputs": [
    {
     "data": {
      "text/html": [
       "<div>\n",
       "<style scoped>\n",
       "    .dataframe tbody tr th:only-of-type {\n",
       "        vertical-align: middle;\n",
       "    }\n",
       "\n",
       "    .dataframe tbody tr th {\n",
       "        vertical-align: top;\n",
       "    }\n",
       "\n",
       "    .dataframe thead th {\n",
       "        text-align: right;\n",
       "    }\n",
       "</style>\n",
       "<table border=\"1\" class=\"dataframe\">\n",
       "  <thead>\n",
       "    <tr style=\"text-align: right;\">\n",
       "      <th></th>\n",
       "      <th>DRG Definition</th>\n",
       "      <th>Provider Id</th>\n",
       "      <th>Provider Name</th>\n",
       "      <th>Provider Street Address</th>\n",
       "      <th>Provider City</th>\n",
       "      <th>Provider State</th>\n",
       "      <th>Provider Zip Code</th>\n",
       "      <th>Hospital Referral Region Description</th>\n",
       "      <th>Total Discharges</th>\n",
       "      <th>Avg Covered Charges [$]</th>\n",
       "      <th>Avg Total Payments [$]</th>\n",
       "      <th>Avg Medicare Payments [$]</th>\n",
       "      <th>Avg. Cost/attended patient [$]</th>\n",
       "    </tr>\n",
       "  </thead>\n",
       "  <tbody>\n",
       "    <tr>\n",
       "      <th>95445</th>\n",
       "      <td>378 - G.I. HEMORRHAGE W CC</td>\n",
       "      <td>520138</td>\n",
       "      <td>AURORA ST LUKES MEDICAL CENTER</td>\n",
       "      <td>2900 W OKLAHOMA AVE</td>\n",
       "      <td>MILWAUKEE</td>\n",
       "      <td>WI</td>\n",
       "      <td>53215</td>\n",
       "      <td>WI - Milwaukee</td>\n",
       "      <td>159</td>\n",
       "      <td>28441.81</td>\n",
       "      <td>7805.78</td>\n",
       "      <td>6451.0</td>\n",
       "      <td>49.092956</td>\n",
       "    </tr>\n",
       "    <tr>\n",
       "      <th>114777</th>\n",
       "      <td>473 - CERVICAL SPINAL FUSION W/O CC/MCC</td>\n",
       "      <td>450869</td>\n",
       "      <td>DOCTORS HOSPITAL AT RENAISSANCE</td>\n",
       "      <td>5501 SOUTH MCCOLL</td>\n",
       "      <td>EDINBURG</td>\n",
       "      <td>TX</td>\n",
       "      <td>78539</td>\n",
       "      <td>TX - McAllen</td>\n",
       "      <td>18</td>\n",
       "      <td>41459.72</td>\n",
       "      <td>17545.50</td>\n",
       "      <td>15114.5</td>\n",
       "      <td>974.750000</td>\n",
       "    </tr>\n",
       "  </tbody>\n",
       "</table>\n",
       "</div>"
      ],
      "text/plain": [
       "                                 DRG Definition  Provider Id  \\\n",
       "95445                378 - G.I. HEMORRHAGE W CC       520138   \n",
       "114777  473 - CERVICAL SPINAL FUSION W/O CC/MCC       450869   \n",
       "\n",
       "                          Provider Name Provider Street Address Provider City  \\\n",
       "95445    AURORA ST LUKES MEDICAL CENTER     2900 W OKLAHOMA AVE     MILWAUKEE   \n",
       "114777  DOCTORS HOSPITAL AT RENAISSANCE       5501 SOUTH MCCOLL      EDINBURG   \n",
       "\n",
       "       Provider State  Provider Zip Code Hospital Referral Region Description  \\\n",
       "95445              WI              53215                       WI - Milwaukee   \n",
       "114777             TX              78539                         TX - McAllen   \n",
       "\n",
       "        Total Discharges  Avg Covered Charges [$]  Avg Total Payments [$]  \\\n",
       "95445                159                 28441.81                 7805.78   \n",
       "114777                18                 41459.72                17545.50   \n",
       "\n",
       "        Avg Medicare Payments [$]  Avg. Cost/attended patient [$]  \n",
       "95445                      6451.0                       49.092956  \n",
       "114777                    15114.5                      974.750000  "
      ]
     },
     "execution_count": 107,
     "metadata": {},
     "output_type": "execute_result"
    }
   ],
   "source": [
    "df.sample(2)"
   ]
  },
  {
   "cell_type": "markdown",
   "metadata": {},
   "source": [
    "# Answer questions"
   ]
  },
  {
   "cell_type": "markdown",
   "metadata": {},
   "source": [
    "### 1. Which are the most expensive states and the cheapest ones?\n",
    "The best variable to compare is **Average Total Payments** instead of **Average Covered Charges** because the last one is only the ticket price, not the real amount paid.\n",
    "\n",
    "But..."
   ]
  },
  {
   "cell_type": "code",
   "execution_count": 108,
   "metadata": {},
   "outputs": [
    {
     "data": {
      "text/html": [
       "<div>\n",
       "<style scoped>\n",
       "    .dataframe tbody tr th:only-of-type {\n",
       "        vertical-align: middle;\n",
       "    }\n",
       "\n",
       "    .dataframe tbody tr th {\n",
       "        vertical-align: top;\n",
       "    }\n",
       "\n",
       "    .dataframe thead th {\n",
       "        text-align: right;\n",
       "    }\n",
       "</style>\n",
       "<table border=\"1\" class=\"dataframe\">\n",
       "  <thead>\n",
       "    <tr style=\"text-align: right;\">\n",
       "      <th></th>\n",
       "      <th>Avg Covered Charges [$]</th>\n",
       "      <th>Avg Total Payments [$]</th>\n",
       "      <th>Avg Medicare Payments [$]</th>\n",
       "    </tr>\n",
       "  </thead>\n",
       "  <tbody>\n",
       "    <tr>\n",
       "      <th>Avg Covered Charges [$]</th>\n",
       "      <td>1.000000</td>\n",
       "      <td>0.774112</td>\n",
       "      <td>0.768927</td>\n",
       "    </tr>\n",
       "    <tr>\n",
       "      <th>Avg Total Payments [$]</th>\n",
       "      <td>0.774112</td>\n",
       "      <td>1.000000</td>\n",
       "      <td>0.989362</td>\n",
       "    </tr>\n",
       "    <tr>\n",
       "      <th>Avg Medicare Payments [$]</th>\n",
       "      <td>0.768927</td>\n",
       "      <td>0.989362</td>\n",
       "      <td>1.000000</td>\n",
       "    </tr>\n",
       "  </tbody>\n",
       "</table>\n",
       "</div>"
      ],
      "text/plain": [
       "                           Avg Covered Charges [$]  Avg Total Payments [$]  \\\n",
       "Avg Covered Charges [$]                   1.000000                0.774112   \n",
       "Avg Total Payments [$]                    0.774112                1.000000   \n",
       "Avg Medicare Payments [$]                 0.768927                0.989362   \n",
       "\n",
       "                           Avg Medicare Payments [$]  \n",
       "Avg Covered Charges [$]                     0.768927  \n",
       "Avg Total Payments [$]                      0.989362  \n",
       "Avg Medicare Payments [$]                   1.000000  "
      ]
     },
     "execution_count": 108,
     "metadata": {},
     "output_type": "execute_result"
    }
   ],
   "source": [
    "# To answer if exist some correlation between Average Covered Charges, Average Total Payments and Average Medicare Payments\n",
    "df[['Avg Covered Charges [$]', 'Avg Total Payments [$]', 'Avg Medicare Payments [$]']].corr(method ='pearson')"
   ]
  },
  {
   "cell_type": "code",
   "execution_count": 109,
   "metadata": {},
   "outputs": [],
   "source": [
    "df.drop(df[['Provider Id', 'Provider Zip Code', 'Avg Covered Charges [$]']], axis=1, inplace=True)"
   ]
  },
  {
   "cell_type": "code",
   "execution_count": 110,
   "metadata": {},
   "outputs": [
    {
     "data": {
      "text/html": [
       "\n",
       "\n",
       "\n",
       "\n",
       "\n",
       "\n",
       "  <div class=\"bk-root\" id=\"f15d11a9-2dbc-47db-a683-9056f2502288\" data-root-id=\"2535\"></div>\n"
      ]
     },
     "metadata": {},
     "output_type": "display_data"
    },
    {
     "data": {
      "application/javascript": "(function(root) {\n  function embed_document(root) {\n    \n  const docs_json = {\"3c0d1152-3297-42e6-9f3d-28835bc924c2\":{\"defs\":[],\"roots\":{\"references\":[{\"attributes\":{\"below\":[{\"id\":\"2546\"}],\"center\":[{\"id\":\"2549\"},{\"id\":\"2553\"},{\"id\":\"2585\"}],\"height\":400,\"left\":[{\"id\":\"2550\"}],\"output_backend\":\"webgl\",\"renderers\":[{\"id\":\"2573\"},{\"id\":\"2594\"},{\"id\":\"2616\"},{\"id\":\"2640\"}],\"sizing_mode\":\"fixed\",\"title\":{\"id\":\"2536\"},\"toolbar\":{\"id\":\"2561\"},\"x_range\":{\"id\":\"2538\"},\"x_scale\":{\"id\":\"2542\"},\"y_range\":{\"id\":\"2540\"},\"y_scale\":{\"id\":\"2544\"}},\"id\":\"2535\",\"subtype\":\"Figure\",\"type\":\"Plot\"},{\"attributes\":{\"active_scroll\":{\"id\":\"2555\"},\"tools\":[{\"id\":\"2554\"},{\"id\":\"2555\"},{\"id\":\"2556\"},{\"id\":\"2557\"},{\"id\":\"2558\"},{\"id\":\"2559\"},{\"id\":\"2587\"},{\"id\":\"2609\"},{\"id\":\"2633\"},{\"id\":\"2659\"}]},\"id\":\"2561\",\"type\":\"Toolbar\"},{\"attributes\":{},\"id\":\"2629\",\"type\":\"UnionRenderers\"},{\"attributes\":{\"coordinates\":null,\"formatter\":{\"id\":\"2577\"},\"group\":null,\"major_label_policy\":{\"id\":\"2578\"},\"ticker\":{\"id\":\"2551\"}},\"id\":\"2550\",\"type\":\"LinearAxis\"},{\"attributes\":{\"data\":{\"bins\":[\"3.162036919159771\\uff0d15618.663833227245\",\"15618.663833227245\\uff0d31234.165629535328\",\"31234.165629535328\\uff0d46849.667425843414\",\"46849.667425843414\\uff0d62465.1692221515\",\"62465.1692221515\\uff0d78080.67101845959\",\"78080.67101845959\\uff0d93696.17281476768\",\"93696.17281476768\\uff0d109311.67461107575\",\"109311.67461107575\\uff0d124927.17640738384\",\"124927.17640738384\\uff0d140542.6782036919\",\"140542.6782036919\\uff0d156158.18\"],\"bottom\":[0,0,0,0,0,0,0,0,0,0],\"left\":{\"__ndarray__\":\"WEkkA9pLCUCCuHz4VIHOQF+frJmKgN5AP3GNWzXg5kDOkkRqJYDuQC/afbwKEPNA92rZwwLg9kC++zTL+q/6QIaMkNLyf/5Apg72bPUnAUE=\",\"dtype\":\"float64\",\"order\":\"little\",\"shape\":[10]},\"right\":{\"__ndarray__\":\"grh8+FSBzkBfn6yZioDeQD9xjVs14OZAzpJEaiWA7kAv2n28ChDzQPdq2cMC4PZAvvs0y/qv+kCGjJDS8n/+QKYO9mz1JwFBCtejcPEPA0E=\",\"dtype\":\"float64\",\"order\":\"little\",\"shape\":[10]},\"top\":[163065,0,0,0,0,0,0,0,0,0]},\"selected\":{\"id\":\"2656\"},\"selection_policy\":{\"id\":\"2655\"}},\"id\":\"2635\",\"type\":\"ColumnDataSource\"},{\"attributes\":{\"source\":{\"id\":\"2635\"}},\"id\":\"2641\",\"type\":\"CDSView\"},{\"attributes\":{},\"id\":\"2630\",\"type\":\"Selection\"},{\"attributes\":{\"label\":{\"value\":\"Total Discharges\"},\"renderers\":[{\"id\":\"2573\"}]},\"id\":\"2586\",\"type\":\"LegendItem\"},{\"attributes\":{\"bottom\":{\"field\":\"bottom\"},\"fill_alpha\":{\"value\":0.2},\"fill_color\":{\"value\":\"#1f77b4\"},\"hatch_alpha\":{\"value\":0.2},\"hatch_color\":{\"value\":\"#1f77b4\"},\"left\":{\"field\":\"left\"},\"line_alpha\":{\"value\":0.2},\"line_color\":{\"value\":null},\"line_width\":{\"value\":2},\"right\":{\"field\":\"right\"},\"top\":{\"field\":\"top\"}},\"id\":\"2572\",\"type\":\"Quad\"},{\"attributes\":{\"ticks\":[3.162036919159771,15618.663833227245,31234.165629535328,46849.667425843414,62465.1692221515,78080.67101845959,93696.17281476768,109311.67461107575,124927.17640738384,140542.6782036919,156158.18]},\"id\":\"2661\",\"type\":\"FixedTicker\"},{\"attributes\":{\"coordinates\":null,\"data_source\":{\"id\":\"2635\"},\"glyph\":{\"id\":\"2637\"},\"group\":null,\"hover_glyph\":null,\"muted_glyph\":{\"id\":\"2639\"},\"nonselection_glyph\":{\"id\":\"2638\"},\"view\":{\"id\":\"2641\"}},\"id\":\"2640\",\"type\":\"GlyphRenderer\"},{\"attributes\":{\"data\":{\"bins\":[\"3.162036919159771\\uff0d15618.663833227245\",\"15618.663833227245\\uff0d31234.165629535328\",\"31234.165629535328\\uff0d46849.667425843414\",\"46849.667425843414\\uff0d62465.1692221515\",\"62465.1692221515\\uff0d78080.67101845959\",\"78080.67101845959\\uff0d93696.17281476768\",\"93696.17281476768\\uff0d109311.67461107575\",\"109311.67461107575\\uff0d124927.17640738384\",\"124927.17640738384\\uff0d140542.6782036919\",\"140542.6782036919\\uff0d156158.18\"],\"bottom\":[0,0,0,0,0,0,0,0,0,0],\"left\":{\"__ndarray__\":\"WEkkA9pLCUCCuHz4VIHOQF+frJmKgN5AP3GNWzXg5kDOkkRqJYDuQC/afbwKEPNA92rZwwLg9kC++zTL+q/6QIaMkNLyf/5Apg72bPUnAUE=\",\"dtype\":\"float64\",\"order\":\"little\",\"shape\":[10]},\"right\":{\"__ndarray__\":\"grh8+FSBzkBfn6yZioDeQD9xjVs14OZAzpJEaiWA7kAv2n28ChDzQPdq2cMC4PZAvvs0y/qv+kCGjJDS8n/+QKYO9mz1JwFBCtejcPEPA0E=\",\"dtype\":\"float64\",\"order\":\"little\",\"shape\":[10]},\"top\":[163065,0,0,0,0,0,0,0,0,0]},\"selected\":{\"id\":\"2583\"},\"selection_policy\":{\"id\":\"2582\"}},\"id\":\"2568\",\"type\":\"ColumnDataSource\"},{\"attributes\":{\"bottom\":{\"field\":\"bottom\"},\"fill_alpha\":{\"value\":0.2},\"fill_color\":{\"value\":\"#d62728\"},\"hatch_alpha\":{\"value\":0.2},\"hatch_color\":{\"value\":\"#d62728\"},\"left\":{\"field\":\"left\"},\"line_alpha\":{\"value\":0.2},\"line_color\":{\"value\":null},\"line_width\":{\"value\":2},\"right\":{\"field\":\"right\"},\"top\":{\"field\":\"top\"}},\"id\":\"2639\",\"type\":\"Quad\"},{\"attributes\":{},\"id\":\"2577\",\"type\":\"BasicTickFormatter\"},{\"attributes\":{\"label\":{\"value\":\"Avg. Cost/attended patient [$]\"},\"renderers\":[{\"id\":\"2640\"}]},\"id\":\"2658\",\"type\":\"LegendItem\"},{\"attributes\":{},\"id\":\"2542\",\"type\":\"LinearScale\"},{\"attributes\":{},\"id\":\"2544\",\"type\":\"LinearScale\"},{\"attributes\":{\"axis\":{\"id\":\"2550\"},\"coordinates\":null,\"dimension\":1,\"group\":null,\"ticker\":null},\"id\":\"2553\",\"type\":\"Grid\"},{\"attributes\":{},\"id\":\"2555\",\"type\":\"WheelZoomTool\"},{\"attributes\":{\"bottom\":{\"field\":\"bottom\"},\"fill_alpha\":{\"value\":0.5},\"fill_color\":{\"value\":\"#ff7f0e\"},\"hatch_alpha\":{\"value\":0.5},\"hatch_color\":{\"value\":\"#ff7f0e\"},\"left\":{\"field\":\"left\"},\"line_alpha\":{\"value\":0.5},\"line_color\":{\"value\":null},\"line_width\":{\"value\":2},\"right\":{\"field\":\"right\"},\"top\":{\"field\":\"top\"}},\"id\":\"2591\",\"type\":\"Quad\"},{\"attributes\":{\"bottom\":{\"field\":\"bottom\"},\"fill_alpha\":{\"value\":0.1},\"fill_color\":{\"value\":\"#d62728\"},\"hatch_alpha\":{\"value\":0.1},\"hatch_color\":{\"value\":\"#d62728\"},\"left\":{\"field\":\"left\"},\"line_alpha\":{\"value\":0.1},\"line_color\":{\"value\":null},\"line_width\":{\"value\":2},\"right\":{\"field\":\"right\"},\"top\":{\"field\":\"top\"}},\"id\":\"2638\",\"type\":\"Quad\"},{\"attributes\":{\"callback\":null,\"mode\":\"vline\",\"renderers\":[{\"id\":\"2573\"}],\"tooltips\":\"<h3> Total Discharges: </h3> <h4>bin=@bins</h4> <h4>value=@top </h4>\"},\"id\":\"2587\",\"type\":\"HoverTool\"},{\"attributes\":{},\"id\":\"2580\",\"type\":\"BasicTickFormatter\"},{\"attributes\":{},\"id\":\"2538\",\"type\":\"DataRange1d\"},{\"attributes\":{\"overlay\":{\"id\":\"2560\"}},\"id\":\"2556\",\"type\":\"BoxZoomTool\"},{\"attributes\":{},\"id\":\"2583\",\"type\":\"Selection\"},{\"attributes\":{\"bottom\":{\"field\":\"bottom\"},\"fill_alpha\":{\"value\":0.1},\"fill_color\":{\"value\":\"#ff7f0e\"},\"hatch_alpha\":{\"value\":0.1},\"hatch_color\":{\"value\":\"#ff7f0e\"},\"left\":{\"field\":\"left\"},\"line_alpha\":{\"value\":0.1},\"line_color\":{\"value\":null},\"line_width\":{\"value\":2},\"right\":{\"field\":\"right\"},\"top\":{\"field\":\"top\"}},\"id\":\"2592\",\"type\":\"Quad\"},{\"attributes\":{},\"id\":\"2581\",\"type\":\"AllLabels\"},{\"attributes\":{\"coordinates\":null,\"formatter\":{\"id\":\"2580\"},\"group\":null,\"major_label_policy\":{\"id\":\"2581\"},\"ticker\":{\"id\":\"2661\"}},\"id\":\"2546\",\"type\":\"LinearAxis\"},{\"attributes\":{\"data\":{\"bins\":[\"3.162036919159771\\uff0d15618.663833227245\",\"15618.663833227245\\uff0d31234.165629535328\",\"31234.165629535328\\uff0d46849.667425843414\",\"46849.667425843414\\uff0d62465.1692221515\",\"62465.1692221515\\uff0d78080.67101845959\",\"78080.67101845959\\uff0d93696.17281476768\",\"93696.17281476768\\uff0d109311.67461107575\",\"109311.67461107575\\uff0d124927.17640738384\",\"124927.17640738384\\uff0d140542.6782036919\",\"140542.6782036919\\uff0d156158.18\"],\"bottom\":[0,0,0,0,0,0,0,0,0,0],\"left\":{\"__ndarray__\":\"WEkkA9pLCUCCuHz4VIHOQF+frJmKgN5AP3GNWzXg5kDOkkRqJYDuQC/afbwKEPNA92rZwwLg9kC++zTL+q/6QIaMkNLyf/5Apg72bPUnAUE=\",\"dtype\":\"float64\",\"order\":\"little\",\"shape\":[10]},\"right\":{\"__ndarray__\":\"grh8+FSBzkBfn6yZioDeQD9xjVs14OZAzpJEaiWA7kAv2n28ChDzQPdq2cMC4PZAvvs0y/qv+kCGjJDS8n/+QKYO9mz1JwFBCtejcPEPA0E=\",\"dtype\":\"float64\",\"order\":\"little\",\"shape\":[10]},\"top\":[142828,15511,3691,786,195,37,11,3,2,1]},\"selected\":{\"id\":\"2606\"},\"selection_policy\":{\"id\":\"2605\"}},\"id\":\"2589\",\"type\":\"ColumnDataSource\"},{\"attributes\":{},\"id\":\"2557\",\"type\":\"SaveTool\"},{\"attributes\":{\"bottom\":{\"field\":\"bottom\"},\"fill_alpha\":{\"value\":0.1},\"fill_color\":{\"value\":\"#1f77b4\"},\"hatch_alpha\":{\"value\":0.1},\"hatch_color\":{\"value\":\"#1f77b4\"},\"left\":{\"field\":\"left\"},\"line_alpha\":{\"value\":0.1},\"line_color\":{\"value\":null},\"line_width\":{\"value\":2},\"right\":{\"field\":\"right\"},\"top\":{\"field\":\"top\"}},\"id\":\"2571\",\"type\":\"Quad\"},{\"attributes\":{\"source\":{\"id\":\"2589\"}},\"id\":\"2595\",\"type\":\"CDSView\"},{\"attributes\":{\"bottom\":{\"field\":\"bottom\"},\"fill_alpha\":{\"value\":0.5},\"fill_color\":{\"value\":\"#2ca02c\"},\"hatch_alpha\":{\"value\":0.5},\"hatch_color\":{\"value\":\"#2ca02c\"},\"left\":{\"field\":\"left\"},\"line_alpha\":{\"value\":0.5},\"line_color\":{\"value\":null},\"line_width\":{\"value\":2},\"right\":{\"field\":\"right\"},\"top\":{\"field\":\"top\"}},\"id\":\"2613\",\"type\":\"Quad\"},{\"attributes\":{},\"id\":\"2558\",\"type\":\"ResetTool\"},{\"attributes\":{},\"id\":\"2540\",\"type\":\"DataRange1d\"},{\"attributes\":{\"coordinates\":null,\"data_source\":{\"id\":\"2589\"},\"glyph\":{\"id\":\"2591\"},\"group\":null,\"hover_glyph\":null,\"muted_glyph\":{\"id\":\"2593\"},\"nonselection_glyph\":{\"id\":\"2592\"},\"view\":{\"id\":\"2595\"}},\"id\":\"2594\",\"type\":\"GlyphRenderer\"},{\"attributes\":{\"bottom\":{\"field\":\"bottom\"},\"fill_alpha\":{\"value\":0.2},\"fill_color\":{\"value\":\"#ff7f0e\"},\"hatch_alpha\":{\"value\":0.2},\"hatch_color\":{\"value\":\"#ff7f0e\"},\"left\":{\"field\":\"left\"},\"line_alpha\":{\"value\":0.2},\"line_color\":{\"value\":null},\"line_width\":{\"value\":2},\"right\":{\"field\":\"right\"},\"top\":{\"field\":\"top\"}},\"id\":\"2593\",\"type\":\"Quad\"},{\"attributes\":{\"callback\":null,\"mode\":\"vline\",\"renderers\":[{\"id\":\"2594\"}],\"tooltips\":\"<h3> Avg Total Payments [$]: </h3> <h4>bin=@bins</h4> <h4>value=@top </h4>\"},\"id\":\"2609\",\"type\":\"HoverTool\"},{\"attributes\":{\"label\":{\"value\":\"Avg Total Payments [$]\"},\"renderers\":[{\"id\":\"2594\"}]},\"id\":\"2608\",\"type\":\"LegendItem\"},{\"attributes\":{},\"id\":\"2582\",\"type\":\"UnionRenderers\"},{\"attributes\":{\"axis\":{\"id\":\"2546\"},\"coordinates\":null,\"group\":null,\"ticker\":null},\"id\":\"2549\",\"type\":\"Grid\"},{\"attributes\":{\"callback\":null,\"mode\":\"vline\",\"renderers\":[{\"id\":\"2616\"}],\"tooltips\":\"<h3> Avg Medicare Payments [$]: </h3> <h4>bin=@bins</h4> <h4>value=@top </h4>\"},\"id\":\"2633\",\"type\":\"HoverTool\"},{\"attributes\":{\"coordinates\":null,\"group\":null},\"id\":\"2536\",\"type\":\"Title\"},{\"attributes\":{\"source\":{\"id\":\"2568\"}},\"id\":\"2574\",\"type\":\"CDSView\"},{\"attributes\":{\"bottom\":{\"field\":\"bottom\"},\"fill_alpha\":{\"value\":0.1},\"fill_color\":{\"value\":\"#2ca02c\"},\"hatch_alpha\":{\"value\":0.1},\"hatch_color\":{\"value\":\"#2ca02c\"},\"left\":{\"field\":\"left\"},\"line_alpha\":{\"value\":0.1},\"line_color\":{\"value\":null},\"line_width\":{\"value\":2},\"right\":{\"field\":\"right\"},\"top\":{\"field\":\"top\"}},\"id\":\"2614\",\"type\":\"Quad\"},{\"attributes\":{\"bottom\":{\"field\":\"bottom\"},\"fill_alpha\":{\"value\":0.5},\"fill_color\":{\"value\":\"#1f77b4\"},\"hatch_alpha\":{\"value\":0.5},\"hatch_color\":{\"value\":\"#1f77b4\"},\"left\":{\"field\":\"left\"},\"line_alpha\":{\"value\":0.5},\"line_color\":{\"value\":null},\"line_width\":{\"value\":2},\"right\":{\"field\":\"right\"},\"top\":{\"field\":\"top\"}},\"id\":\"2570\",\"type\":\"Quad\"},{\"attributes\":{\"click_policy\":\"hide\",\"coordinates\":null,\"group\":null,\"items\":[{\"id\":\"2586\"},{\"id\":\"2608\"},{\"id\":\"2632\"},{\"id\":\"2658\"}]},\"id\":\"2585\",\"type\":\"Legend\"},{\"attributes\":{},\"id\":\"2606\",\"type\":\"Selection\"},{\"attributes\":{\"bottom\":{\"field\":\"bottom\"},\"fill_alpha\":{\"value\":0.5},\"fill_color\":{\"value\":\"#d62728\"},\"hatch_alpha\":{\"value\":0.5},\"hatch_color\":{\"value\":\"#d62728\"},\"left\":{\"field\":\"left\"},\"line_alpha\":{\"value\":0.5},\"line_color\":{\"value\":null},\"line_width\":{\"value\":2},\"right\":{\"field\":\"right\"},\"top\":{\"field\":\"top\"}},\"id\":\"2637\",\"type\":\"Quad\"},{\"attributes\":{\"data\":{\"bins\":[\"3.162036919159771\\uff0d15618.663833227245\",\"15618.663833227245\\uff0d31234.165629535328\",\"31234.165629535328\\uff0d46849.667425843414\",\"46849.667425843414\\uff0d62465.1692221515\",\"62465.1692221515\\uff0d78080.67101845959\",\"78080.67101845959\\uff0d93696.17281476768\",\"93696.17281476768\\uff0d109311.67461107575\",\"109311.67461107575\\uff0d124927.17640738384\",\"124927.17640738384\\uff0d140542.6782036919\",\"140542.6782036919\\uff0d156158.18\"],\"bottom\":[0,0,0,0,0,0,0,0,0,0],\"left\":{\"__ndarray__\":\"WEkkA9pLCUCCuHz4VIHOQF+frJmKgN5AP3GNWzXg5kDOkkRqJYDuQC/afbwKEPNA92rZwwLg9kC++zTL+q/6QIaMkNLyf/5Apg72bPUnAUE=\",\"dtype\":\"float64\",\"order\":\"little\",\"shape\":[10]},\"right\":{\"__ndarray__\":\"grh8+FSBzkBfn6yZioDeQD9xjVs14OZAzpJEaiWA7kAv2n28ChDzQPdq2cMC4PZAvvs0y/qv+kCGjJDS8n/+QKYO9mz1JwFBCtejcPEPA0E=\",\"dtype\":\"float64\",\"order\":\"little\",\"shape\":[10]},\"top\":[146570,12670,3040,605,143,23,10,1,2,1]},\"selected\":{\"id\":\"2630\"},\"selection_policy\":{\"id\":\"2629\"}},\"id\":\"2611\",\"type\":\"ColumnDataSource\"},{\"attributes\":{},\"id\":\"2559\",\"type\":\"HelpTool\"},{\"attributes\":{},\"id\":\"2551\",\"type\":\"BasicTicker\"},{\"attributes\":{},\"id\":\"2578\",\"type\":\"AllLabels\"},{\"attributes\":{\"label\":{\"value\":\"Avg Medicare Payments [$]\"},\"renderers\":[{\"id\":\"2616\"}]},\"id\":\"2632\",\"type\":\"LegendItem\"},{\"attributes\":{},\"id\":\"2605\",\"type\":\"UnionRenderers\"},{\"attributes\":{},\"id\":\"2655\",\"type\":\"UnionRenderers\"},{\"attributes\":{},\"id\":\"2656\",\"type\":\"Selection\"},{\"attributes\":{\"bottom_units\":\"screen\",\"coordinates\":null,\"fill_alpha\":0.5,\"fill_color\":\"lightgrey\",\"group\":null,\"left_units\":\"screen\",\"level\":\"overlay\",\"line_alpha\":1.0,\"line_color\":\"black\",\"line_dash\":[4,4],\"line_width\":2,\"right_units\":\"screen\",\"syncable\":false,\"top_units\":\"screen\"},\"id\":\"2560\",\"type\":\"BoxAnnotation\"},{\"attributes\":{\"source\":{\"id\":\"2611\"}},\"id\":\"2617\",\"type\":\"CDSView\"},{\"attributes\":{},\"id\":\"2554\",\"type\":\"PanTool\"},{\"attributes\":{\"coordinates\":null,\"data_source\":{\"id\":\"2611\"},\"glyph\":{\"id\":\"2613\"},\"group\":null,\"hover_glyph\":null,\"muted_glyph\":{\"id\":\"2615\"},\"nonselection_glyph\":{\"id\":\"2614\"},\"view\":{\"id\":\"2617\"}},\"id\":\"2616\",\"type\":\"GlyphRenderer\"},{\"attributes\":{\"bottom\":{\"field\":\"bottom\"},\"fill_alpha\":{\"value\":0.2},\"fill_color\":{\"value\":\"#2ca02c\"},\"hatch_alpha\":{\"value\":0.2},\"hatch_color\":{\"value\":\"#2ca02c\"},\"left\":{\"field\":\"left\"},\"line_alpha\":{\"value\":0.2},\"line_color\":{\"value\":null},\"line_width\":{\"value\":2},\"right\":{\"field\":\"right\"},\"top\":{\"field\":\"top\"}},\"id\":\"2615\",\"type\":\"Quad\"},{\"attributes\":{\"callback\":null,\"mode\":\"vline\",\"renderers\":[{\"id\":\"2640\"}],\"tooltips\":\"<h3> Avg. Cost/attended patient [$]: </h3> <h4>bin=@bins</h4> <h4>value=@top </h4>\"},\"id\":\"2659\",\"type\":\"HoverTool\"},{\"attributes\":{\"coordinates\":null,\"data_source\":{\"id\":\"2568\"},\"glyph\":{\"id\":\"2570\"},\"group\":null,\"hover_glyph\":null,\"muted_glyph\":{\"id\":\"2572\"},\"nonselection_glyph\":{\"id\":\"2571\"},\"view\":{\"id\":\"2574\"}},\"id\":\"2573\",\"type\":\"GlyphRenderer\"}],\"root_ids\":[\"2535\"]},\"title\":\"Bokeh Application\",\"version\":\"2.4.1\"}};\n  const render_items = [{\"docid\":\"3c0d1152-3297-42e6-9f3d-28835bc924c2\",\"root_ids\":[\"2535\"],\"roots\":{\"2535\":\"f15d11a9-2dbc-47db-a683-9056f2502288\"}}];\n  root.Bokeh.embed.embed_items_notebook(docs_json, render_items);\n\n  }\n  if (root.Bokeh !== undefined) {\n    embed_document(root);\n  } else {\n    let attempts = 0;\n    const timer = setInterval(function(root) {\n      if (root.Bokeh !== undefined) {\n        clearInterval(timer);\n        embed_document(root);\n      } else {\n        attempts++;\n        if (attempts > 100) {\n          clearInterval(timer);\n          console.log(\"Bokeh: ERROR: Unable to run BokehJS code because BokehJS library is missing\");\n        }\n      }\n    }, 10, root)\n  }\n})(window);",
      "application/vnd.bokehjs_exec.v0+json": ""
     },
     "metadata": {
      "application/vnd.bokehjs_exec.v0+json": {
       "id": "2535"
      }
     },
     "output_type": "display_data"
    },
    {
     "data": {
      "text/html": [
       "<div style=\"display: table;\"><div style=\"display: table-row;\"><div style=\"display: table-cell;\"><b title=\"bokeh.plotting.figure.Figure\">Figure</b>(</div><div style=\"display: table-cell;\">id&nbsp;=&nbsp;'2535', <span id=\"2754\" style=\"cursor: pointer;\">&hellip;)</span></div></div><div class=\"2753\" style=\"display: none;\"><div style=\"display: table-cell;\"></div><div style=\"display: table-cell;\">above&nbsp;=&nbsp;[],</div></div><div class=\"2753\" style=\"display: none;\"><div style=\"display: table-cell;\"></div><div style=\"display: table-cell;\">align&nbsp;=&nbsp;'start',</div></div><div class=\"2753\" style=\"display: none;\"><div style=\"display: table-cell;\"></div><div style=\"display: table-cell;\">aspect_ratio&nbsp;=&nbsp;None,</div></div><div class=\"2753\" style=\"display: none;\"><div style=\"display: table-cell;\"></div><div style=\"display: table-cell;\">aspect_scale&nbsp;=&nbsp;1,</div></div><div class=\"2753\" style=\"display: none;\"><div style=\"display: table-cell;\"></div><div style=\"display: table-cell;\">background&nbsp;=&nbsp;None,</div></div><div class=\"2753\" style=\"display: none;\"><div style=\"display: table-cell;\"></div><div style=\"display: table-cell;\">background_fill_alpha&nbsp;=&nbsp;1.0,</div></div><div class=\"2753\" style=\"display: none;\"><div style=\"display: table-cell;\"></div><div style=\"display: table-cell;\">background_fill_color&nbsp;=&nbsp;'#ffffff',</div></div><div class=\"2753\" style=\"display: none;\"><div style=\"display: table-cell;\"></div><div style=\"display: table-cell;\">below&nbsp;=&nbsp;[LinearAxis(id='2546', ...)],</div></div><div class=\"2753\" style=\"display: none;\"><div style=\"display: table-cell;\"></div><div style=\"display: table-cell;\">border_fill_alpha&nbsp;=&nbsp;1.0,</div></div><div class=\"2753\" style=\"display: none;\"><div style=\"display: table-cell;\"></div><div style=\"display: table-cell;\">border_fill_color&nbsp;=&nbsp;'#ffffff',</div></div><div class=\"2753\" style=\"display: none;\"><div style=\"display: table-cell;\"></div><div style=\"display: table-cell;\">center&nbsp;=&nbsp;[Grid(id='2549', ...), Grid(id='2553', ...), Legend(id='2585', ...)],</div></div><div class=\"2753\" style=\"display: none;\"><div style=\"display: table-cell;\"></div><div style=\"display: table-cell;\">css_classes&nbsp;=&nbsp;[],</div></div><div class=\"2753\" style=\"display: none;\"><div style=\"display: table-cell;\"></div><div style=\"display: table-cell;\">disabled&nbsp;=&nbsp;False,</div></div><div class=\"2753\" style=\"display: none;\"><div style=\"display: table-cell;\"></div><div style=\"display: table-cell;\">extra_x_ranges&nbsp;=&nbsp;{},</div></div><div class=\"2753\" style=\"display: none;\"><div style=\"display: table-cell;\"></div><div style=\"display: table-cell;\">extra_x_scales&nbsp;=&nbsp;{},</div></div><div class=\"2753\" style=\"display: none;\"><div style=\"display: table-cell;\"></div><div style=\"display: table-cell;\">extra_y_ranges&nbsp;=&nbsp;{},</div></div><div class=\"2753\" style=\"display: none;\"><div style=\"display: table-cell;\"></div><div style=\"display: table-cell;\">extra_y_scales&nbsp;=&nbsp;{},</div></div><div class=\"2753\" style=\"display: none;\"><div style=\"display: table-cell;\"></div><div style=\"display: table-cell;\">frame_height&nbsp;=&nbsp;None,</div></div><div class=\"2753\" style=\"display: none;\"><div style=\"display: table-cell;\"></div><div style=\"display: table-cell;\">frame_width&nbsp;=&nbsp;None,</div></div><div class=\"2753\" style=\"display: none;\"><div style=\"display: table-cell;\"></div><div style=\"display: table-cell;\">height&nbsp;=&nbsp;400,</div></div><div class=\"2753\" style=\"display: none;\"><div style=\"display: table-cell;\"></div><div style=\"display: table-cell;\">height_policy&nbsp;=&nbsp;'auto',</div></div><div class=\"2753\" style=\"display: none;\"><div style=\"display: table-cell;\"></div><div style=\"display: table-cell;\">hidpi&nbsp;=&nbsp;True,</div></div><div class=\"2753\" style=\"display: none;\"><div style=\"display: table-cell;\"></div><div style=\"display: table-cell;\">inner_height&nbsp;=&nbsp;0,</div></div><div class=\"2753\" style=\"display: none;\"><div style=\"display: table-cell;\"></div><div style=\"display: table-cell;\">inner_width&nbsp;=&nbsp;0,</div></div><div class=\"2753\" style=\"display: none;\"><div style=\"display: table-cell;\"></div><div style=\"display: table-cell;\">js_event_callbacks&nbsp;=&nbsp;{},</div></div><div class=\"2753\" style=\"display: none;\"><div style=\"display: table-cell;\"></div><div style=\"display: table-cell;\">js_property_callbacks&nbsp;=&nbsp;{},</div></div><div class=\"2753\" style=\"display: none;\"><div style=\"display: table-cell;\"></div><div style=\"display: table-cell;\">left&nbsp;=&nbsp;[LinearAxis(id='2550', ...)],</div></div><div class=\"2753\" style=\"display: none;\"><div style=\"display: table-cell;\"></div><div style=\"display: table-cell;\">lod_factor&nbsp;=&nbsp;10,</div></div><div class=\"2753\" style=\"display: none;\"><div style=\"display: table-cell;\"></div><div style=\"display: table-cell;\">lod_interval&nbsp;=&nbsp;300,</div></div><div class=\"2753\" style=\"display: none;\"><div style=\"display: table-cell;\"></div><div style=\"display: table-cell;\">lod_threshold&nbsp;=&nbsp;2000,</div></div><div class=\"2753\" style=\"display: none;\"><div style=\"display: table-cell;\"></div><div style=\"display: table-cell;\">lod_timeout&nbsp;=&nbsp;500,</div></div><div class=\"2753\" style=\"display: none;\"><div style=\"display: table-cell;\"></div><div style=\"display: table-cell;\">margin&nbsp;=&nbsp;(0, 0, 0, 0),</div></div><div class=\"2753\" style=\"display: none;\"><div style=\"display: table-cell;\"></div><div style=\"display: table-cell;\">match_aspect&nbsp;=&nbsp;False,</div></div><div class=\"2753\" style=\"display: none;\"><div style=\"display: table-cell;\"></div><div style=\"display: table-cell;\">max_height&nbsp;=&nbsp;None,</div></div><div class=\"2753\" style=\"display: none;\"><div style=\"display: table-cell;\"></div><div style=\"display: table-cell;\">max_width&nbsp;=&nbsp;None,</div></div><div class=\"2753\" style=\"display: none;\"><div style=\"display: table-cell;\"></div><div style=\"display: table-cell;\">min_border&nbsp;=&nbsp;5,</div></div><div class=\"2753\" style=\"display: none;\"><div style=\"display: table-cell;\"></div><div style=\"display: table-cell;\">min_border_bottom&nbsp;=&nbsp;None,</div></div><div class=\"2753\" style=\"display: none;\"><div style=\"display: table-cell;\"></div><div style=\"display: table-cell;\">min_border_left&nbsp;=&nbsp;None,</div></div><div class=\"2753\" style=\"display: none;\"><div style=\"display: table-cell;\"></div><div style=\"display: table-cell;\">min_border_right&nbsp;=&nbsp;None,</div></div><div class=\"2753\" style=\"display: none;\"><div style=\"display: table-cell;\"></div><div style=\"display: table-cell;\">min_border_top&nbsp;=&nbsp;None,</div></div><div class=\"2753\" style=\"display: none;\"><div style=\"display: table-cell;\"></div><div style=\"display: table-cell;\">min_height&nbsp;=&nbsp;None,</div></div><div class=\"2753\" style=\"display: none;\"><div style=\"display: table-cell;\"></div><div style=\"display: table-cell;\">min_width&nbsp;=&nbsp;None,</div></div><div class=\"2753\" style=\"display: none;\"><div style=\"display: table-cell;\"></div><div style=\"display: table-cell;\">name&nbsp;=&nbsp;None,</div></div><div class=\"2753\" style=\"display: none;\"><div style=\"display: table-cell;\"></div><div style=\"display: table-cell;\">outer_height&nbsp;=&nbsp;0,</div></div><div class=\"2753\" style=\"display: none;\"><div style=\"display: table-cell;\"></div><div style=\"display: table-cell;\">outer_width&nbsp;=&nbsp;0,</div></div><div class=\"2753\" style=\"display: none;\"><div style=\"display: table-cell;\"></div><div style=\"display: table-cell;\">outline_line_alpha&nbsp;=&nbsp;1.0,</div></div><div class=\"2753\" style=\"display: none;\"><div style=\"display: table-cell;\"></div><div style=\"display: table-cell;\">outline_line_cap&nbsp;=&nbsp;'butt',</div></div><div class=\"2753\" style=\"display: none;\"><div style=\"display: table-cell;\"></div><div style=\"display: table-cell;\">outline_line_color&nbsp;=&nbsp;'#e5e5e5',</div></div><div class=\"2753\" style=\"display: none;\"><div style=\"display: table-cell;\"></div><div style=\"display: table-cell;\">outline_line_dash&nbsp;=&nbsp;[],</div></div><div class=\"2753\" style=\"display: none;\"><div style=\"display: table-cell;\"></div><div style=\"display: table-cell;\">outline_line_dash_offset&nbsp;=&nbsp;0,</div></div><div class=\"2753\" style=\"display: none;\"><div style=\"display: table-cell;\"></div><div style=\"display: table-cell;\">outline_line_join&nbsp;=&nbsp;'bevel',</div></div><div class=\"2753\" style=\"display: none;\"><div style=\"display: table-cell;\"></div><div style=\"display: table-cell;\">outline_line_width&nbsp;=&nbsp;1,</div></div><div class=\"2753\" style=\"display: none;\"><div style=\"display: table-cell;\"></div><div style=\"display: table-cell;\">output_backend&nbsp;=&nbsp;'webgl',</div></div><div class=\"2753\" style=\"display: none;\"><div style=\"display: table-cell;\"></div><div style=\"display: table-cell;\">renderers&nbsp;=&nbsp;[GlyphRenderer(id='2573', ...), GlyphRenderer(id='2594', ...), GlyphRenderer(id='2616', ...), GlyphRenderer(id='2640', ...)],</div></div><div class=\"2753\" style=\"display: none;\"><div style=\"display: table-cell;\"></div><div style=\"display: table-cell;\">reset_policy&nbsp;=&nbsp;'standard',</div></div><div class=\"2753\" style=\"display: none;\"><div style=\"display: table-cell;\"></div><div style=\"display: table-cell;\">right&nbsp;=&nbsp;[],</div></div><div class=\"2753\" style=\"display: none;\"><div style=\"display: table-cell;\"></div><div style=\"display: table-cell;\">sizing_mode&nbsp;=&nbsp;'fixed',</div></div><div class=\"2753\" style=\"display: none;\"><div style=\"display: table-cell;\"></div><div style=\"display: table-cell;\">subscribed_events&nbsp;=&nbsp;[],</div></div><div class=\"2753\" style=\"display: none;\"><div style=\"display: table-cell;\"></div><div style=\"display: table-cell;\">syncable&nbsp;=&nbsp;True,</div></div><div class=\"2753\" style=\"display: none;\"><div style=\"display: table-cell;\"></div><div style=\"display: table-cell;\">tags&nbsp;=&nbsp;[],</div></div><div class=\"2753\" style=\"display: none;\"><div style=\"display: table-cell;\"></div><div style=\"display: table-cell;\">title&nbsp;=&nbsp;Title(id='2536', ...),</div></div><div class=\"2753\" style=\"display: none;\"><div style=\"display: table-cell;\"></div><div style=\"display: table-cell;\">title_location&nbsp;=&nbsp;'above',</div></div><div class=\"2753\" style=\"display: none;\"><div style=\"display: table-cell;\"></div><div style=\"display: table-cell;\">toolbar&nbsp;=&nbsp;Toolbar(id='2561', ...),</div></div><div class=\"2753\" style=\"display: none;\"><div style=\"display: table-cell;\"></div><div style=\"display: table-cell;\">toolbar_location&nbsp;=&nbsp;'right',</div></div><div class=\"2753\" style=\"display: none;\"><div style=\"display: table-cell;\"></div><div style=\"display: table-cell;\">toolbar_sticky&nbsp;=&nbsp;True,</div></div><div class=\"2753\" style=\"display: none;\"><div style=\"display: table-cell;\"></div><div style=\"display: table-cell;\">visible&nbsp;=&nbsp;True,</div></div><div class=\"2753\" style=\"display: none;\"><div style=\"display: table-cell;\"></div><div style=\"display: table-cell;\">width&nbsp;=&nbsp;600,</div></div><div class=\"2753\" style=\"display: none;\"><div style=\"display: table-cell;\"></div><div style=\"display: table-cell;\">width_policy&nbsp;=&nbsp;'auto',</div></div><div class=\"2753\" style=\"display: none;\"><div style=\"display: table-cell;\"></div><div style=\"display: table-cell;\">x_range&nbsp;=&nbsp;DataRange1d(id='2538', ...),</div></div><div class=\"2753\" style=\"display: none;\"><div style=\"display: table-cell;\"></div><div style=\"display: table-cell;\">x_scale&nbsp;=&nbsp;LinearScale(id='2542', ...),</div></div><div class=\"2753\" style=\"display: none;\"><div style=\"display: table-cell;\"></div><div style=\"display: table-cell;\">y_range&nbsp;=&nbsp;DataRange1d(id='2540', ...),</div></div><div class=\"2753\" style=\"display: none;\"><div style=\"display: table-cell;\"></div><div style=\"display: table-cell;\">y_scale&nbsp;=&nbsp;LinearScale(id='2544', ...))</div></div></div>\n",
       "<script>\n",
       "(function() {\n",
       "  let expanded = false;\n",
       "  const ellipsis = document.getElementById(\"2754\");\n",
       "  ellipsis.addEventListener(\"click\", function() {\n",
       "    const rows = document.getElementsByClassName(\"2753\");\n",
       "    for (let i = 0; i < rows.length; i++) {\n",
       "      const el = rows[i];\n",
       "      el.style.display = expanded ? \"none\" : \"table-row\";\n",
       "    }\n",
       "    ellipsis.innerHTML = expanded ? \"&hellip;)\" : \"&lsaquo;&lsaquo;&lsaquo;\";\n",
       "    expanded = !expanded;\n",
       "  });\n",
       "})();\n",
       "</script>\n"
      ],
      "text/plain": [
       "Figure(id='2535', ...)"
      ]
     },
     "execution_count": 110,
     "metadata": {},
     "output_type": "execute_result"
    }
   ],
   "source": [
    "df.plot_bokeh.hist()"
   ]
  },
  {
   "cell_type": "code",
   "execution_count": 111,
   "metadata": {},
   "outputs": [],
   "source": [
    "df_by_state = df.groupby(df['Provider State']).sum()\n",
    "df_by_state.drop(df[['Total Discharges']], axis=1, inplace=True)"
   ]
  },
  {
   "cell_type": "code",
   "execution_count": 112,
   "metadata": {},
   "outputs": [
    {
     "data": {
      "text/html": [
       "<div>\n",
       "<style scoped>\n",
       "    .dataframe tbody tr th:only-of-type {\n",
       "        vertical-align: middle;\n",
       "    }\n",
       "\n",
       "    .dataframe tbody tr th {\n",
       "        vertical-align: top;\n",
       "    }\n",
       "\n",
       "    .dataframe thead th {\n",
       "        text-align: right;\n",
       "    }\n",
       "</style>\n",
       "<table border=\"1\" class=\"dataframe\">\n",
       "  <thead>\n",
       "    <tr style=\"text-align: right;\">\n",
       "      <th></th>\n",
       "      <th>Avg Total Payments [$]</th>\n",
       "      <th>Avg Medicare Payments [$]</th>\n",
       "      <th>Avg. Cost/attended patient [$]</th>\n",
       "    </tr>\n",
       "    <tr>\n",
       "      <th>Provider State</th>\n",
       "      <th></th>\n",
       "      <th></th>\n",
       "      <th></th>\n",
       "    </tr>\n",
       "  </thead>\n",
       "  <tbody>\n",
       "    <tr>\n",
       "      <th>AK</th>\n",
       "      <td>3366222</td>\n",
       "      <td>2993521</td>\n",
       "      <td>176355</td>\n",
       "    </tr>\n",
       "    <tr>\n",
       "      <th>AL</th>\n",
       "      <td>27510523</td>\n",
       "      <td>23329455</td>\n",
       "      <td>1194685</td>\n",
       "    </tr>\n",
       "    <tr>\n",
       "      <th>AR</th>\n",
       "      <td>16575787</td>\n",
       "      <td>14303062</td>\n",
       "      <td>695235</td>\n",
       "    </tr>\n",
       "    <tr>\n",
       "      <th>AZ</th>\n",
       "      <td>28950559</td>\n",
       "      <td>25162119</td>\n",
       "      <td>1332213</td>\n",
       "    </tr>\n",
       "  </tbody>\n",
       "</table>\n",
       "</div>"
      ],
      "text/plain": [
       "                Avg Total Payments [$]  Avg Medicare Payments [$]  \\\n",
       "Provider State                                                      \n",
       "AK                             3366222                    2993521   \n",
       "AL                            27510523                   23329455   \n",
       "AR                            16575787                   14303062   \n",
       "AZ                            28950559                   25162119   \n",
       "\n",
       "                Avg. Cost/attended patient [$]  \n",
       "Provider State                                  \n",
       "AK                                      176355  \n",
       "AL                                     1194685  \n",
       "AR                                      695235  \n",
       "AZ                                     1332213  "
      ]
     },
     "execution_count": 112,
     "metadata": {},
     "output_type": "execute_result"
    }
   ],
   "source": [
    "df_by_state = df_by_state.astype(int)\n",
    "df_by_state.head(4)"
   ]
  },
  {
   "cell_type": "code",
   "execution_count": 113,
   "metadata": {},
   "outputs": [],
   "source": [
    "sorted_df_by_state = df_by_state.sort_values(by=['Avg Total Payments [$]'])"
   ]
  },
  {
   "cell_type": "code",
   "execution_count": 114,
   "metadata": {},
   "outputs": [
    {
     "data": {
      "text/html": [
       "\n",
       "\n",
       "\n",
       "\n",
       "\n",
       "\n",
       "  <div class=\"bk-root\" id=\"554f8423-677b-41f0-a0a9-ea85b738ed9d\" data-root-id=\"2792\"></div>\n"
      ]
     },
     "metadata": {},
     "output_type": "display_data"
    },
    {
     "data": {
      "application/javascript": "(function(root) {\n  function embed_document(root) {\n    \n  const docs_json = {\"7ea97b72-7470-4439-a22a-4cf8999cbe1f\":{\"defs\":[],\"roots\":{\"references\":[{\"attributes\":{\"below\":[{\"id\":\"2803\"}],\"center\":[{\"id\":\"2806\"},{\"id\":\"2810\"},{\"id\":\"2843\"}],\"height\":400,\"left\":[{\"id\":\"2807\"}],\"output_backend\":\"webgl\",\"renderers\":[{\"id\":\"2832\"},{\"id\":\"2852\"},{\"id\":\"2871\"}],\"sizing_mode\":\"fixed\",\"title\":{\"id\":\"2793\"},\"toolbar\":{\"id\":\"2818\"},\"width\":1200,\"x_range\":{\"id\":\"2795\"},\"x_scale\":{\"id\":\"2799\"},\"y_range\":{\"id\":\"2797\"},\"y_scale\":{\"id\":\"2801\"}},\"id\":\"2792\",\"subtype\":\"Figure\",\"type\":\"Plot\"},{\"attributes\":{},\"id\":\"2841\",\"type\":\"Selection\"},{\"attributes\":{\"bottom_units\":\"screen\",\"coordinates\":null,\"fill_alpha\":0.5,\"fill_color\":\"lightgrey\",\"group\":null,\"left_units\":\"screen\",\"level\":\"overlay\",\"line_alpha\":1.0,\"line_color\":\"black\",\"line_dash\":[4,4],\"line_width\":2,\"right_units\":\"screen\",\"syncable\":false,\"top_units\":\"screen\"},\"id\":\"2817\",\"type\":\"BoxAnnotation\"},{\"attributes\":{},\"id\":\"2795\",\"type\":\"DataRange1d\"},{\"attributes\":{},\"id\":\"2797\",\"type\":\"DataRange1d\"},{\"attributes\":{\"fill_color\":{\"value\":\"#ff7f0e\"},\"hatch_color\":{\"value\":\"#ff7f0e\"},\"line_color\":{\"value\":\"#ff7f0e\"},\"line_width\":{\"value\":2},\"top\":{\"field\":\"Avg Medicare Payments [$]\"},\"width\":{\"value\":0.2},\"x\":{\"field\":\"__x__values\",\"transform\":{\"id\":\"2847\"}}},\"id\":\"2849\",\"type\":\"VBar\"},{\"attributes\":{\"fill_alpha\":{\"value\":0.1},\"fill_color\":{\"value\":\"#1f77b4\"},\"hatch_alpha\":{\"value\":0.1},\"hatch_color\":{\"value\":\"#1f77b4\"},\"line_alpha\":{\"value\":0.1},\"line_color\":{\"value\":\"#1f77b4\"},\"line_width\":{\"value\":2},\"top\":{\"field\":\"Avg Total Payments [$]\"},\"width\":{\"value\":0.2},\"x\":{\"field\":\"__x__values\",\"transform\":{\"id\":\"2827\"}}},\"id\":\"2830\",\"type\":\"VBar\"},{\"attributes\":{},\"id\":\"2799\",\"type\":\"LinearScale\"},{\"attributes\":{\"callback\":null,\"mode\":\"vline\",\"renderers\":[{\"id\":\"2832\"}],\"tooltips\":[[\"Provider State\",\"@__x__values_original\"],[\"Avg Total Payments [$]\",\"@{Avg Total Payments [$]}\"]]},\"id\":\"2845\",\"type\":\"HoverTool\"},{\"attributes\":{\"callback\":null,\"mode\":\"vline\",\"renderers\":[{\"id\":\"2852\"}],\"tooltips\":[[\"Provider State\",\"@__x__values_original\"],[\"Avg Medicare Payments [$]\",\"@{Avg Medicare Payments [$]}\"]]},\"id\":\"2864\",\"type\":\"HoverTool\"},{\"attributes\":{\"range\":{\"id\":\"2795\"},\"value\":0.25},\"id\":\"2866\",\"type\":\"Dodge\"},{\"attributes\":{\"coordinates\":null,\"group\":null,\"text\":\"Hospital Charges in America by States\"},\"id\":\"2793\",\"type\":\"Title\"},{\"attributes\":{\"range\":{\"id\":\"2795\"}},\"id\":\"2847\",\"type\":\"Dodge\"},{\"attributes\":{\"fill_alpha\":{\"value\":0.2},\"fill_color\":{\"value\":\"#ff7f0e\"},\"hatch_alpha\":{\"value\":0.2},\"hatch_color\":{\"value\":\"#ff7f0e\"},\"line_alpha\":{\"value\":0.2},\"line_color\":{\"value\":\"#ff7f0e\"},\"line_width\":{\"value\":2},\"top\":{\"field\":\"Avg Medicare Payments [$]\"},\"width\":{\"value\":0.2},\"x\":{\"field\":\"__x__values\",\"transform\":{\"id\":\"2847\"}}},\"id\":\"2851\",\"type\":\"VBar\"},{\"attributes\":{\"range\":{\"id\":\"2795\"},\"value\":-0.25},\"id\":\"2827\",\"type\":\"Dodge\"},{\"attributes\":{},\"id\":\"2816\",\"type\":\"HelpTool\"},{\"attributes\":{\"code\":\"\\n                                    var labels = {0: 'WY', 1: 'VT', 2: 'AK', 3: 'DE', 4: 'ND', 5: 'MT', 6: 'SD', 7: 'ID', 8: 'HI', 9: 'DC', 10: 'RI', 11: 'UT', 12: 'NH', 13: 'ME', 14: 'NM', 15: 'NE', 16: 'NV', 17: 'WV', 18: 'OR', 19: 'KS', 20: 'IA', 21: 'AR', 22: 'CO', 23: 'MS', 24: 'OK', 25: 'MN', 26: 'CT', 27: 'SC', 28: 'LA', 29: 'WI', 30: 'KY', 31: 'AL', 32: 'AZ', 33: 'WA', 34: 'TN', 35: 'MO', 36: 'IN', 37: 'VA', 38: 'MA', 39: 'MD', 40: 'GA', 41: 'NC', 42: 'NJ', 43: 'MI', 44: 'OH', 45: 'PA', 46: 'IL', 47: 'FL', 48: 'NY', 49: 'TX', 50: 'CA'};\\n                                    return labels[tick];\\n                                    \"},\"id\":\"2825\",\"type\":\"FuncTickFormatter\"},{\"attributes\":{\"use_scientific\":false},\"id\":\"2836\",\"type\":\"BasicTickFormatter\"},{\"attributes\":{\"fill_color\":{\"value\":\"#1f77b4\"},\"hatch_color\":{\"value\":\"#1f77b4\"},\"line_color\":{\"value\":\"#1f77b4\"},\"line_width\":{\"value\":2},\"top\":{\"field\":\"Avg Total Payments [$]\"},\"width\":{\"value\":0.2},\"x\":{\"field\":\"__x__values\",\"transform\":{\"id\":\"2827\"}}},\"id\":\"2829\",\"type\":\"VBar\"},{\"attributes\":{\"axis_label\":\"Provider State\",\"coordinates\":null,\"formatter\":{\"id\":\"2825\"},\"group\":null,\"major_label_policy\":{\"id\":\"2839\"},\"ticker\":{\"id\":\"2885\"}},\"id\":\"2803\",\"type\":\"LinearAxis\"},{\"attributes\":{\"fill_alpha\":{\"value\":0.1},\"fill_color\":{\"value\":\"#ff7f0e\"},\"hatch_alpha\":{\"value\":0.1},\"hatch_color\":{\"value\":\"#ff7f0e\"},\"line_alpha\":{\"value\":0.1},\"line_color\":{\"value\":\"#ff7f0e\"},\"line_width\":{\"value\":2},\"top\":{\"field\":\"Avg Medicare Payments [$]\"},\"width\":{\"value\":0.2},\"x\":{\"field\":\"__x__values\",\"transform\":{\"id\":\"2847\"}}},\"id\":\"2850\",\"type\":\"VBar\"},{\"attributes\":{},\"id\":\"2801\",\"type\":\"LinearScale\"},{\"attributes\":{\"data\":{\"Avg Medicare Payments [$]\":[2356229,2847681,2993521,3530111,3693364,4038430,4199604,4662549,4847623,5457129,5478948,5731288,6686469,6740364,7611202,8488170,10514618,10965454,11736802,11833965,12394840,14303062,15405260,17169263,18163419,19410472,20320336,22423915,22362581,22679362,23201100,23329455,25162119,25214542,28952967,30804748,31857542,32658285,35506685,38228805,38092545,40321193,46266572,46940232,53719168,61801318,66319200,85530724,97477118,94561190,150162602],\"Avg Total Payments [$]\":[2815426,3176902,3366222,4081868,4147263,4681918,4928860,5414776,5646876,6005089,6179625,7136931,7645391,7707835,8821394,9910246,12370645,12661915,13556614,13850070,14413999,16575787,17960075,19832287,21051175,22403429,22855921,26000001,26149231,26273179,26731563,27510523,28950559,29288875,33985667,35413278,37300911,38501742,39495689,41987795,44343344,45819845,51536799,52859204,61762591,71016737,77434457,98465078,108259026,109670573,164993988],\"Avg. Cost/attended patient [$]\":[143361,137115,176355,139094,176182,230575,198689,266048,299375,257673,281038,338836,352620,335988,434373,438251,554755,549312,659867,629235,615255,695235,867882,862963,918235,916096,905393,1045877,1180748,1223946,1066252,1194685,1332213,1276660,1369268,1426035,1552397,1548574,1524923,1557588,1931535,1678669,1922884,1879821,2559585,3007684,3198079,3903036,4295253,4745490,7560894],\"__x__values\":[0,1,2,3,4,5,6,7,8,9,10,11,12,13,14,15,16,17,18,19,20,21,22,23,24,25,26,27,28,29,30,31,32,33,34,35,36,37,38,39,40,41,42,43,44,45,46,47,48,49,50],\"__x__values_original\":[\"WY\",\"VT\",\"AK\",\"DE\",\"ND\",\"MT\",\"SD\",\"ID\",\"HI\",\"DC\",\"RI\",\"UT\",\"NH\",\"ME\",\"NM\",\"NE\",\"NV\",\"WV\",\"OR\",\"KS\",\"IA\",\"AR\",\"CO\",\"MS\",\"OK\",\"MN\",\"CT\",\"SC\",\"LA\",\"WI\",\"KY\",\"AL\",\"AZ\",\"WA\",\"TN\",\"MO\",\"IN\",\"VA\",\"MA\",\"MD\",\"GA\",\"NC\",\"NJ\",\"MI\",\"OH\",\"PA\",\"IL\",\"FL\",\"NY\",\"TX\",\"CA\"]},\"selected\":{\"id\":\"2841\"},\"selection_policy\":{\"id\":\"2840\"}},\"id\":\"2791\",\"type\":\"ColumnDataSource\"},{\"attributes\":{\"fill_alpha\":{\"value\":0.1},\"fill_color\":{\"value\":\"#2ca02c\"},\"hatch_alpha\":{\"value\":0.1},\"hatch_color\":{\"value\":\"#2ca02c\"},\"line_alpha\":{\"value\":0.1},\"line_color\":{\"value\":\"#2ca02c\"},\"line_width\":{\"value\":2},\"top\":{\"field\":\"Avg. Cost/attended patient [$]\"},\"width\":{\"value\":0.2},\"x\":{\"field\":\"__x__values\",\"transform\":{\"id\":\"2866\"}}},\"id\":\"2869\",\"type\":\"VBar\"},{\"attributes\":{\"axis\":{\"id\":\"2803\"},\"coordinates\":null,\"group\":null,\"ticker\":null},\"id\":\"2806\",\"type\":\"Grid\"},{\"attributes\":{\"fill_color\":{\"value\":\"#2ca02c\"},\"hatch_color\":{\"value\":\"#2ca02c\"},\"line_color\":{\"value\":\"#2ca02c\"},\"line_width\":{\"value\":2},\"top\":{\"field\":\"Avg. Cost/attended patient [$]\"},\"width\":{\"value\":0.2},\"x\":{\"field\":\"__x__values\",\"transform\":{\"id\":\"2866\"}}},\"id\":\"2868\",\"type\":\"VBar\"},{\"attributes\":{},\"id\":\"2837\",\"type\":\"AllLabels\"},{\"attributes\":{\"coordinates\":null,\"data_source\":{\"id\":\"2791\"},\"glyph\":{\"id\":\"2849\"},\"group\":null,\"hover_glyph\":null,\"muted_glyph\":{\"id\":\"2851\"},\"nonselection_glyph\":{\"id\":\"2850\"},\"view\":{\"id\":\"2853\"}},\"id\":\"2852\",\"type\":\"GlyphRenderer\"},{\"attributes\":{\"coordinates\":null,\"formatter\":{\"id\":\"2836\"},\"group\":null,\"major_label_policy\":{\"id\":\"2837\"},\"ticker\":{\"id\":\"2808\"}},\"id\":\"2807\",\"type\":\"LinearAxis\"},{\"attributes\":{\"fill_alpha\":{\"value\":0.2},\"fill_color\":{\"value\":\"#1f77b4\"},\"hatch_alpha\":{\"value\":0.2},\"hatch_color\":{\"value\":\"#1f77b4\"},\"line_alpha\":{\"value\":0.2},\"line_color\":{\"value\":\"#1f77b4\"},\"line_width\":{\"value\":2},\"top\":{\"field\":\"Avg Total Payments [$]\"},\"width\":{\"value\":0.2},\"x\":{\"field\":\"__x__values\",\"transform\":{\"id\":\"2827\"}}},\"id\":\"2831\",\"type\":\"VBar\"},{\"attributes\":{\"axis\":{\"id\":\"2807\"},\"coordinates\":null,\"dimension\":1,\"group\":null,\"ticker\":null},\"id\":\"2810\",\"type\":\"Grid\"},{\"attributes\":{\"ticks\":[0,1,2,3,4,5,6,7,8,9,10,11,12,13,14,15,16,17,18,19,20,21,22,23,24,25,26,27,28,29,30,31,32,33,34,35,36,37,38,39,40,41,42,43,44,45,46,47,48,49,50]},\"id\":\"2885\",\"type\":\"FixedTicker\"},{\"attributes\":{\"label\":{\"value\":\" Avg Medicare Payments [$]\"},\"renderers\":[{\"id\":\"2852\"}]},\"id\":\"2863\",\"type\":\"LegendItem\"},{\"attributes\":{\"fill_alpha\":{\"value\":0.2},\"fill_color\":{\"value\":\"#2ca02c\"},\"hatch_alpha\":{\"value\":0.2},\"hatch_color\":{\"value\":\"#2ca02c\"},\"line_alpha\":{\"value\":0.2},\"line_color\":{\"value\":\"#2ca02c\"},\"line_width\":{\"value\":2},\"top\":{\"field\":\"Avg. Cost/attended patient [$]\"},\"width\":{\"value\":0.2},\"x\":{\"field\":\"__x__values\",\"transform\":{\"id\":\"2866\"}}},\"id\":\"2870\",\"type\":\"VBar\"},{\"attributes\":{\"coordinates\":null,\"data_source\":{\"id\":\"2791\"},\"glyph\":{\"id\":\"2868\"},\"group\":null,\"hover_glyph\":null,\"muted_glyph\":{\"id\":\"2870\"},\"nonselection_glyph\":{\"id\":\"2869\"},\"view\":{\"id\":\"2872\"}},\"id\":\"2871\",\"type\":\"GlyphRenderer\"},{\"attributes\":{},\"id\":\"2808\",\"type\":\"BasicTicker\"},{\"attributes\":{\"active_scroll\":{\"id\":\"2812\"},\"tools\":[{\"id\":\"2811\"},{\"id\":\"2812\"},{\"id\":\"2813\"},{\"id\":\"2814\"},{\"id\":\"2815\"},{\"id\":\"2816\"},{\"id\":\"2845\"},{\"id\":\"2864\"},{\"id\":\"2883\"}]},\"id\":\"2818\",\"type\":\"Toolbar\"},{\"attributes\":{},\"id\":\"2839\",\"type\":\"AllLabels\"},{\"attributes\":{\"source\":{\"id\":\"2791\"}},\"id\":\"2853\",\"type\":\"CDSView\"},{\"attributes\":{\"callback\":null,\"mode\":\"vline\",\"renderers\":[{\"id\":\"2871\"}],\"tooltips\":[[\"Provider State\",\"@__x__values_original\"],[\"Avg. Cost/attended patient [$]\",\"@{Avg. Cost/attended patient [$]}\"]]},\"id\":\"2883\",\"type\":\"HoverTool\"},{\"attributes\":{},\"id\":\"2812\",\"type\":\"WheelZoomTool\"},{\"attributes\":{\"coordinates\":null,\"data_source\":{\"id\":\"2791\"},\"glyph\":{\"id\":\"2829\"},\"group\":null,\"hover_glyph\":null,\"muted_glyph\":{\"id\":\"2831\"},\"nonselection_glyph\":{\"id\":\"2830\"},\"view\":{\"id\":\"2833\"}},\"id\":\"2832\",\"type\":\"GlyphRenderer\"},{\"attributes\":{},\"id\":\"2811\",\"type\":\"PanTool\"},{\"attributes\":{\"source\":{\"id\":\"2791\"}},\"id\":\"2872\",\"type\":\"CDSView\"},{\"attributes\":{\"overlay\":{\"id\":\"2817\"}},\"id\":\"2813\",\"type\":\"BoxZoomTool\"},{\"attributes\":{\"label\":{\"value\":\" Avg Total Payments [$]\"},\"renderers\":[{\"id\":\"2832\"}]},\"id\":\"2844\",\"type\":\"LegendItem\"},{\"attributes\":{},\"id\":\"2814\",\"type\":\"SaveTool\"},{\"attributes\":{\"click_policy\":\"hide\",\"coordinates\":null,\"group\":null,\"items\":[{\"id\":\"2844\"},{\"id\":\"2863\"},{\"id\":\"2882\"}],\"location\":\"top_left\"},\"id\":\"2843\",\"type\":\"Legend\"},{\"attributes\":{},\"id\":\"2815\",\"type\":\"ResetTool\"},{\"attributes\":{\"source\":{\"id\":\"2791\"}},\"id\":\"2833\",\"type\":\"CDSView\"},{\"attributes\":{\"label\":{\"value\":\" Avg. Cost/attended patient [$]\"},\"renderers\":[{\"id\":\"2871\"}]},\"id\":\"2882\",\"type\":\"LegendItem\"},{\"attributes\":{},\"id\":\"2840\",\"type\":\"UnionRenderers\"}],\"root_ids\":[\"2792\"]},\"title\":\"Bokeh Application\",\"version\":\"2.4.1\"}};\n  const render_items = [{\"docid\":\"7ea97b72-7470-4439-a22a-4cf8999cbe1f\",\"root_ids\":[\"2792\"],\"roots\":{\"2792\":\"554f8423-677b-41f0-a0a9-ea85b738ed9d\"}}];\n  root.Bokeh.embed.embed_items_notebook(docs_json, render_items);\n\n  }\n  if (root.Bokeh !== undefined) {\n    embed_document(root);\n  } else {\n    let attempts = 0;\n    const timer = setInterval(function(root) {\n      if (root.Bokeh !== undefined) {\n        clearInterval(timer);\n        embed_document(root);\n      } else {\n        attempts++;\n        if (attempts > 100) {\n          clearInterval(timer);\n          console.log(\"Bokeh: ERROR: Unable to run BokehJS code because BokehJS library is missing\");\n        }\n      }\n    }, 10, root)\n  }\n})(window);",
      "application/vnd.bokehjs_exec.v0+json": ""
     },
     "metadata": {
      "application/vnd.bokehjs_exec.v0+json": {
       "id": "2792"
      }
     },
     "output_type": "display_data"
    }
   ],
   "source": [
    "by_states = sorted_df_by_state.plot_bokeh.bar(figsize=(1200,400), \n",
    "                                            title='Hospital Charges in America by States', \n",
    "                                            show_figure=True, legend = 'top_left', disable_scientific_axes='y')"
   ]
  },
  {
   "cell_type": "markdown",
   "metadata": {},
   "source": [
    "####  By Pacient by State"
   ]
  },
  {
   "cell_type": "code",
   "execution_count": 115,
   "metadata": {},
   "outputs": [],
   "source": [
    "df_by_patient = df.groupby(df['Provider State']).median()"
   ]
  },
  {
   "cell_type": "code",
   "execution_count": 116,
   "metadata": {},
   "outputs": [],
   "source": [
    "sorted_df_by_patient = df_by_patient.sort_values(by=['Avg. Cost/attended patient [$]'])"
   ]
  },
  {
   "cell_type": "code",
   "execution_count": 117,
   "metadata": {},
   "outputs": [
    {
     "data": {
      "text/html": [
       "\n",
       "\n",
       "\n",
       "\n",
       "\n",
       "\n",
       "  <div class=\"bk-root\" id=\"051dfe80-ece0-48ea-af9f-92a4552403f4\" data-root-id=\"2987\"></div>\n"
      ]
     },
     "metadata": {},
     "output_type": "display_data"
    },
    {
     "data": {
      "application/javascript": "(function(root) {\n  function embed_document(root) {\n    \n  const docs_json = {\"60fb03f9-6f1a-4e8c-90d0-f8fe82e76687\":{\"defs\":[],\"roots\":{\"references\":[{\"attributes\":{\"below\":[{\"id\":\"2998\"}],\"center\":[{\"id\":\"3001\"},{\"id\":\"3005\"},{\"id\":\"3038\"}],\"height\":400,\"left\":[{\"id\":\"3002\"}],\"output_backend\":\"webgl\",\"renderers\":[{\"id\":\"3027\"}],\"sizing_mode\":\"fixed\",\"title\":{\"id\":\"2988\"},\"toolbar\":{\"id\":\"3013\"},\"width\":1200,\"x_range\":{\"id\":\"2990\"},\"x_scale\":{\"id\":\"2994\"},\"y_range\":{\"id\":\"2992\"},\"y_scale\":{\"id\":\"2996\"}},\"id\":\"2987\",\"subtype\":\"Figure\",\"type\":\"Plot\"},{\"attributes\":{},\"id\":\"2994\",\"type\":\"LinearScale\"},{\"attributes\":{\"active_scroll\":{\"id\":\"3007\"},\"tools\":[{\"id\":\"3006\"},{\"id\":\"3007\"},{\"id\":\"3008\"},{\"id\":\"3009\"},{\"id\":\"3010\"},{\"id\":\"3011\"},{\"id\":\"3040\"}]},\"id\":\"3013\",\"type\":\"Toolbar\"},{\"attributes\":{},\"id\":\"2992\",\"type\":\"DataRange1d\"},{\"attributes\":{\"coordinates\":null,\"group\":null,\"text\":\"Hospital Charges in America by Attended Patient\"},\"id\":\"2988\",\"type\":\"Title\"},{\"attributes\":{},\"id\":\"3031\",\"type\":\"BasicTickFormatter\"},{\"attributes\":{\"fill_color\":{\"value\":\"#1f77b4\"},\"hatch_color\":{\"value\":\"#1f77b4\"},\"line_color\":{\"value\":\"#1f77b4\"},\"line_width\":{\"value\":2},\"top\":{\"field\":\"Avg. Cost/attended patient [$]\"},\"width\":{\"value\":0.7},\"x\":{\"field\":\"__x__values\",\"transform\":{\"id\":\"3022\"}}},\"id\":\"3024\",\"type\":\"VBar\"},{\"attributes\":{},\"id\":\"3007\",\"type\":\"WheelZoomTool\"},{\"attributes\":{\"axis_label\":\"Provider State\",\"coordinates\":null,\"formatter\":{\"id\":\"3020\"},\"group\":null,\"major_label_policy\":{\"id\":\"3034\"},\"ticker\":{\"id\":\"3042\"}},\"id\":\"2998\",\"type\":\"LinearAxis\"},{\"attributes\":{\"data\":{\"Avg. Cost/attended patient [$]\":{\"__ndarray__\":\"MnTmKv76akDD9Shcz11sQOQobbH1eGxAexSuR+F6bEDmjRFM9I9sQPDc+M6N32xAF0t+seTjbEBgRAdGdGltQL1W8IkjdW1A/iBDZYd1bUATEhISEmpuQMVO7MRO4G5Aam6tnaHsbkD+Wc6f5exuQH6tzQOZPW9AHOrDYC4/b0C0C4hNZWxvQIAnq+WNoW9AKI70WsEpcEBfnVQZw1pwQPLpa4uDa3BA+svkFKKEcECmdIauiAdxQNC8FZdHE3FA/kLPnaIecUDL7YswdzhxQMovlvxi1XFAJpAO+bXWcUAr5HWRSgVyQPJ9Rb5KFnJA6lTXUiQmckCGmD++jV9yQCsQRtqxlHJAYl52DdzkckAlSZIkSQpzQDDa2lkbOXNA2H5jgfs9c0AcI5jor0tzQHsUrkfhx3NAVlVVVVU3dEA3wRy+dt10QFyPwvUoXHVAkzkEI+G3dUDJvjqpMtZ1QGhMkwHmMXZAsAgEi0DMdkCUPumTPg53QHBeTTyrlXhA+Yqv+Irhe0B/2tFei3x/QGKxIRYbNoFA\",\"dtype\":\"float64\",\"order\":\"little\",\"shape\":[51]},\"__x__values\":[0,1,2,3,4,5,6,7,8,9,10,11,12,13,14,15,16,17,18,19,20,21,22,23,24,25,26,27,28,29,30,31,32,33,34,35,36,37,38,39,40,41,42,43,44,45,46,47,48,49,50],\"__x__values_original\":[\"DE\",\"KY\",\"TN\",\"FL\",\"NC\",\"MI\",\"AR\",\"VA\",\"AL\",\"WV\",\"MO\",\"NJ\",\"IN\",\"OH\",\"MA\",\"MS\",\"IA\",\"SC\",\"IL\",\"LA\",\"OK\",\"PA\",\"ME\",\"TX\",\"GA\",\"KS\",\"CT\",\"MD\",\"NE\",\"SD\",\"MN\",\"NY\",\"ND\",\"RI\",\"NH\",\"WA\",\"WI\",\"NV\",\"AZ\",\"CO\",\"MT\",\"ID\",\"DC\",\"NM\",\"UT\",\"OR\",\"VT\",\"CA\",\"WY\",\"HI\",\"AK\"]},\"selected\":{\"id\":\"3036\"},\"selection_policy\":{\"id\":\"3035\"}},\"id\":\"2986\",\"type\":\"ColumnDataSource\"},{\"attributes\":{},\"id\":\"3032\",\"type\":\"AllLabels\"},{\"attributes\":{},\"id\":\"2996\",\"type\":\"LinearScale\"},{\"attributes\":{\"axis\":{\"id\":\"2998\"},\"coordinates\":null,\"group\":null,\"ticker\":null},\"id\":\"3001\",\"type\":\"Grid\"},{\"attributes\":{\"ticks\":[0,1,2,3,4,5,6,7,8,9,10,11,12,13,14,15,16,17,18,19,20,21,22,23,24,25,26,27,28,29,30,31,32,33,34,35,36,37,38,39,40,41,42,43,44,45,46,47,48,49,50]},\"id\":\"3042\",\"type\":\"FixedTicker\"},{\"attributes\":{\"axis_label\":\"Avg. Cost/attended patient [$]\",\"coordinates\":null,\"formatter\":{\"id\":\"3031\"},\"group\":null,\"major_label_policy\":{\"id\":\"3032\"},\"ticker\":{\"id\":\"3003\"}},\"id\":\"3002\",\"type\":\"LinearAxis\"},{\"attributes\":{\"fill_alpha\":{\"value\":0.2},\"fill_color\":{\"value\":\"#1f77b4\"},\"hatch_alpha\":{\"value\":0.2},\"hatch_color\":{\"value\":\"#1f77b4\"},\"line_alpha\":{\"value\":0.2},\"line_color\":{\"value\":\"#1f77b4\"},\"line_width\":{\"value\":2},\"top\":{\"field\":\"Avg. Cost/attended patient [$]\"},\"width\":{\"value\":0.7},\"x\":{\"field\":\"__x__values\",\"transform\":{\"id\":\"3022\"}}},\"id\":\"3026\",\"type\":\"VBar\"},{\"attributes\":{},\"id\":\"3034\",\"type\":\"AllLabels\"},{\"attributes\":{\"axis\":{\"id\":\"3002\"},\"coordinates\":null,\"dimension\":1,\"group\":null,\"ticker\":null},\"id\":\"3005\",\"type\":\"Grid\"},{\"attributes\":{},\"id\":\"3003\",\"type\":\"BasicTicker\"},{\"attributes\":{\"fill_alpha\":{\"value\":0.1},\"fill_color\":{\"value\":\"#1f77b4\"},\"hatch_alpha\":{\"value\":0.1},\"hatch_color\":{\"value\":\"#1f77b4\"},\"line_alpha\":{\"value\":0.1},\"line_color\":{\"value\":\"#1f77b4\"},\"line_width\":{\"value\":2},\"top\":{\"field\":\"Avg. Cost/attended patient [$]\"},\"width\":{\"value\":0.7},\"x\":{\"field\":\"__x__values\",\"transform\":{\"id\":\"3022\"}}},\"id\":\"3025\",\"type\":\"VBar\"},{\"attributes\":{\"click_policy\":\"hide\",\"coordinates\":null,\"group\":null,\"items\":[{\"id\":\"3039\"}],\"location\":\"top_left\"},\"id\":\"3038\",\"type\":\"Legend\"},{\"attributes\":{},\"id\":\"3011\",\"type\":\"HelpTool\"},{\"attributes\":{\"coordinates\":null,\"data_source\":{\"id\":\"2986\"},\"glyph\":{\"id\":\"3024\"},\"group\":null,\"hover_glyph\":null,\"muted_glyph\":{\"id\":\"3026\"},\"nonselection_glyph\":{\"id\":\"3025\"},\"view\":{\"id\":\"3028\"}},\"id\":\"3027\",\"type\":\"GlyphRenderer\"},{\"attributes\":{},\"id\":\"3006\",\"type\":\"PanTool\"},{\"attributes\":{\"label\":{\"value\":\" Avg. Cost/attended patient [$]\"},\"renderers\":[{\"id\":\"3027\"}]},\"id\":\"3039\",\"type\":\"LegendItem\"},{\"attributes\":{\"overlay\":{\"id\":\"3012\"}},\"id\":\"3008\",\"type\":\"BoxZoomTool\"},{\"attributes\":{},\"id\":\"3009\",\"type\":\"SaveTool\"},{\"attributes\":{},\"id\":\"3010\",\"type\":\"ResetTool\"},{\"attributes\":{\"code\":\"\\n                                    var labels = {0: 'DE', 1: 'KY', 2: 'TN', 3: 'FL', 4: 'NC', 5: 'MI', 6: 'AR', 7: 'VA', 8: 'AL', 9: 'WV', 10: 'MO', 11: 'NJ', 12: 'IN', 13: 'OH', 14: 'MA', 15: 'MS', 16: 'IA', 17: 'SC', 18: 'IL', 19: 'LA', 20: 'OK', 21: 'PA', 22: 'ME', 23: 'TX', 24: 'GA', 25: 'KS', 26: 'CT', 27: 'MD', 28: 'NE', 29: 'SD', 30: 'MN', 31: 'NY', 32: 'ND', 33: 'RI', 34: 'NH', 35: 'WA', 36: 'WI', 37: 'NV', 38: 'AZ', 39: 'CO', 40: 'MT', 41: 'ID', 42: 'DC', 43: 'NM', 44: 'UT', 45: 'OR', 46: 'VT', 47: 'CA', 48: 'WY', 49: 'HI', 50: 'AK'};\\n                                    return labels[tick];\\n                                    \"},\"id\":\"3020\",\"type\":\"FuncTickFormatter\"},{\"attributes\":{\"bottom_units\":\"screen\",\"coordinates\":null,\"fill_alpha\":0.5,\"fill_color\":\"lightgrey\",\"group\":null,\"left_units\":\"screen\",\"level\":\"overlay\",\"line_alpha\":1.0,\"line_color\":\"black\",\"line_dash\":[4,4],\"line_width\":2,\"right_units\":\"screen\",\"syncable\":false,\"top_units\":\"screen\"},\"id\":\"3012\",\"type\":\"BoxAnnotation\"},{\"attributes\":{},\"id\":\"3035\",\"type\":\"UnionRenderers\"},{\"attributes\":{},\"id\":\"3036\",\"type\":\"Selection\"},{\"attributes\":{},\"id\":\"2990\",\"type\":\"DataRange1d\"},{\"attributes\":{\"range\":{\"id\":\"2990\"}},\"id\":\"3022\",\"type\":\"Dodge\"},{\"attributes\":{\"source\":{\"id\":\"2986\"}},\"id\":\"3028\",\"type\":\"CDSView\"},{\"attributes\":{\"callback\":null,\"mode\":\"vline\",\"renderers\":[{\"id\":\"3027\"}],\"tooltips\":[[\"Provider State\",\"@__x__values_original\"],[\"Avg. Cost/attended patient [$]\",\"@{Avg. Cost/attended patient [$]}\"]]},\"id\":\"3040\",\"type\":\"HoverTool\"}],\"root_ids\":[\"2987\"]},\"title\":\"Bokeh Application\",\"version\":\"2.4.1\"}};\n  const render_items = [{\"docid\":\"60fb03f9-6f1a-4e8c-90d0-f8fe82e76687\",\"root_ids\":[\"2987\"],\"roots\":{\"2987\":\"051dfe80-ece0-48ea-af9f-92a4552403f4\"}}];\n  root.Bokeh.embed.embed_items_notebook(docs_json, render_items);\n\n  }\n  if (root.Bokeh !== undefined) {\n    embed_document(root);\n  } else {\n    let attempts = 0;\n    const timer = setInterval(function(root) {\n      if (root.Bokeh !== undefined) {\n        clearInterval(timer);\n        embed_document(root);\n      } else {\n        attempts++;\n        if (attempts > 100) {\n          clearInterval(timer);\n          console.log(\"Bokeh: ERROR: Unable to run BokehJS code because BokehJS library is missing\");\n        }\n      }\n    }, 10, root)\n  }\n})(window);",
      "application/vnd.bokehjs_exec.v0+json": ""
     },
     "metadata": {
      "application/vnd.bokehjs_exec.v0+json": {
       "id": "2987"
      }
     },
     "output_type": "display_data"
    }
   ],
   "source": [
    "by_patient = sorted_df_by_patient.plot_bokeh.bar(figsize=(1200,400), \n",
    "                                y='Avg. Cost/attended patient [$]',\n",
    "                                title='Hospital Charges in America by Attended Patient', \n",
    "                                show_figure=True, legend = 'top_left')"
   ]
  },
  {
   "cell_type": "markdown",
   "metadata": {},
   "source": [
    "#### More expensive States by DRG"
   ]
  },
  {
   "cell_type": "code",
   "execution_count": 118,
   "metadata": {},
   "outputs": [],
   "source": [
    "df_by_drg = df.groupby(['DRG Definition', 'Provider State']).median()\n",
    "df_by_drg = df_by_drg.sort_values(['DRG Definition','Avg. Cost/attended patient [$]'], ascending=[1,0])"
   ]
  },
  {
   "cell_type": "code",
   "execution_count": 119,
   "metadata": {},
   "outputs": [
    {
     "data": {
      "text/html": [
       "<div>\n",
       "<style scoped>\n",
       "    .dataframe tbody tr th:only-of-type {\n",
       "        vertical-align: middle;\n",
       "    }\n",
       "\n",
       "    .dataframe tbody tr th {\n",
       "        vertical-align: top;\n",
       "    }\n",
       "\n",
       "    .dataframe thead th {\n",
       "        text-align: right;\n",
       "    }\n",
       "</style>\n",
       "<table border=\"1\" class=\"dataframe\">\n",
       "  <thead>\n",
       "    <tr style=\"text-align: right;\">\n",
       "      <th></th>\n",
       "      <th></th>\n",
       "      <th>Total Discharges</th>\n",
       "      <th>Avg Total Payments [$]</th>\n",
       "      <th>Avg Medicare Payments [$]</th>\n",
       "      <th>Avg. Cost/attended patient [$]</th>\n",
       "    </tr>\n",
       "    <tr>\n",
       "      <th>DRG Definition</th>\n",
       "      <th>Provider State</th>\n",
       "      <th></th>\n",
       "      <th></th>\n",
       "      <th></th>\n",
       "      <th></th>\n",
       "    </tr>\n",
       "  </thead>\n",
       "  <tbody>\n",
       "    <tr>\n",
       "      <th>039 - EXTRACRANIAL PROCEDURES W/O CC/MCC</th>\n",
       "      <th>DC</th>\n",
       "      <td>14.0</td>\n",
       "      <td>9479.57</td>\n",
       "      <td>8680.140</td>\n",
       "      <td>677.112143</td>\n",
       "    </tr>\n",
       "    <tr>\n",
       "      <th>057 - DEGENERATIVE NERVOUS SYSTEM DISORDERS W/O MCC</th>\n",
       "      <th>AK</th>\n",
       "      <td>11.0</td>\n",
       "      <td>8799.00</td>\n",
       "      <td>8081.540</td>\n",
       "      <td>799.909091</td>\n",
       "    </tr>\n",
       "    <tr>\n",
       "      <th>064 - INTRACRANIAL HEMORRHAGE OR CEREBRAL INFARCTION W MCC</th>\n",
       "      <th>AK</th>\n",
       "      <td>22.5</td>\n",
       "      <td>21608.01</td>\n",
       "      <td>20555.255</td>\n",
       "      <td>1417.867941</td>\n",
       "    </tr>\n",
       "  </tbody>\n",
       "</table>\n",
       "</div>"
      ],
      "text/plain": [
       "                                                                   Total Discharges  \\\n",
       "DRG Definition                                     Provider State                     \n",
       "039 - EXTRACRANIAL PROCEDURES W/O CC/MCC           DC                          14.0   \n",
       "057 - DEGENERATIVE NERVOUS SYSTEM DISORDERS W/O... AK                          11.0   \n",
       "064 - INTRACRANIAL HEMORRHAGE OR CEREBRAL INFAR... AK                          22.5   \n",
       "\n",
       "                                                                   Avg Total Payments [$]  \\\n",
       "DRG Definition                                     Provider State                           \n",
       "039 - EXTRACRANIAL PROCEDURES W/O CC/MCC           DC                             9479.57   \n",
       "057 - DEGENERATIVE NERVOUS SYSTEM DISORDERS W/O... AK                             8799.00   \n",
       "064 - INTRACRANIAL HEMORRHAGE OR CEREBRAL INFAR... AK                            21608.01   \n",
       "\n",
       "                                                                   Avg Medicare Payments [$]  \\\n",
       "DRG Definition                                     Provider State                              \n",
       "039 - EXTRACRANIAL PROCEDURES W/O CC/MCC           DC                               8680.140   \n",
       "057 - DEGENERATIVE NERVOUS SYSTEM DISORDERS W/O... AK                               8081.540   \n",
       "064 - INTRACRANIAL HEMORRHAGE OR CEREBRAL INFAR... AK                              20555.255   \n",
       "\n",
       "                                                                   Avg. Cost/attended patient [$]  \n",
       "DRG Definition                                     Provider State                                  \n",
       "039 - EXTRACRANIAL PROCEDURES W/O CC/MCC           DC                                  677.112143  \n",
       "057 - DEGENERATIVE NERVOUS SYSTEM DISORDERS W/O... AK                                  799.909091  \n",
       "064 - INTRACRANIAL HEMORRHAGE OR CEREBRAL INFAR... AK                                 1417.867941  "
      ]
     },
     "execution_count": 119,
     "metadata": {},
     "output_type": "execute_result"
    }
   ],
   "source": [
    "sorted_df_by_drg = df_by_drg.groupby(level=0).head(1)\n",
    "sorted_df_by_drg.head(3)"
   ]
  },
  {
   "cell_type": "code",
   "execution_count": 120,
   "metadata": {},
   "outputs": [
    {
     "data": {
      "text/plain": [
       "Index(['DC', 'AK', 'AK', 'AK', 'HI', 'AK', 'UT', 'HI', 'DC', 'HI', 'AK', 'DC',\n",
       "       'WY', 'AK', 'AK', 'HI', 'AK', 'HI', 'AK', 'WY', 'CA', 'OR', 'AK', 'AK',\n",
       "       'HI', 'VT', 'WY', 'AK', 'HI', 'WY', 'AK', 'AK', 'WY', 'DC', 'HI', 'UT',\n",
       "       'VT', 'HI', 'AK', 'AK', 'AK', 'WY', 'NM', 'AK', 'HI', 'WY', 'AK', 'AK',\n",
       "       'WY', 'AK', 'AK', 'VT', 'AK', 'AK', 'WY', 'AK', 'AK', 'AK', 'AK', 'VT',\n",
       "       'HI', 'WY', 'HI', 'RI', 'AK', 'DC', 'HI', 'DC', 'HI', 'WY', 'DC', 'AK',\n",
       "       'AK', 'HI', 'HI', 'HI', 'VT', 'HI', 'AK', 'AK', 'WY', 'HI', 'AK', 'AK',\n",
       "       'VT', 'HI', 'AK', 'NV', 'HI', 'AK', 'AK', 'DC', 'AK', 'WY', 'AK', 'CT',\n",
       "       'AK', 'SD', 'VT', 'AK'],\n",
       "      dtype='object', name='Provider State')"
      ]
     },
     "execution_count": 120,
     "metadata": {},
     "output_type": "execute_result"
    }
   ],
   "source": [
    "drg_by_states = sorted_df_by_drg.index.get_level_values('Provider State')\n",
    "drg_by_states"
   ]
  },
  {
   "cell_type": "code",
   "execution_count": 121,
   "metadata": {},
   "outputs": [],
   "source": [
    "from collections import Counter\n",
    "drg_max_states_counter = Counter(drg_by_states)\n",
    "drg_max_states_dict = dict(drg_max_states_counter)\n",
    "drg_max_states_df = pd.DataFrame(drg_max_states_dict.items())\n",
    "drg_max_states_df.rename(columns={0: 'Provider State',1:'DRG_qty'}, inplace=True)\n",
    "drg_max_states_df = drg_max_states_df.set_index('Provider State')"
   ]
  },
  {
   "cell_type": "code",
   "execution_count": 122,
   "metadata": {},
   "outputs": [
    {
     "data": {
      "text/html": [
       "\n",
       "\n",
       "\n",
       "\n",
       "\n",
       "\n",
       "  <div class=\"bk-root\" id=\"b8966b00-5506-4a1e-a6b8-06a2c9435ab5\" data-root-id=\"3151\"></div>\n"
      ]
     },
     "metadata": {},
     "output_type": "display_data"
    },
    {
     "data": {
      "application/javascript": "(function(root) {\n  function embed_document(root) {\n    \n  const docs_json = {\"cd6bd019-15a7-4387-9a4d-8ee8b1f46d13\":{\"defs\":[],\"roots\":{\"references\":[{\"attributes\":{\"below\":[{\"id\":\"3162\"}],\"center\":[{\"id\":\"3165\"},{\"id\":\"3169\"},{\"id\":\"3202\"}],\"height\":400,\"left\":[{\"id\":\"3166\"}],\"output_backend\":\"webgl\",\"renderers\":[{\"id\":\"3191\"}],\"sizing_mode\":\"fixed\",\"title\":{\"id\":\"3152\"},\"toolbar\":{\"id\":\"3177\"},\"x_range\":{\"id\":\"3154\"},\"x_scale\":{\"id\":\"3158\"},\"y_range\":{\"id\":\"3156\"},\"y_scale\":{\"id\":\"3160\"}},\"id\":\"3151\",\"subtype\":\"Figure\",\"type\":\"Plot\"},{\"attributes\":{\"axis_label\":\"DRG_qty\",\"coordinates\":null,\"formatter\":{\"id\":\"3195\"},\"group\":null,\"major_label_policy\":{\"id\":\"3196\"},\"ticker\":{\"id\":\"3167\"}},\"id\":\"3166\",\"type\":\"LinearAxis\"},{\"attributes\":{\"axis\":{\"id\":\"3166\"},\"coordinates\":null,\"dimension\":1,\"group\":null,\"ticker\":null},\"id\":\"3169\",\"type\":\"Grid\"},{\"attributes\":{},\"id\":\"3167\",\"type\":\"BasicTicker\"},{\"attributes\":{},\"id\":\"3196\",\"type\":\"AllLabels\"},{\"attributes\":{\"fill_alpha\":{\"value\":0.2},\"fill_color\":{\"value\":\"#1f77b4\"},\"hatch_alpha\":{\"value\":0.2},\"hatch_color\":{\"value\":\"#1f77b4\"},\"line_alpha\":{\"value\":0.2},\"line_color\":{\"value\":\"#1f77b4\"},\"line_width\":{\"value\":2},\"top\":{\"field\":\"DRG_qty\"},\"width\":{\"value\":0.7},\"x\":{\"field\":\"__x__values\",\"transform\":{\"id\":\"3186\"}}},\"id\":\"3190\",\"type\":\"VBar\"},{\"attributes\":{\"fill_alpha\":{\"value\":0.1},\"fill_color\":{\"value\":\"#1f77b4\"},\"hatch_alpha\":{\"value\":0.1},\"hatch_color\":{\"value\":\"#1f77b4\"},\"line_alpha\":{\"value\":0.1},\"line_color\":{\"value\":\"#1f77b4\"},\"line_width\":{\"value\":2},\"top\":{\"field\":\"DRG_qty\"},\"width\":{\"value\":0.7},\"x\":{\"field\":\"__x__values\",\"transform\":{\"id\":\"3186\"}}},\"id\":\"3189\",\"type\":\"VBar\"},{\"attributes\":{},\"id\":\"3175\",\"type\":\"HelpTool\"},{\"attributes\":{},\"id\":\"3198\",\"type\":\"AllLabels\"},{\"attributes\":{},\"id\":\"3170\",\"type\":\"PanTool\"},{\"attributes\":{\"overlay\":{\"id\":\"3176\"}},\"id\":\"3172\",\"type\":\"BoxZoomTool\"},{\"attributes\":{\"coordinates\":null,\"data_source\":{\"id\":\"3150\"},\"glyph\":{\"id\":\"3188\"},\"group\":null,\"hover_glyph\":null,\"muted_glyph\":{\"id\":\"3190\"},\"nonselection_glyph\":{\"id\":\"3189\"},\"view\":{\"id\":\"3192\"}},\"id\":\"3191\",\"type\":\"GlyphRenderer\"},{\"attributes\":{},\"id\":\"3173\",\"type\":\"SaveTool\"},{\"attributes\":{},\"id\":\"3174\",\"type\":\"ResetTool\"},{\"attributes\":{\"click_policy\":\"hide\",\"coordinates\":null,\"group\":null,\"items\":[{\"id\":\"3203\"}],\"location\":\"top_left\"},\"id\":\"3202\",\"type\":\"Legend\"},{\"attributes\":{\"label\":{\"value\":\" DRG_qty\"},\"renderers\":[{\"id\":\"3191\"}]},\"id\":\"3203\",\"type\":\"LegendItem\"},{\"attributes\":{\"source\":{\"id\":\"3150\"}},\"id\":\"3192\",\"type\":\"CDSView\"},{\"attributes\":{\"bottom_units\":\"screen\",\"coordinates\":null,\"fill_alpha\":0.5,\"fill_color\":\"lightgrey\",\"group\":null,\"left_units\":\"screen\",\"level\":\"overlay\",\"line_alpha\":1.0,\"line_color\":\"black\",\"line_dash\":[4,4],\"line_width\":2,\"right_units\":\"screen\",\"syncable\":false,\"top_units\":\"screen\"},\"id\":\"3176\",\"type\":\"BoxAnnotation\"},{\"attributes\":{\"fill_color\":{\"value\":\"#1f77b4\"},\"hatch_color\":{\"value\":\"#1f77b4\"},\"line_color\":{\"value\":\"#1f77b4\"},\"line_width\":{\"value\":2},\"top\":{\"field\":\"DRG_qty\"},\"width\":{\"value\":0.7},\"x\":{\"field\":\"__x__values\",\"transform\":{\"id\":\"3186\"}}},\"id\":\"3188\",\"type\":\"VBar\"},{\"attributes\":{},\"id\":\"3199\",\"type\":\"UnionRenderers\"},{\"attributes\":{},\"id\":\"3200\",\"type\":\"Selection\"},{\"attributes\":{\"code\":\"\\n                                    var labels = {0: 'CA', 1: 'OR', 2: 'NM', 3: 'RI', 4: 'NV', 5: 'CT', 6: 'SD', 7: 'UT', 8: 'VT', 9: 'DC', 10: 'WY', 11: 'HI', 12: 'AK'};\\n                                    return labels[tick];\\n                                    \"},\"id\":\"3184\",\"type\":\"FuncTickFormatter\"},{\"attributes\":{\"axis\":{\"id\":\"3162\"},\"coordinates\":null,\"group\":null,\"ticker\":null},\"id\":\"3165\",\"type\":\"Grid\"},{\"attributes\":{\"data\":{\"DRG_qty\":[1,1,1,1,1,1,1,2,7,8,13,21,42],\"__x__values\":[0,1,2,3,4,5,6,7,8,9,10,11,12],\"__x__values_original\":[\"CA\",\"OR\",\"NM\",\"RI\",\"NV\",\"CT\",\"SD\",\"UT\",\"VT\",\"DC\",\"WY\",\"HI\",\"AK\"]},\"selected\":{\"id\":\"3200\"},\"selection_policy\":{\"id\":\"3199\"}},\"id\":\"3150\",\"type\":\"ColumnDataSource\"},{\"attributes\":{},\"id\":\"3158\",\"type\":\"LinearScale\"},{\"attributes\":{},\"id\":\"3154\",\"type\":\"DataRange1d\"},{\"attributes\":{},\"id\":\"3156\",\"type\":\"DataRange1d\"},{\"attributes\":{\"ticks\":[0,1,2,3,4,5,6,7,8,9,10,11,12]},\"id\":\"3206\",\"type\":\"FixedTicker\"},{\"attributes\":{\"range\":{\"id\":\"3154\"}},\"id\":\"3186\",\"type\":\"Dodge\"},{\"attributes\":{\"axis_label\":\"Provider State\",\"coordinates\":null,\"formatter\":{\"id\":\"3184\"},\"group\":null,\"major_label_policy\":{\"id\":\"3198\"},\"ticker\":{\"id\":\"3206\"}},\"id\":\"3162\",\"type\":\"LinearAxis\"},{\"attributes\":{\"callback\":null,\"mode\":\"vline\",\"renderers\":[{\"id\":\"3191\"}],\"tooltips\":[[\"Provider State\",\"@__x__values_original\"],[\"DRG_qty\",\"@{DRG_qty}\"]]},\"id\":\"3204\",\"type\":\"HoverTool\"},{\"attributes\":{\"coordinates\":null,\"group\":null,\"text\":\"States with more expensive DRG\"},\"id\":\"3152\",\"type\":\"Title\"},{\"attributes\":{},\"id\":\"3171\",\"type\":\"WheelZoomTool\"},{\"attributes\":{\"active_scroll\":{\"id\":\"3171\"},\"tools\":[{\"id\":\"3170\"},{\"id\":\"3171\"},{\"id\":\"3172\"},{\"id\":\"3173\"},{\"id\":\"3174\"},{\"id\":\"3175\"},{\"id\":\"3204\"}]},\"id\":\"3177\",\"type\":\"Toolbar\"},{\"attributes\":{},\"id\":\"3160\",\"type\":\"LinearScale\"},{\"attributes\":{},\"id\":\"3195\",\"type\":\"BasicTickFormatter\"}],\"root_ids\":[\"3151\"]},\"title\":\"Bokeh Application\",\"version\":\"2.4.1\"}};\n  const render_items = [{\"docid\":\"cd6bd019-15a7-4387-9a4d-8ee8b1f46d13\",\"root_ids\":[\"3151\"],\"roots\":{\"3151\":\"b8966b00-5506-4a1e-a6b8-06a2c9435ab5\"}}];\n  root.Bokeh.embed.embed_items_notebook(docs_json, render_items);\n\n  }\n  if (root.Bokeh !== undefined) {\n    embed_document(root);\n  } else {\n    let attempts = 0;\n    const timer = setInterval(function(root) {\n      if (root.Bokeh !== undefined) {\n        clearInterval(timer);\n        embed_document(root);\n      } else {\n        attempts++;\n        if (attempts > 100) {\n          clearInterval(timer);\n          console.log(\"Bokeh: ERROR: Unable to run BokehJS code because BokehJS library is missing\");\n        }\n      }\n    }, 10, root)\n  }\n})(window);",
      "application/vnd.bokehjs_exec.v0+json": ""
     },
     "metadata": {
      "application/vnd.bokehjs_exec.v0+json": {
       "id": "3151"
      }
     },
     "output_type": "display_data"
    },
    {
     "data": {
      "text/html": [
       "<div style=\"display: table;\"><div style=\"display: table-row;\"><div style=\"display: table-cell;\"><b title=\"bokeh.plotting.figure.Figure\">Figure</b>(</div><div style=\"display: table-cell;\">id&nbsp;=&nbsp;'3151', <span id=\"3288\" style=\"cursor: pointer;\">&hellip;)</span></div></div><div class=\"3287\" style=\"display: none;\"><div style=\"display: table-cell;\"></div><div style=\"display: table-cell;\">above&nbsp;=&nbsp;[],</div></div><div class=\"3287\" style=\"display: none;\"><div style=\"display: table-cell;\"></div><div style=\"display: table-cell;\">align&nbsp;=&nbsp;'start',</div></div><div class=\"3287\" style=\"display: none;\"><div style=\"display: table-cell;\"></div><div style=\"display: table-cell;\">aspect_ratio&nbsp;=&nbsp;None,</div></div><div class=\"3287\" style=\"display: none;\"><div style=\"display: table-cell;\"></div><div style=\"display: table-cell;\">aspect_scale&nbsp;=&nbsp;1,</div></div><div class=\"3287\" style=\"display: none;\"><div style=\"display: table-cell;\"></div><div style=\"display: table-cell;\">background&nbsp;=&nbsp;None,</div></div><div class=\"3287\" style=\"display: none;\"><div style=\"display: table-cell;\"></div><div style=\"display: table-cell;\">background_fill_alpha&nbsp;=&nbsp;1.0,</div></div><div class=\"3287\" style=\"display: none;\"><div style=\"display: table-cell;\"></div><div style=\"display: table-cell;\">background_fill_color&nbsp;=&nbsp;'#ffffff',</div></div><div class=\"3287\" style=\"display: none;\"><div style=\"display: table-cell;\"></div><div style=\"display: table-cell;\">below&nbsp;=&nbsp;[LinearAxis(id='3162', ...)],</div></div><div class=\"3287\" style=\"display: none;\"><div style=\"display: table-cell;\"></div><div style=\"display: table-cell;\">border_fill_alpha&nbsp;=&nbsp;1.0,</div></div><div class=\"3287\" style=\"display: none;\"><div style=\"display: table-cell;\"></div><div style=\"display: table-cell;\">border_fill_color&nbsp;=&nbsp;'#ffffff',</div></div><div class=\"3287\" style=\"display: none;\"><div style=\"display: table-cell;\"></div><div style=\"display: table-cell;\">center&nbsp;=&nbsp;[Grid(id='3165', ...), Grid(id='3169', ...), Legend(id='3202', ...)],</div></div><div class=\"3287\" style=\"display: none;\"><div style=\"display: table-cell;\"></div><div style=\"display: table-cell;\">css_classes&nbsp;=&nbsp;[],</div></div><div class=\"3287\" style=\"display: none;\"><div style=\"display: table-cell;\"></div><div style=\"display: table-cell;\">disabled&nbsp;=&nbsp;False,</div></div><div class=\"3287\" style=\"display: none;\"><div style=\"display: table-cell;\"></div><div style=\"display: table-cell;\">extra_x_ranges&nbsp;=&nbsp;{},</div></div><div class=\"3287\" style=\"display: none;\"><div style=\"display: table-cell;\"></div><div style=\"display: table-cell;\">extra_x_scales&nbsp;=&nbsp;{},</div></div><div class=\"3287\" style=\"display: none;\"><div style=\"display: table-cell;\"></div><div style=\"display: table-cell;\">extra_y_ranges&nbsp;=&nbsp;{},</div></div><div class=\"3287\" style=\"display: none;\"><div style=\"display: table-cell;\"></div><div style=\"display: table-cell;\">extra_y_scales&nbsp;=&nbsp;{},</div></div><div class=\"3287\" style=\"display: none;\"><div style=\"display: table-cell;\"></div><div style=\"display: table-cell;\">frame_height&nbsp;=&nbsp;None,</div></div><div class=\"3287\" style=\"display: none;\"><div style=\"display: table-cell;\"></div><div style=\"display: table-cell;\">frame_width&nbsp;=&nbsp;None,</div></div><div class=\"3287\" style=\"display: none;\"><div style=\"display: table-cell;\"></div><div style=\"display: table-cell;\">height&nbsp;=&nbsp;400,</div></div><div class=\"3287\" style=\"display: none;\"><div style=\"display: table-cell;\"></div><div style=\"display: table-cell;\">height_policy&nbsp;=&nbsp;'auto',</div></div><div class=\"3287\" style=\"display: none;\"><div style=\"display: table-cell;\"></div><div style=\"display: table-cell;\">hidpi&nbsp;=&nbsp;True,</div></div><div class=\"3287\" style=\"display: none;\"><div style=\"display: table-cell;\"></div><div style=\"display: table-cell;\">inner_height&nbsp;=&nbsp;0,</div></div><div class=\"3287\" style=\"display: none;\"><div style=\"display: table-cell;\"></div><div style=\"display: table-cell;\">inner_width&nbsp;=&nbsp;0,</div></div><div class=\"3287\" style=\"display: none;\"><div style=\"display: table-cell;\"></div><div style=\"display: table-cell;\">js_event_callbacks&nbsp;=&nbsp;{},</div></div><div class=\"3287\" style=\"display: none;\"><div style=\"display: table-cell;\"></div><div style=\"display: table-cell;\">js_property_callbacks&nbsp;=&nbsp;{},</div></div><div class=\"3287\" style=\"display: none;\"><div style=\"display: table-cell;\"></div><div style=\"display: table-cell;\">left&nbsp;=&nbsp;[LinearAxis(id='3166', ...)],</div></div><div class=\"3287\" style=\"display: none;\"><div style=\"display: table-cell;\"></div><div style=\"display: table-cell;\">lod_factor&nbsp;=&nbsp;10,</div></div><div class=\"3287\" style=\"display: none;\"><div style=\"display: table-cell;\"></div><div style=\"display: table-cell;\">lod_interval&nbsp;=&nbsp;300,</div></div><div class=\"3287\" style=\"display: none;\"><div style=\"display: table-cell;\"></div><div style=\"display: table-cell;\">lod_threshold&nbsp;=&nbsp;2000,</div></div><div class=\"3287\" style=\"display: none;\"><div style=\"display: table-cell;\"></div><div style=\"display: table-cell;\">lod_timeout&nbsp;=&nbsp;500,</div></div><div class=\"3287\" style=\"display: none;\"><div style=\"display: table-cell;\"></div><div style=\"display: table-cell;\">margin&nbsp;=&nbsp;(0, 0, 0, 0),</div></div><div class=\"3287\" style=\"display: none;\"><div style=\"display: table-cell;\"></div><div style=\"display: table-cell;\">match_aspect&nbsp;=&nbsp;False,</div></div><div class=\"3287\" style=\"display: none;\"><div style=\"display: table-cell;\"></div><div style=\"display: table-cell;\">max_height&nbsp;=&nbsp;None,</div></div><div class=\"3287\" style=\"display: none;\"><div style=\"display: table-cell;\"></div><div style=\"display: table-cell;\">max_width&nbsp;=&nbsp;None,</div></div><div class=\"3287\" style=\"display: none;\"><div style=\"display: table-cell;\"></div><div style=\"display: table-cell;\">min_border&nbsp;=&nbsp;5,</div></div><div class=\"3287\" style=\"display: none;\"><div style=\"display: table-cell;\"></div><div style=\"display: table-cell;\">min_border_bottom&nbsp;=&nbsp;None,</div></div><div class=\"3287\" style=\"display: none;\"><div style=\"display: table-cell;\"></div><div style=\"display: table-cell;\">min_border_left&nbsp;=&nbsp;None,</div></div><div class=\"3287\" style=\"display: none;\"><div style=\"display: table-cell;\"></div><div style=\"display: table-cell;\">min_border_right&nbsp;=&nbsp;None,</div></div><div class=\"3287\" style=\"display: none;\"><div style=\"display: table-cell;\"></div><div style=\"display: table-cell;\">min_border_top&nbsp;=&nbsp;None,</div></div><div class=\"3287\" style=\"display: none;\"><div style=\"display: table-cell;\"></div><div style=\"display: table-cell;\">min_height&nbsp;=&nbsp;None,</div></div><div class=\"3287\" style=\"display: none;\"><div style=\"display: table-cell;\"></div><div style=\"display: table-cell;\">min_width&nbsp;=&nbsp;None,</div></div><div class=\"3287\" style=\"display: none;\"><div style=\"display: table-cell;\"></div><div style=\"display: table-cell;\">name&nbsp;=&nbsp;None,</div></div><div class=\"3287\" style=\"display: none;\"><div style=\"display: table-cell;\"></div><div style=\"display: table-cell;\">outer_height&nbsp;=&nbsp;0,</div></div><div class=\"3287\" style=\"display: none;\"><div style=\"display: table-cell;\"></div><div style=\"display: table-cell;\">outer_width&nbsp;=&nbsp;0,</div></div><div class=\"3287\" style=\"display: none;\"><div style=\"display: table-cell;\"></div><div style=\"display: table-cell;\">outline_line_alpha&nbsp;=&nbsp;1.0,</div></div><div class=\"3287\" style=\"display: none;\"><div style=\"display: table-cell;\"></div><div style=\"display: table-cell;\">outline_line_cap&nbsp;=&nbsp;'butt',</div></div><div class=\"3287\" style=\"display: none;\"><div style=\"display: table-cell;\"></div><div style=\"display: table-cell;\">outline_line_color&nbsp;=&nbsp;'#e5e5e5',</div></div><div class=\"3287\" style=\"display: none;\"><div style=\"display: table-cell;\"></div><div style=\"display: table-cell;\">outline_line_dash&nbsp;=&nbsp;[],</div></div><div class=\"3287\" style=\"display: none;\"><div style=\"display: table-cell;\"></div><div style=\"display: table-cell;\">outline_line_dash_offset&nbsp;=&nbsp;0,</div></div><div class=\"3287\" style=\"display: none;\"><div style=\"display: table-cell;\"></div><div style=\"display: table-cell;\">outline_line_join&nbsp;=&nbsp;'bevel',</div></div><div class=\"3287\" style=\"display: none;\"><div style=\"display: table-cell;\"></div><div style=\"display: table-cell;\">outline_line_width&nbsp;=&nbsp;1,</div></div><div class=\"3287\" style=\"display: none;\"><div style=\"display: table-cell;\"></div><div style=\"display: table-cell;\">output_backend&nbsp;=&nbsp;'webgl',</div></div><div class=\"3287\" style=\"display: none;\"><div style=\"display: table-cell;\"></div><div style=\"display: table-cell;\">renderers&nbsp;=&nbsp;[GlyphRenderer(id='3191', ...)],</div></div><div class=\"3287\" style=\"display: none;\"><div style=\"display: table-cell;\"></div><div style=\"display: table-cell;\">reset_policy&nbsp;=&nbsp;'standard',</div></div><div class=\"3287\" style=\"display: none;\"><div style=\"display: table-cell;\"></div><div style=\"display: table-cell;\">right&nbsp;=&nbsp;[],</div></div><div class=\"3287\" style=\"display: none;\"><div style=\"display: table-cell;\"></div><div style=\"display: table-cell;\">sizing_mode&nbsp;=&nbsp;'fixed',</div></div><div class=\"3287\" style=\"display: none;\"><div style=\"display: table-cell;\"></div><div style=\"display: table-cell;\">subscribed_events&nbsp;=&nbsp;[],</div></div><div class=\"3287\" style=\"display: none;\"><div style=\"display: table-cell;\"></div><div style=\"display: table-cell;\">syncable&nbsp;=&nbsp;True,</div></div><div class=\"3287\" style=\"display: none;\"><div style=\"display: table-cell;\"></div><div style=\"display: table-cell;\">tags&nbsp;=&nbsp;[],</div></div><div class=\"3287\" style=\"display: none;\"><div style=\"display: table-cell;\"></div><div style=\"display: table-cell;\">title&nbsp;=&nbsp;Title(id='3152', ...),</div></div><div class=\"3287\" style=\"display: none;\"><div style=\"display: table-cell;\"></div><div style=\"display: table-cell;\">title_location&nbsp;=&nbsp;'above',</div></div><div class=\"3287\" style=\"display: none;\"><div style=\"display: table-cell;\"></div><div style=\"display: table-cell;\">toolbar&nbsp;=&nbsp;Toolbar(id='3177', ...),</div></div><div class=\"3287\" style=\"display: none;\"><div style=\"display: table-cell;\"></div><div style=\"display: table-cell;\">toolbar_location&nbsp;=&nbsp;'right',</div></div><div class=\"3287\" style=\"display: none;\"><div style=\"display: table-cell;\"></div><div style=\"display: table-cell;\">toolbar_sticky&nbsp;=&nbsp;True,</div></div><div class=\"3287\" style=\"display: none;\"><div style=\"display: table-cell;\"></div><div style=\"display: table-cell;\">visible&nbsp;=&nbsp;True,</div></div><div class=\"3287\" style=\"display: none;\"><div style=\"display: table-cell;\"></div><div style=\"display: table-cell;\">width&nbsp;=&nbsp;600,</div></div><div class=\"3287\" style=\"display: none;\"><div style=\"display: table-cell;\"></div><div style=\"display: table-cell;\">width_policy&nbsp;=&nbsp;'auto',</div></div><div class=\"3287\" style=\"display: none;\"><div style=\"display: table-cell;\"></div><div style=\"display: table-cell;\">x_range&nbsp;=&nbsp;DataRange1d(id='3154', ...),</div></div><div class=\"3287\" style=\"display: none;\"><div style=\"display: table-cell;\"></div><div style=\"display: table-cell;\">x_scale&nbsp;=&nbsp;LinearScale(id='3158', ...),</div></div><div class=\"3287\" style=\"display: none;\"><div style=\"display: table-cell;\"></div><div style=\"display: table-cell;\">y_range&nbsp;=&nbsp;DataRange1d(id='3156', ...),</div></div><div class=\"3287\" style=\"display: none;\"><div style=\"display: table-cell;\"></div><div style=\"display: table-cell;\">y_scale&nbsp;=&nbsp;LinearScale(id='3160', ...))</div></div></div>\n",
       "<script>\n",
       "(function() {\n",
       "  let expanded = false;\n",
       "  const ellipsis = document.getElementById(\"3288\");\n",
       "  ellipsis.addEventListener(\"click\", function() {\n",
       "    const rows = document.getElementsByClassName(\"3287\");\n",
       "    for (let i = 0; i < rows.length; i++) {\n",
       "      const el = rows[i];\n",
       "      el.style.display = expanded ? \"none\" : \"table-row\";\n",
       "    }\n",
       "    ellipsis.innerHTML = expanded ? \"&hellip;)\" : \"&lsaquo;&lsaquo;&lsaquo;\";\n",
       "    expanded = !expanded;\n",
       "  });\n",
       "})();\n",
       "</script>\n"
      ],
      "text/plain": [
       "Figure(id='3151', ...)"
      ]
     },
     "execution_count": 122,
     "metadata": {},
     "output_type": "execute_result"
    }
   ],
   "source": [
    "sorted_drg_max_states_df = drg_max_states_df.sort_values(by='DRG_qty')\n",
    "sorted_drg_max_states_df.plot_bokeh.bar(show_figure=True, legend = 'top_left', title='States with more expensive DRG')"
   ]
  },
  {
   "cell_type": "markdown",
   "metadata": {},
   "source": [
    "#### More sheapest States by DRG"
   ]
  },
  {
   "cell_type": "code",
   "execution_count": 123,
   "metadata": {},
   "outputs": [],
   "source": [
    "df_by_drg_min = df_by_drg.sort_values(['DRG Definition','Avg. Cost/attended patient [$]'], ascending=[1,1])"
   ]
  },
  {
   "cell_type": "code",
   "execution_count": 124,
   "metadata": {},
   "outputs": [
    {
     "data": {
      "text/html": [
       "<div>\n",
       "<style scoped>\n",
       "    .dataframe tbody tr th:only-of-type {\n",
       "        vertical-align: middle;\n",
       "    }\n",
       "\n",
       "    .dataframe tbody tr th {\n",
       "        vertical-align: top;\n",
       "    }\n",
       "\n",
       "    .dataframe thead th {\n",
       "        text-align: right;\n",
       "    }\n",
       "</style>\n",
       "<table border=\"1\" class=\"dataframe\">\n",
       "  <thead>\n",
       "    <tr style=\"text-align: right;\">\n",
       "      <th></th>\n",
       "      <th></th>\n",
       "      <th>Total Discharges</th>\n",
       "      <th>Avg Total Payments [$]</th>\n",
       "      <th>Avg Medicare Payments [$]</th>\n",
       "      <th>Avg. Cost/attended patient [$]</th>\n",
       "    </tr>\n",
       "    <tr>\n",
       "      <th>DRG Definition</th>\n",
       "      <th>Provider State</th>\n",
       "      <th></th>\n",
       "      <th></th>\n",
       "      <th></th>\n",
       "      <th></th>\n",
       "    </tr>\n",
       "  </thead>\n",
       "  <tbody>\n",
       "    <tr>\n",
       "      <th>039 - EXTRACRANIAL PROCEDURES W/O CC/MCC</th>\n",
       "      <th>ME</th>\n",
       "      <td>75.0</td>\n",
       "      <td>7225.66</td>\n",
       "      <td>5470.510</td>\n",
       "      <td>96.342133</td>\n",
       "    </tr>\n",
       "    <tr>\n",
       "      <th>057 - DEGENERATIVE NERVOUS SYSTEM DISORDERS W/O MCC</th>\n",
       "      <th>DE</th>\n",
       "      <td>57.0</td>\n",
       "      <td>6899.31</td>\n",
       "      <td>5840.745</td>\n",
       "      <td>137.787576</td>\n",
       "    </tr>\n",
       "    <tr>\n",
       "      <th>064 - INTRACRANIAL HEMORRHAGE OR CEREBRAL INFARCTION W MCC</th>\n",
       "      <th>KY</th>\n",
       "      <td>43.0</td>\n",
       "      <td>11293.04</td>\n",
       "      <td>10192.765</td>\n",
       "      <td>222.920249</td>\n",
       "    </tr>\n",
       "  </tbody>\n",
       "</table>\n",
       "</div>"
      ],
      "text/plain": [
       "                                                                   Total Discharges  \\\n",
       "DRG Definition                                     Provider State                     \n",
       "039 - EXTRACRANIAL PROCEDURES W/O CC/MCC           ME                          75.0   \n",
       "057 - DEGENERATIVE NERVOUS SYSTEM DISORDERS W/O... DE                          57.0   \n",
       "064 - INTRACRANIAL HEMORRHAGE OR CEREBRAL INFAR... KY                          43.0   \n",
       "\n",
       "                                                                   Avg Total Payments [$]  \\\n",
       "DRG Definition                                     Provider State                           \n",
       "039 - EXTRACRANIAL PROCEDURES W/O CC/MCC           ME                             7225.66   \n",
       "057 - DEGENERATIVE NERVOUS SYSTEM DISORDERS W/O... DE                             6899.31   \n",
       "064 - INTRACRANIAL HEMORRHAGE OR CEREBRAL INFAR... KY                            11293.04   \n",
       "\n",
       "                                                                   Avg Medicare Payments [$]  \\\n",
       "DRG Definition                                     Provider State                              \n",
       "039 - EXTRACRANIAL PROCEDURES W/O CC/MCC           ME                               5470.510   \n",
       "057 - DEGENERATIVE NERVOUS SYSTEM DISORDERS W/O... DE                               5840.745   \n",
       "064 - INTRACRANIAL HEMORRHAGE OR CEREBRAL INFAR... KY                              10192.765   \n",
       "\n",
       "                                                                   Avg. Cost/attended patient [$]  \n",
       "DRG Definition                                     Provider State                                  \n",
       "039 - EXTRACRANIAL PROCEDURES W/O CC/MCC           ME                                   96.342133  \n",
       "057 - DEGENERATIVE NERVOUS SYSTEM DISORDERS W/O... DE                                  137.787576  \n",
       "064 - INTRACRANIAL HEMORRHAGE OR CEREBRAL INFAR... KY                                  222.920249  "
      ]
     },
     "execution_count": 124,
     "metadata": {},
     "output_type": "execute_result"
    }
   ],
   "source": [
    "sorted_df_by_drg_min = df_by_drg_min.groupby(level=0).head(1)\n",
    "sorted_df_by_drg_min.head(3)"
   ]
  },
  {
   "cell_type": "code",
   "execution_count": 125,
   "metadata": {},
   "outputs": [],
   "source": [
    "drg_by_states_min = sorted_df_by_drg_min.index.get_level_values('Provider State')"
   ]
  },
  {
   "cell_type": "code",
   "execution_count": 126,
   "metadata": {},
   "outputs": [],
   "source": [
    "drg_min_states_counter = Counter(drg_by_states_min)\n",
    "drg_min_states_dict = dict(drg_min_states_counter)\n",
    "drg_min_states_df = pd.DataFrame(drg_min_states_dict.items())\n",
    "drg_min_states_df.rename(columns={0: 'Provider State',1:'DRG_qty'}, inplace=True)\n",
    "drg_min_states_df = drg_min_states_df.set_index('Provider State')"
   ]
  },
  {
   "cell_type": "code",
   "execution_count": 127,
   "metadata": {},
   "outputs": [
    {
     "data": {
      "text/html": [
       "\n",
       "\n",
       "\n",
       "\n",
       "\n",
       "\n",
       "  <div class=\"bk-root\" id=\"d676be69-d718-40e4-b807-e5c9eb870f5d\" data-root-id=\"3326\"></div>\n"
      ]
     },
     "metadata": {},
     "output_type": "display_data"
    },
    {
     "data": {
      "application/javascript": "(function(root) {\n  function embed_document(root) {\n    \n  const docs_json = {\"99edaf81-86f5-4a3c-9f42-a02d182ad968\":{\"defs\":[],\"roots\":{\"references\":[{\"attributes\":{\"below\":[{\"id\":\"3337\"}],\"center\":[{\"id\":\"3340\"},{\"id\":\"3344\"},{\"id\":\"3377\"}],\"height\":400,\"left\":[{\"id\":\"3341\"}],\"output_backend\":\"webgl\",\"renderers\":[{\"id\":\"3366\"}],\"sizing_mode\":\"fixed\",\"title\":{\"id\":\"3327\"},\"toolbar\":{\"id\":\"3352\"},\"x_range\":{\"id\":\"3329\"},\"x_scale\":{\"id\":\"3333\"},\"y_range\":{\"id\":\"3331\"},\"y_scale\":{\"id\":\"3335\"}},\"id\":\"3326\",\"subtype\":\"Figure\",\"type\":\"Plot\"},{\"attributes\":{},\"id\":\"3374\",\"type\":\"UnionRenderers\"},{\"attributes\":{},\"id\":\"3375\",\"type\":\"Selection\"},{\"attributes\":{\"code\":\"\\n                                    var labels = {0: 'UT', 1: 'SC', 2: 'TN', 3: 'ID', 4: 'NC', 5: 'CO', 6: 'MN', 7: 'VT', 8: 'MD', 9: 'KS', 10: 'NM', 11: 'MS', 12: 'RI', 13: 'DC', 14: 'KY', 15: 'AL', 16: 'MO', 17: 'AR', 18: 'FL', 19: 'ND', 20: 'SD', 21: 'WV', 22: 'ME', 23: 'NJ', 24: 'MI', 25: 'DE'};\\n                                    return labels[tick];\\n                                    \"},\"id\":\"3359\",\"type\":\"FuncTickFormatter\"},{\"attributes\":{\"coordinates\":null,\"data_source\":{\"id\":\"3325\"},\"glyph\":{\"id\":\"3363\"},\"group\":null,\"hover_glyph\":null,\"muted_glyph\":{\"id\":\"3365\"},\"nonselection_glyph\":{\"id\":\"3364\"},\"view\":{\"id\":\"3367\"}},\"id\":\"3366\",\"type\":\"GlyphRenderer\"},{\"attributes\":{\"axis\":{\"id\":\"3337\"},\"coordinates\":null,\"group\":null,\"ticker\":null},\"id\":\"3340\",\"type\":\"Grid\"},{\"attributes\":{},\"id\":\"3333\",\"type\":\"LinearScale\"},{\"attributes\":{},\"id\":\"3329\",\"type\":\"DataRange1d\"},{\"attributes\":{},\"id\":\"3331\",\"type\":\"DataRange1d\"},{\"attributes\":{\"callback\":null,\"mode\":\"vline\",\"renderers\":[{\"id\":\"3366\"}],\"tooltips\":[[\"Provider State\",\"@__x__values_original\"],[\"DRG_qty\",\"@{DRG_qty}\"]]},\"id\":\"3379\",\"type\":\"HoverTool\"},{\"attributes\":{},\"id\":\"3373\",\"type\":\"AllLabels\"},{\"attributes\":{\"range\":{\"id\":\"3329\"}},\"id\":\"3361\",\"type\":\"Dodge\"},{\"attributes\":{\"axis_label\":\"Provider State\",\"coordinates\":null,\"formatter\":{\"id\":\"3359\"},\"group\":null,\"major_label_policy\":{\"id\":\"3373\"},\"ticker\":{\"id\":\"3381\"}},\"id\":\"3337\",\"type\":\"LinearAxis\"},{\"attributes\":{\"active_scroll\":{\"id\":\"3346\"},\"tools\":[{\"id\":\"3345\"},{\"id\":\"3346\"},{\"id\":\"3347\"},{\"id\":\"3348\"},{\"id\":\"3349\"},{\"id\":\"3350\"},{\"id\":\"3379\"}]},\"id\":\"3352\",\"type\":\"Toolbar\"},{\"attributes\":{\"coordinates\":null,\"group\":null,\"text\":\"States with cheapest DRG\"},\"id\":\"3327\",\"type\":\"Title\"},{\"attributes\":{\"fill_alpha\":{\"value\":0.1},\"fill_color\":{\"value\":\"#1f77b4\"},\"hatch_alpha\":{\"value\":0.1},\"hatch_color\":{\"value\":\"#1f77b4\"},\"line_alpha\":{\"value\":0.1},\"line_color\":{\"value\":\"#1f77b4\"},\"line_width\":{\"value\":2},\"top\":{\"field\":\"DRG_qty\"},\"width\":{\"value\":0.7},\"x\":{\"field\":\"__x__values\",\"transform\":{\"id\":\"3361\"}}},\"id\":\"3364\",\"type\":\"VBar\"},{\"attributes\":{},\"id\":\"3346\",\"type\":\"WheelZoomTool\"},{\"attributes\":{\"ticks\":[0,1,2,3,4,5,6,7,8,9,10,11,12,13,14,15,16,17,18,19,20,21,22,23,24,25]},\"id\":\"3381\",\"type\":\"FixedTicker\"},{\"attributes\":{\"fill_color\":{\"value\":\"#1f77b4\"},\"hatch_color\":{\"value\":\"#1f77b4\"},\"line_color\":{\"value\":\"#1f77b4\"},\"line_width\":{\"value\":2},\"top\":{\"field\":\"DRG_qty\"},\"width\":{\"value\":0.7},\"x\":{\"field\":\"__x__values\",\"transform\":{\"id\":\"3361\"}}},\"id\":\"3363\",\"type\":\"VBar\"},{\"attributes\":{},\"id\":\"3335\",\"type\":\"LinearScale\"},{\"attributes\":{},\"id\":\"3370\",\"type\":\"BasicTickFormatter\"},{\"attributes\":{\"fill_alpha\":{\"value\":0.2},\"fill_color\":{\"value\":\"#1f77b4\"},\"hatch_alpha\":{\"value\":0.2},\"hatch_color\":{\"value\":\"#1f77b4\"},\"line_alpha\":{\"value\":0.2},\"line_color\":{\"value\":\"#1f77b4\"},\"line_width\":{\"value\":2},\"top\":{\"field\":\"DRG_qty\"},\"width\":{\"value\":0.7},\"x\":{\"field\":\"__x__values\",\"transform\":{\"id\":\"3361\"}}},\"id\":\"3365\",\"type\":\"VBar\"},{\"attributes\":{\"axis_label\":\"DRG_qty\",\"coordinates\":null,\"formatter\":{\"id\":\"3370\"},\"group\":null,\"major_label_policy\":{\"id\":\"3371\"},\"ticker\":{\"id\":\"3342\"}},\"id\":\"3341\",\"type\":\"LinearAxis\"},{\"attributes\":{\"axis\":{\"id\":\"3341\"},\"coordinates\":null,\"dimension\":1,\"group\":null,\"ticker\":null},\"id\":\"3344\",\"type\":\"Grid\"},{\"attributes\":{},\"id\":\"3371\",\"type\":\"AllLabels\"},{\"attributes\":{\"bottom_units\":\"screen\",\"coordinates\":null,\"fill_alpha\":0.5,\"fill_color\":\"lightgrey\",\"group\":null,\"left_units\":\"screen\",\"level\":\"overlay\",\"line_alpha\":1.0,\"line_color\":\"black\",\"line_dash\":[4,4],\"line_width\":2,\"right_units\":\"screen\",\"syncable\":false,\"top_units\":\"screen\"},\"id\":\"3351\",\"type\":\"BoxAnnotation\"},{\"attributes\":{},\"id\":\"3342\",\"type\":\"BasicTicker\"},{\"attributes\":{\"click_policy\":\"hide\",\"coordinates\":null,\"group\":null,\"items\":[{\"id\":\"3378\"}],\"location\":\"top_left\"},\"id\":\"3377\",\"type\":\"Legend\"},{\"attributes\":{\"label\":{\"value\":\" DRG_qty\"},\"renderers\":[{\"id\":\"3366\"}]},\"id\":\"3378\",\"type\":\"LegendItem\"},{\"attributes\":{},\"id\":\"3350\",\"type\":\"HelpTool\"},{\"attributes\":{\"source\":{\"id\":\"3325\"}},\"id\":\"3367\",\"type\":\"CDSView\"},{\"attributes\":{},\"id\":\"3345\",\"type\":\"PanTool\"},{\"attributes\":{\"overlay\":{\"id\":\"3351\"}},\"id\":\"3347\",\"type\":\"BoxZoomTool\"},{\"attributes\":{\"data\":{\"DRG_qty\":[1,1,1,1,1,1,1,1,1,1,2,2,2,2,2,2,3,3,3,3,6,6,8,12,14,20],\"__x__values\":[0,1,2,3,4,5,6,7,8,9,10,11,12,13,14,15,16,17,18,19,20,21,22,23,24,25],\"__x__values_original\":[\"UT\",\"SC\",\"TN\",\"ID\",\"NC\",\"CO\",\"MN\",\"VT\",\"MD\",\"KS\",\"NM\",\"MS\",\"RI\",\"DC\",\"KY\",\"AL\",\"MO\",\"AR\",\"FL\",\"ND\",\"SD\",\"WV\",\"ME\",\"NJ\",\"MI\",\"DE\"]},\"selected\":{\"id\":\"3375\"},\"selection_policy\":{\"id\":\"3374\"}},\"id\":\"3325\",\"type\":\"ColumnDataSource\"},{\"attributes\":{},\"id\":\"3348\",\"type\":\"SaveTool\"},{\"attributes\":{},\"id\":\"3349\",\"type\":\"ResetTool\"}],\"root_ids\":[\"3326\"]},\"title\":\"Bokeh Application\",\"version\":\"2.4.1\"}};\n  const render_items = [{\"docid\":\"99edaf81-86f5-4a3c-9f42-a02d182ad968\",\"root_ids\":[\"3326\"],\"roots\":{\"3326\":\"d676be69-d718-40e4-b807-e5c9eb870f5d\"}}];\n  root.Bokeh.embed.embed_items_notebook(docs_json, render_items);\n\n  }\n  if (root.Bokeh !== undefined) {\n    embed_document(root);\n  } else {\n    let attempts = 0;\n    const timer = setInterval(function(root) {\n      if (root.Bokeh !== undefined) {\n        clearInterval(timer);\n        embed_document(root);\n      } else {\n        attempts++;\n        if (attempts > 100) {\n          clearInterval(timer);\n          console.log(\"Bokeh: ERROR: Unable to run BokehJS code because BokehJS library is missing\");\n        }\n      }\n    }, 10, root)\n  }\n})(window);",
      "application/vnd.bokehjs_exec.v0+json": ""
     },
     "metadata": {
      "application/vnd.bokehjs_exec.v0+json": {
       "id": "3326"
      }
     },
     "output_type": "display_data"
    },
    {
     "data": {
      "text/html": [
       "<div style=\"display: table;\"><div style=\"display: table-row;\"><div style=\"display: table-cell;\"><b title=\"bokeh.plotting.figure.Figure\">Figure</b>(</div><div style=\"display: table-cell;\">id&nbsp;=&nbsp;'3326', <span id=\"3471\" style=\"cursor: pointer;\">&hellip;)</span></div></div><div class=\"3470\" style=\"display: none;\"><div style=\"display: table-cell;\"></div><div style=\"display: table-cell;\">above&nbsp;=&nbsp;[],</div></div><div class=\"3470\" style=\"display: none;\"><div style=\"display: table-cell;\"></div><div style=\"display: table-cell;\">align&nbsp;=&nbsp;'start',</div></div><div class=\"3470\" style=\"display: none;\"><div style=\"display: table-cell;\"></div><div style=\"display: table-cell;\">aspect_ratio&nbsp;=&nbsp;None,</div></div><div class=\"3470\" style=\"display: none;\"><div style=\"display: table-cell;\"></div><div style=\"display: table-cell;\">aspect_scale&nbsp;=&nbsp;1,</div></div><div class=\"3470\" style=\"display: none;\"><div style=\"display: table-cell;\"></div><div style=\"display: table-cell;\">background&nbsp;=&nbsp;None,</div></div><div class=\"3470\" style=\"display: none;\"><div style=\"display: table-cell;\"></div><div style=\"display: table-cell;\">background_fill_alpha&nbsp;=&nbsp;1.0,</div></div><div class=\"3470\" style=\"display: none;\"><div style=\"display: table-cell;\"></div><div style=\"display: table-cell;\">background_fill_color&nbsp;=&nbsp;'#ffffff',</div></div><div class=\"3470\" style=\"display: none;\"><div style=\"display: table-cell;\"></div><div style=\"display: table-cell;\">below&nbsp;=&nbsp;[LinearAxis(id='3337', ...)],</div></div><div class=\"3470\" style=\"display: none;\"><div style=\"display: table-cell;\"></div><div style=\"display: table-cell;\">border_fill_alpha&nbsp;=&nbsp;1.0,</div></div><div class=\"3470\" style=\"display: none;\"><div style=\"display: table-cell;\"></div><div style=\"display: table-cell;\">border_fill_color&nbsp;=&nbsp;'#ffffff',</div></div><div class=\"3470\" style=\"display: none;\"><div style=\"display: table-cell;\"></div><div style=\"display: table-cell;\">center&nbsp;=&nbsp;[Grid(id='3340', ...), Grid(id='3344', ...), Legend(id='3377', ...)],</div></div><div class=\"3470\" style=\"display: none;\"><div style=\"display: table-cell;\"></div><div style=\"display: table-cell;\">css_classes&nbsp;=&nbsp;[],</div></div><div class=\"3470\" style=\"display: none;\"><div style=\"display: table-cell;\"></div><div style=\"display: table-cell;\">disabled&nbsp;=&nbsp;False,</div></div><div class=\"3470\" style=\"display: none;\"><div style=\"display: table-cell;\"></div><div style=\"display: table-cell;\">extra_x_ranges&nbsp;=&nbsp;{},</div></div><div class=\"3470\" style=\"display: none;\"><div style=\"display: table-cell;\"></div><div style=\"display: table-cell;\">extra_x_scales&nbsp;=&nbsp;{},</div></div><div class=\"3470\" style=\"display: none;\"><div style=\"display: table-cell;\"></div><div style=\"display: table-cell;\">extra_y_ranges&nbsp;=&nbsp;{},</div></div><div class=\"3470\" style=\"display: none;\"><div style=\"display: table-cell;\"></div><div style=\"display: table-cell;\">extra_y_scales&nbsp;=&nbsp;{},</div></div><div class=\"3470\" style=\"display: none;\"><div style=\"display: table-cell;\"></div><div style=\"display: table-cell;\">frame_height&nbsp;=&nbsp;None,</div></div><div class=\"3470\" style=\"display: none;\"><div style=\"display: table-cell;\"></div><div style=\"display: table-cell;\">frame_width&nbsp;=&nbsp;None,</div></div><div class=\"3470\" style=\"display: none;\"><div style=\"display: table-cell;\"></div><div style=\"display: table-cell;\">height&nbsp;=&nbsp;400,</div></div><div class=\"3470\" style=\"display: none;\"><div style=\"display: table-cell;\"></div><div style=\"display: table-cell;\">height_policy&nbsp;=&nbsp;'auto',</div></div><div class=\"3470\" style=\"display: none;\"><div style=\"display: table-cell;\"></div><div style=\"display: table-cell;\">hidpi&nbsp;=&nbsp;True,</div></div><div class=\"3470\" style=\"display: none;\"><div style=\"display: table-cell;\"></div><div style=\"display: table-cell;\">inner_height&nbsp;=&nbsp;0,</div></div><div class=\"3470\" style=\"display: none;\"><div style=\"display: table-cell;\"></div><div style=\"display: table-cell;\">inner_width&nbsp;=&nbsp;0,</div></div><div class=\"3470\" style=\"display: none;\"><div style=\"display: table-cell;\"></div><div style=\"display: table-cell;\">js_event_callbacks&nbsp;=&nbsp;{},</div></div><div class=\"3470\" style=\"display: none;\"><div style=\"display: table-cell;\"></div><div style=\"display: table-cell;\">js_property_callbacks&nbsp;=&nbsp;{},</div></div><div class=\"3470\" style=\"display: none;\"><div style=\"display: table-cell;\"></div><div style=\"display: table-cell;\">left&nbsp;=&nbsp;[LinearAxis(id='3341', ...)],</div></div><div class=\"3470\" style=\"display: none;\"><div style=\"display: table-cell;\"></div><div style=\"display: table-cell;\">lod_factor&nbsp;=&nbsp;10,</div></div><div class=\"3470\" style=\"display: none;\"><div style=\"display: table-cell;\"></div><div style=\"display: table-cell;\">lod_interval&nbsp;=&nbsp;300,</div></div><div class=\"3470\" style=\"display: none;\"><div style=\"display: table-cell;\"></div><div style=\"display: table-cell;\">lod_threshold&nbsp;=&nbsp;2000,</div></div><div class=\"3470\" style=\"display: none;\"><div style=\"display: table-cell;\"></div><div style=\"display: table-cell;\">lod_timeout&nbsp;=&nbsp;500,</div></div><div class=\"3470\" style=\"display: none;\"><div style=\"display: table-cell;\"></div><div style=\"display: table-cell;\">margin&nbsp;=&nbsp;(0, 0, 0, 0),</div></div><div class=\"3470\" style=\"display: none;\"><div style=\"display: table-cell;\"></div><div style=\"display: table-cell;\">match_aspect&nbsp;=&nbsp;False,</div></div><div class=\"3470\" style=\"display: none;\"><div style=\"display: table-cell;\"></div><div style=\"display: table-cell;\">max_height&nbsp;=&nbsp;None,</div></div><div class=\"3470\" style=\"display: none;\"><div style=\"display: table-cell;\"></div><div style=\"display: table-cell;\">max_width&nbsp;=&nbsp;None,</div></div><div class=\"3470\" style=\"display: none;\"><div style=\"display: table-cell;\"></div><div style=\"display: table-cell;\">min_border&nbsp;=&nbsp;5,</div></div><div class=\"3470\" style=\"display: none;\"><div style=\"display: table-cell;\"></div><div style=\"display: table-cell;\">min_border_bottom&nbsp;=&nbsp;None,</div></div><div class=\"3470\" style=\"display: none;\"><div style=\"display: table-cell;\"></div><div style=\"display: table-cell;\">min_border_left&nbsp;=&nbsp;None,</div></div><div class=\"3470\" style=\"display: none;\"><div style=\"display: table-cell;\"></div><div style=\"display: table-cell;\">min_border_right&nbsp;=&nbsp;None,</div></div><div class=\"3470\" style=\"display: none;\"><div style=\"display: table-cell;\"></div><div style=\"display: table-cell;\">min_border_top&nbsp;=&nbsp;None,</div></div><div class=\"3470\" style=\"display: none;\"><div style=\"display: table-cell;\"></div><div style=\"display: table-cell;\">min_height&nbsp;=&nbsp;None,</div></div><div class=\"3470\" style=\"display: none;\"><div style=\"display: table-cell;\"></div><div style=\"display: table-cell;\">min_width&nbsp;=&nbsp;None,</div></div><div class=\"3470\" style=\"display: none;\"><div style=\"display: table-cell;\"></div><div style=\"display: table-cell;\">name&nbsp;=&nbsp;None,</div></div><div class=\"3470\" style=\"display: none;\"><div style=\"display: table-cell;\"></div><div style=\"display: table-cell;\">outer_height&nbsp;=&nbsp;0,</div></div><div class=\"3470\" style=\"display: none;\"><div style=\"display: table-cell;\"></div><div style=\"display: table-cell;\">outer_width&nbsp;=&nbsp;0,</div></div><div class=\"3470\" style=\"display: none;\"><div style=\"display: table-cell;\"></div><div style=\"display: table-cell;\">outline_line_alpha&nbsp;=&nbsp;1.0,</div></div><div class=\"3470\" style=\"display: none;\"><div style=\"display: table-cell;\"></div><div style=\"display: table-cell;\">outline_line_cap&nbsp;=&nbsp;'butt',</div></div><div class=\"3470\" style=\"display: none;\"><div style=\"display: table-cell;\"></div><div style=\"display: table-cell;\">outline_line_color&nbsp;=&nbsp;'#e5e5e5',</div></div><div class=\"3470\" style=\"display: none;\"><div style=\"display: table-cell;\"></div><div style=\"display: table-cell;\">outline_line_dash&nbsp;=&nbsp;[],</div></div><div class=\"3470\" style=\"display: none;\"><div style=\"display: table-cell;\"></div><div style=\"display: table-cell;\">outline_line_dash_offset&nbsp;=&nbsp;0,</div></div><div class=\"3470\" style=\"display: none;\"><div style=\"display: table-cell;\"></div><div style=\"display: table-cell;\">outline_line_join&nbsp;=&nbsp;'bevel',</div></div><div class=\"3470\" style=\"display: none;\"><div style=\"display: table-cell;\"></div><div style=\"display: table-cell;\">outline_line_width&nbsp;=&nbsp;1,</div></div><div class=\"3470\" style=\"display: none;\"><div style=\"display: table-cell;\"></div><div style=\"display: table-cell;\">output_backend&nbsp;=&nbsp;'webgl',</div></div><div class=\"3470\" style=\"display: none;\"><div style=\"display: table-cell;\"></div><div style=\"display: table-cell;\">renderers&nbsp;=&nbsp;[GlyphRenderer(id='3366', ...)],</div></div><div class=\"3470\" style=\"display: none;\"><div style=\"display: table-cell;\"></div><div style=\"display: table-cell;\">reset_policy&nbsp;=&nbsp;'standard',</div></div><div class=\"3470\" style=\"display: none;\"><div style=\"display: table-cell;\"></div><div style=\"display: table-cell;\">right&nbsp;=&nbsp;[],</div></div><div class=\"3470\" style=\"display: none;\"><div style=\"display: table-cell;\"></div><div style=\"display: table-cell;\">sizing_mode&nbsp;=&nbsp;'fixed',</div></div><div class=\"3470\" style=\"display: none;\"><div style=\"display: table-cell;\"></div><div style=\"display: table-cell;\">subscribed_events&nbsp;=&nbsp;[],</div></div><div class=\"3470\" style=\"display: none;\"><div style=\"display: table-cell;\"></div><div style=\"display: table-cell;\">syncable&nbsp;=&nbsp;True,</div></div><div class=\"3470\" style=\"display: none;\"><div style=\"display: table-cell;\"></div><div style=\"display: table-cell;\">tags&nbsp;=&nbsp;[],</div></div><div class=\"3470\" style=\"display: none;\"><div style=\"display: table-cell;\"></div><div style=\"display: table-cell;\">title&nbsp;=&nbsp;Title(id='3327', ...),</div></div><div class=\"3470\" style=\"display: none;\"><div style=\"display: table-cell;\"></div><div style=\"display: table-cell;\">title_location&nbsp;=&nbsp;'above',</div></div><div class=\"3470\" style=\"display: none;\"><div style=\"display: table-cell;\"></div><div style=\"display: table-cell;\">toolbar&nbsp;=&nbsp;Toolbar(id='3352', ...),</div></div><div class=\"3470\" style=\"display: none;\"><div style=\"display: table-cell;\"></div><div style=\"display: table-cell;\">toolbar_location&nbsp;=&nbsp;'right',</div></div><div class=\"3470\" style=\"display: none;\"><div style=\"display: table-cell;\"></div><div style=\"display: table-cell;\">toolbar_sticky&nbsp;=&nbsp;True,</div></div><div class=\"3470\" style=\"display: none;\"><div style=\"display: table-cell;\"></div><div style=\"display: table-cell;\">visible&nbsp;=&nbsp;True,</div></div><div class=\"3470\" style=\"display: none;\"><div style=\"display: table-cell;\"></div><div style=\"display: table-cell;\">width&nbsp;=&nbsp;600,</div></div><div class=\"3470\" style=\"display: none;\"><div style=\"display: table-cell;\"></div><div style=\"display: table-cell;\">width_policy&nbsp;=&nbsp;'auto',</div></div><div class=\"3470\" style=\"display: none;\"><div style=\"display: table-cell;\"></div><div style=\"display: table-cell;\">x_range&nbsp;=&nbsp;DataRange1d(id='3329', ...),</div></div><div class=\"3470\" style=\"display: none;\"><div style=\"display: table-cell;\"></div><div style=\"display: table-cell;\">x_scale&nbsp;=&nbsp;LinearScale(id='3333', ...),</div></div><div class=\"3470\" style=\"display: none;\"><div style=\"display: table-cell;\"></div><div style=\"display: table-cell;\">y_range&nbsp;=&nbsp;DataRange1d(id='3331', ...),</div></div><div class=\"3470\" style=\"display: none;\"><div style=\"display: table-cell;\"></div><div style=\"display: table-cell;\">y_scale&nbsp;=&nbsp;LinearScale(id='3335', ...))</div></div></div>\n",
       "<script>\n",
       "(function() {\n",
       "  let expanded = false;\n",
       "  const ellipsis = document.getElementById(\"3471\");\n",
       "  ellipsis.addEventListener(\"click\", function() {\n",
       "    const rows = document.getElementsByClassName(\"3470\");\n",
       "    for (let i = 0; i < rows.length; i++) {\n",
       "      const el = rows[i];\n",
       "      el.style.display = expanded ? \"none\" : \"table-row\";\n",
       "    }\n",
       "    ellipsis.innerHTML = expanded ? \"&hellip;)\" : \"&lsaquo;&lsaquo;&lsaquo;\";\n",
       "    expanded = !expanded;\n",
       "  });\n",
       "})();\n",
       "</script>\n"
      ],
      "text/plain": [
       "Figure(id='3326', ...)"
      ]
     },
     "execution_count": 127,
     "metadata": {},
     "output_type": "execute_result"
    }
   ],
   "source": [
    "sorted_drg_min_states_df = drg_min_states_df.sort_values(by='DRG_qty')\n",
    "sorted_drg_min_states_df.plot_bokeh.bar(show_figure=True, legend = 'top_left', title='States with cheapest DRG')"
   ]
  },
  {
   "cell_type": "markdown",
   "metadata": {},
   "source": [
    "To answer that question is necesary to clarify:\n",
    "\n",
    "1.1. By **Avg Total Payments [$]**\n",
    "\n",
    "💰 According to **Average Total Payments**  the three most expensive states✳️ are:\n",
    "\n",
    "1. **California** with $164993988.  \n",
    "2. **Texas** with $10967057.\n",
    "3. **New York** with $108259026.\n",
    "\n",
    "💰 According to **Average Total Payments**  the three most cheapest states are:\n",
    "\n",
    "1. **West Virginia** with $2815426.\n",
    "2. **Vermont** with $3176902.\n",
    "3. **Arkansas** with $3366222.  \n",
    "  \n",
    "\n",
    "1.2. By **Discharges** (attended patient)\n",
    "\n",
    "🤕 The three most expensive states are:\n",
    "1. **Alaska** with $550.\n",
    "2. **Hawaii** with $503.\n",
    "3. **Wyoming** with $443.  \n",
    "\n",
    "\n",
    "🤕 The three most cheapest states are:\n",
    "1. **Delaware** with $215.\n",
    "2. **Kentucky** with $226.\n",
    "3. **Tennessee** with $227. \n",
    "\n",
    "\n",
    "2.3. By  **DRG** \n",
    "\n",
    "💉 The most expensive states by DRG are:\n",
    "* **Alaska**: 42 DRG\n",
    "* **Hawaii**: 21 DRG\n",
    "* **Utah**: 13 DRG\n",
    "* **Wyoming**: 8 DRG\n",
    "* **West Virginia**: 7 DRG\n",
    "\n",
    "💉 The most cheapest states by DRG are:\n",
    "* **Delaware**: 20 DRG\n",
    "* **Michigan**: 14 DRG\n",
    "* **New Jersey**: 12 DRG\n",
    "* **Maine**: 8 DRG\n",
    "* **California**: 6 DRG\n"
   ]
  },
  {
   "cell_type": "markdown",
   "metadata": {},
   "source": [
    "### 2. Cheapest Hospitals are in the same state?\n",
    "\n",
    " "
   ]
  }
 ],
 "metadata": {
  "interpreter": {
   "hash": "916dbcbb3f70747c44a77c7bcd40155683ae19c65e1c03b4aa3499c5328201f1"
  },
  "kernelspec": {
   "display_name": "Python 3.8.10 64-bit",
   "language": "python",
   "name": "python3"
  },
  "language_info": {
   "codemirror_mode": {
    "name": "ipython",
    "version": 3
   },
   "file_extension": ".py",
   "mimetype": "text/x-python",
   "name": "python",
   "nbconvert_exporter": "python",
   "pygments_lexer": "ipython3",
   "version": "3.8.10"
  },
  "orig_nbformat": 4
 },
 "nbformat": 4,
 "nbformat_minor": 2
}
